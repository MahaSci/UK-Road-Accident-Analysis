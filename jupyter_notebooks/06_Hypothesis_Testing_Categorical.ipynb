{
 "cells": [
  {
   "cell_type": "markdown",
   "metadata": {},
   "source": [
    "# Accident Severity and Light Conditions"
   ]
  },
  {
   "cell_type": "markdown",
   "metadata": {},
   "source": [
    "## Hypothesis\n",
    "\n",
    "Alternative Hypothesis (H₁): Accident severity is dependent on light conditions.\n",
    "Null Hypothesis (H₀): Accident severity is independent of light conditions.\n",
    "\n",
    "## Rationale\n",
    "Environmental factors, such as light conditions, can influence the severity of accidents. Poor visibility in low-light conditions (e.g., nighttime) may contribute to more serious accidents. By testing this hypothesis, we aim to determine if light conditions have a significant impact on the severity of accidents\n",
    "\n",
    "> According to J. Loren, \"Low light conditions can lead to increased auto accident risk due to reduced driver visibility, increased reaction time, and difficulty assessing road conditions.\"[1]\n",
    "\n",
    "## Data Analysis & Validation Approach\n",
    "To explore this hypothesis, we will conduct an Exploratory Data Analysis (EDA).\n",
    "\n",
    "This will involve:\n",
    "\n",
    "- Creating a contingency table for Accident Severity vs. Light Conditions to examine how the two variables are related.\n",
    "- Visualising the data using a bar plot to compare accident severity across different light conditions.\n",
    "\n",
    "Following the EDA, we will use the Chi-square test of independence to statistically test whether there is a significant relationship between accident severity and light conditions.\n",
    "\n",
    "- Chi-square test: This will help us determine if accident severity is independent of light conditions. If the p-value is less than 0.05, we will reject the null hypothesis and conclude that light conditions affect accident severity.\n"
   ]
  },
  {
   "cell_type": "markdown",
   "metadata": {},
   "source": [
    "## Setting Correct Directories"
   ]
  },
  {
   "cell_type": "code",
   "execution_count": 1,
   "metadata": {},
   "outputs": [
    {
     "data": {
      "text/plain": [
       "'/Users/mahahussain/Desktop/UK-Road-Accident-Analysis/UK-Road-Accident-Analysis/jupyter_notebooks'"
      ]
     },
     "execution_count": 1,
     "metadata": {},
     "output_type": "execute_result"
    }
   ],
   "source": [
    "import os\n",
    "current_dir = os.getcwd()\n",
    "current_dir"
   ]
  },
  {
   "cell_type": "code",
   "execution_count": 2,
   "metadata": {},
   "outputs": [
    {
     "name": "stdout",
     "output_type": "stream",
     "text": [
      "You set a new current directory\n"
     ]
    }
   ],
   "source": [
    "os.chdir(os.path.dirname(current_dir))\n",
    "print(\"You set a new current directory\")"
   ]
  },
  {
   "cell_type": "code",
   "execution_count": 3,
   "metadata": {},
   "outputs": [
    {
     "data": {
      "text/plain": [
       "'/Users/mahahussain/Desktop/UK-Road-Accident-Analysis/UK-Road-Accident-Analysis'"
      ]
     },
     "execution_count": 3,
     "metadata": {},
     "output_type": "execute_result"
    }
   ],
   "source": [
    "current_dir = os.getcwd()\n",
    "current_dir"
   ]
  },
  {
   "cell_type": "code",
   "execution_count": 4,
   "metadata": {},
   "outputs": [],
   "source": [
    "import pandas as pd \n",
    "import numpy as np\n",
    "import matplotlib.pyplot as plt\n",
    "import seaborn as sns\n",
    "sns.set_style('whitegrid')\n",
    "import plotly.express as px"
   ]
  },
  {
   "cell_type": "markdown",
   "metadata": {},
   "source": []
  },
  {
   "cell_type": "markdown",
   "metadata": {},
   "source": [
    "## Reference\n",
    "* [1] GoldbergLoren.al (2024). Low Light Conditions Cause Auto Accidents. [online] Goldberg & Loren Personal Injury Attorneys. Available at: https://goldbergloren.com/low-light-conditions-auto-accidents/.\n",
    "\n",
    "‌"
   ]
  }
 ],
 "metadata": {
  "kernelspec": {
   "display_name": ".venv",
   "language": "python",
   "name": "python3"
  },
  "language_info": {
   "codemirror_mode": {
    "name": "ipython",
    "version": 3
   },
   "file_extension": ".py",
   "mimetype": "text/x-python",
   "name": "python",
   "nbconvert_exporter": "python",
   "pygments_lexer": "ipython3",
   "version": "3.12.8"
  }
 },
 "nbformat": 4,
 "nbformat_minor": 2
}
