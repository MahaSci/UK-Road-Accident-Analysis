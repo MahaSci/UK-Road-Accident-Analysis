{
  "cells": [
    {
      "cell_type": "markdown",
      "metadata": {
        "id": "0aStgWSO0E0E"
      },
      "source": [
        "# **(ADD THE NOTEBOOK NAME HERE)**"
      ]
    },
    {
      "cell_type": "markdown",
      "metadata": {
        "id": "1eLEkw5O0ECa"
      },
      "source": [
        "## Objectives\n",
        "\n",
        "* Write your notebook objective here, for example, \"Fetch data from Kaggle and save as raw data\", or \"engineer features for modelling\"\n",
        "\n",
        "## Inputs\n",
        "\n",
        "* Write down which data or information you need to run the notebook \n",
        "\n",
        "## Outputs\n",
        "\n",
        "* Write here which files, code or artefacts you generate by the end of the notebook \n",
        "\n",
        "## Additional Comments\n",
        "\n",
        "* If you have any additional comments that don't fit in the previous bullets, please state them here. \n",
        "\n"
      ]
    },
    {
      "cell_type": "markdown",
      "metadata": {
        "id": "9uWZXH9LwoQg"
      },
      "source": [
        "---"
      ]
    },
    {
      "cell_type": "markdown",
      "metadata": {
        "id": "cqP-UeN-z3i2"
      },
      "source": [
        "# Change working directory"
      ]
    },
    {
      "cell_type": "markdown",
      "metadata": {},
      "source": [
        "* We are assuming you will store the notebooks in a subfolder, therefore when running the notebook in the editor, you will need to change the working directory"
      ]
    },
    {
      "cell_type": "markdown",
      "metadata": {
        "id": "aOGIGS-uz3i2"
      },
      "source": [
        "We need to change the working directory from its current folder to its parent folder\n",
        "* We access the current directory with os.getcwd()"
      ]
    },
    {
      "cell_type": "code",
      "execution_count": 2,
      "metadata": {
        "id": "wZfF_j-Bz3i4",
        "outputId": "66943449-1436-4c3d-85c7-b85f9f78349b"
      },
      "outputs": [
        {
          "data": {
            "text/plain": [
              "'c:\\\\Users\\\\sayed\\\\OneDrive\\\\Documents\\\\Code institute\\\\UK-Road-Accident-Analysis\\\\jupyter_notebooks'"
            ]
          },
          "execution_count": 2,
          "metadata": {},
          "output_type": "execute_result"
        }
      ],
      "source": [
        "import os\n",
        "current_dir = os.getcwd()\n",
        "current_dir"
      ]
    },
    {
      "cell_type": "markdown",
      "metadata": {
        "id": "9MWW8E7lz3i7"
      },
      "source": [
        "We want to make the parent of the current directory the new current directory\n",
        "* os.path.dirname() gets the parent directory\n",
        "* os.chir() defines the new current directory"
      ]
    },
    {
      "cell_type": "code",
      "execution_count": 3,
      "metadata": {
        "id": "TwHsQRWjz3i9",
        "outputId": "86849db3-cd2f-4cc5-ebb8-2d0caafa1a2c"
      },
      "outputs": [
        {
          "name": "stdout",
          "output_type": "stream",
          "text": [
            "You set a new current directory\n"
          ]
        }
      ],
      "source": [
        "os.chdir(os.path.dirname(current_dir))\n",
        "print(\"You set a new current directory\")"
      ]
    },
    {
      "cell_type": "markdown",
      "metadata": {
        "id": "M_xPk_Ijz3i-"
      },
      "source": [
        "Confirm the new current directory"
      ]
    },
    {
      "cell_type": "code",
      "execution_count": 4,
      "metadata": {
        "id": "vz3S-_kjz3jA",
        "outputId": "00b79ae4-75d0-4a96-d193-ac9ef9847ea2"
      },
      "outputs": [
        {
          "data": {
            "text/plain": [
              "'c:\\\\Users\\\\sayed\\\\OneDrive\\\\Documents\\\\Code institute\\\\UK-Road-Accident-Analysis'"
            ]
          },
          "execution_count": 4,
          "metadata": {},
          "output_type": "execute_result"
        }
      ],
      "source": [
        "current_dir = os.getcwd()\n",
        "current_dir"
      ]
    },
    {
      "cell_type": "markdown",
      "metadata": {},
      "source": [
        "# Section 1: Data Extraction, Transformation & Loading (ETL)"
      ]
    },
    {
      "cell_type": "markdown",
      "metadata": {},
      "source": [
        "### Importing libraries to be used"
      ]
    },
    {
      "cell_type": "code",
      "execution_count": 5,
      "metadata": {},
      "outputs": [],
      "source": [
        "import pandas as pd \n",
        "import numpy as np\n",
        "import matplotlib.pyplot as plt\n",
        "import seaborn as sns\n",
        "sns.set_style('whitegrid')\n",
        "import plotly.express as px\n"
      ]
    },
    {
      "cell_type": "markdown",
      "metadata": {},
      "source": [
        "### Extract/Read the dataset"
      ]
    },
    {
      "cell_type": "code",
      "execution_count": 6,
      "metadata": {},
      "outputs": [],
      "source": [
        "file_path = \"Data/accident_data.csv\"  # file path \n",
        "df = pd.read_csv(file_path) "
      ]
    },
    {
      "cell_type": "markdown",
      "metadata": {},
      "source": [
        "### Checking the top 5 rows and the number of columns of the data set to have an overview of the data frame"
      ]
    },
    {
      "cell_type": "code",
      "execution_count": 7,
      "metadata": {},
      "outputs": [
        {
          "data": {
            "application/vnd.microsoft.datawrangler.viewer.v0+json": {
              "columns": [
                {
                  "name": "index",
                  "rawType": "int64",
                  "type": "integer"
                },
                {
                  "name": "Index",
                  "rawType": "object",
                  "type": "string"
                },
                {
                  "name": "Accident_Severity",
                  "rawType": "object",
                  "type": "string"
                },
                {
                  "name": "Accident Date",
                  "rawType": "object",
                  "type": "string"
                },
                {
                  "name": "Latitude",
                  "rawType": "float64",
                  "type": "float"
                },
                {
                  "name": "Light_Conditions",
                  "rawType": "object",
                  "type": "string"
                },
                {
                  "name": "District Area",
                  "rawType": "object",
                  "type": "string"
                },
                {
                  "name": "Longitude",
                  "rawType": "float64",
                  "type": "float"
                },
                {
                  "name": "Number_of_Casualties",
                  "rawType": "int64",
                  "type": "integer"
                },
                {
                  "name": "Number_of_Vehicles",
                  "rawType": "int64",
                  "type": "integer"
                },
                {
                  "name": "Road_Surface_Conditions",
                  "rawType": "object",
                  "type": "string"
                },
                {
                  "name": "Road_Type",
                  "rawType": "object",
                  "type": "unknown"
                },
                {
                  "name": "Urban_or_Rural_Area",
                  "rawType": "object",
                  "type": "string"
                },
                {
                  "name": "Weather_Conditions",
                  "rawType": "object",
                  "type": "unknown"
                },
                {
                  "name": "Vehicle_Type",
                  "rawType": "object",
                  "type": "string"
                }
              ],
              "conversionMethod": "pd.DataFrame",
              "ref": "f0ee4581-fe6e-41d7-a4e5-86141d2687a9",
              "rows": [
                [
                  "0",
                  "200701BS64157",
                  "Serious",
                  "05-06-2019",
                  "51.506187",
                  "Darkness - lights lit",
                  "Kensington and Chelsea",
                  "-0.209082",
                  "1",
                  "2",
                  "Dry",
                  "Single carriageway",
                  "Urban",
                  "Fine no high winds",
                  "Car"
                ],
                [
                  "1",
                  "200701BS65737",
                  "Serious",
                  "02-07-2019",
                  "51.495029",
                  "Daylight",
                  "Kensington and Chelsea",
                  "-0.173647",
                  "1",
                  "2",
                  "Wet or damp",
                  "Single carriageway",
                  "Urban",
                  "Raining no high winds",
                  "Car"
                ],
                [
                  "2",
                  "200701BS66127",
                  "Serious",
                  "26-08-2019",
                  "51.517715",
                  "Darkness - lighting unknown",
                  "Kensington and Chelsea",
                  "-0.210215",
                  "1",
                  "3",
                  "Dry",
                  null,
                  "Urban",
                  null,
                  "Taxi/Private hire car"
                ],
                [
                  "3",
                  "200701BS66128",
                  "Serious",
                  "16-08-2019",
                  "51.495478",
                  "Daylight",
                  "Kensington and Chelsea",
                  "-0.202731",
                  "1",
                  "4",
                  "Dry",
                  "Single carriageway",
                  "Urban",
                  "Fine no high winds",
                  "Bus or coach (17 or more pass seats)"
                ],
                [
                  "4",
                  "200701BS66837",
                  "Slight",
                  "03-09-2019",
                  "51.488576",
                  "Darkness - lights lit",
                  "Kensington and Chelsea",
                  "-0.192487",
                  "1",
                  "2",
                  "Dry",
                  null,
                  "Urban",
                  null,
                  "Other vehicle"
                ]
              ],
              "shape": {
                "columns": 14,
                "rows": 5
              }
            },
            "text/html": [
              "<div>\n",
              "<style scoped>\n",
              "    .dataframe tbody tr th:only-of-type {\n",
              "        vertical-align: middle;\n",
              "    }\n",
              "\n",
              "    .dataframe tbody tr th {\n",
              "        vertical-align: top;\n",
              "    }\n",
              "\n",
              "    .dataframe thead th {\n",
              "        text-align: right;\n",
              "    }\n",
              "</style>\n",
              "<table border=\"1\" class=\"dataframe\">\n",
              "  <thead>\n",
              "    <tr style=\"text-align: right;\">\n",
              "      <th></th>\n",
              "      <th>Index</th>\n",
              "      <th>Accident_Severity</th>\n",
              "      <th>Accident Date</th>\n",
              "      <th>Latitude</th>\n",
              "      <th>Light_Conditions</th>\n",
              "      <th>District Area</th>\n",
              "      <th>Longitude</th>\n",
              "      <th>Number_of_Casualties</th>\n",
              "      <th>Number_of_Vehicles</th>\n",
              "      <th>Road_Surface_Conditions</th>\n",
              "      <th>Road_Type</th>\n",
              "      <th>Urban_or_Rural_Area</th>\n",
              "      <th>Weather_Conditions</th>\n",
              "      <th>Vehicle_Type</th>\n",
              "    </tr>\n",
              "  </thead>\n",
              "  <tbody>\n",
              "    <tr>\n",
              "      <th>0</th>\n",
              "      <td>200701BS64157</td>\n",
              "      <td>Serious</td>\n",
              "      <td>05-06-2019</td>\n",
              "      <td>51.506187</td>\n",
              "      <td>Darkness - lights lit</td>\n",
              "      <td>Kensington and Chelsea</td>\n",
              "      <td>-0.209082</td>\n",
              "      <td>1</td>\n",
              "      <td>2</td>\n",
              "      <td>Dry</td>\n",
              "      <td>Single carriageway</td>\n",
              "      <td>Urban</td>\n",
              "      <td>Fine no high winds</td>\n",
              "      <td>Car</td>\n",
              "    </tr>\n",
              "    <tr>\n",
              "      <th>1</th>\n",
              "      <td>200701BS65737</td>\n",
              "      <td>Serious</td>\n",
              "      <td>02-07-2019</td>\n",
              "      <td>51.495029</td>\n",
              "      <td>Daylight</td>\n",
              "      <td>Kensington and Chelsea</td>\n",
              "      <td>-0.173647</td>\n",
              "      <td>1</td>\n",
              "      <td>2</td>\n",
              "      <td>Wet or damp</td>\n",
              "      <td>Single carriageway</td>\n",
              "      <td>Urban</td>\n",
              "      <td>Raining no high winds</td>\n",
              "      <td>Car</td>\n",
              "    </tr>\n",
              "    <tr>\n",
              "      <th>2</th>\n",
              "      <td>200701BS66127</td>\n",
              "      <td>Serious</td>\n",
              "      <td>26-08-2019</td>\n",
              "      <td>51.517715</td>\n",
              "      <td>Darkness - lighting unknown</td>\n",
              "      <td>Kensington and Chelsea</td>\n",
              "      <td>-0.210215</td>\n",
              "      <td>1</td>\n",
              "      <td>3</td>\n",
              "      <td>Dry</td>\n",
              "      <td>NaN</td>\n",
              "      <td>Urban</td>\n",
              "      <td>NaN</td>\n",
              "      <td>Taxi/Private hire car</td>\n",
              "    </tr>\n",
              "    <tr>\n",
              "      <th>3</th>\n",
              "      <td>200701BS66128</td>\n",
              "      <td>Serious</td>\n",
              "      <td>16-08-2019</td>\n",
              "      <td>51.495478</td>\n",
              "      <td>Daylight</td>\n",
              "      <td>Kensington and Chelsea</td>\n",
              "      <td>-0.202731</td>\n",
              "      <td>1</td>\n",
              "      <td>4</td>\n",
              "      <td>Dry</td>\n",
              "      <td>Single carriageway</td>\n",
              "      <td>Urban</td>\n",
              "      <td>Fine no high winds</td>\n",
              "      <td>Bus or coach (17 or more pass seats)</td>\n",
              "    </tr>\n",
              "    <tr>\n",
              "      <th>4</th>\n",
              "      <td>200701BS66837</td>\n",
              "      <td>Slight</td>\n",
              "      <td>03-09-2019</td>\n",
              "      <td>51.488576</td>\n",
              "      <td>Darkness - lights lit</td>\n",
              "      <td>Kensington and Chelsea</td>\n",
              "      <td>-0.192487</td>\n",
              "      <td>1</td>\n",
              "      <td>2</td>\n",
              "      <td>Dry</td>\n",
              "      <td>NaN</td>\n",
              "      <td>Urban</td>\n",
              "      <td>NaN</td>\n",
              "      <td>Other vehicle</td>\n",
              "    </tr>\n",
              "  </tbody>\n",
              "</table>\n",
              "</div>"
            ],
            "text/plain": [
              "           Index Accident_Severity Accident Date   Latitude  \\\n",
              "0  200701BS64157           Serious    05-06-2019  51.506187   \n",
              "1  200701BS65737           Serious    02-07-2019  51.495029   \n",
              "2  200701BS66127           Serious    26-08-2019  51.517715   \n",
              "3  200701BS66128           Serious    16-08-2019  51.495478   \n",
              "4  200701BS66837            Slight    03-09-2019  51.488576   \n",
              "\n",
              "              Light_Conditions           District Area  Longitude  \\\n",
              "0        Darkness - lights lit  Kensington and Chelsea  -0.209082   \n",
              "1                     Daylight  Kensington and Chelsea  -0.173647   \n",
              "2  Darkness - lighting unknown  Kensington and Chelsea  -0.210215   \n",
              "3                     Daylight  Kensington and Chelsea  -0.202731   \n",
              "4        Darkness - lights lit  Kensington and Chelsea  -0.192487   \n",
              "\n",
              "   Number_of_Casualties  Number_of_Vehicles Road_Surface_Conditions  \\\n",
              "0                     1                   2                     Dry   \n",
              "1                     1                   2             Wet or damp   \n",
              "2                     1                   3                     Dry   \n",
              "3                     1                   4                     Dry   \n",
              "4                     1                   2                     Dry   \n",
              "\n",
              "            Road_Type Urban_or_Rural_Area     Weather_Conditions  \\\n",
              "0  Single carriageway               Urban     Fine no high winds   \n",
              "1  Single carriageway               Urban  Raining no high winds   \n",
              "2                 NaN               Urban                    NaN   \n",
              "3  Single carriageway               Urban     Fine no high winds   \n",
              "4                 NaN               Urban                    NaN   \n",
              "\n",
              "                           Vehicle_Type  \n",
              "0                                   Car  \n",
              "1                                   Car  \n",
              "2                 Taxi/Private hire car  \n",
              "3  Bus or coach (17 or more pass seats)  \n",
              "4                         Other vehicle  "
            ]
          },
          "execution_count": 7,
          "metadata": {},
          "output_type": "execute_result"
        }
      ],
      "source": [
        "df.head()"
      ]
    },
    {
      "cell_type": "markdown",
      "metadata": {},
      "source": [
        "### Number of rows and columns"
      ]
    },
    {
      "cell_type": "code",
      "execution_count": 8,
      "metadata": {},
      "outputs": [
        {
          "data": {
            "text/plain": [
              "(660679, 14)"
            ]
          },
          "execution_count": 8,
          "metadata": {},
          "output_type": "execute_result"
        }
      ],
      "source": [
        "df.shape"
      ]
    },
    {
      "cell_type": "markdown",
      "metadata": {},
      "source": [
        "### Data set generic information checking\n",
        "\n",
        "* column names\n",
        "* datatypes of columns\n",
        "* number of entries and the memory space used through"
      ]
    },
    {
      "cell_type": "code",
      "execution_count": 9,
      "metadata": {},
      "outputs": [
        {
          "name": "stdout",
          "output_type": "stream",
          "text": [
            "<class 'pandas.core.frame.DataFrame'>\n",
            "RangeIndex: 660679 entries, 0 to 660678\n",
            "Data columns (total 14 columns):\n",
            " #   Column                   Non-Null Count   Dtype  \n",
            "---  ------                   --------------   -----  \n",
            " 0   Index                    660679 non-null  object \n",
            " 1   Accident_Severity        660679 non-null  object \n",
            " 2   Accident Date            660679 non-null  object \n",
            " 3   Latitude                 660654 non-null  float64\n",
            " 4   Light_Conditions         660679 non-null  object \n",
            " 5   District Area            660679 non-null  object \n",
            " 6   Longitude                660653 non-null  float64\n",
            " 7   Number_of_Casualties     660679 non-null  int64  \n",
            " 8   Number_of_Vehicles       660679 non-null  int64  \n",
            " 9   Road_Surface_Conditions  659953 non-null  object \n",
            " 10  Road_Type                656159 non-null  object \n",
            " 11  Urban_or_Rural_Area      660664 non-null  object \n",
            " 12  Weather_Conditions       646551 non-null  object \n",
            " 13  Vehicle_Type             660679 non-null  object \n",
            "dtypes: float64(2), int64(2), object(10)\n",
            "memory usage: 70.6+ MB\n"
          ]
        }
      ],
      "source": [
        "df.info()"
      ]
    },
    {
      "cell_type": "code",
      "execution_count": 10,
      "metadata": {},
      "outputs": [
        {
          "data": {
            "text/plain": [
              "Index                          0\n",
              "Accident_Severity              0\n",
              "Accident Date                  0\n",
              "Latitude                      25\n",
              "Light_Conditions               0\n",
              "District Area                  0\n",
              "Longitude                     26\n",
              "Number_of_Casualties           0\n",
              "Number_of_Vehicles             0\n",
              "Road_Surface_Conditions      726\n",
              "Road_Type                   4520\n",
              "Urban_or_Rural_Area           15\n",
              "Weather_Conditions         14128\n",
              "Vehicle_Type                   0\n",
              "dtype: int64"
            ]
          },
          "execution_count": 10,
          "metadata": {},
          "output_type": "execute_result"
        }
      ],
      "source": [
        "df.isnull().sum()"
      ]
    },
    {
      "cell_type": "code",
      "execution_count": 11,
      "metadata": {},
      "outputs": [
        {
          "data": {
            "application/vnd.microsoft.datawrangler.viewer.v0+json": {
              "columns": [
                {
                  "name": "index",
                  "rawType": "int64",
                  "type": "integer"
                },
                {
                  "name": "Index",
                  "rawType": "object",
                  "type": "string"
                },
                {
                  "name": "Accident_Severity",
                  "rawType": "object",
                  "type": "string"
                },
                {
                  "name": "Accident Date",
                  "rawType": "object",
                  "type": "string"
                },
                {
                  "name": "Latitude",
                  "rawType": "float64",
                  "type": "float"
                },
                {
                  "name": "Light_Conditions",
                  "rawType": "object",
                  "type": "string"
                },
                {
                  "name": "District Area",
                  "rawType": "object",
                  "type": "string"
                },
                {
                  "name": "Longitude",
                  "rawType": "float64",
                  "type": "float"
                },
                {
                  "name": "Number_of_Casualties",
                  "rawType": "int64",
                  "type": "integer"
                },
                {
                  "name": "Number_of_Vehicles",
                  "rawType": "int64",
                  "type": "integer"
                },
                {
                  "name": "Road_Surface_Conditions",
                  "rawType": "object",
                  "type": "string"
                },
                {
                  "name": "Road_Type",
                  "rawType": "object",
                  "type": "unknown"
                },
                {
                  "name": "Urban_or_Rural_Area",
                  "rawType": "object",
                  "type": "string"
                },
                {
                  "name": "Vehicle_Type",
                  "rawType": "object",
                  "type": "string"
                }
              ],
              "conversionMethod": "pd.DataFrame",
              "ref": "56c02ccf-7f1f-4a37-be4c-d13d74b3b87d",
              "rows": [
                [
                  "0",
                  "200701BS64157",
                  "Serious",
                  "05-06-2019",
                  "51.506187",
                  "Darkness - lights lit",
                  "Kensington and Chelsea",
                  "-0.209082",
                  "1",
                  "2",
                  "Dry",
                  "Single carriageway",
                  "Urban",
                  "Car"
                ],
                [
                  "1",
                  "200701BS65737",
                  "Serious",
                  "02-07-2019",
                  "51.495029",
                  "Daylight",
                  "Kensington and Chelsea",
                  "-0.173647",
                  "1",
                  "2",
                  "Wet or damp",
                  "Single carriageway",
                  "Urban",
                  "Car"
                ],
                [
                  "2",
                  "200701BS66127",
                  "Serious",
                  "26-08-2019",
                  "51.517715",
                  "Darkness - lighting unknown",
                  "Kensington and Chelsea",
                  "-0.210215",
                  "1",
                  "3",
                  "Dry",
                  null,
                  "Urban",
                  "Taxi/Private hire car"
                ],
                [
                  "3",
                  "200701BS66128",
                  "Serious",
                  "16-08-2019",
                  "51.495478",
                  "Daylight",
                  "Kensington and Chelsea",
                  "-0.202731",
                  "1",
                  "4",
                  "Dry",
                  "Single carriageway",
                  "Urban",
                  "Bus or coach (17 or more pass seats)"
                ],
                [
                  "4",
                  "200701BS66837",
                  "Slight",
                  "03-09-2019",
                  "51.488576",
                  "Darkness - lights lit",
                  "Kensington and Chelsea",
                  "-0.192487",
                  "1",
                  "2",
                  "Dry",
                  null,
                  "Urban",
                  "Other vehicle"
                ]
              ],
              "shape": {
                "columns": 13,
                "rows": 5
              }
            },
            "text/html": [
              "<div>\n",
              "<style scoped>\n",
              "    .dataframe tbody tr th:only-of-type {\n",
              "        vertical-align: middle;\n",
              "    }\n",
              "\n",
              "    .dataframe tbody tr th {\n",
              "        vertical-align: top;\n",
              "    }\n",
              "\n",
              "    .dataframe thead th {\n",
              "        text-align: right;\n",
              "    }\n",
              "</style>\n",
              "<table border=\"1\" class=\"dataframe\">\n",
              "  <thead>\n",
              "    <tr style=\"text-align: right;\">\n",
              "      <th></th>\n",
              "      <th>Index</th>\n",
              "      <th>Accident_Severity</th>\n",
              "      <th>Accident Date</th>\n",
              "      <th>Latitude</th>\n",
              "      <th>Light_Conditions</th>\n",
              "      <th>District Area</th>\n",
              "      <th>Longitude</th>\n",
              "      <th>Number_of_Casualties</th>\n",
              "      <th>Number_of_Vehicles</th>\n",
              "      <th>Road_Surface_Conditions</th>\n",
              "      <th>Road_Type</th>\n",
              "      <th>Urban_or_Rural_Area</th>\n",
              "      <th>Vehicle_Type</th>\n",
              "    </tr>\n",
              "  </thead>\n",
              "  <tbody>\n",
              "    <tr>\n",
              "      <th>0</th>\n",
              "      <td>200701BS64157</td>\n",
              "      <td>Serious</td>\n",
              "      <td>05-06-2019</td>\n",
              "      <td>51.506187</td>\n",
              "      <td>Darkness - lights lit</td>\n",
              "      <td>Kensington and Chelsea</td>\n",
              "      <td>-0.209082</td>\n",
              "      <td>1</td>\n",
              "      <td>2</td>\n",
              "      <td>Dry</td>\n",
              "      <td>Single carriageway</td>\n",
              "      <td>Urban</td>\n",
              "      <td>Car</td>\n",
              "    </tr>\n",
              "    <tr>\n",
              "      <th>1</th>\n",
              "      <td>200701BS65737</td>\n",
              "      <td>Serious</td>\n",
              "      <td>02-07-2019</td>\n",
              "      <td>51.495029</td>\n",
              "      <td>Daylight</td>\n",
              "      <td>Kensington and Chelsea</td>\n",
              "      <td>-0.173647</td>\n",
              "      <td>1</td>\n",
              "      <td>2</td>\n",
              "      <td>Wet or damp</td>\n",
              "      <td>Single carriageway</td>\n",
              "      <td>Urban</td>\n",
              "      <td>Car</td>\n",
              "    </tr>\n",
              "    <tr>\n",
              "      <th>2</th>\n",
              "      <td>200701BS66127</td>\n",
              "      <td>Serious</td>\n",
              "      <td>26-08-2019</td>\n",
              "      <td>51.517715</td>\n",
              "      <td>Darkness - lighting unknown</td>\n",
              "      <td>Kensington and Chelsea</td>\n",
              "      <td>-0.210215</td>\n",
              "      <td>1</td>\n",
              "      <td>3</td>\n",
              "      <td>Dry</td>\n",
              "      <td>NaN</td>\n",
              "      <td>Urban</td>\n",
              "      <td>Taxi/Private hire car</td>\n",
              "    </tr>\n",
              "    <tr>\n",
              "      <th>3</th>\n",
              "      <td>200701BS66128</td>\n",
              "      <td>Serious</td>\n",
              "      <td>16-08-2019</td>\n",
              "      <td>51.495478</td>\n",
              "      <td>Daylight</td>\n",
              "      <td>Kensington and Chelsea</td>\n",
              "      <td>-0.202731</td>\n",
              "      <td>1</td>\n",
              "      <td>4</td>\n",
              "      <td>Dry</td>\n",
              "      <td>Single carriageway</td>\n",
              "      <td>Urban</td>\n",
              "      <td>Bus or coach (17 or more pass seats)</td>\n",
              "    </tr>\n",
              "    <tr>\n",
              "      <th>4</th>\n",
              "      <td>200701BS66837</td>\n",
              "      <td>Slight</td>\n",
              "      <td>03-09-2019</td>\n",
              "      <td>51.488576</td>\n",
              "      <td>Darkness - lights lit</td>\n",
              "      <td>Kensington and Chelsea</td>\n",
              "      <td>-0.192487</td>\n",
              "      <td>1</td>\n",
              "      <td>2</td>\n",
              "      <td>Dry</td>\n",
              "      <td>NaN</td>\n",
              "      <td>Urban</td>\n",
              "      <td>Other vehicle</td>\n",
              "    </tr>\n",
              "  </tbody>\n",
              "</table>\n",
              "</div>"
            ],
            "text/plain": [
              "           Index Accident_Severity Accident Date   Latitude  \\\n",
              "0  200701BS64157           Serious    05-06-2019  51.506187   \n",
              "1  200701BS65737           Serious    02-07-2019  51.495029   \n",
              "2  200701BS66127           Serious    26-08-2019  51.517715   \n",
              "3  200701BS66128           Serious    16-08-2019  51.495478   \n",
              "4  200701BS66837            Slight    03-09-2019  51.488576   \n",
              "\n",
              "              Light_Conditions           District Area  Longitude  \\\n",
              "0        Darkness - lights lit  Kensington and Chelsea  -0.209082   \n",
              "1                     Daylight  Kensington and Chelsea  -0.173647   \n",
              "2  Darkness - lighting unknown  Kensington and Chelsea  -0.210215   \n",
              "3                     Daylight  Kensington and Chelsea  -0.202731   \n",
              "4        Darkness - lights lit  Kensington and Chelsea  -0.192487   \n",
              "\n",
              "   Number_of_Casualties  Number_of_Vehicles Road_Surface_Conditions  \\\n",
              "0                     1                   2                     Dry   \n",
              "1                     1                   2             Wet or damp   \n",
              "2                     1                   3                     Dry   \n",
              "3                     1                   4                     Dry   \n",
              "4                     1                   2                     Dry   \n",
              "\n",
              "            Road_Type Urban_or_Rural_Area  \\\n",
              "0  Single carriageway               Urban   \n",
              "1  Single carriageway               Urban   \n",
              "2                 NaN               Urban   \n",
              "3  Single carriageway               Urban   \n",
              "4                 NaN               Urban   \n",
              "\n",
              "                           Vehicle_Type  \n",
              "0                                   Car  \n",
              "1                                   Car  \n",
              "2                 Taxi/Private hire car  \n",
              "3  Bus or coach (17 or more pass seats)  \n",
              "4                         Other vehicle  "
            ]
          },
          "execution_count": 11,
          "metadata": {},
          "output_type": "execute_result"
        }
      ],
      "source": [
        "df.drop(columns=['Weather_Conditions'], inplace=True)\n",
        "df.head()"
      ]
    },
    {
      "cell_type": "markdown",
      "metadata": {},
      "source": [
        "---"
      ]
    },
    {
      "cell_type": "code",
      "execution_count": 12,
      "metadata": {},
      "outputs": [
        {
          "data": {
            "text/plain": [
              "(660679, 13)"
            ]
          },
          "execution_count": 12,
          "metadata": {},
          "output_type": "execute_result"
        }
      ],
      "source": [
        "df.shape"
      ]
    },
    {
      "cell_type": "code",
      "execution_count": 13,
      "metadata": {},
      "outputs": [
        {
          "data": {
            "text/plain": [
              "Index                         0\n",
              "Accident_Severity             0\n",
              "Accident Date                 0\n",
              "Latitude                     25\n",
              "Light_Conditions              0\n",
              "District Area                 0\n",
              "Longitude                    26\n",
              "Number_of_Casualties          0\n",
              "Number_of_Vehicles            0\n",
              "Road_Surface_Conditions     726\n",
              "Road_Type                  4520\n",
              "Urban_or_Rural_Area          15\n",
              "Vehicle_Type                  0\n",
              "dtype: int64"
            ]
          },
          "execution_count": 13,
          "metadata": {},
          "output_type": "execute_result"
        }
      ],
      "source": [
        "df.isnull().sum()"
      ]
    },
    {
      "cell_type": "markdown",
      "metadata": {},
      "source": [
        "### Dropping Urban_or_Rural_Area variable"
      ]
    },
    {
      "cell_type": "code",
      "execution_count": 14,
      "metadata": {},
      "outputs": [
        {
          "data": {
            "application/vnd.microsoft.datawrangler.viewer.v0+json": {
              "columns": [
                {
                  "name": "index",
                  "rawType": "int64",
                  "type": "integer"
                },
                {
                  "name": "Index",
                  "rawType": "object",
                  "type": "string"
                },
                {
                  "name": "Accident_Severity",
                  "rawType": "object",
                  "type": "string"
                },
                {
                  "name": "Accident Date",
                  "rawType": "object",
                  "type": "string"
                },
                {
                  "name": "Latitude",
                  "rawType": "float64",
                  "type": "float"
                },
                {
                  "name": "Light_Conditions",
                  "rawType": "object",
                  "type": "string"
                },
                {
                  "name": "District Area",
                  "rawType": "object",
                  "type": "string"
                },
                {
                  "name": "Longitude",
                  "rawType": "float64",
                  "type": "float"
                },
                {
                  "name": "Number_of_Casualties",
                  "rawType": "int64",
                  "type": "integer"
                },
                {
                  "name": "Number_of_Vehicles",
                  "rawType": "int64",
                  "type": "integer"
                },
                {
                  "name": "Road_Surface_Conditions",
                  "rawType": "object",
                  "type": "unknown"
                },
                {
                  "name": "Road_Type",
                  "rawType": "object",
                  "type": "unknown"
                },
                {
                  "name": "Vehicle_Type",
                  "rawType": "object",
                  "type": "string"
                }
              ],
              "conversionMethod": "pd.DataFrame",
              "ref": "1296866e-3e6c-45a7-a0e7-24571b0f2651",
              "rows": [
                [
                  "0",
                  "200701BS64157",
                  "Serious",
                  "05-06-2019",
                  "51.506187",
                  "Darkness - lights lit",
                  "Kensington and Chelsea",
                  "-0.209082",
                  "1",
                  "2",
                  "Dry",
                  "Single carriageway",
                  "Car"
                ],
                [
                  "1",
                  "200701BS65737",
                  "Serious",
                  "02-07-2019",
                  "51.495029",
                  "Daylight",
                  "Kensington and Chelsea",
                  "-0.173647",
                  "1",
                  "2",
                  "Wet or damp",
                  "Single carriageway",
                  "Car"
                ],
                [
                  "2",
                  "200701BS66127",
                  "Serious",
                  "26-08-2019",
                  "51.517715",
                  "Darkness - lighting unknown",
                  "Kensington and Chelsea",
                  "-0.210215",
                  "1",
                  "3",
                  "Dry",
                  null,
                  "Taxi/Private hire car"
                ],
                [
                  "3",
                  "200701BS66128",
                  "Serious",
                  "16-08-2019",
                  "51.495478",
                  "Daylight",
                  "Kensington and Chelsea",
                  "-0.202731",
                  "1",
                  "4",
                  "Dry",
                  "Single carriageway",
                  "Bus or coach (17 or more pass seats)"
                ],
                [
                  "4",
                  "200701BS66837",
                  "Slight",
                  "03-09-2019",
                  "51.488576",
                  "Darkness - lights lit",
                  "Kensington and Chelsea",
                  "-0.192487",
                  "1",
                  "2",
                  "Dry",
                  null,
                  "Other vehicle"
                ],
                [
                  "5",
                  "200701BS67159",
                  "Serious",
                  "18-09-2019",
                  "51.49775",
                  "Daylight",
                  "Kensington and Chelsea",
                  "-0.192556",
                  "2",
                  "3",
                  "Dry",
                  "Single carriageway",
                  "Car"
                ],
                [
                  "6",
                  "200701BS67207",
                  "Serious",
                  "05-09-2019",
                  "51.501405",
                  "Daylight",
                  "Kensington and Chelsea",
                  "-0.161577",
                  "1",
                  "2",
                  "Dry",
                  "Dual carriageway",
                  "Van / Goods 3.5 tonnes mgw or under"
                ],
                [
                  "7",
                  "200701BS67370",
                  "Fatal",
                  "03-10-2019",
                  "51.48226",
                  "Darkness - lights lit",
                  "Kensington and Chelsea",
                  "-0.179486",
                  "3",
                  "2",
                  "Dry",
                  "Single carriageway",
                  "Car"
                ],
                [
                  "8",
                  "200701BS67515",
                  "Slight",
                  "31-10-2019",
                  "51.493319",
                  "Darkness - lights lit",
                  "Kensington and Chelsea",
                  "-0.173572",
                  "1",
                  "2",
                  "Dry",
                  "Single carriageway",
                  "Car"
                ],
                [
                  "9",
                  "200701BS67543",
                  "Slight",
                  "18-10-2019",
                  "51.484539",
                  "Daylight",
                  "Kensington and Chelsea",
                  "-0.175651",
                  "1",
                  "2",
                  "Dry",
                  "Single carriageway",
                  "Motorcycle over 125cc and up to 500cc"
                ],
                [
                  "10",
                  "200701BS67644",
                  "Serious",
                  "09-10-2019",
                  "51.491944",
                  "Darkness - lights lit",
                  "Kensington and Chelsea",
                  "-0.171898",
                  "1",
                  "2",
                  "Dry",
                  "Single carriageway",
                  "Goods 7.5 tonnes mgw and over"
                ],
                [
                  "11",
                  "200701BS67747",
                  "Fatal",
                  "02-11-2019",
                  "51.499127",
                  "Daylight",
                  "Kensington and Chelsea",
                  "-0.159652",
                  "1",
                  "2",
                  "Dry",
                  "Single carriageway",
                  "Bus or coach (17 or more pass seats)"
                ],
                [
                  "12",
                  "200701BS67773",
                  "Serious",
                  "12-11-2019",
                  "51.500823",
                  "Daylight",
                  "Kensington and Chelsea",
                  "-0.193587",
                  "1",
                  "1",
                  "Dry",
                  "Single carriageway",
                  "Motorcycle 125cc and under"
                ],
                [
                  "13",
                  "200701BS67853",
                  "Slight",
                  "08-11-2019",
                  "51.508999",
                  "Darkness - lights lit",
                  "Kensington and Chelsea",
                  "-0.210701",
                  "3",
                  "2",
                  "Wet or damp",
                  "Single carriageway",
                  "Car"
                ],
                [
                  "14",
                  "200701BS67859",
                  "Slight",
                  "01-11-2019",
                  "51.485125",
                  "Darkness - lights lit",
                  "Kensington and Chelsea",
                  "-0.167129",
                  "1",
                  "1",
                  "Dry",
                  "One way street",
                  "Car"
                ],
                [
                  "15",
                  "200701BS67960",
                  "Slight",
                  "19-11-2019",
                  "51.488576",
                  "Daylight",
                  "Kensington and Chelsea",
                  "-0.192487",
                  "1",
                  "2",
                  "Dry",
                  "Single carriageway",
                  "Car"
                ],
                [
                  "16",
                  "200701BS67969",
                  "Serious",
                  "01-10-2019",
                  "51.49349",
                  "Daylight",
                  "Kensington and Chelsea",
                  "-0.19042",
                  "1",
                  "2",
                  "Dry",
                  "Dual carriageway",
                  "Car"
                ],
                [
                  "17",
                  "200701BS68160",
                  "Serious",
                  "10-10-2019",
                  "51.508445",
                  "Daylight",
                  "Kensington and Chelsea",
                  "-0.215622",
                  "1",
                  "1",
                  "Dry",
                  "Single carriageway",
                  "Car"
                ],
                [
                  "18",
                  "200701BS68210",
                  "Slight",
                  "20-11-2019",
                  "51.49759",
                  "Daylight",
                  "Kensington and Chelsea",
                  "-0.159138",
                  "1",
                  "2",
                  "Wet or damp",
                  "Single carriageway",
                  "Motorcycle over 125cc and up to 500cc"
                ],
                [
                  "19",
                  "200701BS68237",
                  "Serious",
                  "26-11-2019",
                  "51.482988",
                  "Daylight",
                  "Kensington and Chelsea",
                  "-0.174272",
                  "1",
                  "4",
                  "Dry",
                  "Single carriageway",
                  "Car"
                ],
                [
                  "20",
                  "200701BS68301",
                  "Fatal",
                  "24-10-2019",
                  "51.505996",
                  "Daylight",
                  "Kensington and Chelsea",
                  "-0.214277",
                  "1",
                  "1",
                  "Dry",
                  "Single carriageway",
                  "Car"
                ],
                [
                  "21",
                  "200701BS68302",
                  "Fatal",
                  "24-11-2019",
                  "51.486795",
                  "Daylight",
                  "Kensington and Chelsea",
                  "-0.170375",
                  "5",
                  "1",
                  "Dry",
                  "Single carriageway",
                  "Car"
                ],
                [
                  "22",
                  "200701BS70001",
                  "Slight",
                  "18-01-2019",
                  "51.499983",
                  "Darkness - lights lit",
                  "Kensington and Chelsea",
                  "-0.179933",
                  "1",
                  "1",
                  "Dry",
                  "Single carriageway",
                  "Car"
                ],
                [
                  "23",
                  "200701BS70002",
                  "Serious",
                  "22-01-2019",
                  "51.485674",
                  "Daylight",
                  "Kensington and Chelsea",
                  "-0.150543",
                  "2",
                  "2",
                  "Dry",
                  "Single carriageway",
                  "Car"
                ],
                [
                  "24",
                  "200701BS70003",
                  "Serious",
                  "17-01-2019",
                  "51.498157",
                  "Daylight",
                  "Kensington and Chelsea",
                  "-0.201473",
                  "1",
                  "1",
                  "Wet or damp",
                  "Dual carriageway",
                  "Car"
                ],
                [
                  "25",
                  "200701BS70004",
                  "Slight",
                  "03-01-2019",
                  "51.493311",
                  "Darkness - lights lit",
                  "Kensington and Chelsea",
                  "-0.190427",
                  "2",
                  "1",
                  "Wet or damp",
                  "Single carriageway",
                  "Car"
                ],
                [
                  "26",
                  "200701BS70005",
                  "Slight",
                  "02-01-2019",
                  "51.49806",
                  "Daylight",
                  "Kensington and Chelsea",
                  "-0.166178",
                  "1",
                  "1",
                  "Dry",
                  "Single carriageway",
                  "Taxi/Private hire car"
                ],
                [
                  "27",
                  "200701BS70006",
                  "Slight",
                  "06-01-2019",
                  "51.490526",
                  "Daylight",
                  "Kensington and Chelsea",
                  "-0.196443",
                  "2",
                  "2",
                  "Wet or damp",
                  "Single carriageway",
                  "Taxi/Private hire car"
                ],
                [
                  "28",
                  "200701BS70007",
                  "Slight",
                  "17-01-2019",
                  "51.513352",
                  "Darkness - lights lit",
                  "Kensington and Chelsea",
                  "-0.207216",
                  "1",
                  "2",
                  "Wet or damp",
                  "Single carriageway",
                  "Motorcycle 125cc and under"
                ],
                [
                  "29",
                  "200701BS70008",
                  "Slight",
                  "12-01-2019",
                  "51.514951",
                  "Darkness - lights lit",
                  "Kensington and Chelsea",
                  "-0.217674",
                  "2",
                  "2",
                  "Dry",
                  "Single carriageway",
                  "Motorcycle over 500cc"
                ],
                [
                  "30",
                  "200701BS70009",
                  "Slight",
                  "09-01-2019",
                  "51.514489",
                  "Daylight",
                  "Kensington and Chelsea",
                  "-0.199244",
                  "1",
                  "2",
                  "Dry",
                  "Single carriageway",
                  "Car"
                ],
                [
                  "31",
                  "200701BS70010",
                  "Slight",
                  "13-01-2019",
                  "51.480325",
                  "Darkness - lights lit",
                  "Kensington and Chelsea",
                  "-0.1823",
                  "1",
                  "2",
                  "Dry",
                  "Single carriageway",
                  "Car"
                ],
                [
                  "32",
                  "200701BS70011",
                  "Slight",
                  "02-01-2019",
                  "51.494902",
                  "Daylight",
                  "Kensington and Chelsea",
                  "-0.182872",
                  "1",
                  "2",
                  "Dry",
                  "Single carriageway",
                  "Car"
                ],
                [
                  "33",
                  "200701BS70012",
                  "Slight",
                  "07-01-2019",
                  "51.514399",
                  "Darkness - lights lit",
                  "Kensington and Chelsea",
                  "-0.199248",
                  "1",
                  "2",
                  "Dry",
                  "Single carriageway",
                  "Motorcycle over 500cc"
                ],
                [
                  "34",
                  "200701BS70013",
                  "Slight",
                  "08-01-2019",
                  "51.498244",
                  "Daylight",
                  "Kensington and Chelsea",
                  "-0.201325",
                  "1",
                  "1",
                  "Wet or damp",
                  "Single carriageway",
                  "Car"
                ],
                [
                  "35",
                  "200701BS70014",
                  "Slight",
                  "03-01-2019",
                  "51.524885",
                  "Daylight",
                  "Kensington and Chelsea",
                  "-0.214547",
                  "1",
                  "1",
                  "Dry",
                  "Single carriageway",
                  "Taxi/Private hire car"
                ],
                [
                  "36",
                  "200701BS70015",
                  "Slight",
                  "18-01-2019",
                  "51.497451",
                  "Darkness - lights lit",
                  "Kensington and Chelsea",
                  "-0.167499",
                  "1",
                  "2",
                  "Wet or damp",
                  "Single carriageway",
                  "Car"
                ],
                [
                  "37",
                  "200701BS70016",
                  "Slight",
                  "07-01-2019",
                  "51.492577",
                  "Daylight",
                  "Kensington and Chelsea",
                  "-0.183685",
                  "2",
                  "3",
                  "Dry",
                  "Single carriageway",
                  "Other vehicle"
                ],
                [
                  "38",
                  "200701BS70017",
                  "Slight",
                  "13-01-2019",
                  "51.508535",
                  "Daylight",
                  "Kensington and Chelsea",
                  "-0.215619",
                  "1",
                  "2",
                  "Wet or damp",
                  "Single carriageway",
                  "Car"
                ],
                [
                  "39",
                  "200701BS70019",
                  "Slight",
                  "10-01-2019",
                  "51.493766",
                  "Daylight",
                  "Kensington and Chelsea",
                  "-0.17341",
                  "1",
                  "1",
                  "Dry",
                  "Single carriageway",
                  "Car"
                ],
                [
                  "40",
                  "200701BS70020",
                  "Slight",
                  "16-01-2019",
                  "51.48943",
                  "Daylight",
                  "Kensington and Chelsea",
                  "-0.172142",
                  "1",
                  "2",
                  "Dry",
                  "Single carriageway",
                  "Car"
                ],
                [
                  "41",
                  "200701BS70021",
                  "Slight",
                  "22-01-2019",
                  "51.493753",
                  "Daylight",
                  "Kensington and Chelsea",
                  "-0.178308",
                  "1",
                  "2",
                  "Wet or damp",
                  "Single carriageway",
                  "Car"
                ],
                [
                  "42",
                  "200701BS70022",
                  "Slight",
                  "15-01-2019",
                  "51.481746",
                  "Daylight",
                  "Kensington and Chelsea",
                  "-0.17533",
                  "1",
                  "2",
                  "Dry",
                  "Single carriageway",
                  "Car"
                ],
                [
                  "43",
                  "200701BS70023",
                  "Slight",
                  "14-01-2019",
                  "51.49721",
                  "Daylight",
                  "Kensington and Chelsea",
                  "-0.157856",
                  "1",
                  "2",
                  "Dry",
                  "Single carriageway",
                  "Motorcycle 50cc and under"
                ],
                [
                  "44",
                  "200701BS70024",
                  "Slight",
                  "04-01-2019",
                  "51.485216",
                  "Darkness - lights lit",
                  "Kensington and Chelsea",
                  "-0.149986",
                  "1",
                  "2",
                  "Wet or damp",
                  "Single carriageway",
                  "Car"
                ],
                [
                  "45",
                  "200701BS70025",
                  "Serious",
                  "02-01-2019",
                  "51.485589",
                  "Darkness - lights lit",
                  "Kensington and Chelsea",
                  "-0.150835",
                  "1",
                  "3",
                  "Dry",
                  "Single carriageway",
                  "Taxi/Private hire car"
                ],
                [
                  "46",
                  "200701BS70026",
                  "Slight",
                  "15-01-2019",
                  "51.488489",
                  "Darkness - lights lit",
                  "Kensington and Chelsea",
                  "-0.192634",
                  "1",
                  "1",
                  "Dry",
                  "Single carriageway",
                  "Motorcycle 125cc and under"
                ],
                [
                  "47",
                  "200701BS70028",
                  "Slight",
                  "20-01-2019",
                  "51.485849",
                  "Daylight",
                  "Kensington and Chelsea",
                  "-0.17315",
                  "1",
                  "1",
                  "Dry",
                  "Single carriageway",
                  "Car"
                ],
                [
                  "48",
                  "200701BS70029",
                  "Slight",
                  "18-01-2019",
                  "51.481152",
                  "Daylight",
                  "Kensington and Chelsea",
                  "-0.183419",
                  "1",
                  "2",
                  "Dry",
                  "Single carriageway",
                  "Minibus (8 - 16 passenger seats)"
                ],
                [
                  "49",
                  "200701BS70032",
                  "Slight",
                  "26-01-2019",
                  "51.492624",
                  "Daylight",
                  "Kensington and Chelsea",
                  "-0.157897",
                  "1",
                  "2",
                  "Dry",
                  "Single carriageway",
                  "Motorcycle 125cc and under"
                ]
              ],
              "shape": {
                "columns": 12,
                "rows": 660679
              }
            },
            "text/html": [
              "<div>\n",
              "<style scoped>\n",
              "    .dataframe tbody tr th:only-of-type {\n",
              "        vertical-align: middle;\n",
              "    }\n",
              "\n",
              "    .dataframe tbody tr th {\n",
              "        vertical-align: top;\n",
              "    }\n",
              "\n",
              "    .dataframe thead th {\n",
              "        text-align: right;\n",
              "    }\n",
              "</style>\n",
              "<table border=\"1\" class=\"dataframe\">\n",
              "  <thead>\n",
              "    <tr style=\"text-align: right;\">\n",
              "      <th></th>\n",
              "      <th>Index</th>\n",
              "      <th>Accident_Severity</th>\n",
              "      <th>Accident Date</th>\n",
              "      <th>Latitude</th>\n",
              "      <th>Light_Conditions</th>\n",
              "      <th>District Area</th>\n",
              "      <th>Longitude</th>\n",
              "      <th>Number_of_Casualties</th>\n",
              "      <th>Number_of_Vehicles</th>\n",
              "      <th>Road_Surface_Conditions</th>\n",
              "      <th>Road_Type</th>\n",
              "      <th>Vehicle_Type</th>\n",
              "    </tr>\n",
              "  </thead>\n",
              "  <tbody>\n",
              "    <tr>\n",
              "      <th>0</th>\n",
              "      <td>200701BS64157</td>\n",
              "      <td>Serious</td>\n",
              "      <td>05-06-2019</td>\n",
              "      <td>51.506187</td>\n",
              "      <td>Darkness - lights lit</td>\n",
              "      <td>Kensington and Chelsea</td>\n",
              "      <td>-0.209082</td>\n",
              "      <td>1</td>\n",
              "      <td>2</td>\n",
              "      <td>Dry</td>\n",
              "      <td>Single carriageway</td>\n",
              "      <td>Car</td>\n",
              "    </tr>\n",
              "    <tr>\n",
              "      <th>1</th>\n",
              "      <td>200701BS65737</td>\n",
              "      <td>Serious</td>\n",
              "      <td>02-07-2019</td>\n",
              "      <td>51.495029</td>\n",
              "      <td>Daylight</td>\n",
              "      <td>Kensington and Chelsea</td>\n",
              "      <td>-0.173647</td>\n",
              "      <td>1</td>\n",
              "      <td>2</td>\n",
              "      <td>Wet or damp</td>\n",
              "      <td>Single carriageway</td>\n",
              "      <td>Car</td>\n",
              "    </tr>\n",
              "    <tr>\n",
              "      <th>2</th>\n",
              "      <td>200701BS66127</td>\n",
              "      <td>Serious</td>\n",
              "      <td>26-08-2019</td>\n",
              "      <td>51.517715</td>\n",
              "      <td>Darkness - lighting unknown</td>\n",
              "      <td>Kensington and Chelsea</td>\n",
              "      <td>-0.210215</td>\n",
              "      <td>1</td>\n",
              "      <td>3</td>\n",
              "      <td>Dry</td>\n",
              "      <td>NaN</td>\n",
              "      <td>Taxi/Private hire car</td>\n",
              "    </tr>\n",
              "    <tr>\n",
              "      <th>3</th>\n",
              "      <td>200701BS66128</td>\n",
              "      <td>Serious</td>\n",
              "      <td>16-08-2019</td>\n",
              "      <td>51.495478</td>\n",
              "      <td>Daylight</td>\n",
              "      <td>Kensington and Chelsea</td>\n",
              "      <td>-0.202731</td>\n",
              "      <td>1</td>\n",
              "      <td>4</td>\n",
              "      <td>Dry</td>\n",
              "      <td>Single carriageway</td>\n",
              "      <td>Bus or coach (17 or more pass seats)</td>\n",
              "    </tr>\n",
              "    <tr>\n",
              "      <th>4</th>\n",
              "      <td>200701BS66837</td>\n",
              "      <td>Slight</td>\n",
              "      <td>03-09-2019</td>\n",
              "      <td>51.488576</td>\n",
              "      <td>Darkness - lights lit</td>\n",
              "      <td>Kensington and Chelsea</td>\n",
              "      <td>-0.192487</td>\n",
              "      <td>1</td>\n",
              "      <td>2</td>\n",
              "      <td>Dry</td>\n",
              "      <td>NaN</td>\n",
              "      <td>Other vehicle</td>\n",
              "    </tr>\n",
              "    <tr>\n",
              "      <th>...</th>\n",
              "      <td>...</td>\n",
              "      <td>...</td>\n",
              "      <td>...</td>\n",
              "      <td>...</td>\n",
              "      <td>...</td>\n",
              "      <td>...</td>\n",
              "      <td>...</td>\n",
              "      <td>...</td>\n",
              "      <td>...</td>\n",
              "      <td>...</td>\n",
              "      <td>...</td>\n",
              "      <td>...</td>\n",
              "    </tr>\n",
              "    <tr>\n",
              "      <th>660674</th>\n",
              "      <td>201091NM01760</td>\n",
              "      <td>Slight</td>\n",
              "      <td>18-02-2022</td>\n",
              "      <td>57.374005</td>\n",
              "      <td>Daylight</td>\n",
              "      <td>Highland</td>\n",
              "      <td>-3.467828</td>\n",
              "      <td>2</td>\n",
              "      <td>1</td>\n",
              "      <td>Dry</td>\n",
              "      <td>Single carriageway</td>\n",
              "      <td>Car</td>\n",
              "    </tr>\n",
              "    <tr>\n",
              "      <th>660675</th>\n",
              "      <td>201091NM01881</td>\n",
              "      <td>Slight</td>\n",
              "      <td>21-02-2022</td>\n",
              "      <td>57.232273</td>\n",
              "      <td>Darkness - no lighting</td>\n",
              "      <td>Highland</td>\n",
              "      <td>-3.809281</td>\n",
              "      <td>1</td>\n",
              "      <td>1</td>\n",
              "      <td>Frost or ice</td>\n",
              "      <td>Single carriageway</td>\n",
              "      <td>Car</td>\n",
              "    </tr>\n",
              "    <tr>\n",
              "      <th>660676</th>\n",
              "      <td>201091NM01935</td>\n",
              "      <td>Slight</td>\n",
              "      <td>23-02-2022</td>\n",
              "      <td>57.585044</td>\n",
              "      <td>Daylight</td>\n",
              "      <td>Highland</td>\n",
              "      <td>-3.862727</td>\n",
              "      <td>1</td>\n",
              "      <td>3</td>\n",
              "      <td>Frost or ice</td>\n",
              "      <td>Single carriageway</td>\n",
              "      <td>Car</td>\n",
              "    </tr>\n",
              "    <tr>\n",
              "      <th>660677</th>\n",
              "      <td>201091NM01964</td>\n",
              "      <td>Serious</td>\n",
              "      <td>23-02-2022</td>\n",
              "      <td>57.214898</td>\n",
              "      <td>Darkness - no lighting</td>\n",
              "      <td>Highland</td>\n",
              "      <td>-3.823997</td>\n",
              "      <td>1</td>\n",
              "      <td>2</td>\n",
              "      <td>Wet or damp</td>\n",
              "      <td>Single carriageway</td>\n",
              "      <td>Motorcycle over 500cc</td>\n",
              "    </tr>\n",
              "    <tr>\n",
              "      <th>660678</th>\n",
              "      <td>201091NM02142</td>\n",
              "      <td>Serious</td>\n",
              "      <td>28-02-2022</td>\n",
              "      <td>57.575210</td>\n",
              "      <td>Daylight</td>\n",
              "      <td>Highland</td>\n",
              "      <td>-3.895673</td>\n",
              "      <td>1</td>\n",
              "      <td>1</td>\n",
              "      <td>Wet or damp</td>\n",
              "      <td>Dual carriageway</td>\n",
              "      <td>Car</td>\n",
              "    </tr>\n",
              "  </tbody>\n",
              "</table>\n",
              "<p>660679 rows × 12 columns</p>\n",
              "</div>"
            ],
            "text/plain": [
              "                Index Accident_Severity Accident Date   Latitude  \\\n",
              "0       200701BS64157           Serious    05-06-2019  51.506187   \n",
              "1       200701BS65737           Serious    02-07-2019  51.495029   \n",
              "2       200701BS66127           Serious    26-08-2019  51.517715   \n",
              "3       200701BS66128           Serious    16-08-2019  51.495478   \n",
              "4       200701BS66837            Slight    03-09-2019  51.488576   \n",
              "...               ...               ...           ...        ...   \n",
              "660674  201091NM01760            Slight    18-02-2022  57.374005   \n",
              "660675  201091NM01881            Slight    21-02-2022  57.232273   \n",
              "660676  201091NM01935            Slight    23-02-2022  57.585044   \n",
              "660677  201091NM01964           Serious    23-02-2022  57.214898   \n",
              "660678  201091NM02142           Serious    28-02-2022  57.575210   \n",
              "\n",
              "                   Light_Conditions           District Area  Longitude  \\\n",
              "0             Darkness - lights lit  Kensington and Chelsea  -0.209082   \n",
              "1                          Daylight  Kensington and Chelsea  -0.173647   \n",
              "2       Darkness - lighting unknown  Kensington and Chelsea  -0.210215   \n",
              "3                          Daylight  Kensington and Chelsea  -0.202731   \n",
              "4             Darkness - lights lit  Kensington and Chelsea  -0.192487   \n",
              "...                             ...                     ...        ...   \n",
              "660674                     Daylight                Highland  -3.467828   \n",
              "660675       Darkness - no lighting                Highland  -3.809281   \n",
              "660676                     Daylight                Highland  -3.862727   \n",
              "660677       Darkness - no lighting                Highland  -3.823997   \n",
              "660678                     Daylight                Highland  -3.895673   \n",
              "\n",
              "        Number_of_Casualties  Number_of_Vehicles Road_Surface_Conditions  \\\n",
              "0                          1                   2                     Dry   \n",
              "1                          1                   2             Wet or damp   \n",
              "2                          1                   3                     Dry   \n",
              "3                          1                   4                     Dry   \n",
              "4                          1                   2                     Dry   \n",
              "...                      ...                 ...                     ...   \n",
              "660674                     2                   1                     Dry   \n",
              "660675                     1                   1            Frost or ice   \n",
              "660676                     1                   3            Frost or ice   \n",
              "660677                     1                   2             Wet or damp   \n",
              "660678                     1                   1             Wet or damp   \n",
              "\n",
              "                 Road_Type                          Vehicle_Type  \n",
              "0       Single carriageway                                   Car  \n",
              "1       Single carriageway                                   Car  \n",
              "2                      NaN                 Taxi/Private hire car  \n",
              "3       Single carriageway  Bus or coach (17 or more pass seats)  \n",
              "4                      NaN                         Other vehicle  \n",
              "...                    ...                                   ...  \n",
              "660674  Single carriageway                                   Car  \n",
              "660675  Single carriageway                                   Car  \n",
              "660676  Single carriageway                                   Car  \n",
              "660677  Single carriageway                 Motorcycle over 500cc  \n",
              "660678    Dual carriageway                                   Car  \n",
              "\n",
              "[660679 rows x 12 columns]"
            ]
          },
          "execution_count": 14,
          "metadata": {},
          "output_type": "execute_result"
        }
      ],
      "source": [
        "df.drop(columns=['Urban_or_Rural_Area'], inplace=False)"
      ]
    },
    {
      "cell_type": "code",
      "execution_count": 15,
      "metadata": {},
      "outputs": [
        {
          "data": {
            "text/plain": [
              "(660679, 13)"
            ]
          },
          "execution_count": 15,
          "metadata": {},
          "output_type": "execute_result"
        }
      ],
      "source": [
        "df.shape"
      ]
    },
    {
      "cell_type": "code",
      "execution_count": 16,
      "metadata": {},
      "outputs": [
        {
          "data": {
            "text/plain": [
              "Index                         0\n",
              "Accident_Severity             0\n",
              "Accident Date                 0\n",
              "Latitude                     25\n",
              "Light_Conditions              0\n",
              "District Area                 0\n",
              "Longitude                    26\n",
              "Number_of_Casualties          0\n",
              "Number_of_Vehicles            0\n",
              "Road_Surface_Conditions     726\n",
              "Road_Type                  4520\n",
              "Urban_or_Rural_Area          15\n",
              "Vehicle_Type                  0\n",
              "dtype: int64"
            ]
          },
          "execution_count": 16,
          "metadata": {},
          "output_type": "execute_result"
        }
      ],
      "source": [
        "df.isnull().sum()"
      ]
    },
    {
      "cell_type": "markdown",
      "metadata": {},
      "source": [
        "### Check for duplicates"
      ]
    },
    {
      "cell_type": "code",
      "execution_count": 17,
      "metadata": {},
      "outputs": [
        {
          "name": "stdout",
          "output_type": "stream",
          "text": [
            "Duplicate entries found: True .\n"
          ]
        }
      ],
      "source": [
        "duplicate_check = df.duplicated().any()\n",
        "print('Duplicate entries found:', duplicate_check,'.')"
      ]
    },
    {
      "cell_type": "code",
      "execution_count": 26,
      "metadata": {},
      "outputs": [
        {
          "data": {
            "application/vnd.microsoft.datawrangler.viewer.v0+json": {
              "columns": [
                {
                  "name": "index",
                  "rawType": "int64",
                  "type": "integer"
                },
                {
                  "name": "Index",
                  "rawType": "object",
                  "type": "string"
                },
                {
                  "name": "Accident_Severity",
                  "rawType": "object",
                  "type": "string"
                },
                {
                  "name": "Accident Date",
                  "rawType": "object",
                  "type": "string"
                },
                {
                  "name": "Latitude",
                  "rawType": "float64",
                  "type": "float"
                },
                {
                  "name": "Light_Conditions",
                  "rawType": "object",
                  "type": "string"
                },
                {
                  "name": "District Area",
                  "rawType": "object",
                  "type": "string"
                },
                {
                  "name": "Longitude",
                  "rawType": "float64",
                  "type": "float"
                },
                {
                  "name": "Number_of_Casualties",
                  "rawType": "int64",
                  "type": "integer"
                },
                {
                  "name": "Number_of_Vehicles",
                  "rawType": "int64",
                  "type": "integer"
                },
                {
                  "name": "Road_Surface_Conditions",
                  "rawType": "object",
                  "type": "unknown"
                },
                {
                  "name": "Road_Type",
                  "rawType": "object",
                  "type": "unknown"
                },
                {
                  "name": "Urban_or_Rural_Area",
                  "rawType": "object",
                  "type": "unknown"
                },
                {
                  "name": "Vehicle_Type",
                  "rawType": "object",
                  "type": "string"
                }
              ],
              "conversionMethod": "pd.DataFrame",
              "ref": "d6ae186b-a8c7-48f0-84ed-93132bcfa54d",
              "rows": [
                [
                  "23265",
                  "2.01E+12",
                  "Serious",
                  "02-01-2019",
                  "54.118079",
                  "Darkness - lights lit",
                  "Barrow-in-Furness",
                  "-3.227114",
                  "1",
                  "1",
                  "Dry",
                  "Single carriageway",
                  "Urban",
                  "Car"
                ],
                [
                  "23266",
                  "2.01E+12",
                  "Slight",
                  "03-01-2019",
                  "54.226916",
                  "Daylight",
                  "South Lakeland",
                  "-2.773521",
                  "1",
                  "2",
                  "Wet or damp",
                  "Single carriageway",
                  "Rural",
                  "Car"
                ],
                [
                  "23267",
                  "2.01E+12",
                  "Slight",
                  "04-01-2019",
                  "54.344991",
                  "Daylight",
                  "South Lakeland",
                  "-2.777121",
                  "1",
                  "2",
                  "Wet or damp",
                  "Single carriageway",
                  "Rural",
                  "Car"
                ],
                [
                  "23268",
                  "2.01E+12",
                  "Slight",
                  "05-01-2019",
                  "54.33022",
                  "Daylight",
                  "South Lakeland",
                  "-2.739167",
                  "1",
                  "1",
                  "Wet or damp",
                  "One way street",
                  "Urban",
                  "Car"
                ],
                [
                  "23269",
                  "2.01E+12",
                  "Slight",
                  "05-01-2019",
                  "54.260714",
                  "Daylight",
                  "South Lakeland",
                  "-2.813915",
                  "1",
                  "1",
                  "Wet or damp",
                  "Dual carriageway",
                  "Rural",
                  "Bus or coach (17 or more pass seats)"
                ],
                [
                  "23270",
                  "2.01E+12",
                  "Slight",
                  "01-01-2019",
                  "54.228223",
                  "Daylight",
                  "South Lakeland",
                  "-2.69163",
                  "1",
                  "1",
                  "Wet or damp",
                  "Single carriageway",
                  "Rural",
                  "Car"
                ],
                [
                  "23271",
                  "2.01E+12",
                  "Slight",
                  "08-01-2019",
                  "54.297848",
                  "Daylight",
                  "South Lakeland",
                  "-2.727062",
                  "1",
                  "2",
                  "Dry",
                  "Single carriageway",
                  "Urban",
                  "Car"
                ],
                [
                  "23272",
                  "2.01E+12",
                  "Slight",
                  "01-01-2019",
                  "54.874095",
                  "Darkness - lights lit",
                  "Carlisle",
                  "-2.915058",
                  "3",
                  "2",
                  "Wet or damp",
                  "Single carriageway",
                  "Rural",
                  "Taxi/Private hire car"
                ],
                [
                  "23273",
                  "2.01E+12",
                  "Slight",
                  "02-01-2019",
                  "54.901062",
                  "Daylight",
                  "Carlisle",
                  "-3.026706",
                  "5",
                  "2",
                  "Flood over 3cm. deep",
                  "Single carriageway",
                  "Rural",
                  "Car"
                ],
                [
                  "23274",
                  "2.01E+12",
                  "Slight",
                  "02-01-2019",
                  "54.863086",
                  "Darkness - no lighting",
                  "Carlisle",
                  "-2.884739",
                  "3",
                  "3",
                  "Wet or damp",
                  "Single carriageway",
                  "Rural",
                  "Car"
                ],
                [
                  "23275",
                  "2.01E+12",
                  "Slight",
                  "04-01-2019",
                  "54.931352",
                  "Darkness - lights lit",
                  "Carlisle",
                  "-2.925566",
                  "1",
                  "2",
                  "Wet or damp",
                  "Single carriageway",
                  "Rural",
                  "Car"
                ],
                [
                  "23276",
                  "2.01E+12",
                  "Slight",
                  "05-01-2019",
                  "54.64769",
                  "Darkness - no lighting",
                  "Eden",
                  "-2.74786",
                  "1",
                  "2",
                  "Dry",
                  "Dual carriageway",
                  "Rural",
                  "Car"
                ],
                [
                  "23277",
                  "2.01E+12",
                  "Serious",
                  "08-01-2019",
                  "54.305362",
                  "Daylight",
                  "South Lakeland",
                  "-2.733035",
                  "1",
                  "1",
                  "Wet or damp",
                  "Single carriageway",
                  "Rural",
                  "Car"
                ],
                [
                  "23278",
                  "2.01E+12",
                  "Serious",
                  "04-01-2019",
                  "54.380427",
                  "Daylight",
                  "South Lakeland",
                  "-2.902658",
                  "1",
                  "3",
                  "Wet or damp",
                  "Single carriageway",
                  "Rural",
                  "Car"
                ],
                [
                  "23279",
                  "2.01E+12",
                  "Slight",
                  "04-01-2019",
                  "54.887115",
                  "Daylight",
                  "Carlisle",
                  "-2.939985",
                  "1",
                  "2",
                  "Wet or damp",
                  "Single carriageway",
                  "Urban",
                  "Car"
                ],
                [
                  "23280",
                  "2.01E+12",
                  "Slight",
                  "08-01-2019",
                  "54.930798",
                  "Darkness - no lighting",
                  "Carlisle",
                  "-2.840967",
                  "1",
                  "2",
                  "Wet or damp",
                  "Single carriageway",
                  "Rural",
                  "Car"
                ],
                [
                  "23281",
                  "2.01E+12",
                  "Serious",
                  "07-01-2019",
                  "54.196355",
                  "Darkness - lights lit",
                  "South Lakeland",
                  "-3.087948",
                  "3",
                  "2",
                  "Wet or damp",
                  "Single carriageway",
                  "Urban",
                  "Car"
                ],
                [
                  "23282",
                  "2.01E+12",
                  "Slight",
                  "06-01-2019",
                  "54.311809",
                  "Daylight",
                  "South Lakeland",
                  "-2.966176",
                  "2",
                  "2",
                  "Wet or damp",
                  "Single carriageway",
                  "Rural",
                  "Car"
                ],
                [
                  "23283",
                  "2.01E+12",
                  "Slight",
                  "06-01-2019",
                  "54.954845",
                  "Darkness - no lighting",
                  "Carlisle",
                  "-2.944064",
                  "1",
                  "2",
                  "Dry",
                  "Single carriageway",
                  "Rural",
                  "Car"
                ],
                [
                  "23284",
                  "2.01E+12",
                  "Slight",
                  "02-01-2019",
                  "54.144836",
                  "Daylight",
                  "Barrow-in-Furness",
                  "-3.194071",
                  "1",
                  "1",
                  "Wet or damp",
                  "Single carriageway",
                  "Rural",
                  "Bus or coach (17 or more pass seats)"
                ],
                [
                  "23285",
                  "2.01E+12",
                  "Slight",
                  "11-01-2019",
                  "54.338663",
                  "Daylight",
                  "South Lakeland",
                  "-2.754545",
                  "1",
                  "2",
                  "Wet or damp",
                  "Single carriageway",
                  "Urban",
                  "Van / Goods 3.5 tonnes mgw or under"
                ],
                [
                  "23286",
                  "2.01E+12",
                  "Slight",
                  "09-01-2019",
                  "54.215176",
                  "Daylight",
                  "South Lakeland",
                  "-2.809493",
                  "1",
                  "2",
                  "Wet or damp",
                  "Single carriageway",
                  "Rural",
                  "Car"
                ],
                [
                  "23287",
                  "2.01E+12",
                  "Serious",
                  "09-01-2019",
                  "54.890957",
                  "Darkness - lights lit",
                  "Carlisle",
                  "-2.954418",
                  "2",
                  "2",
                  "Wet or damp",
                  "Single carriageway",
                  "Urban",
                  "Bus or coach (17 or more pass seats)"
                ],
                [
                  "23288",
                  "2.01E+12",
                  "Fatal",
                  "10-01-2019",
                  "54.90969",
                  "Darkness - lights lit",
                  "Carlisle",
                  "-2.937703",
                  "1",
                  "1",
                  "Wet or damp",
                  "Single carriageway",
                  "Urban",
                  "Car"
                ],
                [
                  "23289",
                  "2.01E+12",
                  "Slight",
                  "12-01-2019",
                  "54.781163",
                  "Darkness - no lighting",
                  "Eden",
                  "-2.759806",
                  "2",
                  "1",
                  "Wet or damp",
                  "Single carriageway",
                  "Rural",
                  "Bus or coach (17 or more pass seats)"
                ],
                [
                  "23290",
                  "2.01E+12",
                  "Slight",
                  "13-01-2019",
                  "54.798634",
                  "Daylight",
                  "Eden",
                  "-2.823132",
                  "2",
                  "2",
                  "Wet or damp",
                  "Single carriageway",
                  "Rural",
                  "Taxi/Private hire car"
                ],
                [
                  "23291",
                  "2.01E+12",
                  "Slight",
                  "09-01-2019",
                  "54.893288",
                  "Daylight",
                  "Carlisle",
                  "-2.966479",
                  "1",
                  "2",
                  "Wet or damp",
                  "Dual carriageway",
                  "Urban",
                  "Car"
                ],
                [
                  "23292",
                  "2.01E+12",
                  "Slight",
                  "11-01-2019",
                  "54.468725",
                  "Darkness - no lighting",
                  "Eden",
                  "-2.626401",
                  "1",
                  "1",
                  "Wet or damp",
                  "Dual carriageway",
                  "Rural",
                  "Other vehicle"
                ],
                [
                  "23293",
                  "2.01E+12",
                  "Slight",
                  "12-01-2019",
                  "54.882867",
                  "Darkness - lights lit",
                  "Carlisle",
                  "-2.931469",
                  "1",
                  "2",
                  "Dry",
                  "Single carriageway",
                  "Urban",
                  "Car"
                ],
                [
                  "23294",
                  "2.01E+12",
                  "Slight",
                  "13-01-2019",
                  "54.878457",
                  "Darkness - lights lit",
                  "Carlisle",
                  "-2.908611",
                  "1",
                  "1",
                  "Wet or damp",
                  "Single carriageway",
                  "Urban",
                  "Bus or coach (17 or more pass seats)"
                ],
                [
                  "23295",
                  "2.01E+12",
                  "Slight",
                  "14-01-2019",
                  "54.931567",
                  "Darkness - no lighting",
                  "Carlisle",
                  "-2.820538",
                  "3",
                  "1",
                  "Dry",
                  "Single carriageway",
                  "Rural",
                  "Car"
                ],
                [
                  "23296",
                  "2.01E+12",
                  "Slight",
                  "15-01-2019",
                  "54.652284",
                  "Daylight",
                  "Eden",
                  "-2.760499",
                  "1",
                  "2",
                  "Wet or damp",
                  "Roundabout",
                  "Rural",
                  "Car"
                ],
                [
                  "23297",
                  "2.01E+12",
                  "Slight",
                  "05-01-2019",
                  "54.725176",
                  "Daylight",
                  "Eden",
                  "-2.787638",
                  "2",
                  "2",
                  "Dry",
                  "Single carriageway",
                  "Rural",
                  "Car"
                ],
                [
                  "23298",
                  "2.01E+12",
                  "Slight",
                  "12-01-2019",
                  "54.151156",
                  "Darkness - lights lit",
                  "Barrow-in-Furness",
                  "-3.227021",
                  "2",
                  "2",
                  "Wet or damp",
                  "Single carriageway",
                  "Rural",
                  "Car"
                ],
                [
                  "23299",
                  "2.01E+12",
                  "Serious",
                  "16-01-2019",
                  "54.318427",
                  "Daylight",
                  "South Lakeland",
                  "-2.88854",
                  "1",
                  "2",
                  "Wet or damp",
                  "Single carriageway",
                  "Rural",
                  "Car"
                ],
                [
                  "23300",
                  "2.01E+12",
                  "Serious",
                  "16-01-2019",
                  "54.376832",
                  "Darkness - no lighting",
                  "South Lakeland",
                  "-2.61715",
                  "2",
                  "2",
                  "Wet or damp",
                  "Single carriageway",
                  "Rural",
                  "Bus or coach (17 or more pass seats)"
                ],
                [
                  "23301",
                  "2.01E+12",
                  "Slight",
                  "16-01-2019",
                  "54.131009",
                  "Darkness - lights unlit",
                  "Barrow-in-Furness",
                  "-3.210661",
                  "1",
                  "1",
                  "Wet or damp",
                  "Single carriageway",
                  "Urban",
                  "Bus or coach (17 or more pass seats)"
                ],
                [
                  "23302",
                  "2.01E+12",
                  "Slight",
                  "19-01-2019",
                  "54.317713",
                  "Darkness - lights unlit",
                  "South Lakeland",
                  "-2.741556",
                  "1",
                  "1",
                  "Wet or damp",
                  "Single carriageway",
                  "Urban",
                  "Car"
                ],
                [
                  "23303",
                  "2.01E+12",
                  "Slight",
                  "10-01-2019",
                  "54.891805",
                  "Darkness - lights lit",
                  "Carlisle",
                  "-2.983282",
                  "1",
                  "2",
                  "Wet or damp",
                  "Dual carriageway",
                  "Urban",
                  "Car"
                ],
                [
                  "23304",
                  "2.01E+12",
                  "Slight",
                  "14-01-2019",
                  "54.925209",
                  "Daylight",
                  "Carlisle",
                  "-2.952888",
                  "1",
                  "2",
                  "Dry",
                  "Single carriageway",
                  "Urban",
                  "Car"
                ],
                [
                  "23305",
                  "2.01E+12",
                  "Slight",
                  "15-01-2019",
                  "54.895972",
                  "Darkness - lights lit",
                  "Carlisle",
                  "-2.921791",
                  "1",
                  "2",
                  "Wet or damp",
                  "Single carriageway",
                  "Urban",
                  "Car"
                ],
                [
                  "23306",
                  "2.01E+12",
                  "Slight",
                  "16-01-2019",
                  "54.8891",
                  "Daylight",
                  "Carlisle",
                  "-2.927247",
                  "2",
                  "2",
                  "Dry",
                  "Single carriageway",
                  "Urban",
                  "Car"
                ],
                [
                  "23307",
                  "2.01E+12",
                  "Slight",
                  "17-01-2019",
                  "54.753063",
                  "Daylight",
                  "Eden",
                  "-2.969973",
                  "4",
                  "1",
                  "Snow",
                  "Single carriageway",
                  "Rural",
                  "Taxi/Private hire car"
                ],
                [
                  "23308",
                  "2.01E+12",
                  "Slight",
                  "18-01-2019",
                  "54.724968",
                  "Daylight",
                  "Eden",
                  "-2.622428",
                  "1",
                  "1",
                  "Wet or damp",
                  "Single carriageway",
                  "Rural",
                  "Car"
                ],
                [
                  "23309",
                  "2.01E+12",
                  "Slight",
                  "18-01-2019",
                  "54.223448",
                  "Daylight",
                  "South Lakeland",
                  "-2.79539",
                  "1",
                  "1",
                  "Wet or damp",
                  "Single carriageway",
                  "Rural",
                  "Car"
                ],
                [
                  "23310",
                  "2.01E+12",
                  "Serious",
                  "11-01-2019",
                  "54.643257",
                  "Darkness - lights lit",
                  "Allerdale",
                  "-3.540576",
                  "1",
                  "1",
                  "Wet or damp",
                  "Single carriageway",
                  "Urban",
                  "Car"
                ],
                [
                  "23311",
                  "2.01E+12",
                  "Serious",
                  "16-01-2019",
                  "54.14653",
                  "Darkness - lights lit",
                  "Barrow-in-Furness",
                  "-3.186464",
                  "1",
                  "2",
                  "Wet or damp",
                  "Single carriageway",
                  "Rural",
                  "Car"
                ],
                [
                  "23312",
                  "2.01E+12",
                  "Slight",
                  "17-01-2019",
                  "54.555402",
                  "Darkness - no lighting",
                  "Eden",
                  "-2.43244",
                  "2",
                  "2",
                  "Wet or damp",
                  "Single carriageway",
                  "Rural",
                  "Motorcycle over 125cc and up to 500cc"
                ],
                [
                  "23313",
                  "2.01E+12",
                  "Slight",
                  "15-01-2019",
                  "54.894374",
                  "Darkness - lights lit",
                  "Carlisle",
                  "-2.91926",
                  "1",
                  "2",
                  "Dry",
                  "Single carriageway",
                  "Urban",
                  "Car"
                ],
                [
                  "23314",
                  "2.01E+12",
                  "Slight",
                  "23-01-2019",
                  "54.3818",
                  "Daylight",
                  "South Lakeland",
                  "-2.887291",
                  "1",
                  "2",
                  "Dry",
                  "Single carriageway",
                  "Rural",
                  "Car"
                ]
              ],
              "shape": {
                "columns": 13,
                "rows": 239790
              }
            },
            "text/html": [
              "<div>\n",
              "<style scoped>\n",
              "    .dataframe tbody tr th:only-of-type {\n",
              "        vertical-align: middle;\n",
              "    }\n",
              "\n",
              "    .dataframe tbody tr th {\n",
              "        vertical-align: top;\n",
              "    }\n",
              "\n",
              "    .dataframe thead th {\n",
              "        text-align: right;\n",
              "    }\n",
              "</style>\n",
              "<table border=\"1\" class=\"dataframe\">\n",
              "  <thead>\n",
              "    <tr style=\"text-align: right;\">\n",
              "      <th></th>\n",
              "      <th>Index</th>\n",
              "      <th>Accident_Severity</th>\n",
              "      <th>Accident Date</th>\n",
              "      <th>Latitude</th>\n",
              "      <th>Light_Conditions</th>\n",
              "      <th>District Area</th>\n",
              "      <th>Longitude</th>\n",
              "      <th>Number_of_Casualties</th>\n",
              "      <th>Number_of_Vehicles</th>\n",
              "      <th>Road_Surface_Conditions</th>\n",
              "      <th>Road_Type</th>\n",
              "      <th>Urban_or_Rural_Area</th>\n",
              "      <th>Vehicle_Type</th>\n",
              "    </tr>\n",
              "  </thead>\n",
              "  <tbody>\n",
              "    <tr>\n",
              "      <th>23265</th>\n",
              "      <td>2.01E+12</td>\n",
              "      <td>Serious</td>\n",
              "      <td>02-01-2019</td>\n",
              "      <td>54.118079</td>\n",
              "      <td>Darkness - lights lit</td>\n",
              "      <td>Barrow-in-Furness</td>\n",
              "      <td>-3.227114</td>\n",
              "      <td>1</td>\n",
              "      <td>1</td>\n",
              "      <td>Dry</td>\n",
              "      <td>Single carriageway</td>\n",
              "      <td>Urban</td>\n",
              "      <td>Car</td>\n",
              "    </tr>\n",
              "    <tr>\n",
              "      <th>23266</th>\n",
              "      <td>2.01E+12</td>\n",
              "      <td>Slight</td>\n",
              "      <td>03-01-2019</td>\n",
              "      <td>54.226916</td>\n",
              "      <td>Daylight</td>\n",
              "      <td>South Lakeland</td>\n",
              "      <td>-2.773521</td>\n",
              "      <td>1</td>\n",
              "      <td>2</td>\n",
              "      <td>Wet or damp</td>\n",
              "      <td>Single carriageway</td>\n",
              "      <td>Rural</td>\n",
              "      <td>Car</td>\n",
              "    </tr>\n",
              "    <tr>\n",
              "      <th>23267</th>\n",
              "      <td>2.01E+12</td>\n",
              "      <td>Slight</td>\n",
              "      <td>04-01-2019</td>\n",
              "      <td>54.344991</td>\n",
              "      <td>Daylight</td>\n",
              "      <td>South Lakeland</td>\n",
              "      <td>-2.777121</td>\n",
              "      <td>1</td>\n",
              "      <td>2</td>\n",
              "      <td>Wet or damp</td>\n",
              "      <td>Single carriageway</td>\n",
              "      <td>Rural</td>\n",
              "      <td>Car</td>\n",
              "    </tr>\n",
              "    <tr>\n",
              "      <th>23268</th>\n",
              "      <td>2.01E+12</td>\n",
              "      <td>Slight</td>\n",
              "      <td>05-01-2019</td>\n",
              "      <td>54.330220</td>\n",
              "      <td>Daylight</td>\n",
              "      <td>South Lakeland</td>\n",
              "      <td>-2.739167</td>\n",
              "      <td>1</td>\n",
              "      <td>1</td>\n",
              "      <td>Wet or damp</td>\n",
              "      <td>One way street</td>\n",
              "      <td>Urban</td>\n",
              "      <td>Car</td>\n",
              "    </tr>\n",
              "    <tr>\n",
              "      <th>23269</th>\n",
              "      <td>2.01E+12</td>\n",
              "      <td>Slight</td>\n",
              "      <td>05-01-2019</td>\n",
              "      <td>54.260714</td>\n",
              "      <td>Daylight</td>\n",
              "      <td>South Lakeland</td>\n",
              "      <td>-2.813915</td>\n",
              "      <td>1</td>\n",
              "      <td>1</td>\n",
              "      <td>Wet or damp</td>\n",
              "      <td>Dual carriageway</td>\n",
              "      <td>Rural</td>\n",
              "      <td>Bus or coach (17 or more pass seats)</td>\n",
              "    </tr>\n",
              "    <tr>\n",
              "      <th>...</th>\n",
              "      <td>...</td>\n",
              "      <td>...</td>\n",
              "      <td>...</td>\n",
              "      <td>...</td>\n",
              "      <td>...</td>\n",
              "      <td>...</td>\n",
              "      <td>...</td>\n",
              "      <td>...</td>\n",
              "      <td>...</td>\n",
              "      <td>...</td>\n",
              "      <td>...</td>\n",
              "      <td>...</td>\n",
              "      <td>...</td>\n",
              "    </tr>\n",
              "    <tr>\n",
              "      <th>658928</th>\n",
              "      <td>2.01E+12</td>\n",
              "      <td>Slight</td>\n",
              "      <td>11-12-2022</td>\n",
              "      <td>51.532465</td>\n",
              "      <td>Darkness - lights lit</td>\n",
              "      <td>Bridgend</td>\n",
              "      <td>-3.667600</td>\n",
              "      <td>1</td>\n",
              "      <td>1</td>\n",
              "      <td>Wet or damp</td>\n",
              "      <td>Single carriageway</td>\n",
              "      <td>Rural</td>\n",
              "      <td>Car</td>\n",
              "    </tr>\n",
              "    <tr>\n",
              "      <th>658929</th>\n",
              "      <td>2.01E+12</td>\n",
              "      <td>Slight</td>\n",
              "      <td>12-12-2022</td>\n",
              "      <td>51.512353</td>\n",
              "      <td>Daylight</td>\n",
              "      <td>Bridgend</td>\n",
              "      <td>-3.587602</td>\n",
              "      <td>1</td>\n",
              "      <td>2</td>\n",
              "      <td>Wet or damp</td>\n",
              "      <td>Single carriageway</td>\n",
              "      <td>Urban</td>\n",
              "      <td>Car</td>\n",
              "    </tr>\n",
              "    <tr>\n",
              "      <th>658930</th>\n",
              "      <td>2.01E+12</td>\n",
              "      <td>Slight</td>\n",
              "      <td>26-11-2022</td>\n",
              "      <td>51.486706</td>\n",
              "      <td>Daylight</td>\n",
              "      <td>Cardiff</td>\n",
              "      <td>-3.177227</td>\n",
              "      <td>1</td>\n",
              "      <td>1</td>\n",
              "      <td>Dry</td>\n",
              "      <td>Single carriageway</td>\n",
              "      <td>Urban</td>\n",
              "      <td>Car</td>\n",
              "    </tr>\n",
              "    <tr>\n",
              "      <th>658931</th>\n",
              "      <td>2.01E+12</td>\n",
              "      <td>Slight</td>\n",
              "      <td>09-10-2022</td>\n",
              "      <td>51.626186</td>\n",
              "      <td>Daylight</td>\n",
              "      <td>Swansea</td>\n",
              "      <td>-3.941213</td>\n",
              "      <td>1</td>\n",
              "      <td>1</td>\n",
              "      <td>Dry</td>\n",
              "      <td>Single carriageway</td>\n",
              "      <td>Urban</td>\n",
              "      <td>Car</td>\n",
              "    </tr>\n",
              "    <tr>\n",
              "      <th>658932</th>\n",
              "      <td>2.01E+12</td>\n",
              "      <td>Slight</td>\n",
              "      <td>13-11-2022</td>\n",
              "      <td>51.654072</td>\n",
              "      <td>Daylight</td>\n",
              "      <td>Neath Port Talbot</td>\n",
              "      <td>-3.793642</td>\n",
              "      <td>1</td>\n",
              "      <td>2</td>\n",
              "      <td>Dry</td>\n",
              "      <td>Single carriageway</td>\n",
              "      <td>Urban</td>\n",
              "      <td>Car</td>\n",
              "    </tr>\n",
              "  </tbody>\n",
              "</table>\n",
              "<p>239790 rows × 13 columns</p>\n",
              "</div>"
            ],
            "text/plain": [
              "           Index Accident_Severity Accident Date   Latitude  \\\n",
              "23265   2.01E+12           Serious    02-01-2019  54.118079   \n",
              "23266   2.01E+12            Slight    03-01-2019  54.226916   \n",
              "23267   2.01E+12            Slight    04-01-2019  54.344991   \n",
              "23268   2.01E+12            Slight    05-01-2019  54.330220   \n",
              "23269   2.01E+12            Slight    05-01-2019  54.260714   \n",
              "...          ...               ...           ...        ...   \n",
              "658928  2.01E+12            Slight    11-12-2022  51.532465   \n",
              "658929  2.01E+12            Slight    12-12-2022  51.512353   \n",
              "658930  2.01E+12            Slight    26-11-2022  51.486706   \n",
              "658931  2.01E+12            Slight    09-10-2022  51.626186   \n",
              "658932  2.01E+12            Slight    13-11-2022  51.654072   \n",
              "\n",
              "             Light_Conditions      District Area  Longitude  \\\n",
              "23265   Darkness - lights lit  Barrow-in-Furness  -3.227114   \n",
              "23266                Daylight     South Lakeland  -2.773521   \n",
              "23267                Daylight     South Lakeland  -2.777121   \n",
              "23268                Daylight     South Lakeland  -2.739167   \n",
              "23269                Daylight     South Lakeland  -2.813915   \n",
              "...                       ...                ...        ...   \n",
              "658928  Darkness - lights lit           Bridgend  -3.667600   \n",
              "658929               Daylight           Bridgend  -3.587602   \n",
              "658930               Daylight            Cardiff  -3.177227   \n",
              "658931               Daylight            Swansea  -3.941213   \n",
              "658932               Daylight  Neath Port Talbot  -3.793642   \n",
              "\n",
              "        Number_of_Casualties  Number_of_Vehicles Road_Surface_Conditions  \\\n",
              "23265                      1                   1                     Dry   \n",
              "23266                      1                   2             Wet or damp   \n",
              "23267                      1                   2             Wet or damp   \n",
              "23268                      1                   1             Wet or damp   \n",
              "23269                      1                   1             Wet or damp   \n",
              "...                      ...                 ...                     ...   \n",
              "658928                     1                   1             Wet or damp   \n",
              "658929                     1                   2             Wet or damp   \n",
              "658930                     1                   1                     Dry   \n",
              "658931                     1                   1                     Dry   \n",
              "658932                     1                   2                     Dry   \n",
              "\n",
              "                 Road_Type Urban_or_Rural_Area  \\\n",
              "23265   Single carriageway               Urban   \n",
              "23266   Single carriageway               Rural   \n",
              "23267   Single carriageway               Rural   \n",
              "23268       One way street               Urban   \n",
              "23269     Dual carriageway               Rural   \n",
              "...                    ...                 ...   \n",
              "658928  Single carriageway               Rural   \n",
              "658929  Single carriageway               Urban   \n",
              "658930  Single carriageway               Urban   \n",
              "658931  Single carriageway               Urban   \n",
              "658932  Single carriageway               Urban   \n",
              "\n",
              "                                Vehicle_Type  \n",
              "23265                                    Car  \n",
              "23266                                    Car  \n",
              "23267                                    Car  \n",
              "23268                                    Car  \n",
              "23269   Bus or coach (17 or more pass seats)  \n",
              "...                                      ...  \n",
              "658928                                   Car  \n",
              "658929                                   Car  \n",
              "658930                                   Car  \n",
              "658931                                   Car  \n",
              "658932                                   Car  \n",
              "\n",
              "[239790 rows x 13 columns]"
            ]
          },
          "execution_count": 26,
          "metadata": {},
          "output_type": "execute_result"
        }
      ],
      "source": [
        "duplicates_in_index = df[df.duplicated(subset='Index', keep=False)]\n",
        "duplicates_in_index"
      ]
    },
    {
      "cell_type": "markdown",
      "metadata": {},
      "source": [
        "Checking the duplicate rows, we can see that although the index is the same, the rest of the rows contain different data. In this case we won't be dropping the duplicated rows."
      ]
    },
    {
      "cell_type": "markdown",
      "metadata": {},
      "source": [
        "### Filter for Birmingham"
      ]
    },
    {
      "cell_type": "code",
      "execution_count": 18,
      "metadata": {},
      "outputs": [
        {
          "data": {
            "application/vnd.microsoft.datawrangler.viewer.v0+json": {
              "columns": [
                {
                  "name": "index",
                  "rawType": "int64",
                  "type": "integer"
                },
                {
                  "name": "Index",
                  "rawType": "object",
                  "type": "string"
                },
                {
                  "name": "Accident_Severity",
                  "rawType": "object",
                  "type": "string"
                },
                {
                  "name": "Accident Date",
                  "rawType": "object",
                  "type": "string"
                },
                {
                  "name": "Latitude",
                  "rawType": "float64",
                  "type": "float"
                },
                {
                  "name": "Light_Conditions",
                  "rawType": "object",
                  "type": "string"
                },
                {
                  "name": "District Area",
                  "rawType": "object",
                  "type": "string"
                },
                {
                  "name": "Longitude",
                  "rawType": "float64",
                  "type": "float"
                },
                {
                  "name": "Number_of_Casualties",
                  "rawType": "int64",
                  "type": "integer"
                },
                {
                  "name": "Number_of_Vehicles",
                  "rawType": "int64",
                  "type": "integer"
                },
                {
                  "name": "Road_Surface_Conditions",
                  "rawType": "object",
                  "type": "string"
                },
                {
                  "name": "Road_Type",
                  "rawType": "object",
                  "type": "string"
                },
                {
                  "name": "Urban_or_Rural_Area",
                  "rawType": "object",
                  "type": "string"
                },
                {
                  "name": "Vehicle_Type",
                  "rawType": "object",
                  "type": "string"
                }
              ],
              "conversionMethod": "pd.DataFrame",
              "ref": "419f6a52-5314-4b92-8ca2-abf74a23531a",
              "rows": [
                [
                  "68519",
                  "200720D003001",
                  "Slight",
                  "02-01-2019",
                  "52.513668",
                  "Darkness - lights lit",
                  "Birmingham",
                  "-1.901975",
                  "1",
                  "2",
                  "Wet or damp",
                  "Dual carriageway",
                  "Urban",
                  "Car"
                ],
                [
                  "68520",
                  "200720D003101",
                  "Slight",
                  "02-01-2019",
                  "52.502396",
                  "Daylight",
                  "Birmingham",
                  "-1.867086",
                  "1",
                  "2",
                  "Wet or damp",
                  "Single carriageway",
                  "Urban",
                  "Car"
                ],
                [
                  "68521",
                  "200720D003802",
                  "Serious",
                  "03-01-2019",
                  "52.563201",
                  "Daylight",
                  "Birmingham",
                  "-1.822793",
                  "1",
                  "1",
                  "Dry",
                  "Single carriageway",
                  "Urban",
                  "Car"
                ],
                [
                  "68522",
                  "200720D005801",
                  "Slight",
                  "02-01-2019",
                  "52.493431",
                  "Daylight",
                  "Birmingham",
                  "-1.818507",
                  "1",
                  "2",
                  "Wet or damp",
                  "Dual carriageway",
                  "Urban",
                  "Car"
                ],
                [
                  "68523",
                  "200720D005901",
                  "Slight",
                  "05-01-2019",
                  "52.510805",
                  "Darkness - lights lit",
                  "Birmingham",
                  "-1.834202",
                  "1",
                  "3",
                  "Dry",
                  "Dual carriageway",
                  "Urban",
                  "Car"
                ]
              ],
              "shape": {
                "columns": 13,
                "rows": 5
              }
            },
            "text/html": [
              "<div>\n",
              "<style scoped>\n",
              "    .dataframe tbody tr th:only-of-type {\n",
              "        vertical-align: middle;\n",
              "    }\n",
              "\n",
              "    .dataframe tbody tr th {\n",
              "        vertical-align: top;\n",
              "    }\n",
              "\n",
              "    .dataframe thead th {\n",
              "        text-align: right;\n",
              "    }\n",
              "</style>\n",
              "<table border=\"1\" class=\"dataframe\">\n",
              "  <thead>\n",
              "    <tr style=\"text-align: right;\">\n",
              "      <th></th>\n",
              "      <th>Index</th>\n",
              "      <th>Accident_Severity</th>\n",
              "      <th>Accident Date</th>\n",
              "      <th>Latitude</th>\n",
              "      <th>Light_Conditions</th>\n",
              "      <th>District Area</th>\n",
              "      <th>Longitude</th>\n",
              "      <th>Number_of_Casualties</th>\n",
              "      <th>Number_of_Vehicles</th>\n",
              "      <th>Road_Surface_Conditions</th>\n",
              "      <th>Road_Type</th>\n",
              "      <th>Urban_or_Rural_Area</th>\n",
              "      <th>Vehicle_Type</th>\n",
              "    </tr>\n",
              "  </thead>\n",
              "  <tbody>\n",
              "    <tr>\n",
              "      <th>68519</th>\n",
              "      <td>200720D003001</td>\n",
              "      <td>Slight</td>\n",
              "      <td>02-01-2019</td>\n",
              "      <td>52.513668</td>\n",
              "      <td>Darkness - lights lit</td>\n",
              "      <td>Birmingham</td>\n",
              "      <td>-1.901975</td>\n",
              "      <td>1</td>\n",
              "      <td>2</td>\n",
              "      <td>Wet or damp</td>\n",
              "      <td>Dual carriageway</td>\n",
              "      <td>Urban</td>\n",
              "      <td>Car</td>\n",
              "    </tr>\n",
              "    <tr>\n",
              "      <th>68520</th>\n",
              "      <td>200720D003101</td>\n",
              "      <td>Slight</td>\n",
              "      <td>02-01-2019</td>\n",
              "      <td>52.502396</td>\n",
              "      <td>Daylight</td>\n",
              "      <td>Birmingham</td>\n",
              "      <td>-1.867086</td>\n",
              "      <td>1</td>\n",
              "      <td>2</td>\n",
              "      <td>Wet or damp</td>\n",
              "      <td>Single carriageway</td>\n",
              "      <td>Urban</td>\n",
              "      <td>Car</td>\n",
              "    </tr>\n",
              "    <tr>\n",
              "      <th>68521</th>\n",
              "      <td>200720D003802</td>\n",
              "      <td>Serious</td>\n",
              "      <td>03-01-2019</td>\n",
              "      <td>52.563201</td>\n",
              "      <td>Daylight</td>\n",
              "      <td>Birmingham</td>\n",
              "      <td>-1.822793</td>\n",
              "      <td>1</td>\n",
              "      <td>1</td>\n",
              "      <td>Dry</td>\n",
              "      <td>Single carriageway</td>\n",
              "      <td>Urban</td>\n",
              "      <td>Car</td>\n",
              "    </tr>\n",
              "    <tr>\n",
              "      <th>68522</th>\n",
              "      <td>200720D005801</td>\n",
              "      <td>Slight</td>\n",
              "      <td>02-01-2019</td>\n",
              "      <td>52.493431</td>\n",
              "      <td>Daylight</td>\n",
              "      <td>Birmingham</td>\n",
              "      <td>-1.818507</td>\n",
              "      <td>1</td>\n",
              "      <td>2</td>\n",
              "      <td>Wet or damp</td>\n",
              "      <td>Dual carriageway</td>\n",
              "      <td>Urban</td>\n",
              "      <td>Car</td>\n",
              "    </tr>\n",
              "    <tr>\n",
              "      <th>68523</th>\n",
              "      <td>200720D005901</td>\n",
              "      <td>Slight</td>\n",
              "      <td>05-01-2019</td>\n",
              "      <td>52.510805</td>\n",
              "      <td>Darkness - lights lit</td>\n",
              "      <td>Birmingham</td>\n",
              "      <td>-1.834202</td>\n",
              "      <td>1</td>\n",
              "      <td>3</td>\n",
              "      <td>Dry</td>\n",
              "      <td>Dual carriageway</td>\n",
              "      <td>Urban</td>\n",
              "      <td>Car</td>\n",
              "    </tr>\n",
              "  </tbody>\n",
              "</table>\n",
              "</div>"
            ],
            "text/plain": [
              "               Index Accident_Severity Accident Date   Latitude  \\\n",
              "68519  200720D003001            Slight    02-01-2019  52.513668   \n",
              "68520  200720D003101            Slight    02-01-2019  52.502396   \n",
              "68521  200720D003802           Serious    03-01-2019  52.563201   \n",
              "68522  200720D005801            Slight    02-01-2019  52.493431   \n",
              "68523  200720D005901            Slight    05-01-2019  52.510805   \n",
              "\n",
              "            Light_Conditions District Area  Longitude  Number_of_Casualties  \\\n",
              "68519  Darkness - lights lit    Birmingham  -1.901975                     1   \n",
              "68520               Daylight    Birmingham  -1.867086                     1   \n",
              "68521               Daylight    Birmingham  -1.822793                     1   \n",
              "68522               Daylight    Birmingham  -1.818507                     1   \n",
              "68523  Darkness - lights lit    Birmingham  -1.834202                     1   \n",
              "\n",
              "       Number_of_Vehicles Road_Surface_Conditions           Road_Type  \\\n",
              "68519                   2             Wet or damp    Dual carriageway   \n",
              "68520                   2             Wet or damp  Single carriageway   \n",
              "68521                   1                     Dry  Single carriageway   \n",
              "68522                   2             Wet or damp    Dual carriageway   \n",
              "68523                   3                     Dry    Dual carriageway   \n",
              "\n",
              "      Urban_or_Rural_Area Vehicle_Type  \n",
              "68519               Urban          Car  \n",
              "68520               Urban          Car  \n",
              "68521               Urban          Car  \n",
              "68522               Urban          Car  \n",
              "68523               Urban          Car  "
            ]
          },
          "execution_count": 18,
          "metadata": {},
          "output_type": "execute_result"
        }
      ],
      "source": [
        "cities = ['Warwick', 'Birmingham', 'Coventry', 'Dudley', 'Sandwell', 'Solihull', 'Walsall', 'Wolverhampton', 'Nuneaton']\n",
        "filtered_df = df[df['District Area'].isin(cities)]\n",
        "filtered_df.head()"
      ]
    },
    {
      "cell_type": "code",
      "execution_count": 19,
      "metadata": {},
      "outputs": [
        {
          "data": {
            "text/plain": [
              "(31511, 13)"
            ]
          },
          "execution_count": 19,
          "metadata": {},
          "output_type": "execute_result"
        }
      ],
      "source": [
        "filtered_df.shape"
      ]
    },
    {
      "cell_type": "code",
      "execution_count": 20,
      "metadata": {},
      "outputs": [
        {
          "data": {
            "text/plain": [
              "Index                       0\n",
              "Accident_Severity           0\n",
              "Accident Date               0\n",
              "Latitude                    0\n",
              "Light_Conditions            0\n",
              "District Area               0\n",
              "Longitude                   0\n",
              "Number_of_Casualties        0\n",
              "Number_of_Vehicles          0\n",
              "Road_Surface_Conditions     0\n",
              "Road_Type                  17\n",
              "Urban_or_Rural_Area         0\n",
              "Vehicle_Type                0\n",
              "dtype: int64"
            ]
          },
          "execution_count": 20,
          "metadata": {},
          "output_type": "execute_result"
        }
      ],
      "source": [
        "filtered_df.isnull().sum()"
      ]
    },
    {
      "cell_type": "markdown",
      "metadata": {},
      "source": [
        "NOTE"
      ]
    },
    {
      "cell_type": "code",
      "execution_count": 21,
      "metadata": {},
      "outputs": [],
      "source": [
        "filtered_df = filtered_df.dropna(subset=['Road_Type'])"
      ]
    },
    {
      "cell_type": "code",
      "execution_count": 22,
      "metadata": {},
      "outputs": [
        {
          "data": {
            "text/plain": [
              "Index                      0\n",
              "Accident_Severity          0\n",
              "Accident Date              0\n",
              "Latitude                   0\n",
              "Light_Conditions           0\n",
              "District Area              0\n",
              "Longitude                  0\n",
              "Number_of_Casualties       0\n",
              "Number_of_Vehicles         0\n",
              "Road_Surface_Conditions    0\n",
              "Road_Type                  0\n",
              "Urban_or_Rural_Area        0\n",
              "Vehicle_Type               0\n",
              "dtype: int64"
            ]
          },
          "execution_count": 22,
          "metadata": {},
          "output_type": "execute_result"
        }
      ],
      "source": [
        "filtered_df.isnull().sum()"
      ]
    },
    {
      "cell_type": "markdown",
      "metadata": {},
      "source": [
        "* You may add as many sections as you want, as long as it supports your project workflow.\n",
        "* All notebook's cells should be run top-down (you can't create a dynamic wherein a given point you need to go back to a previous cell to execute some task, like go back to a previous cell and refresh a variable content)"
      ]
    },
    {
      "cell_type": "markdown",
      "metadata": {},
      "source": [
        "---"
      ]
    },
    {
      "cell_type": "code",
      "execution_count": 23,
      "metadata": {},
      "outputs": [],
      "source": [
        "filtered_df.to_csv(\"filtered_accident_data_set.csv\", index=False)"
      ]
    },
    {
      "cell_type": "markdown",
      "metadata": {
        "id": "ltNetd085qHf"
      },
      "source": [
        "# Push files to Repo"
      ]
    },
    {
      "cell_type": "markdown",
      "metadata": {},
      "source": [
        "* In cases where you don't need to push files to Repo, you may replace this section with \"Conclusions and Next Steps\" and state your conclusions and next steps."
      ]
    }
  ],
  "metadata": {
    "accelerator": "GPU",
    "colab": {
      "name": "Data Practitioner Jupyter Notebook.ipynb",
      "provenance": [],
      "toc_visible": true
    },
    "kernelspec": {
      "display_name": ".venv",
      "language": "python",
      "name": "python3"
    },
    "language_info": {
      "codemirror_mode": {
        "name": "ipython",
        "version": 3
      },
      "file_extension": ".py",
      "mimetype": "text/x-python",
      "name": "python",
      "nbconvert_exporter": "python",
      "pygments_lexer": "ipython3",
      "version": "3.12.8"
    },
    "orig_nbformat": 2
  },
  "nbformat": 4,
  "nbformat_minor": 2
}
