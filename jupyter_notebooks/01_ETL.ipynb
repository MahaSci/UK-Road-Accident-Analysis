{
  "cells": [
    {
      "cell_type": "markdown",
      "metadata": {
        "id": "0aStgWSO0E0E"
      },
      "source": [
        "# **UK ROADS ACCIDENTS ANALYSIS**"
      ]
    },
    {
      "cell_type": "markdown",
      "metadata": {
        "id": "1eLEkw5O0ECa"
      },
      "source": [
        "## Objectives\n",
        "\n",
        "The objective of this Notebook is to analyse road accidents in Birmingham and its surrounding areas and Coventry with its surrounding areas as well.\n",
        "The objectives will be achieved by the following ETL activities.\n",
        "* Fetch data from Kaggle and save it in the a folder.\n",
        "* Preprocess the data.\n",
        "* Clean the data using different methods.\n",
        "* Create a new cleaned file to be added in the right folder\n",
        "\n",
        "## Inputs\n",
        "\n",
        "* Data set:C:\\Users\\nmnko\\Documents\\Hackathon 3 Team 2\\UK-Road-Accident-Analysis\\Data\\accident_data.csv\n",
        "* Libraries to be used:NumPy, Pandas, Matplotlib, Seaborn, Plotly.\n",
        "\n",
        "## Outputs\n",
        "\n",
        "* Cleaned Dataset: C:\\Users\\nmnko\\Documents\\Hackathon 3 Team 2\\UK-Road-Accident-Analysis\\filtered_accident_data_set.csv\n",
        "\n"
      ]
    },
    {
      "cell_type": "markdown",
      "metadata": {
        "id": "9uWZXH9LwoQg"
      },
      "source": [
        "---"
      ]
    },
    {
      "cell_type": "markdown",
      "metadata": {
        "id": "cqP-UeN-z3i2"
      },
      "source": [
        "# Change working directory"
      ]
    },
    {
      "cell_type": "markdown",
      "metadata": {},
      "source": [
        "* We are assuming you will store the notebooks in a subfolder, therefore when running the notebook in the editor, you will need to change the working directory"
      ]
    },
    {
      "cell_type": "markdown",
      "metadata": {
        "id": "aOGIGS-uz3i2"
      },
      "source": [
        "We need to change the working directory from its current folder to its parent folder\n",
        "* We access the current directory with os.getcwd()"
      ]
    },
    {
      "cell_type": "code",
      "execution_count": 1,
      "metadata": {
        "id": "wZfF_j-Bz3i4",
        "outputId": "66943449-1436-4c3d-85c7-b85f9f78349b"
      },
      "outputs": [
        {
          "data": {
            "text/plain": [
              "'c:\\\\Users\\\\nmnko\\\\Documents\\\\Hackathon 3 Team 2\\\\UK-Road-Accident-Analysis\\\\jupyter_notebooks'"
            ]
          },
          "execution_count": 1,
          "metadata": {},
          "output_type": "execute_result"
        }
      ],
      "source": [
        "import os\n",
        "current_dir = os.getcwd()\n",
        "current_dir"
      ]
    },
    {
      "cell_type": "markdown",
      "metadata": {
        "id": "9MWW8E7lz3i7"
      },
      "source": [
        "We want to make the parent of the current directory the new current directory\n",
        "* os.path.dirname() gets the parent directory\n",
        "* os.chir() defines the new current directory"
      ]
    },
    {
      "cell_type": "code",
      "execution_count": 2,
      "metadata": {
        "id": "TwHsQRWjz3i9",
        "outputId": "86849db3-cd2f-4cc5-ebb8-2d0caafa1a2c"
      },
      "outputs": [
        {
          "name": "stdout",
          "output_type": "stream",
          "text": [
            "You set a new current directory\n"
          ]
        }
      ],
      "source": [
        "os.chdir(os.path.dirname(current_dir))\n",
        "print(\"You set a new current directory\")"
      ]
    },
    {
      "cell_type": "markdown",
      "metadata": {
        "id": "M_xPk_Ijz3i-"
      },
      "source": [
        "Confirm the new current directory"
      ]
    },
    {
      "cell_type": "code",
      "execution_count": 3,
      "metadata": {
        "id": "vz3S-_kjz3jA",
        "outputId": "00b79ae4-75d0-4a96-d193-ac9ef9847ea2"
      },
      "outputs": [
        {
          "data": {
            "text/plain": [
              "'c:\\\\Users\\\\nmnko\\\\Documents\\\\Hackathon 3 Team 2\\\\UK-Road-Accident-Analysis'"
            ]
          },
          "execution_count": 3,
          "metadata": {},
          "output_type": "execute_result"
        }
      ],
      "source": [
        "current_dir = os.getcwd()\n",
        "current_dir"
      ]
    },
    {
      "cell_type": "markdown",
      "metadata": {},
      "source": [
        "# Section 1: Data Extraction, Transformation & Loading (ETL)"
      ]
    },
    {
      "cell_type": "markdown",
      "metadata": {},
      "source": [
        "### Importing libraries to be used"
      ]
    },
    {
      "cell_type": "code",
      "execution_count": 4,
      "metadata": {},
      "outputs": [],
      "source": [
        "import pandas as pd \n",
        "import numpy as np\n",
        "import matplotlib.pyplot as plt\n",
        "import seaborn as sns\n",
        "sns.set_style('whitegrid')\n",
        "import plotly.express as px\n"
      ]
    },
    {
      "cell_type": "markdown",
      "metadata": {},
      "source": [
        "### Extract/Read the dataset"
      ]
    },
    {
      "cell_type": "code",
      "execution_count": 5,
      "metadata": {},
      "outputs": [],
      "source": [
        "file_path = \"Data/accident_data.csv\"  # file path \n",
        "df = pd.read_csv(file_path) "
      ]
    },
    {
      "cell_type": "markdown",
      "metadata": {},
      "source": [
        "### Checking the top 5 rows and the number of columns of the data set to have an overview of the data frame"
      ]
    },
    {
      "cell_type": "code",
      "execution_count": 6,
      "metadata": {},
      "outputs": [
        {
          "data": {
            "text/html": [
              "<div>\n",
              "<style scoped>\n",
              "    .dataframe tbody tr th:only-of-type {\n",
              "        vertical-align: middle;\n",
              "    }\n",
              "\n",
              "    .dataframe tbody tr th {\n",
              "        vertical-align: top;\n",
              "    }\n",
              "\n",
              "    .dataframe thead th {\n",
              "        text-align: right;\n",
              "    }\n",
              "</style>\n",
              "<table border=\"1\" class=\"dataframe\">\n",
              "  <thead>\n",
              "    <tr style=\"text-align: right;\">\n",
              "      <th></th>\n",
              "      <th>Index</th>\n",
              "      <th>Accident_Severity</th>\n",
              "      <th>Accident Date</th>\n",
              "      <th>Latitude</th>\n",
              "      <th>Light_Conditions</th>\n",
              "      <th>District Area</th>\n",
              "      <th>Longitude</th>\n",
              "      <th>Number_of_Casualties</th>\n",
              "      <th>Number_of_Vehicles</th>\n",
              "      <th>Road_Surface_Conditions</th>\n",
              "      <th>Road_Type</th>\n",
              "      <th>Urban_or_Rural_Area</th>\n",
              "      <th>Weather_Conditions</th>\n",
              "      <th>Vehicle_Type</th>\n",
              "    </tr>\n",
              "  </thead>\n",
              "  <tbody>\n",
              "    <tr>\n",
              "      <th>0</th>\n",
              "      <td>200701BS64157</td>\n",
              "      <td>Serious</td>\n",
              "      <td>05-06-2019</td>\n",
              "      <td>51.506187</td>\n",
              "      <td>Darkness - lights lit</td>\n",
              "      <td>Kensington and Chelsea</td>\n",
              "      <td>-0.209082</td>\n",
              "      <td>1</td>\n",
              "      <td>2</td>\n",
              "      <td>Dry</td>\n",
              "      <td>Single carriageway</td>\n",
              "      <td>Urban</td>\n",
              "      <td>Fine no high winds</td>\n",
              "      <td>Car</td>\n",
              "    </tr>\n",
              "    <tr>\n",
              "      <th>1</th>\n",
              "      <td>200701BS65737</td>\n",
              "      <td>Serious</td>\n",
              "      <td>02-07-2019</td>\n",
              "      <td>51.495029</td>\n",
              "      <td>Daylight</td>\n",
              "      <td>Kensington and Chelsea</td>\n",
              "      <td>-0.173647</td>\n",
              "      <td>1</td>\n",
              "      <td>2</td>\n",
              "      <td>Wet or damp</td>\n",
              "      <td>Single carriageway</td>\n",
              "      <td>Urban</td>\n",
              "      <td>Raining no high winds</td>\n",
              "      <td>Car</td>\n",
              "    </tr>\n",
              "    <tr>\n",
              "      <th>2</th>\n",
              "      <td>200701BS66127</td>\n",
              "      <td>Serious</td>\n",
              "      <td>26-08-2019</td>\n",
              "      <td>51.517715</td>\n",
              "      <td>Darkness - lighting unknown</td>\n",
              "      <td>Kensington and Chelsea</td>\n",
              "      <td>-0.210215</td>\n",
              "      <td>1</td>\n",
              "      <td>3</td>\n",
              "      <td>Dry</td>\n",
              "      <td>NaN</td>\n",
              "      <td>Urban</td>\n",
              "      <td>NaN</td>\n",
              "      <td>Taxi/Private hire car</td>\n",
              "    </tr>\n",
              "    <tr>\n",
              "      <th>3</th>\n",
              "      <td>200701BS66128</td>\n",
              "      <td>Serious</td>\n",
              "      <td>16-08-2019</td>\n",
              "      <td>51.495478</td>\n",
              "      <td>Daylight</td>\n",
              "      <td>Kensington and Chelsea</td>\n",
              "      <td>-0.202731</td>\n",
              "      <td>1</td>\n",
              "      <td>4</td>\n",
              "      <td>Dry</td>\n",
              "      <td>Single carriageway</td>\n",
              "      <td>Urban</td>\n",
              "      <td>Fine no high winds</td>\n",
              "      <td>Bus or coach (17 or more pass seats)</td>\n",
              "    </tr>\n",
              "    <tr>\n",
              "      <th>4</th>\n",
              "      <td>200701BS66837</td>\n",
              "      <td>Slight</td>\n",
              "      <td>03-09-2019</td>\n",
              "      <td>51.488576</td>\n",
              "      <td>Darkness - lights lit</td>\n",
              "      <td>Kensington and Chelsea</td>\n",
              "      <td>-0.192487</td>\n",
              "      <td>1</td>\n",
              "      <td>2</td>\n",
              "      <td>Dry</td>\n",
              "      <td>NaN</td>\n",
              "      <td>Urban</td>\n",
              "      <td>NaN</td>\n",
              "      <td>Other vehicle</td>\n",
              "    </tr>\n",
              "  </tbody>\n",
              "</table>\n",
              "</div>"
            ],
            "text/plain": [
              "           Index Accident_Severity Accident Date   Latitude  \\\n",
              "0  200701BS64157           Serious    05-06-2019  51.506187   \n",
              "1  200701BS65737           Serious    02-07-2019  51.495029   \n",
              "2  200701BS66127           Serious    26-08-2019  51.517715   \n",
              "3  200701BS66128           Serious    16-08-2019  51.495478   \n",
              "4  200701BS66837            Slight    03-09-2019  51.488576   \n",
              "\n",
              "              Light_Conditions           District Area  Longitude  \\\n",
              "0        Darkness - lights lit  Kensington and Chelsea  -0.209082   \n",
              "1                     Daylight  Kensington and Chelsea  -0.173647   \n",
              "2  Darkness - lighting unknown  Kensington and Chelsea  -0.210215   \n",
              "3                     Daylight  Kensington and Chelsea  -0.202731   \n",
              "4        Darkness - lights lit  Kensington and Chelsea  -0.192487   \n",
              "\n",
              "   Number_of_Casualties  Number_of_Vehicles Road_Surface_Conditions  \\\n",
              "0                     1                   2                     Dry   \n",
              "1                     1                   2             Wet or damp   \n",
              "2                     1                   3                     Dry   \n",
              "3                     1                   4                     Dry   \n",
              "4                     1                   2                     Dry   \n",
              "\n",
              "            Road_Type Urban_or_Rural_Area     Weather_Conditions  \\\n",
              "0  Single carriageway               Urban     Fine no high winds   \n",
              "1  Single carriageway               Urban  Raining no high winds   \n",
              "2                 NaN               Urban                    NaN   \n",
              "3  Single carriageway               Urban     Fine no high winds   \n",
              "4                 NaN               Urban                    NaN   \n",
              "\n",
              "                           Vehicle_Type  \n",
              "0                                   Car  \n",
              "1                                   Car  \n",
              "2                 Taxi/Private hire car  \n",
              "3  Bus or coach (17 or more pass seats)  \n",
              "4                         Other vehicle  "
            ]
          },
          "execution_count": 6,
          "metadata": {},
          "output_type": "execute_result"
        }
      ],
      "source": [
        "df.head()"
      ]
    },
    {
      "cell_type": "markdown",
      "metadata": {},
      "source": [
        "### Number of rows and columns"
      ]
    },
    {
      "cell_type": "code",
      "execution_count": 11,
      "metadata": {},
      "outputs": [
        {
          "data": {
            "text/plain": [
              "(660679, 14)"
            ]
          },
          "execution_count": 11,
          "metadata": {},
          "output_type": "execute_result"
        }
      ],
      "source": [
        "df.shape"
      ]
    },
    {
      "cell_type": "markdown",
      "metadata": {},
      "source": [
        "### Data set generic information checking\n",
        "\n",
        "* column names\n",
        "* datatypes of columns\n",
        "* number of entries and the memory space used through"
      ]
    },
    {
      "cell_type": "code",
      "execution_count": 12,
      "metadata": {},
      "outputs": [
        {
          "name": "stdout",
          "output_type": "stream",
          "text": [
            "<class 'pandas.core.frame.DataFrame'>\n",
            "RangeIndex: 660679 entries, 0 to 660678\n",
            "Data columns (total 14 columns):\n",
            " #   Column                   Non-Null Count   Dtype  \n",
            "---  ------                   --------------   -----  \n",
            " 0   Index                    660679 non-null  object \n",
            " 1   Accident_Severity        660679 non-null  object \n",
            " 2   Accident Date            660679 non-null  object \n",
            " 3   Latitude                 660654 non-null  float64\n",
            " 4   Light_Conditions         660679 non-null  object \n",
            " 5   District Area            660679 non-null  object \n",
            " 6   Longitude                660653 non-null  float64\n",
            " 7   Number_of_Casualties     660679 non-null  int64  \n",
            " 8   Number_of_Vehicles       660679 non-null  int64  \n",
            " 9   Road_Surface_Conditions  659953 non-null  object \n",
            " 10  Road_Type                656159 non-null  object \n",
            " 11  Urban_or_Rural_Area      660664 non-null  object \n",
            " 12  Weather_Conditions       646551 non-null  object \n",
            " 13  Vehicle_Type             660679 non-null  object \n",
            "dtypes: float64(2), int64(2), object(10)\n",
            "memory usage: 70.6+ MB\n"
          ]
        }
      ],
      "source": [
        "df.info()"
      ]
    },
    {
      "cell_type": "code",
      "execution_count": 13,
      "metadata": {},
      "outputs": [
        {
          "data": {
            "text/plain": [
              "Index                          0\n",
              "Accident_Severity              0\n",
              "Accident Date                  0\n",
              "Latitude                      25\n",
              "Light_Conditions               0\n",
              "District Area                  0\n",
              "Longitude                     26\n",
              "Number_of_Casualties           0\n",
              "Number_of_Vehicles             0\n",
              "Road_Surface_Conditions      726\n",
              "Road_Type                   4520\n",
              "Urban_or_Rural_Area           15\n",
              "Weather_Conditions         14128\n",
              "Vehicle_Type                   0\n",
              "dtype: int64"
            ]
          },
          "execution_count": 13,
          "metadata": {},
          "output_type": "execute_result"
        }
      ],
      "source": [
        "df.isnull().sum()"
      ]
    },
    {
      "cell_type": "code",
      "execution_count": 16,
      "metadata": {},
      "outputs": [
        {
          "data": {
            "text/html": [
              "<div>\n",
              "<style scoped>\n",
              "    .dataframe tbody tr th:only-of-type {\n",
              "        vertical-align: middle;\n",
              "    }\n",
              "\n",
              "    .dataframe tbody tr th {\n",
              "        vertical-align: top;\n",
              "    }\n",
              "\n",
              "    .dataframe thead th {\n",
              "        text-align: right;\n",
              "    }\n",
              "</style>\n",
              "<table border=\"1\" class=\"dataframe\">\n",
              "  <thead>\n",
              "    <tr style=\"text-align: right;\">\n",
              "      <th></th>\n",
              "      <th>Index</th>\n",
              "      <th>Accident_Severity</th>\n",
              "      <th>Accident Date</th>\n",
              "      <th>Latitude</th>\n",
              "      <th>Light_Conditions</th>\n",
              "      <th>District Area</th>\n",
              "      <th>Longitude</th>\n",
              "      <th>Number_of_Casualties</th>\n",
              "      <th>Number_of_Vehicles</th>\n",
              "      <th>Road_Surface_Conditions</th>\n",
              "      <th>Road_Type</th>\n",
              "      <th>Urban_or_Rural_Area</th>\n",
              "      <th>Vehicle_Type</th>\n",
              "    </tr>\n",
              "  </thead>\n",
              "  <tbody>\n",
              "    <tr>\n",
              "      <th>0</th>\n",
              "      <td>200701BS64157</td>\n",
              "      <td>Serious</td>\n",
              "      <td>05-06-2019</td>\n",
              "      <td>51.506187</td>\n",
              "      <td>Darkness - lights lit</td>\n",
              "      <td>Kensington and Chelsea</td>\n",
              "      <td>-0.209082</td>\n",
              "      <td>1</td>\n",
              "      <td>2</td>\n",
              "      <td>Dry</td>\n",
              "      <td>Single carriageway</td>\n",
              "      <td>Urban</td>\n",
              "      <td>Car</td>\n",
              "    </tr>\n",
              "    <tr>\n",
              "      <th>1</th>\n",
              "      <td>200701BS65737</td>\n",
              "      <td>Serious</td>\n",
              "      <td>02-07-2019</td>\n",
              "      <td>51.495029</td>\n",
              "      <td>Daylight</td>\n",
              "      <td>Kensington and Chelsea</td>\n",
              "      <td>-0.173647</td>\n",
              "      <td>1</td>\n",
              "      <td>2</td>\n",
              "      <td>Wet or damp</td>\n",
              "      <td>Single carriageway</td>\n",
              "      <td>Urban</td>\n",
              "      <td>Car</td>\n",
              "    </tr>\n",
              "    <tr>\n",
              "      <th>2</th>\n",
              "      <td>200701BS66127</td>\n",
              "      <td>Serious</td>\n",
              "      <td>26-08-2019</td>\n",
              "      <td>51.517715</td>\n",
              "      <td>Darkness - lighting unknown</td>\n",
              "      <td>Kensington and Chelsea</td>\n",
              "      <td>-0.210215</td>\n",
              "      <td>1</td>\n",
              "      <td>3</td>\n",
              "      <td>Dry</td>\n",
              "      <td>NaN</td>\n",
              "      <td>Urban</td>\n",
              "      <td>Taxi/Private hire car</td>\n",
              "    </tr>\n",
              "    <tr>\n",
              "      <th>3</th>\n",
              "      <td>200701BS66128</td>\n",
              "      <td>Serious</td>\n",
              "      <td>16-08-2019</td>\n",
              "      <td>51.495478</td>\n",
              "      <td>Daylight</td>\n",
              "      <td>Kensington and Chelsea</td>\n",
              "      <td>-0.202731</td>\n",
              "      <td>1</td>\n",
              "      <td>4</td>\n",
              "      <td>Dry</td>\n",
              "      <td>Single carriageway</td>\n",
              "      <td>Urban</td>\n",
              "      <td>Bus or coach (17 or more pass seats)</td>\n",
              "    </tr>\n",
              "    <tr>\n",
              "      <th>4</th>\n",
              "      <td>200701BS66837</td>\n",
              "      <td>Slight</td>\n",
              "      <td>03-09-2019</td>\n",
              "      <td>51.488576</td>\n",
              "      <td>Darkness - lights lit</td>\n",
              "      <td>Kensington and Chelsea</td>\n",
              "      <td>-0.192487</td>\n",
              "      <td>1</td>\n",
              "      <td>2</td>\n",
              "      <td>Dry</td>\n",
              "      <td>NaN</td>\n",
              "      <td>Urban</td>\n",
              "      <td>Other vehicle</td>\n",
              "    </tr>\n",
              "  </tbody>\n",
              "</table>\n",
              "</div>"
            ],
            "text/plain": [
              "           Index Accident_Severity Accident Date   Latitude  \\\n",
              "0  200701BS64157           Serious    05-06-2019  51.506187   \n",
              "1  200701BS65737           Serious    02-07-2019  51.495029   \n",
              "2  200701BS66127           Serious    26-08-2019  51.517715   \n",
              "3  200701BS66128           Serious    16-08-2019  51.495478   \n",
              "4  200701BS66837            Slight    03-09-2019  51.488576   \n",
              "\n",
              "              Light_Conditions           District Area  Longitude  \\\n",
              "0        Darkness - lights lit  Kensington and Chelsea  -0.209082   \n",
              "1                     Daylight  Kensington and Chelsea  -0.173647   \n",
              "2  Darkness - lighting unknown  Kensington and Chelsea  -0.210215   \n",
              "3                     Daylight  Kensington and Chelsea  -0.202731   \n",
              "4        Darkness - lights lit  Kensington and Chelsea  -0.192487   \n",
              "\n",
              "   Number_of_Casualties  Number_of_Vehicles Road_Surface_Conditions  \\\n",
              "0                     1                   2                     Dry   \n",
              "1                     1                   2             Wet or damp   \n",
              "2                     1                   3                     Dry   \n",
              "3                     1                   4                     Dry   \n",
              "4                     1                   2                     Dry   \n",
              "\n",
              "            Road_Type Urban_or_Rural_Area  \\\n",
              "0  Single carriageway               Urban   \n",
              "1  Single carriageway               Urban   \n",
              "2                 NaN               Urban   \n",
              "3  Single carriageway               Urban   \n",
              "4                 NaN               Urban   \n",
              "\n",
              "                           Vehicle_Type  \n",
              "0                                   Car  \n",
              "1                                   Car  \n",
              "2                 Taxi/Private hire car  \n",
              "3  Bus or coach (17 or more pass seats)  \n",
              "4                         Other vehicle  "
            ]
          },
          "execution_count": 16,
          "metadata": {},
          "output_type": "execute_result"
        }
      ],
      "source": [
        "df.drop(columns=['Weather_Conditions'], inplace=True)\n",
        "df.head()"
      ]
    },
    {
      "cell_type": "markdown",
      "metadata": {},
      "source": [
        "---"
      ]
    },
    {
      "cell_type": "code",
      "execution_count": 18,
      "metadata": {},
      "outputs": [
        {
          "data": {
            "text/plain": [
              "(660679, 13)"
            ]
          },
          "execution_count": 18,
          "metadata": {},
          "output_type": "execute_result"
        }
      ],
      "source": [
        "df.shape"
      ]
    },
    {
      "cell_type": "code",
      "execution_count": 17,
      "metadata": {},
      "outputs": [
        {
          "data": {
            "text/plain": [
              "Index                         0\n",
              "Accident_Severity             0\n",
              "Accident Date                 0\n",
              "Latitude                     25\n",
              "Light_Conditions              0\n",
              "District Area                 0\n",
              "Longitude                    26\n",
              "Number_of_Casualties          0\n",
              "Number_of_Vehicles            0\n",
              "Road_Surface_Conditions     726\n",
              "Road_Type                  4520\n",
              "Urban_or_Rural_Area          15\n",
              "Vehicle_Type                  0\n",
              "dtype: int64"
            ]
          },
          "execution_count": 17,
          "metadata": {},
          "output_type": "execute_result"
        }
      ],
      "source": [
        "df.isnull().sum()"
      ]
    },
    {
      "cell_type": "markdown",
      "metadata": {},
      "source": [
        "### Dropping Urban_or_Rural_Area variable"
      ]
    },
    {
      "cell_type": "code",
      "execution_count": 19,
      "metadata": {},
      "outputs": [
        {
          "data": {
            "text/html": [
              "<div>\n",
              "<style scoped>\n",
              "    .dataframe tbody tr th:only-of-type {\n",
              "        vertical-align: middle;\n",
              "    }\n",
              "\n",
              "    .dataframe tbody tr th {\n",
              "        vertical-align: top;\n",
              "    }\n",
              "\n",
              "    .dataframe thead th {\n",
              "        text-align: right;\n",
              "    }\n",
              "</style>\n",
              "<table border=\"1\" class=\"dataframe\">\n",
              "  <thead>\n",
              "    <tr style=\"text-align: right;\">\n",
              "      <th></th>\n",
              "      <th>Index</th>\n",
              "      <th>Accident_Severity</th>\n",
              "      <th>Accident Date</th>\n",
              "      <th>Latitude</th>\n",
              "      <th>Light_Conditions</th>\n",
              "      <th>District Area</th>\n",
              "      <th>Longitude</th>\n",
              "      <th>Number_of_Casualties</th>\n",
              "      <th>Number_of_Vehicles</th>\n",
              "      <th>Road_Surface_Conditions</th>\n",
              "      <th>Road_Type</th>\n",
              "      <th>Vehicle_Type</th>\n",
              "    </tr>\n",
              "  </thead>\n",
              "  <tbody>\n",
              "    <tr>\n",
              "      <th>0</th>\n",
              "      <td>200701BS64157</td>\n",
              "      <td>Serious</td>\n",
              "      <td>05-06-2019</td>\n",
              "      <td>51.506187</td>\n",
              "      <td>Darkness - lights lit</td>\n",
              "      <td>Kensington and Chelsea</td>\n",
              "      <td>-0.209082</td>\n",
              "      <td>1</td>\n",
              "      <td>2</td>\n",
              "      <td>Dry</td>\n",
              "      <td>Single carriageway</td>\n",
              "      <td>Car</td>\n",
              "    </tr>\n",
              "    <tr>\n",
              "      <th>1</th>\n",
              "      <td>200701BS65737</td>\n",
              "      <td>Serious</td>\n",
              "      <td>02-07-2019</td>\n",
              "      <td>51.495029</td>\n",
              "      <td>Daylight</td>\n",
              "      <td>Kensington and Chelsea</td>\n",
              "      <td>-0.173647</td>\n",
              "      <td>1</td>\n",
              "      <td>2</td>\n",
              "      <td>Wet or damp</td>\n",
              "      <td>Single carriageway</td>\n",
              "      <td>Car</td>\n",
              "    </tr>\n",
              "    <tr>\n",
              "      <th>2</th>\n",
              "      <td>200701BS66127</td>\n",
              "      <td>Serious</td>\n",
              "      <td>26-08-2019</td>\n",
              "      <td>51.517715</td>\n",
              "      <td>Darkness - lighting unknown</td>\n",
              "      <td>Kensington and Chelsea</td>\n",
              "      <td>-0.210215</td>\n",
              "      <td>1</td>\n",
              "      <td>3</td>\n",
              "      <td>Dry</td>\n",
              "      <td>NaN</td>\n",
              "      <td>Taxi/Private hire car</td>\n",
              "    </tr>\n",
              "    <tr>\n",
              "      <th>3</th>\n",
              "      <td>200701BS66128</td>\n",
              "      <td>Serious</td>\n",
              "      <td>16-08-2019</td>\n",
              "      <td>51.495478</td>\n",
              "      <td>Daylight</td>\n",
              "      <td>Kensington and Chelsea</td>\n",
              "      <td>-0.202731</td>\n",
              "      <td>1</td>\n",
              "      <td>4</td>\n",
              "      <td>Dry</td>\n",
              "      <td>Single carriageway</td>\n",
              "      <td>Bus or coach (17 or more pass seats)</td>\n",
              "    </tr>\n",
              "    <tr>\n",
              "      <th>4</th>\n",
              "      <td>200701BS66837</td>\n",
              "      <td>Slight</td>\n",
              "      <td>03-09-2019</td>\n",
              "      <td>51.488576</td>\n",
              "      <td>Darkness - lights lit</td>\n",
              "      <td>Kensington and Chelsea</td>\n",
              "      <td>-0.192487</td>\n",
              "      <td>1</td>\n",
              "      <td>2</td>\n",
              "      <td>Dry</td>\n",
              "      <td>NaN</td>\n",
              "      <td>Other vehicle</td>\n",
              "    </tr>\n",
              "    <tr>\n",
              "      <th>...</th>\n",
              "      <td>...</td>\n",
              "      <td>...</td>\n",
              "      <td>...</td>\n",
              "      <td>...</td>\n",
              "      <td>...</td>\n",
              "      <td>...</td>\n",
              "      <td>...</td>\n",
              "      <td>...</td>\n",
              "      <td>...</td>\n",
              "      <td>...</td>\n",
              "      <td>...</td>\n",
              "      <td>...</td>\n",
              "    </tr>\n",
              "    <tr>\n",
              "      <th>660674</th>\n",
              "      <td>201091NM01760</td>\n",
              "      <td>Slight</td>\n",
              "      <td>18-02-2022</td>\n",
              "      <td>57.374005</td>\n",
              "      <td>Daylight</td>\n",
              "      <td>Highland</td>\n",
              "      <td>-3.467828</td>\n",
              "      <td>2</td>\n",
              "      <td>1</td>\n",
              "      <td>Dry</td>\n",
              "      <td>Single carriageway</td>\n",
              "      <td>Car</td>\n",
              "    </tr>\n",
              "    <tr>\n",
              "      <th>660675</th>\n",
              "      <td>201091NM01881</td>\n",
              "      <td>Slight</td>\n",
              "      <td>21-02-2022</td>\n",
              "      <td>57.232273</td>\n",
              "      <td>Darkness - no lighting</td>\n",
              "      <td>Highland</td>\n",
              "      <td>-3.809281</td>\n",
              "      <td>1</td>\n",
              "      <td>1</td>\n",
              "      <td>Frost or ice</td>\n",
              "      <td>Single carriageway</td>\n",
              "      <td>Car</td>\n",
              "    </tr>\n",
              "    <tr>\n",
              "      <th>660676</th>\n",
              "      <td>201091NM01935</td>\n",
              "      <td>Slight</td>\n",
              "      <td>23-02-2022</td>\n",
              "      <td>57.585044</td>\n",
              "      <td>Daylight</td>\n",
              "      <td>Highland</td>\n",
              "      <td>-3.862727</td>\n",
              "      <td>1</td>\n",
              "      <td>3</td>\n",
              "      <td>Frost or ice</td>\n",
              "      <td>Single carriageway</td>\n",
              "      <td>Car</td>\n",
              "    </tr>\n",
              "    <tr>\n",
              "      <th>660677</th>\n",
              "      <td>201091NM01964</td>\n",
              "      <td>Serious</td>\n",
              "      <td>23-02-2022</td>\n",
              "      <td>57.214898</td>\n",
              "      <td>Darkness - no lighting</td>\n",
              "      <td>Highland</td>\n",
              "      <td>-3.823997</td>\n",
              "      <td>1</td>\n",
              "      <td>2</td>\n",
              "      <td>Wet or damp</td>\n",
              "      <td>Single carriageway</td>\n",
              "      <td>Motorcycle over 500cc</td>\n",
              "    </tr>\n",
              "    <tr>\n",
              "      <th>660678</th>\n",
              "      <td>201091NM02142</td>\n",
              "      <td>Serious</td>\n",
              "      <td>28-02-2022</td>\n",
              "      <td>57.575210</td>\n",
              "      <td>Daylight</td>\n",
              "      <td>Highland</td>\n",
              "      <td>-3.895673</td>\n",
              "      <td>1</td>\n",
              "      <td>1</td>\n",
              "      <td>Wet or damp</td>\n",
              "      <td>Dual carriageway</td>\n",
              "      <td>Car</td>\n",
              "    </tr>\n",
              "  </tbody>\n",
              "</table>\n",
              "<p>660679 rows × 12 columns</p>\n",
              "</div>"
            ],
            "text/plain": [
              "                Index Accident_Severity Accident Date   Latitude  \\\n",
              "0       200701BS64157           Serious    05-06-2019  51.506187   \n",
              "1       200701BS65737           Serious    02-07-2019  51.495029   \n",
              "2       200701BS66127           Serious    26-08-2019  51.517715   \n",
              "3       200701BS66128           Serious    16-08-2019  51.495478   \n",
              "4       200701BS66837            Slight    03-09-2019  51.488576   \n",
              "...               ...               ...           ...        ...   \n",
              "660674  201091NM01760            Slight    18-02-2022  57.374005   \n",
              "660675  201091NM01881            Slight    21-02-2022  57.232273   \n",
              "660676  201091NM01935            Slight    23-02-2022  57.585044   \n",
              "660677  201091NM01964           Serious    23-02-2022  57.214898   \n",
              "660678  201091NM02142           Serious    28-02-2022  57.575210   \n",
              "\n",
              "                   Light_Conditions           District Area  Longitude  \\\n",
              "0             Darkness - lights lit  Kensington and Chelsea  -0.209082   \n",
              "1                          Daylight  Kensington and Chelsea  -0.173647   \n",
              "2       Darkness - lighting unknown  Kensington and Chelsea  -0.210215   \n",
              "3                          Daylight  Kensington and Chelsea  -0.202731   \n",
              "4             Darkness - lights lit  Kensington and Chelsea  -0.192487   \n",
              "...                             ...                     ...        ...   \n",
              "660674                     Daylight                Highland  -3.467828   \n",
              "660675       Darkness - no lighting                Highland  -3.809281   \n",
              "660676                     Daylight                Highland  -3.862727   \n",
              "660677       Darkness - no lighting                Highland  -3.823997   \n",
              "660678                     Daylight                Highland  -3.895673   \n",
              "\n",
              "        Number_of_Casualties  Number_of_Vehicles Road_Surface_Conditions  \\\n",
              "0                          1                   2                     Dry   \n",
              "1                          1                   2             Wet or damp   \n",
              "2                          1                   3                     Dry   \n",
              "3                          1                   4                     Dry   \n",
              "4                          1                   2                     Dry   \n",
              "...                      ...                 ...                     ...   \n",
              "660674                     2                   1                     Dry   \n",
              "660675                     1                   1            Frost or ice   \n",
              "660676                     1                   3            Frost or ice   \n",
              "660677                     1                   2             Wet or damp   \n",
              "660678                     1                   1             Wet or damp   \n",
              "\n",
              "                 Road_Type                          Vehicle_Type  \n",
              "0       Single carriageway                                   Car  \n",
              "1       Single carriageway                                   Car  \n",
              "2                      NaN                 Taxi/Private hire car  \n",
              "3       Single carriageway  Bus or coach (17 or more pass seats)  \n",
              "4                      NaN                         Other vehicle  \n",
              "...                    ...                                   ...  \n",
              "660674  Single carriageway                                   Car  \n",
              "660675  Single carriageway                                   Car  \n",
              "660676  Single carriageway                                   Car  \n",
              "660677  Single carriageway                 Motorcycle over 500cc  \n",
              "660678    Dual carriageway                                   Car  \n",
              "\n",
              "[660679 rows x 12 columns]"
            ]
          },
          "execution_count": 19,
          "metadata": {},
          "output_type": "execute_result"
        }
      ],
      "source": [
        "df.drop(columns=['Urban_or_Rural_Area'], inplace=False)"
      ]
    },
    {
      "cell_type": "code",
      "execution_count": null,
      "metadata": {},
      "outputs": [
        {
          "data": {
            "text/plain": [
              "(660679, 13)"
            ]
          },
          "execution_count": 21,
          "metadata": {},
          "output_type": "execute_result"
        }
      ],
      "source": [
        "df.shape"
      ]
    },
    {
      "cell_type": "code",
      "execution_count": null,
      "metadata": {},
      "outputs": [],
      "source": [
        "df.isnull().sum()"
      ]
    },
    {
      "cell_type": "markdown",
      "metadata": {},
      "source": [
        "### Check for duplicates"
      ]
    },
    {
      "cell_type": "code",
      "execution_count": 20,
      "metadata": {},
      "outputs": [
        {
          "name": "stdout",
          "output_type": "stream",
          "text": [
            "Duplicate entries found: True .\n"
          ]
        }
      ],
      "source": [
        "duplicate_check = df.duplicated().any()\n",
        "print('Duplicate entries found:', duplicate_check,'.')"
      ]
    },
    {
      "cell_type": "markdown",
      "metadata": {},
      "source": [
        "### Filter for Birmingham"
      ]
    },
    {
      "cell_type": "code",
      "execution_count": 25,
      "metadata": {},
      "outputs": [
        {
          "data": {
            "text/html": [
              "<div>\n",
              "<style scoped>\n",
              "    .dataframe tbody tr th:only-of-type {\n",
              "        vertical-align: middle;\n",
              "    }\n",
              "\n",
              "    .dataframe tbody tr th {\n",
              "        vertical-align: top;\n",
              "    }\n",
              "\n",
              "    .dataframe thead th {\n",
              "        text-align: right;\n",
              "    }\n",
              "</style>\n",
              "<table border=\"1\" class=\"dataframe\">\n",
              "  <thead>\n",
              "    <tr style=\"text-align: right;\">\n",
              "      <th></th>\n",
              "      <th>Index</th>\n",
              "      <th>Accident_Severity</th>\n",
              "      <th>Accident Date</th>\n",
              "      <th>Latitude</th>\n",
              "      <th>Light_Conditions</th>\n",
              "      <th>District Area</th>\n",
              "      <th>Longitude</th>\n",
              "      <th>Number_of_Casualties</th>\n",
              "      <th>Number_of_Vehicles</th>\n",
              "      <th>Road_Surface_Conditions</th>\n",
              "      <th>Road_Type</th>\n",
              "      <th>Urban_or_Rural_Area</th>\n",
              "      <th>Vehicle_Type</th>\n",
              "    </tr>\n",
              "  </thead>\n",
              "  <tbody>\n",
              "    <tr>\n",
              "      <th>68519</th>\n",
              "      <td>200720D003001</td>\n",
              "      <td>Slight</td>\n",
              "      <td>02-01-2019</td>\n",
              "      <td>52.513668</td>\n",
              "      <td>Darkness - lights lit</td>\n",
              "      <td>Birmingham</td>\n",
              "      <td>-1.901975</td>\n",
              "      <td>1</td>\n",
              "      <td>2</td>\n",
              "      <td>Wet or damp</td>\n",
              "      <td>Dual carriageway</td>\n",
              "      <td>Urban</td>\n",
              "      <td>Car</td>\n",
              "    </tr>\n",
              "    <tr>\n",
              "      <th>68520</th>\n",
              "      <td>200720D003101</td>\n",
              "      <td>Slight</td>\n",
              "      <td>02-01-2019</td>\n",
              "      <td>52.502396</td>\n",
              "      <td>Daylight</td>\n",
              "      <td>Birmingham</td>\n",
              "      <td>-1.867086</td>\n",
              "      <td>1</td>\n",
              "      <td>2</td>\n",
              "      <td>Wet or damp</td>\n",
              "      <td>Single carriageway</td>\n",
              "      <td>Urban</td>\n",
              "      <td>Car</td>\n",
              "    </tr>\n",
              "    <tr>\n",
              "      <th>68521</th>\n",
              "      <td>200720D003802</td>\n",
              "      <td>Serious</td>\n",
              "      <td>03-01-2019</td>\n",
              "      <td>52.563201</td>\n",
              "      <td>Daylight</td>\n",
              "      <td>Birmingham</td>\n",
              "      <td>-1.822793</td>\n",
              "      <td>1</td>\n",
              "      <td>1</td>\n",
              "      <td>Dry</td>\n",
              "      <td>Single carriageway</td>\n",
              "      <td>Urban</td>\n",
              "      <td>Car</td>\n",
              "    </tr>\n",
              "    <tr>\n",
              "      <th>68522</th>\n",
              "      <td>200720D005801</td>\n",
              "      <td>Slight</td>\n",
              "      <td>02-01-2019</td>\n",
              "      <td>52.493431</td>\n",
              "      <td>Daylight</td>\n",
              "      <td>Birmingham</td>\n",
              "      <td>-1.818507</td>\n",
              "      <td>1</td>\n",
              "      <td>2</td>\n",
              "      <td>Wet or damp</td>\n",
              "      <td>Dual carriageway</td>\n",
              "      <td>Urban</td>\n",
              "      <td>Car</td>\n",
              "    </tr>\n",
              "    <tr>\n",
              "      <th>68523</th>\n",
              "      <td>200720D005901</td>\n",
              "      <td>Slight</td>\n",
              "      <td>05-01-2019</td>\n",
              "      <td>52.510805</td>\n",
              "      <td>Darkness - lights lit</td>\n",
              "      <td>Birmingham</td>\n",
              "      <td>-1.834202</td>\n",
              "      <td>1</td>\n",
              "      <td>3</td>\n",
              "      <td>Dry</td>\n",
              "      <td>Dual carriageway</td>\n",
              "      <td>Urban</td>\n",
              "      <td>Car</td>\n",
              "    </tr>\n",
              "  </tbody>\n",
              "</table>\n",
              "</div>"
            ],
            "text/plain": [
              "               Index Accident_Severity Accident Date   Latitude  \\\n",
              "68519  200720D003001            Slight    02-01-2019  52.513668   \n",
              "68520  200720D003101            Slight    02-01-2019  52.502396   \n",
              "68521  200720D003802           Serious    03-01-2019  52.563201   \n",
              "68522  200720D005801            Slight    02-01-2019  52.493431   \n",
              "68523  200720D005901            Slight    05-01-2019  52.510805   \n",
              "\n",
              "            Light_Conditions District Area  Longitude  Number_of_Casualties  \\\n",
              "68519  Darkness - lights lit    Birmingham  -1.901975                     1   \n",
              "68520               Daylight    Birmingham  -1.867086                     1   \n",
              "68521               Daylight    Birmingham  -1.822793                     1   \n",
              "68522               Daylight    Birmingham  -1.818507                     1   \n",
              "68523  Darkness - lights lit    Birmingham  -1.834202                     1   \n",
              "\n",
              "       Number_of_Vehicles Road_Surface_Conditions           Road_Type  \\\n",
              "68519                   2             Wet or damp    Dual carriageway   \n",
              "68520                   2             Wet or damp  Single carriageway   \n",
              "68521                   1                     Dry  Single carriageway   \n",
              "68522                   2             Wet or damp    Dual carriageway   \n",
              "68523                   3                     Dry    Dual carriageway   \n",
              "\n",
              "      Urban_or_Rural_Area Vehicle_Type  \n",
              "68519               Urban          Car  \n",
              "68520               Urban          Car  \n",
              "68521               Urban          Car  \n",
              "68522               Urban          Car  \n",
              "68523               Urban          Car  "
            ]
          },
          "execution_count": 25,
          "metadata": {},
          "output_type": "execute_result"
        }
      ],
      "source": [
        "cities = ['Warwick', 'Birmingham', 'Coventry', 'Dudley', 'Sandwell', 'Solihull', 'Walsall', 'Wolverhampton', 'Nuneaton']\n",
        "filtered_df = df[df['District Area'].isin(cities)]\n",
        "filtered_df.head()"
      ]
    },
    {
      "cell_type": "code",
      "execution_count": 26,
      "metadata": {},
      "outputs": [
        {
          "data": {
            "text/plain": [
              "(31511, 13)"
            ]
          },
          "execution_count": 26,
          "metadata": {},
          "output_type": "execute_result"
        }
      ],
      "source": [
        "filtered_df.shape"
      ]
    },
    {
      "cell_type": "code",
      "execution_count": 27,
      "metadata": {},
      "outputs": [
        {
          "data": {
            "text/plain": [
              "Index                       0\n",
              "Accident_Severity           0\n",
              "Accident Date               0\n",
              "Latitude                    0\n",
              "Light_Conditions            0\n",
              "District Area               0\n",
              "Longitude                   0\n",
              "Number_of_Casualties        0\n",
              "Number_of_Vehicles          0\n",
              "Road_Surface_Conditions     0\n",
              "Road_Type                  17\n",
              "Urban_or_Rural_Area         0\n",
              "Vehicle_Type                0\n",
              "dtype: int64"
            ]
          },
          "execution_count": 27,
          "metadata": {},
          "output_type": "execute_result"
        }
      ],
      "source": [
        "filtered_df.isnull().sum()"
      ]
    },
    {
      "cell_type": "markdown",
      "metadata": {},
      "source": [
        "NOTE"
      ]
    },
    {
      "cell_type": "code",
      "execution_count": 28,
      "metadata": {},
      "outputs": [],
      "source": [
        "filtered_df = filtered_df.dropna(subset=['Road_Type'])"
      ]
    },
    {
      "cell_type": "code",
      "execution_count": 29,
      "metadata": {},
      "outputs": [
        {
          "data": {
            "text/plain": [
              "Index                      0\n",
              "Accident_Severity          0\n",
              "Accident Date              0\n",
              "Latitude                   0\n",
              "Light_Conditions           0\n",
              "District Area              0\n",
              "Longitude                  0\n",
              "Number_of_Casualties       0\n",
              "Number_of_Vehicles         0\n",
              "Road_Surface_Conditions    0\n",
              "Road_Type                  0\n",
              "Urban_or_Rural_Area        0\n",
              "Vehicle_Type               0\n",
              "dtype: int64"
            ]
          },
          "execution_count": 29,
          "metadata": {},
          "output_type": "execute_result"
        }
      ],
      "source": [
        "filtered_df.isnull().sum()"
      ]
    },
    {
      "cell_type": "markdown",
      "metadata": {},
      "source": [
        "* You may add as many sections as you want, as long as it supports your project workflow.\n",
        "* All notebook's cells should be run top-down (you can't create a dynamic wherein a given point you need to go back to a previous cell to execute some task, like go back to a previous cell and refresh a variable content)"
      ]
    },
    {
      "cell_type": "markdown",
      "metadata": {},
      "source": [
        "---"
      ]
    },
    {
      "cell_type": "code",
      "execution_count": 30,
      "metadata": {},
      "outputs": [],
      "source": [
        "filtered_df.to_csv(\"filtered_accident_data_set.csv\", index=False)"
      ]
    },
    {
      "cell_type": "markdown",
      "metadata": {
        "id": "ltNetd085qHf"
      },
      "source": [
        "# Push files to Repo"
      ]
    },
    {
      "cell_type": "markdown",
      "metadata": {},
      "source": [
        "* In cases where you don't need to push files to Repo, you may replace this section with \"Conclusions and Next Steps\" and state your conclusions and next steps."
      ]
    },
    {
      "cell_type": "code",
      "execution_count": 10,
      "metadata": {
        "id": "aKlnIozA4eQO",
        "outputId": "fd09bc1f-adb1-4511-f6ce-492a6af570c0"
      },
      "outputs": [
        {
          "ename": "IndentationError",
          "evalue": "expected an indented block after 'try' statement on line 2 (553063055.py, line 5)",
          "output_type": "error",
          "traceback": [
            "  \u001b[36mCell\u001b[39m\u001b[36m \u001b[39m\u001b[32mIn[10]\u001b[39m\u001b[32m, line 5\u001b[39m\n\u001b[31m    \u001b[39m\u001b[31mexcept Exception as e:\u001b[39m\n    ^\n\u001b[31mIndentationError\u001b[39m\u001b[31m:\u001b[39m expected an indented block after 'try' statement on line 2\n"
          ]
        }
      ],
      "source": [
        "import os\n",
        "try:\n",
        "  # create your folder here\n",
        "  # os.makedirs(name='')\n",
        "except Exception as e:\n",
        "  print(e)\n"
      ]
    }
  ],
  "metadata": {
    "accelerator": "GPU",
    "colab": {
      "name": "Data Practitioner Jupyter Notebook.ipynb",
      "provenance": [],
      "toc_visible": true
    },
    "kernelspec": {
      "display_name": "Python 3",
      "language": "python",
      "name": "python3"
    },
    "language_info": {
      "codemirror_mode": {
        "name": "ipython",
        "version": 3
      },
      "file_extension": ".py",
      "mimetype": "text/x-python",
      "name": "python",
      "nbconvert_exporter": "python",
      "pygments_lexer": "ipython3",
      "version": "3.12.8"
    },
    "orig_nbformat": 2
  },
  "nbformat": 4,
  "nbformat_minor": 2
}
