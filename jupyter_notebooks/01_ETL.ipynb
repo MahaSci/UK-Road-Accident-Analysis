{
  "cells": [
    {
      "cell_type": "markdown",
      "metadata": {
        "id": "0aStgWSO0E0E"
      },
      "source": [
        "# **(ADD THE NOTEBOOK NAME HERE)**"
      ]
    },
    {
      "cell_type": "markdown",
      "metadata": {
        "id": "1eLEkw5O0ECa"
      },
      "source": [
        "## Objectives\n",
        "\n",
        "* Write your notebook objective here, for example, \"Fetch data from Kaggle and save as raw data\", or \"engineer features for modelling\"\n",
        "\n",
        "## Inputs\n",
        "\n",
        "* Write down which data or information you need to run the notebook \n",
        "\n",
        "## Outputs\n",
        "\n",
        "* Write here which files, code or artefacts you generate by the end of the notebook \n",
        "\n",
        "## Additional Comments\n",
        "\n",
        "* If you have any additional comments that don't fit in the previous bullets, please state them here. \n",
        "\n"
      ]
    },
    {
      "cell_type": "markdown",
      "metadata": {
        "id": "9uWZXH9LwoQg"
      },
      "source": [
        "---"
      ]
    },
    {
      "cell_type": "markdown",
      "metadata": {
        "id": "cqP-UeN-z3i2"
      },
      "source": [
        "# Change working directory"
      ]
    },
    {
      "cell_type": "markdown",
      "metadata": {},
      "source": [
        "* We are assuming you will store the notebooks in a subfolder, therefore when running the notebook in the editor, you will need to change the working directory"
      ]
    },
    {
      "cell_type": "markdown",
      "metadata": {
        "id": "aOGIGS-uz3i2"
      },
      "source": [
        "We need to change the working directory from its current folder to its parent folder\n",
        "* We access the current directory with os.getcwd()"
      ]
    },
    {
      "cell_type": "code",
      "execution_count": 1,
      "metadata": {
        "id": "wZfF_j-Bz3i4",
        "outputId": "66943449-1436-4c3d-85c7-b85f9f78349b"
      },
      "outputs": [
        {
          "data": {
            "text/plain": [
              "'/Users/mahahussain/Desktop/UK-Road-Accident-Analysis/UK-Road-Accident-Analysis/jupyter_notebooks'"
            ]
          },
          "execution_count": 1,
          "metadata": {},
          "output_type": "execute_result"
        }
      ],
      "source": [
        "import os\n",
        "current_dir = os.getcwd()\n",
        "current_dir"
      ]
    },
    {
      "cell_type": "markdown",
      "metadata": {
        "id": "9MWW8E7lz3i7"
      },
      "source": [
        "We want to make the parent of the current directory the new current directory\n",
        "* os.path.dirname() gets the parent directory\n",
        "* os.chir() defines the new current directory"
      ]
    },
    {
      "cell_type": "code",
      "execution_count": 2,
      "metadata": {
        "id": "TwHsQRWjz3i9",
        "outputId": "86849db3-cd2f-4cc5-ebb8-2d0caafa1a2c"
      },
      "outputs": [
        {
          "name": "stdout",
          "output_type": "stream",
          "text": [
            "You set a new current directory\n"
          ]
        }
      ],
      "source": [
        "os.chdir(os.path.dirname(current_dir))\n",
        "print(\"You set a new current directory\")"
      ]
    },
    {
      "cell_type": "markdown",
      "metadata": {
        "id": "M_xPk_Ijz3i-"
      },
      "source": [
        "Confirm the new current directory"
      ]
    },
    {
      "cell_type": "code",
      "execution_count": 3,
      "metadata": {
        "id": "vz3S-_kjz3jA",
        "outputId": "00b79ae4-75d0-4a96-d193-ac9ef9847ea2"
      },
      "outputs": [
        {
          "data": {
            "text/plain": [
              "'/Users/mahahussain/Desktop/UK-Road-Accident-Analysis/UK-Road-Accident-Analysis'"
            ]
          },
          "execution_count": 3,
          "metadata": {},
          "output_type": "execute_result"
        }
      ],
      "source": [
        "current_dir = os.getcwd()\n",
        "current_dir"
      ]
    },
    {
      "cell_type": "markdown",
      "metadata": {},
      "source": [
        "# Section 1: Data Extraction, Transformation & Loading (ETL)"
      ]
    },
    {
      "cell_type": "markdown",
      "metadata": {},
      "source": [
        "### Importing libraries to be used"
      ]
    },
    {
      "cell_type": "code",
      "execution_count": 4,
      "metadata": {},
      "outputs": [],
      "source": [
        "import pandas as pd \n",
        "import numpy as np\n",
        "import matplotlib.pyplot as plt\n",
        "import seaborn as sns\n",
        "sns.set_style('whitegrid')\n",
        "import plotly.express as px\n"
      ]
    },
    {
      "cell_type": "markdown",
      "metadata": {},
      "source": [
        "### Extract/Read the dataset"
      ]
    },
    {
      "cell_type": "code",
      "execution_count": 5,
      "metadata": {},
      "outputs": [],
      "source": [
        "file_path = \"Data/accident_data.csv\"  # file path \n",
        "df = pd.read_csv(file_path) "
      ]
    },
    {
      "cell_type": "markdown",
      "metadata": {},
      "source": [
        "### Checking the top 5 rows and the number of columns of the data set to have an overview of the data frame"
      ]
    },
    {
      "cell_type": "code",
      "execution_count": 6,
      "metadata": {},
      "outputs": [
        {
          "data": {
            "text/html": [
              "<div>\n",
              "<style scoped>\n",
              "    .dataframe tbody tr th:only-of-type {\n",
              "        vertical-align: middle;\n",
              "    }\n",
              "\n",
              "    .dataframe tbody tr th {\n",
              "        vertical-align: top;\n",
              "    }\n",
              "\n",
              "    .dataframe thead th {\n",
              "        text-align: right;\n",
              "    }\n",
              "</style>\n",
              "<table border=\"1\" class=\"dataframe\">\n",
              "  <thead>\n",
              "    <tr style=\"text-align: right;\">\n",
              "      <th></th>\n",
              "      <th>Index</th>\n",
              "      <th>Accident_Severity</th>\n",
              "      <th>Accident Date</th>\n",
              "      <th>Latitude</th>\n",
              "      <th>Light_Conditions</th>\n",
              "      <th>District Area</th>\n",
              "      <th>Longitude</th>\n",
              "      <th>Number_of_Casualties</th>\n",
              "      <th>Number_of_Vehicles</th>\n",
              "      <th>Road_Surface_Conditions</th>\n",
              "      <th>Road_Type</th>\n",
              "      <th>Urban_or_Rural_Area</th>\n",
              "      <th>Weather_Conditions</th>\n",
              "      <th>Vehicle_Type</th>\n",
              "    </tr>\n",
              "  </thead>\n",
              "  <tbody>\n",
              "    <tr>\n",
              "      <th>0</th>\n",
              "      <td>200701BS64157</td>\n",
              "      <td>Serious</td>\n",
              "      <td>05-06-2019</td>\n",
              "      <td>51.506187</td>\n",
              "      <td>Darkness - lights lit</td>\n",
              "      <td>Kensington and Chelsea</td>\n",
              "      <td>-0.209082</td>\n",
              "      <td>1</td>\n",
              "      <td>2</td>\n",
              "      <td>Dry</td>\n",
              "      <td>Single carriageway</td>\n",
              "      <td>Urban</td>\n",
              "      <td>Fine no high winds</td>\n",
              "      <td>Car</td>\n",
              "    </tr>\n",
              "    <tr>\n",
              "      <th>1</th>\n",
              "      <td>200701BS65737</td>\n",
              "      <td>Serious</td>\n",
              "      <td>02-07-2019</td>\n",
              "      <td>51.495029</td>\n",
              "      <td>Daylight</td>\n",
              "      <td>Kensington and Chelsea</td>\n",
              "      <td>-0.173647</td>\n",
              "      <td>1</td>\n",
              "      <td>2</td>\n",
              "      <td>Wet or damp</td>\n",
              "      <td>Single carriageway</td>\n",
              "      <td>Urban</td>\n",
              "      <td>Raining no high winds</td>\n",
              "      <td>Car</td>\n",
              "    </tr>\n",
              "    <tr>\n",
              "      <th>2</th>\n",
              "      <td>200701BS66127</td>\n",
              "      <td>Serious</td>\n",
              "      <td>26-08-2019</td>\n",
              "      <td>51.517715</td>\n",
              "      <td>Darkness - lighting unknown</td>\n",
              "      <td>Kensington and Chelsea</td>\n",
              "      <td>-0.210215</td>\n",
              "      <td>1</td>\n",
              "      <td>3</td>\n",
              "      <td>Dry</td>\n",
              "      <td>NaN</td>\n",
              "      <td>Urban</td>\n",
              "      <td>NaN</td>\n",
              "      <td>Taxi/Private hire car</td>\n",
              "    </tr>\n",
              "    <tr>\n",
              "      <th>3</th>\n",
              "      <td>200701BS66128</td>\n",
              "      <td>Serious</td>\n",
              "      <td>16-08-2019</td>\n",
              "      <td>51.495478</td>\n",
              "      <td>Daylight</td>\n",
              "      <td>Kensington and Chelsea</td>\n",
              "      <td>-0.202731</td>\n",
              "      <td>1</td>\n",
              "      <td>4</td>\n",
              "      <td>Dry</td>\n",
              "      <td>Single carriageway</td>\n",
              "      <td>Urban</td>\n",
              "      <td>Fine no high winds</td>\n",
              "      <td>Bus or coach (17 or more pass seats)</td>\n",
              "    </tr>\n",
              "    <tr>\n",
              "      <th>4</th>\n",
              "      <td>200701BS66837</td>\n",
              "      <td>Slight</td>\n",
              "      <td>03-09-2019</td>\n",
              "      <td>51.488576</td>\n",
              "      <td>Darkness - lights lit</td>\n",
              "      <td>Kensington and Chelsea</td>\n",
              "      <td>-0.192487</td>\n",
              "      <td>1</td>\n",
              "      <td>2</td>\n",
              "      <td>Dry</td>\n",
              "      <td>NaN</td>\n",
              "      <td>Urban</td>\n",
              "      <td>NaN</td>\n",
              "      <td>Other vehicle</td>\n",
              "    </tr>\n",
              "  </tbody>\n",
              "</table>\n",
              "</div>"
            ],
            "text/plain": [
              "           Index Accident_Severity Accident Date   Latitude  \\\n",
              "0  200701BS64157           Serious    05-06-2019  51.506187   \n",
              "1  200701BS65737           Serious    02-07-2019  51.495029   \n",
              "2  200701BS66127           Serious    26-08-2019  51.517715   \n",
              "3  200701BS66128           Serious    16-08-2019  51.495478   \n",
              "4  200701BS66837            Slight    03-09-2019  51.488576   \n",
              "\n",
              "              Light_Conditions           District Area  Longitude  \\\n",
              "0        Darkness - lights lit  Kensington and Chelsea  -0.209082   \n",
              "1                     Daylight  Kensington and Chelsea  -0.173647   \n",
              "2  Darkness - lighting unknown  Kensington and Chelsea  -0.210215   \n",
              "3                     Daylight  Kensington and Chelsea  -0.202731   \n",
              "4        Darkness - lights lit  Kensington and Chelsea  -0.192487   \n",
              "\n",
              "   Number_of_Casualties  Number_of_Vehicles Road_Surface_Conditions  \\\n",
              "0                     1                   2                     Dry   \n",
              "1                     1                   2             Wet or damp   \n",
              "2                     1                   3                     Dry   \n",
              "3                     1                   4                     Dry   \n",
              "4                     1                   2                     Dry   \n",
              "\n",
              "            Road_Type Urban_or_Rural_Area     Weather_Conditions  \\\n",
              "0  Single carriageway               Urban     Fine no high winds   \n",
              "1  Single carriageway               Urban  Raining no high winds   \n",
              "2                 NaN               Urban                    NaN   \n",
              "3  Single carriageway               Urban     Fine no high winds   \n",
              "4                 NaN               Urban                    NaN   \n",
              "\n",
              "                           Vehicle_Type  \n",
              "0                                   Car  \n",
              "1                                   Car  \n",
              "2                 Taxi/Private hire car  \n",
              "3  Bus or coach (17 or more pass seats)  \n",
              "4                         Other vehicle  "
            ]
          },
          "execution_count": 6,
          "metadata": {},
          "output_type": "execute_result"
        }
      ],
      "source": [
        "df.head()"
      ]
    },
    {
      "cell_type": "markdown",
      "metadata": {},
      "source": [
        "### Number of rows and columns"
      ]
    },
    {
      "cell_type": "code",
      "execution_count": 7,
      "metadata": {},
      "outputs": [
        {
          "data": {
            "text/plain": [
              "(660679, 14)"
            ]
          },
          "execution_count": 7,
          "metadata": {},
          "output_type": "execute_result"
        }
      ],
      "source": [
        "df.shape"
      ]
    },
    {
      "cell_type": "markdown",
      "metadata": {},
      "source": [
        "### Data set generic information checking\n",
        "\n",
        "* column names\n",
        "* datatypes of columns\n",
        "* number of entries and the memory space used through"
      ]
    },
    {
      "cell_type": "code",
      "execution_count": 8,
      "metadata": {},
      "outputs": [
        {
          "name": "stdout",
          "output_type": "stream",
          "text": [
            "<class 'pandas.core.frame.DataFrame'>\n",
            "RangeIndex: 660679 entries, 0 to 660678\n",
            "Data columns (total 14 columns):\n",
            " #   Column                   Non-Null Count   Dtype  \n",
            "---  ------                   --------------   -----  \n",
            " 0   Index                    660679 non-null  object \n",
            " 1   Accident_Severity        660679 non-null  object \n",
            " 2   Accident Date            660679 non-null  object \n",
            " 3   Latitude                 660654 non-null  float64\n",
            " 4   Light_Conditions         660679 non-null  object \n",
            " 5   District Area            660679 non-null  object \n",
            " 6   Longitude                660653 non-null  float64\n",
            " 7   Number_of_Casualties     660679 non-null  int64  \n",
            " 8   Number_of_Vehicles       660679 non-null  int64  \n",
            " 9   Road_Surface_Conditions  659953 non-null  object \n",
            " 10  Road_Type                656159 non-null  object \n",
            " 11  Urban_or_Rural_Area      660664 non-null  object \n",
            " 12  Weather_Conditions       646551 non-null  object \n",
            " 13  Vehicle_Type             660679 non-null  object \n",
            "dtypes: float64(2), int64(2), object(10)\n",
            "memory usage: 70.6+ MB\n"
          ]
        }
      ],
      "source": [
        "df.info()"
      ]
    },
    {
      "cell_type": "code",
      "execution_count": 9,
      "metadata": {},
      "outputs": [
        {
          "data": {
            "text/plain": [
              "Index                          0\n",
              "Accident_Severity              0\n",
              "Accident Date                  0\n",
              "Latitude                      25\n",
              "Light_Conditions               0\n",
              "District Area                  0\n",
              "Longitude                     26\n",
              "Number_of_Casualties           0\n",
              "Number_of_Vehicles             0\n",
              "Road_Surface_Conditions      726\n",
              "Road_Type                   4520\n",
              "Urban_or_Rural_Area           15\n",
              "Weather_Conditions         14128\n",
              "Vehicle_Type                   0\n",
              "dtype: int64"
            ]
          },
          "execution_count": 9,
          "metadata": {},
          "output_type": "execute_result"
        }
      ],
      "source": [
        "df.isnull().sum()"
      ]
    },
    {
      "cell_type": "code",
      "execution_count": 10,
      "metadata": {},
      "outputs": [
        {
          "data": {
            "text/html": [
              "<div>\n",
              "<style scoped>\n",
              "    .dataframe tbody tr th:only-of-type {\n",
              "        vertical-align: middle;\n",
              "    }\n",
              "\n",
              "    .dataframe tbody tr th {\n",
              "        vertical-align: top;\n",
              "    }\n",
              "\n",
              "    .dataframe thead th {\n",
              "        text-align: right;\n",
              "    }\n",
              "</style>\n",
              "<table border=\"1\" class=\"dataframe\">\n",
              "  <thead>\n",
              "    <tr style=\"text-align: right;\">\n",
              "      <th></th>\n",
              "      <th>Index</th>\n",
              "      <th>Accident_Severity</th>\n",
              "      <th>Accident Date</th>\n",
              "      <th>Latitude</th>\n",
              "      <th>Light_Conditions</th>\n",
              "      <th>District Area</th>\n",
              "      <th>Longitude</th>\n",
              "      <th>Number_of_Casualties</th>\n",
              "      <th>Number_of_Vehicles</th>\n",
              "      <th>Road_Surface_Conditions</th>\n",
              "      <th>Road_Type</th>\n",
              "      <th>Urban_or_Rural_Area</th>\n",
              "      <th>Vehicle_Type</th>\n",
              "    </tr>\n",
              "  </thead>\n",
              "  <tbody>\n",
              "    <tr>\n",
              "      <th>0</th>\n",
              "      <td>200701BS64157</td>\n",
              "      <td>Serious</td>\n",
              "      <td>05-06-2019</td>\n",
              "      <td>51.506187</td>\n",
              "      <td>Darkness - lights lit</td>\n",
              "      <td>Kensington and Chelsea</td>\n",
              "      <td>-0.209082</td>\n",
              "      <td>1</td>\n",
              "      <td>2</td>\n",
              "      <td>Dry</td>\n",
              "      <td>Single carriageway</td>\n",
              "      <td>Urban</td>\n",
              "      <td>Car</td>\n",
              "    </tr>\n",
              "    <tr>\n",
              "      <th>1</th>\n",
              "      <td>200701BS65737</td>\n",
              "      <td>Serious</td>\n",
              "      <td>02-07-2019</td>\n",
              "      <td>51.495029</td>\n",
              "      <td>Daylight</td>\n",
              "      <td>Kensington and Chelsea</td>\n",
              "      <td>-0.173647</td>\n",
              "      <td>1</td>\n",
              "      <td>2</td>\n",
              "      <td>Wet or damp</td>\n",
              "      <td>Single carriageway</td>\n",
              "      <td>Urban</td>\n",
              "      <td>Car</td>\n",
              "    </tr>\n",
              "    <tr>\n",
              "      <th>2</th>\n",
              "      <td>200701BS66127</td>\n",
              "      <td>Serious</td>\n",
              "      <td>26-08-2019</td>\n",
              "      <td>51.517715</td>\n",
              "      <td>Darkness - lighting unknown</td>\n",
              "      <td>Kensington and Chelsea</td>\n",
              "      <td>-0.210215</td>\n",
              "      <td>1</td>\n",
              "      <td>3</td>\n",
              "      <td>Dry</td>\n",
              "      <td>NaN</td>\n",
              "      <td>Urban</td>\n",
              "      <td>Taxi/Private hire car</td>\n",
              "    </tr>\n",
              "    <tr>\n",
              "      <th>3</th>\n",
              "      <td>200701BS66128</td>\n",
              "      <td>Serious</td>\n",
              "      <td>16-08-2019</td>\n",
              "      <td>51.495478</td>\n",
              "      <td>Daylight</td>\n",
              "      <td>Kensington and Chelsea</td>\n",
              "      <td>-0.202731</td>\n",
              "      <td>1</td>\n",
              "      <td>4</td>\n",
              "      <td>Dry</td>\n",
              "      <td>Single carriageway</td>\n",
              "      <td>Urban</td>\n",
              "      <td>Bus or coach (17 or more pass seats)</td>\n",
              "    </tr>\n",
              "    <tr>\n",
              "      <th>4</th>\n",
              "      <td>200701BS66837</td>\n",
              "      <td>Slight</td>\n",
              "      <td>03-09-2019</td>\n",
              "      <td>51.488576</td>\n",
              "      <td>Darkness - lights lit</td>\n",
              "      <td>Kensington and Chelsea</td>\n",
              "      <td>-0.192487</td>\n",
              "      <td>1</td>\n",
              "      <td>2</td>\n",
              "      <td>Dry</td>\n",
              "      <td>NaN</td>\n",
              "      <td>Urban</td>\n",
              "      <td>Other vehicle</td>\n",
              "    </tr>\n",
              "  </tbody>\n",
              "</table>\n",
              "</div>"
            ],
            "text/plain": [
              "           Index Accident_Severity Accident Date   Latitude  \\\n",
              "0  200701BS64157           Serious    05-06-2019  51.506187   \n",
              "1  200701BS65737           Serious    02-07-2019  51.495029   \n",
              "2  200701BS66127           Serious    26-08-2019  51.517715   \n",
              "3  200701BS66128           Serious    16-08-2019  51.495478   \n",
              "4  200701BS66837            Slight    03-09-2019  51.488576   \n",
              "\n",
              "              Light_Conditions           District Area  Longitude  \\\n",
              "0        Darkness - lights lit  Kensington and Chelsea  -0.209082   \n",
              "1                     Daylight  Kensington and Chelsea  -0.173647   \n",
              "2  Darkness - lighting unknown  Kensington and Chelsea  -0.210215   \n",
              "3                     Daylight  Kensington and Chelsea  -0.202731   \n",
              "4        Darkness - lights lit  Kensington and Chelsea  -0.192487   \n",
              "\n",
              "   Number_of_Casualties  Number_of_Vehicles Road_Surface_Conditions  \\\n",
              "0                     1                   2                     Dry   \n",
              "1                     1                   2             Wet or damp   \n",
              "2                     1                   3                     Dry   \n",
              "3                     1                   4                     Dry   \n",
              "4                     1                   2                     Dry   \n",
              "\n",
              "            Road_Type Urban_or_Rural_Area  \\\n",
              "0  Single carriageway               Urban   \n",
              "1  Single carriageway               Urban   \n",
              "2                 NaN               Urban   \n",
              "3  Single carriageway               Urban   \n",
              "4                 NaN               Urban   \n",
              "\n",
              "                           Vehicle_Type  \n",
              "0                                   Car  \n",
              "1                                   Car  \n",
              "2                 Taxi/Private hire car  \n",
              "3  Bus or coach (17 or more pass seats)  \n",
              "4                         Other vehicle  "
            ]
          },
          "execution_count": 10,
          "metadata": {},
          "output_type": "execute_result"
        }
      ],
      "source": [
        "df.drop(columns=['Weather_Conditions'], inplace=True)\n",
        "df.head()"
      ]
    },
    {
      "cell_type": "markdown",
      "metadata": {},
      "source": [
        "---"
      ]
    },
    {
      "cell_type": "code",
      "execution_count": 11,
      "metadata": {},
      "outputs": [
        {
          "data": {
            "text/plain": [
              "array(['Kensington and Chelsea', 'Westminster', 'Richmond upon Thames',\n",
              "       'Hammersmith and Fulham', 'Hounslow', 'Tower Hamlets',\n",
              "       'City of London', 'Southwark', 'Camden', 'Hackney', 'Islington',\n",
              "       'Barnet', 'Brent', 'Haringey', 'Merton', 'Ealing', 'Enfield',\n",
              "       'Greenwich', 'Newham', 'London Airport (Heathrow)', 'Hillingdon',\n",
              "       'Waltham Forest', 'Redbridge', 'Barking and Dagenham', 'Bromley',\n",
              "       'Havering', 'Croydon', 'Lambeth', 'Wandsworth', 'Sutton', 'Bexley',\n",
              "       'Lewisham', 'Harrow', 'Kingston upon Thames', 'Barrow-in-Furness',\n",
              "       'South Lakeland', 'Carlisle', 'Eden', 'Allerdale', 'Copeland',\n",
              "       'Fylde', 'Blackpool', 'Wyre', 'Lancaster', 'Chorley',\n",
              "       'West Lancashire', 'South Ribble', 'Preston',\n",
              "       'Blackburn with Darwen', 'Hyndburn', 'Ribble Valley', 'Burnley',\n",
              "       'Pendle', 'Rossendale', 'Wirral', 'Liverpool', 'Sefton',\n",
              "       'Knowsley', 'St. Helens', 'Manchester', 'Salford', 'Tameside',\n",
              "       'Stockport', 'Bolton', 'Wigan', 'Trafford', 'Bury', 'Rochdale',\n",
              "       'Oldham', 'Chester', 'Vale Royal', 'Halton', 'Warrington',\n",
              "       'Crewe and ntwich', 'Ellesmere Port and Neston', 'Congleton',\n",
              "       'Macclesfield', 'Crewe and Nantwich', 'Blyth Valley', 'Sunderland',\n",
              "       'Gateshead', 'North Tyneside', 'Tynedale', 'Berwick-upon-Tweed',\n",
              "       'Newcastle upon Tyne', 'Castle Morpeth', 'South Tyneside',\n",
              "       'Wansbeck', 'Alnwick', 'Wear Valley', 'Sedgefield', 'Durham',\n",
              "       'Easington', 'Chester-le-Street', 'Derwentside', 'Teesdale',\n",
              "       'Darlington', 'Craven', 'Hambleton', 'Richmondshire', 'York',\n",
              "       'Harrogate', 'Selby', 'Scarborough', 'Ryedale', 'Kirklees',\n",
              "       'Leeds', 'Wakefield', 'Bradford', 'Calderdale', 'Doncaster',\n",
              "       'Barnsley', 'Sheffield', 'Rotherham', 'North East Lincolnshire',\n",
              "       'North Lincolnshire', 'East Riding of Yorkshire',\n",
              "       'Kingston upon Hull, City of', 'Redcar and Cleveland',\n",
              "       'Hartlepool', 'Middlesbrough', 'Stockton-on-Tees', 'Birmingham',\n",
              "       'Wolverhampton', 'Walsall', 'Dudley', 'Sandwell', 'Solihull',\n",
              "       'Coventry', 'Newcastle-under-Lyme', 'Stafford',\n",
              "       'East Staffordshire', 'South Staffordshire', 'Lichfield',\n",
              "       'Stoke-on-Trent', 'Cannock Chase', 'Tamworth',\n",
              "       'Staffordshire Moorlands', 'Malvern Hills', 'Worcester',\n",
              "       'Wychavon', 'Wyre Forest', 'Redditch', 'Bromsgrove',\n",
              "       'Herefordshire, County of', 'Telford and Wrekin',\n",
              "       'South Shropshire', 'Bridgnorth', 'Shrewsbury and Atcham',\n",
              "       'North Shropshire', 'Oswestry', 'Warwick', 'Stratford-upon-Avon',\n",
              "       'Rugby', 'North Warwickshire', 'Nuneaton and Bedworth',\n",
              "       'Amber Valley', 'Erewash', 'Bolsover', 'High Peak',\n",
              "       'Derbyshire Dales', 'North East Derbyshire', 'Chesterfield',\n",
              "       'Derby', 'South Derbyshire', 'Ashfield', 'Mansfield',\n",
              "       'Newark and Sherwood', 'Bassetlaw', 'Gedling', 'Rushcliffe',\n",
              "       'Nottingham', 'Broxtowe', 'South Holland', 'South Kesteven',\n",
              "       'North Kesteven', 'East Lindsey', 'Boston', 'West Lindsey',\n",
              "       'Lincoln', 'Hinckley and Bosworth', 'Harborough', 'Leicester',\n",
              "       'Rutland', 'Charnwood', 'Melton', 'North West Leicestershire',\n",
              "       'Blaby', 'Oadby and Wigston', 'South Northamptonshire',\n",
              "       'Northampton', 'Kettering', 'Corby', 'Daventry',\n",
              "       'East Northamptonshire', 'Wellingborough', 'South Cambridgeshire',\n",
              "       'Fenland', 'Huntingdonshire', 'Peterborough',\n",
              "       'East Cambridgeshire', 'Cambridge', \"King's Lynn and West Norfolk\",\n",
              "       'Norwich', 'Breckland', 'South Norfolk', 'Broadland',\n",
              "       'Great Yarmouth', 'North Norfolk', 'St. Edmundsbury', 'Babergh',\n",
              "       'Mid Suffolk', 'Forest Heath', 'Suffolk Coastal', 'Ipswich',\n",
              "       'Waveney', 'Luton', 'Mid Bedfordshire', 'Bedford',\n",
              "       'South Bedfordshire', 'East Hertfordshire', 'North Hertfordshire',\n",
              "       'Welwyn Hatfield', 'St. Albans', 'Hertsmere', 'Three Rivers',\n",
              "       'Watford', 'Dacorum', 'Broxbourne', 'Stevege', 'Stevenage',\n",
              "       'Epping Forest', 'Brentwood', 'Castle Point', 'Uttlesford',\n",
              "       'Chelmsford', 'Basildon', 'Tendring', 'Colchester', 'Thurrock',\n",
              "       'Braintree', 'Rochford', 'Maldon', 'Southend-on-Sea', 'Harlow',\n",
              "       'Aylesbury Vale', 'Wycombe', 'South Bucks', 'Chiltern', 'Slough',\n",
              "       'Windsor and Maidenhead', 'South Oxfordshire', 'Milton Keynes',\n",
              "       'Cherwell', 'Vale of White Horse', 'West Oxfordshire', 'Oxford',\n",
              "       'Reading', 'West Berkshire', 'Wokingham', 'Bracknell Forest',\n",
              "       'Eastleigh', 'Test Valley', 'Portsmouth', 'Winchester',\n",
              "       'Basingstoke and Deane', 'Southampton', 'Fareham', 'Hart',\n",
              "       'Gosport', 'Havant', 'Isle of Wight', 'East Hampshire', 'Rushmoor',\n",
              "       'New Forest', 'Elmbridge', 'Mole Valley', 'Guildford',\n",
              "       'Spelthorne', 'Epsom and Ewell', 'Runnymede', 'Woking',\n",
              "       'Reigate and Banstead', 'Surrey Heath', 'Waverley', 'Tandridge',\n",
              "       'Medway', 'Thanet', 'Shepway', 'Ashford', 'Maidstone', 'Dover',\n",
              "       'Tunbridge Wells', 'Canterbury', 'Tonbridge and Malling', 'Swale',\n",
              "       'Dartford', 'Sevenoaks', 'Gravesham', 'Brighton and Hove',\n",
              "       'Chichester', 'Rother', 'Lewes', 'Wealden', 'Eastbourne',\n",
              "       'Hastings', 'Crawley', 'Horsham', 'Mid Sussex', 'Arun', 'Adur',\n",
              "       'Worthing', 'Kerrier', 'Restormel', 'Carrick', 'Penwith',\n",
              "       'North Cornwall', 'West Devon', 'Torridge', 'Caradon',\n",
              "       'North Devon', 'Mid Devon', 'Exeter', 'East Devon', 'Teignbridge',\n",
              "       'Plymouth', 'South Hams', 'Torbay', 'Bristol, City of',\n",
              "       'South Somerset', 'Sedgemoor', 'Mendip', 'Taunton Deane',\n",
              "       'South Gloucestershire', 'North Somerset',\n",
              "       'Bath and North East Somerset', 'West Somerset', 'Stroud',\n",
              "       'Tewkesbury', 'Gloucester', 'Cotswold', 'Cheltenham',\n",
              "       'Forest of Dean', 'Salisbury', 'Kennet', 'West Wiltshire',\n",
              "       'North Wiltshire', 'Swindon', 'Bournemouth', 'Poole',\n",
              "       'East Dorset', 'West Dorset', 'Weymouth and Portland',\n",
              "       'Christchurch', 'Purbeck', 'North Dorset', 'Isle of Anglesey',\n",
              "       'Conwy', 'Denbighshire', 'Flintshire', 'Wrexham', 'Gwynedd',\n",
              "       'Monmouthshire', 'Newport', 'Caerphilly', 'Torfaen', 'Blaeu Gwent',\n",
              "       'Blaenau Gwent', 'Merthyr Tydfil', 'The Vale of Glamorgan',\n",
              "       'Cardiff', 'Rhondda, Cynon, Taff', 'Swansea', 'Bridgend',\n",
              "       'Neath Port Talbot', 'Carmarthenshire', 'Ceredigion',\n",
              "       'Pembrokeshire', 'Powys', 'Highland', 'Western Isles',\n",
              "       'Orkney Islands', 'Shetland Islands', 'Aberdeenshire', 'Moray',\n",
              "       'Aberdeen City', 'Dundee City', 'Angus', 'Perth and Kinross',\n",
              "       'Fife', 'East Lothian', 'Midlothian', 'Scottish Borders',\n",
              "       'Edinburgh, City of', 'West Lothian', 'Falkirk',\n",
              "       'Clackmannanshire', 'Stirling', 'Clackmannshire', 'Glasgow City',\n",
              "       'East Dunbartonshire', 'North Larkshire', 'North Lanarkshire',\n",
              "       'Renfrewshire', 'East Renfrewshire', 'East Ayrshire',\n",
              "       'South Larkshire', 'Inverclyde', 'West Dunbartonshire',\n",
              "       'Argyll and Bute', 'South Lanarkshire', 'North Ayrshire',\n",
              "       'South Ayrshire', 'Dumfries and Galloway', 'Cheshire East',\n",
              "       'Cheshire West and Chester', 'Northumberland', 'County Durham',\n",
              "       'Shropshire', 'Central Bedfordshire', 'Cornwall', 'Wiltshire'],\n",
              "      dtype=object)"
            ]
          },
          "execution_count": 11,
          "metadata": {},
          "output_type": "execute_result"
        }
      ],
      "source": [
        "df['District Area'].unique()"
      ]
    },
    {
      "cell_type": "code",
      "execution_count": 12,
      "metadata": {},
      "outputs": [
        {
          "data": {
            "text/plain": [
              "(660679, 13)"
            ]
          },
          "execution_count": 12,
          "metadata": {},
          "output_type": "execute_result"
        }
      ],
      "source": [
        "df.shape"
      ]
    },
    {
      "cell_type": "code",
      "execution_count": 13,
      "metadata": {},
      "outputs": [
        {
          "data": {
            "text/plain": [
              "Index                         0\n",
              "Accident_Severity             0\n",
              "Accident Date                 0\n",
              "Latitude                     25\n",
              "Light_Conditions              0\n",
              "District Area                 0\n",
              "Longitude                    26\n",
              "Number_of_Casualties          0\n",
              "Number_of_Vehicles            0\n",
              "Road_Surface_Conditions     726\n",
              "Road_Type                  4520\n",
              "Urban_or_Rural_Area          15\n",
              "Vehicle_Type                  0\n",
              "dtype: int64"
            ]
          },
          "execution_count": 13,
          "metadata": {},
          "output_type": "execute_result"
        }
      ],
      "source": [
        "df.isnull().sum()"
      ]
    },
    {
      "cell_type": "markdown",
      "metadata": {},
      "source": [
        "### Dropping Urban_or_Rural_Area variable"
      ]
    },
    {
      "cell_type": "code",
      "execution_count": 14,
      "metadata": {},
      "outputs": [
        {
          "data": {
            "text/html": [
              "<div>\n",
              "<style scoped>\n",
              "    .dataframe tbody tr th:only-of-type {\n",
              "        vertical-align: middle;\n",
              "    }\n",
              "\n",
              "    .dataframe tbody tr th {\n",
              "        vertical-align: top;\n",
              "    }\n",
              "\n",
              "    .dataframe thead th {\n",
              "        text-align: right;\n",
              "    }\n",
              "</style>\n",
              "<table border=\"1\" class=\"dataframe\">\n",
              "  <thead>\n",
              "    <tr style=\"text-align: right;\">\n",
              "      <th></th>\n",
              "      <th>Index</th>\n",
              "      <th>Accident_Severity</th>\n",
              "      <th>Accident Date</th>\n",
              "      <th>Latitude</th>\n",
              "      <th>Light_Conditions</th>\n",
              "      <th>District Area</th>\n",
              "      <th>Longitude</th>\n",
              "      <th>Number_of_Casualties</th>\n",
              "      <th>Number_of_Vehicles</th>\n",
              "      <th>Road_Surface_Conditions</th>\n",
              "      <th>Road_Type</th>\n",
              "      <th>Vehicle_Type</th>\n",
              "    </tr>\n",
              "  </thead>\n",
              "  <tbody>\n",
              "    <tr>\n",
              "      <th>0</th>\n",
              "      <td>200701BS64157</td>\n",
              "      <td>Serious</td>\n",
              "      <td>05-06-2019</td>\n",
              "      <td>51.506187</td>\n",
              "      <td>Darkness - lights lit</td>\n",
              "      <td>Kensington and Chelsea</td>\n",
              "      <td>-0.209082</td>\n",
              "      <td>1</td>\n",
              "      <td>2</td>\n",
              "      <td>Dry</td>\n",
              "      <td>Single carriageway</td>\n",
              "      <td>Car</td>\n",
              "    </tr>\n",
              "    <tr>\n",
              "      <th>1</th>\n",
              "      <td>200701BS65737</td>\n",
              "      <td>Serious</td>\n",
              "      <td>02-07-2019</td>\n",
              "      <td>51.495029</td>\n",
              "      <td>Daylight</td>\n",
              "      <td>Kensington and Chelsea</td>\n",
              "      <td>-0.173647</td>\n",
              "      <td>1</td>\n",
              "      <td>2</td>\n",
              "      <td>Wet or damp</td>\n",
              "      <td>Single carriageway</td>\n",
              "      <td>Car</td>\n",
              "    </tr>\n",
              "    <tr>\n",
              "      <th>2</th>\n",
              "      <td>200701BS66127</td>\n",
              "      <td>Serious</td>\n",
              "      <td>26-08-2019</td>\n",
              "      <td>51.517715</td>\n",
              "      <td>Darkness - lighting unknown</td>\n",
              "      <td>Kensington and Chelsea</td>\n",
              "      <td>-0.210215</td>\n",
              "      <td>1</td>\n",
              "      <td>3</td>\n",
              "      <td>Dry</td>\n",
              "      <td>NaN</td>\n",
              "      <td>Taxi/Private hire car</td>\n",
              "    </tr>\n",
              "    <tr>\n",
              "      <th>3</th>\n",
              "      <td>200701BS66128</td>\n",
              "      <td>Serious</td>\n",
              "      <td>16-08-2019</td>\n",
              "      <td>51.495478</td>\n",
              "      <td>Daylight</td>\n",
              "      <td>Kensington and Chelsea</td>\n",
              "      <td>-0.202731</td>\n",
              "      <td>1</td>\n",
              "      <td>4</td>\n",
              "      <td>Dry</td>\n",
              "      <td>Single carriageway</td>\n",
              "      <td>Bus or coach (17 or more pass seats)</td>\n",
              "    </tr>\n",
              "    <tr>\n",
              "      <th>4</th>\n",
              "      <td>200701BS66837</td>\n",
              "      <td>Slight</td>\n",
              "      <td>03-09-2019</td>\n",
              "      <td>51.488576</td>\n",
              "      <td>Darkness - lights lit</td>\n",
              "      <td>Kensington and Chelsea</td>\n",
              "      <td>-0.192487</td>\n",
              "      <td>1</td>\n",
              "      <td>2</td>\n",
              "      <td>Dry</td>\n",
              "      <td>NaN</td>\n",
              "      <td>Other vehicle</td>\n",
              "    </tr>\n",
              "    <tr>\n",
              "      <th>...</th>\n",
              "      <td>...</td>\n",
              "      <td>...</td>\n",
              "      <td>...</td>\n",
              "      <td>...</td>\n",
              "      <td>...</td>\n",
              "      <td>...</td>\n",
              "      <td>...</td>\n",
              "      <td>...</td>\n",
              "      <td>...</td>\n",
              "      <td>...</td>\n",
              "      <td>...</td>\n",
              "      <td>...</td>\n",
              "    </tr>\n",
              "    <tr>\n",
              "      <th>660674</th>\n",
              "      <td>201091NM01760</td>\n",
              "      <td>Slight</td>\n",
              "      <td>18-02-2022</td>\n",
              "      <td>57.374005</td>\n",
              "      <td>Daylight</td>\n",
              "      <td>Highland</td>\n",
              "      <td>-3.467828</td>\n",
              "      <td>2</td>\n",
              "      <td>1</td>\n",
              "      <td>Dry</td>\n",
              "      <td>Single carriageway</td>\n",
              "      <td>Car</td>\n",
              "    </tr>\n",
              "    <tr>\n",
              "      <th>660675</th>\n",
              "      <td>201091NM01881</td>\n",
              "      <td>Slight</td>\n",
              "      <td>21-02-2022</td>\n",
              "      <td>57.232273</td>\n",
              "      <td>Darkness - no lighting</td>\n",
              "      <td>Highland</td>\n",
              "      <td>-3.809281</td>\n",
              "      <td>1</td>\n",
              "      <td>1</td>\n",
              "      <td>Frost or ice</td>\n",
              "      <td>Single carriageway</td>\n",
              "      <td>Car</td>\n",
              "    </tr>\n",
              "    <tr>\n",
              "      <th>660676</th>\n",
              "      <td>201091NM01935</td>\n",
              "      <td>Slight</td>\n",
              "      <td>23-02-2022</td>\n",
              "      <td>57.585044</td>\n",
              "      <td>Daylight</td>\n",
              "      <td>Highland</td>\n",
              "      <td>-3.862727</td>\n",
              "      <td>1</td>\n",
              "      <td>3</td>\n",
              "      <td>Frost or ice</td>\n",
              "      <td>Single carriageway</td>\n",
              "      <td>Car</td>\n",
              "    </tr>\n",
              "    <tr>\n",
              "      <th>660677</th>\n",
              "      <td>201091NM01964</td>\n",
              "      <td>Serious</td>\n",
              "      <td>23-02-2022</td>\n",
              "      <td>57.214898</td>\n",
              "      <td>Darkness - no lighting</td>\n",
              "      <td>Highland</td>\n",
              "      <td>-3.823997</td>\n",
              "      <td>1</td>\n",
              "      <td>2</td>\n",
              "      <td>Wet or damp</td>\n",
              "      <td>Single carriageway</td>\n",
              "      <td>Motorcycle over 500cc</td>\n",
              "    </tr>\n",
              "    <tr>\n",
              "      <th>660678</th>\n",
              "      <td>201091NM02142</td>\n",
              "      <td>Serious</td>\n",
              "      <td>28-02-2022</td>\n",
              "      <td>57.575210</td>\n",
              "      <td>Daylight</td>\n",
              "      <td>Highland</td>\n",
              "      <td>-3.895673</td>\n",
              "      <td>1</td>\n",
              "      <td>1</td>\n",
              "      <td>Wet or damp</td>\n",
              "      <td>Dual carriageway</td>\n",
              "      <td>Car</td>\n",
              "    </tr>\n",
              "  </tbody>\n",
              "</table>\n",
              "<p>660679 rows × 12 columns</p>\n",
              "</div>"
            ],
            "text/plain": [
              "                Index Accident_Severity Accident Date   Latitude  \\\n",
              "0       200701BS64157           Serious    05-06-2019  51.506187   \n",
              "1       200701BS65737           Serious    02-07-2019  51.495029   \n",
              "2       200701BS66127           Serious    26-08-2019  51.517715   \n",
              "3       200701BS66128           Serious    16-08-2019  51.495478   \n",
              "4       200701BS66837            Slight    03-09-2019  51.488576   \n",
              "...               ...               ...           ...        ...   \n",
              "660674  201091NM01760            Slight    18-02-2022  57.374005   \n",
              "660675  201091NM01881            Slight    21-02-2022  57.232273   \n",
              "660676  201091NM01935            Slight    23-02-2022  57.585044   \n",
              "660677  201091NM01964           Serious    23-02-2022  57.214898   \n",
              "660678  201091NM02142           Serious    28-02-2022  57.575210   \n",
              "\n",
              "                   Light_Conditions           District Area  Longitude  \\\n",
              "0             Darkness - lights lit  Kensington and Chelsea  -0.209082   \n",
              "1                          Daylight  Kensington and Chelsea  -0.173647   \n",
              "2       Darkness - lighting unknown  Kensington and Chelsea  -0.210215   \n",
              "3                          Daylight  Kensington and Chelsea  -0.202731   \n",
              "4             Darkness - lights lit  Kensington and Chelsea  -0.192487   \n",
              "...                             ...                     ...        ...   \n",
              "660674                     Daylight                Highland  -3.467828   \n",
              "660675       Darkness - no lighting                Highland  -3.809281   \n",
              "660676                     Daylight                Highland  -3.862727   \n",
              "660677       Darkness - no lighting                Highland  -3.823997   \n",
              "660678                     Daylight                Highland  -3.895673   \n",
              "\n",
              "        Number_of_Casualties  Number_of_Vehicles Road_Surface_Conditions  \\\n",
              "0                          1                   2                     Dry   \n",
              "1                          1                   2             Wet or damp   \n",
              "2                          1                   3                     Dry   \n",
              "3                          1                   4                     Dry   \n",
              "4                          1                   2                     Dry   \n",
              "...                      ...                 ...                     ...   \n",
              "660674                     2                   1                     Dry   \n",
              "660675                     1                   1            Frost or ice   \n",
              "660676                     1                   3            Frost or ice   \n",
              "660677                     1                   2             Wet or damp   \n",
              "660678                     1                   1             Wet or damp   \n",
              "\n",
              "                 Road_Type                          Vehicle_Type  \n",
              "0       Single carriageway                                   Car  \n",
              "1       Single carriageway                                   Car  \n",
              "2                      NaN                 Taxi/Private hire car  \n",
              "3       Single carriageway  Bus or coach (17 or more pass seats)  \n",
              "4                      NaN                         Other vehicle  \n",
              "...                    ...                                   ...  \n",
              "660674  Single carriageway                                   Car  \n",
              "660675  Single carriageway                                   Car  \n",
              "660676  Single carriageway                                   Car  \n",
              "660677  Single carriageway                 Motorcycle over 500cc  \n",
              "660678    Dual carriageway                                   Car  \n",
              "\n",
              "[660679 rows x 12 columns]"
            ]
          },
          "execution_count": 14,
          "metadata": {},
          "output_type": "execute_result"
        }
      ],
      "source": [
        "df.drop(columns=['Urban_or_Rural_Area'], inplace=False)"
      ]
    },
    {
      "cell_type": "code",
      "execution_count": 15,
      "metadata": {},
      "outputs": [
        {
          "data": {
            "text/plain": [
              "(660679, 13)"
            ]
          },
          "execution_count": 15,
          "metadata": {},
          "output_type": "execute_result"
        }
      ],
      "source": [
        "df.shape"
      ]
    },
    {
      "cell_type": "code",
      "execution_count": 16,
      "metadata": {},
      "outputs": [
        {
          "data": {
            "text/plain": [
              "Index                         0\n",
              "Accident_Severity             0\n",
              "Accident Date                 0\n",
              "Latitude                     25\n",
              "Light_Conditions              0\n",
              "District Area                 0\n",
              "Longitude                    26\n",
              "Number_of_Casualties          0\n",
              "Number_of_Vehicles            0\n",
              "Road_Surface_Conditions     726\n",
              "Road_Type                  4520\n",
              "Urban_or_Rural_Area          15\n",
              "Vehicle_Type                  0\n",
              "dtype: int64"
            ]
          },
          "execution_count": 16,
          "metadata": {},
          "output_type": "execute_result"
        }
      ],
      "source": [
        "df.isnull().sum()"
      ]
    },
    {
      "cell_type": "markdown",
      "metadata": {},
      "source": [
        "### Check for duplicates"
      ]
    },
    {
      "cell_type": "code",
      "execution_count": 17,
      "metadata": {},
      "outputs": [
        {
          "name": "stdout",
          "output_type": "stream",
          "text": [
            "Duplicate entries found: True .\n"
          ]
        }
      ],
      "source": [
        "duplicate_check = df.duplicated().any()\n",
        "print('Duplicate entries found:', duplicate_check,'.')"
      ]
    },
    {
      "cell_type": "code",
      "execution_count": 18,
      "metadata": {},
      "outputs": [
        {
          "data": {
            "text/html": [
              "<div>\n",
              "<style scoped>\n",
              "    .dataframe tbody tr th:only-of-type {\n",
              "        vertical-align: middle;\n",
              "    }\n",
              "\n",
              "    .dataframe tbody tr th {\n",
              "        vertical-align: top;\n",
              "    }\n",
              "\n",
              "    .dataframe thead th {\n",
              "        text-align: right;\n",
              "    }\n",
              "</style>\n",
              "<table border=\"1\" class=\"dataframe\">\n",
              "  <thead>\n",
              "    <tr style=\"text-align: right;\">\n",
              "      <th></th>\n",
              "      <th>Index</th>\n",
              "      <th>Accident_Severity</th>\n",
              "      <th>Accident Date</th>\n",
              "      <th>Latitude</th>\n",
              "      <th>Light_Conditions</th>\n",
              "      <th>District Area</th>\n",
              "      <th>Longitude</th>\n",
              "      <th>Number_of_Casualties</th>\n",
              "      <th>Number_of_Vehicles</th>\n",
              "      <th>Road_Surface_Conditions</th>\n",
              "      <th>Road_Type</th>\n",
              "      <th>Urban_or_Rural_Area</th>\n",
              "      <th>Vehicle_Type</th>\n",
              "    </tr>\n",
              "  </thead>\n",
              "  <tbody>\n",
              "    <tr>\n",
              "      <th>23265</th>\n",
              "      <td>2.01E+12</td>\n",
              "      <td>Serious</td>\n",
              "      <td>02-01-2019</td>\n",
              "      <td>54.118079</td>\n",
              "      <td>Darkness - lights lit</td>\n",
              "      <td>Barrow-in-Furness</td>\n",
              "      <td>-3.227114</td>\n",
              "      <td>1</td>\n",
              "      <td>1</td>\n",
              "      <td>Dry</td>\n",
              "      <td>Single carriageway</td>\n",
              "      <td>Urban</td>\n",
              "      <td>Car</td>\n",
              "    </tr>\n",
              "    <tr>\n",
              "      <th>23266</th>\n",
              "      <td>2.01E+12</td>\n",
              "      <td>Slight</td>\n",
              "      <td>03-01-2019</td>\n",
              "      <td>54.226916</td>\n",
              "      <td>Daylight</td>\n",
              "      <td>South Lakeland</td>\n",
              "      <td>-2.773521</td>\n",
              "      <td>1</td>\n",
              "      <td>2</td>\n",
              "      <td>Wet or damp</td>\n",
              "      <td>Single carriageway</td>\n",
              "      <td>Rural</td>\n",
              "      <td>Car</td>\n",
              "    </tr>\n",
              "    <tr>\n",
              "      <th>23267</th>\n",
              "      <td>2.01E+12</td>\n",
              "      <td>Slight</td>\n",
              "      <td>04-01-2019</td>\n",
              "      <td>54.344991</td>\n",
              "      <td>Daylight</td>\n",
              "      <td>South Lakeland</td>\n",
              "      <td>-2.777121</td>\n",
              "      <td>1</td>\n",
              "      <td>2</td>\n",
              "      <td>Wet or damp</td>\n",
              "      <td>Single carriageway</td>\n",
              "      <td>Rural</td>\n",
              "      <td>Car</td>\n",
              "    </tr>\n",
              "    <tr>\n",
              "      <th>23268</th>\n",
              "      <td>2.01E+12</td>\n",
              "      <td>Slight</td>\n",
              "      <td>05-01-2019</td>\n",
              "      <td>54.330220</td>\n",
              "      <td>Daylight</td>\n",
              "      <td>South Lakeland</td>\n",
              "      <td>-2.739167</td>\n",
              "      <td>1</td>\n",
              "      <td>1</td>\n",
              "      <td>Wet or damp</td>\n",
              "      <td>One way street</td>\n",
              "      <td>Urban</td>\n",
              "      <td>Car</td>\n",
              "    </tr>\n",
              "    <tr>\n",
              "      <th>23269</th>\n",
              "      <td>2.01E+12</td>\n",
              "      <td>Slight</td>\n",
              "      <td>05-01-2019</td>\n",
              "      <td>54.260714</td>\n",
              "      <td>Daylight</td>\n",
              "      <td>South Lakeland</td>\n",
              "      <td>-2.813915</td>\n",
              "      <td>1</td>\n",
              "      <td>1</td>\n",
              "      <td>Wet or damp</td>\n",
              "      <td>Dual carriageway</td>\n",
              "      <td>Rural</td>\n",
              "      <td>Bus or coach (17 or more pass seats)</td>\n",
              "    </tr>\n",
              "    <tr>\n",
              "      <th>...</th>\n",
              "      <td>...</td>\n",
              "      <td>...</td>\n",
              "      <td>...</td>\n",
              "      <td>...</td>\n",
              "      <td>...</td>\n",
              "      <td>...</td>\n",
              "      <td>...</td>\n",
              "      <td>...</td>\n",
              "      <td>...</td>\n",
              "      <td>...</td>\n",
              "      <td>...</td>\n",
              "      <td>...</td>\n",
              "      <td>...</td>\n",
              "    </tr>\n",
              "    <tr>\n",
              "      <th>658928</th>\n",
              "      <td>2.01E+12</td>\n",
              "      <td>Slight</td>\n",
              "      <td>11-12-2022</td>\n",
              "      <td>51.532465</td>\n",
              "      <td>Darkness - lights lit</td>\n",
              "      <td>Bridgend</td>\n",
              "      <td>-3.667600</td>\n",
              "      <td>1</td>\n",
              "      <td>1</td>\n",
              "      <td>Wet or damp</td>\n",
              "      <td>Single carriageway</td>\n",
              "      <td>Rural</td>\n",
              "      <td>Car</td>\n",
              "    </tr>\n",
              "    <tr>\n",
              "      <th>658929</th>\n",
              "      <td>2.01E+12</td>\n",
              "      <td>Slight</td>\n",
              "      <td>12-12-2022</td>\n",
              "      <td>51.512353</td>\n",
              "      <td>Daylight</td>\n",
              "      <td>Bridgend</td>\n",
              "      <td>-3.587602</td>\n",
              "      <td>1</td>\n",
              "      <td>2</td>\n",
              "      <td>Wet or damp</td>\n",
              "      <td>Single carriageway</td>\n",
              "      <td>Urban</td>\n",
              "      <td>Car</td>\n",
              "    </tr>\n",
              "    <tr>\n",
              "      <th>658930</th>\n",
              "      <td>2.01E+12</td>\n",
              "      <td>Slight</td>\n",
              "      <td>26-11-2022</td>\n",
              "      <td>51.486706</td>\n",
              "      <td>Daylight</td>\n",
              "      <td>Cardiff</td>\n",
              "      <td>-3.177227</td>\n",
              "      <td>1</td>\n",
              "      <td>1</td>\n",
              "      <td>Dry</td>\n",
              "      <td>Single carriageway</td>\n",
              "      <td>Urban</td>\n",
              "      <td>Car</td>\n",
              "    </tr>\n",
              "    <tr>\n",
              "      <th>658931</th>\n",
              "      <td>2.01E+12</td>\n",
              "      <td>Slight</td>\n",
              "      <td>09-10-2022</td>\n",
              "      <td>51.626186</td>\n",
              "      <td>Daylight</td>\n",
              "      <td>Swansea</td>\n",
              "      <td>-3.941213</td>\n",
              "      <td>1</td>\n",
              "      <td>1</td>\n",
              "      <td>Dry</td>\n",
              "      <td>Single carriageway</td>\n",
              "      <td>Urban</td>\n",
              "      <td>Car</td>\n",
              "    </tr>\n",
              "    <tr>\n",
              "      <th>658932</th>\n",
              "      <td>2.01E+12</td>\n",
              "      <td>Slight</td>\n",
              "      <td>13-11-2022</td>\n",
              "      <td>51.654072</td>\n",
              "      <td>Daylight</td>\n",
              "      <td>Neath Port Talbot</td>\n",
              "      <td>-3.793642</td>\n",
              "      <td>1</td>\n",
              "      <td>2</td>\n",
              "      <td>Dry</td>\n",
              "      <td>Single carriageway</td>\n",
              "      <td>Urban</td>\n",
              "      <td>Car</td>\n",
              "    </tr>\n",
              "  </tbody>\n",
              "</table>\n",
              "<p>239790 rows × 13 columns</p>\n",
              "</div>"
            ],
            "text/plain": [
              "           Index Accident_Severity Accident Date   Latitude  \\\n",
              "23265   2.01E+12           Serious    02-01-2019  54.118079   \n",
              "23266   2.01E+12            Slight    03-01-2019  54.226916   \n",
              "23267   2.01E+12            Slight    04-01-2019  54.344991   \n",
              "23268   2.01E+12            Slight    05-01-2019  54.330220   \n",
              "23269   2.01E+12            Slight    05-01-2019  54.260714   \n",
              "...          ...               ...           ...        ...   \n",
              "658928  2.01E+12            Slight    11-12-2022  51.532465   \n",
              "658929  2.01E+12            Slight    12-12-2022  51.512353   \n",
              "658930  2.01E+12            Slight    26-11-2022  51.486706   \n",
              "658931  2.01E+12            Slight    09-10-2022  51.626186   \n",
              "658932  2.01E+12            Slight    13-11-2022  51.654072   \n",
              "\n",
              "             Light_Conditions      District Area  Longitude  \\\n",
              "23265   Darkness - lights lit  Barrow-in-Furness  -3.227114   \n",
              "23266                Daylight     South Lakeland  -2.773521   \n",
              "23267                Daylight     South Lakeland  -2.777121   \n",
              "23268                Daylight     South Lakeland  -2.739167   \n",
              "23269                Daylight     South Lakeland  -2.813915   \n",
              "...                       ...                ...        ...   \n",
              "658928  Darkness - lights lit           Bridgend  -3.667600   \n",
              "658929               Daylight           Bridgend  -3.587602   \n",
              "658930               Daylight            Cardiff  -3.177227   \n",
              "658931               Daylight            Swansea  -3.941213   \n",
              "658932               Daylight  Neath Port Talbot  -3.793642   \n",
              "\n",
              "        Number_of_Casualties  Number_of_Vehicles Road_Surface_Conditions  \\\n",
              "23265                      1                   1                     Dry   \n",
              "23266                      1                   2             Wet or damp   \n",
              "23267                      1                   2             Wet or damp   \n",
              "23268                      1                   1             Wet or damp   \n",
              "23269                      1                   1             Wet or damp   \n",
              "...                      ...                 ...                     ...   \n",
              "658928                     1                   1             Wet or damp   \n",
              "658929                     1                   2             Wet or damp   \n",
              "658930                     1                   1                     Dry   \n",
              "658931                     1                   1                     Dry   \n",
              "658932                     1                   2                     Dry   \n",
              "\n",
              "                 Road_Type Urban_or_Rural_Area  \\\n",
              "23265   Single carriageway               Urban   \n",
              "23266   Single carriageway               Rural   \n",
              "23267   Single carriageway               Rural   \n",
              "23268       One way street               Urban   \n",
              "23269     Dual carriageway               Rural   \n",
              "...                    ...                 ...   \n",
              "658928  Single carriageway               Rural   \n",
              "658929  Single carriageway               Urban   \n",
              "658930  Single carriageway               Urban   \n",
              "658931  Single carriageway               Urban   \n",
              "658932  Single carriageway               Urban   \n",
              "\n",
              "                                Vehicle_Type  \n",
              "23265                                    Car  \n",
              "23266                                    Car  \n",
              "23267                                    Car  \n",
              "23268                                    Car  \n",
              "23269   Bus or coach (17 or more pass seats)  \n",
              "...                                      ...  \n",
              "658928                                   Car  \n",
              "658929                                   Car  \n",
              "658930                                   Car  \n",
              "658931                                   Car  \n",
              "658932                                   Car  \n",
              "\n",
              "[239790 rows x 13 columns]"
            ]
          },
          "execution_count": 18,
          "metadata": {},
          "output_type": "execute_result"
        }
      ],
      "source": [
        "duplicates_in_index = df[df.duplicated(subset='Index', keep=False)]\n",
        "duplicates_in_index"
      ]
    },
    {
      "cell_type": "markdown",
      "metadata": {},
      "source": [
        "Checking the duplicate rows, we can see that although the index is the same, the rest of the rows contain different data. In this case we won't be dropping the duplicated rows."
      ]
    },
    {
      "cell_type": "markdown",
      "metadata": {},
      "source": [
        "### Filter for Birmingham"
      ]
    },
    {
      "cell_type": "code",
      "execution_count": 19,
      "metadata": {},
      "outputs": [],
      "source": [
        "cities = ['Warwick', 'Birmingham', 'Coventry', 'Dudley', 'Sandwell', 'Solihull', 'Walsall', 'Wolverhampton', 'Nuneaton and Bedworth']\n",
        "\n",
        "filtered_df = df[df['District Area'].isin(cities)]\n",
        "filtered_df.to_csv(\"your_file.csv\", index=False)"
      ]
    },
    {
      "cell_type": "code",
      "execution_count": 20,
      "metadata": {},
      "outputs": [
        {
          "data": {
            "text/plain": [
              "(32674, 13)"
            ]
          },
          "execution_count": 20,
          "metadata": {},
          "output_type": "execute_result"
        }
      ],
      "source": [
        "filtered_df.shape"
      ]
    },
    {
      "cell_type": "code",
      "execution_count": 21,
      "metadata": {},
      "outputs": [
        {
          "data": {
            "text/plain": [
              "Index                       0\n",
              "Accident_Severity           0\n",
              "Accident Date               0\n",
              "Latitude                    0\n",
              "Light_Conditions            0\n",
              "District Area               0\n",
              "Longitude                   0\n",
              "Number_of_Casualties        0\n",
              "Number_of_Vehicles          0\n",
              "Road_Surface_Conditions     0\n",
              "Road_Type                  17\n",
              "Urban_or_Rural_Area         0\n",
              "Vehicle_Type                0\n",
              "dtype: int64"
            ]
          },
          "execution_count": 21,
          "metadata": {},
          "output_type": "execute_result"
        }
      ],
      "source": [
        "filtered_df.isnull().sum()"
      ]
    },
    {
      "cell_type": "markdown",
      "metadata": {},
      "source": [
        "NOTE"
      ]
    },
    {
      "cell_type": "code",
      "execution_count": 22,
      "metadata": {},
      "outputs": [],
      "source": [
        "filtered_df = filtered_df.dropna(subset=['Road_Type'])"
      ]
    },
    {
      "cell_type": "code",
      "execution_count": 23,
      "metadata": {},
      "outputs": [
        {
          "data": {
            "text/plain": [
              "Index                      0\n",
              "Accident_Severity          0\n",
              "Accident Date              0\n",
              "Latitude                   0\n",
              "Light_Conditions           0\n",
              "District Area              0\n",
              "Longitude                  0\n",
              "Number_of_Casualties       0\n",
              "Number_of_Vehicles         0\n",
              "Road_Surface_Conditions    0\n",
              "Road_Type                  0\n",
              "Urban_or_Rural_Area        0\n",
              "Vehicle_Type               0\n",
              "dtype: int64"
            ]
          },
          "execution_count": 23,
          "metadata": {},
          "output_type": "execute_result"
        }
      ],
      "source": [
        "filtered_df.isnull().sum()"
      ]
    },
    {
      "cell_type": "markdown",
      "metadata": {},
      "source": [
        "* You may add as many sections as you want, as long as it supports your project workflow.\n",
        "* All notebook's cells should be run top-down (you can't create a dynamic wherein a given point you need to go back to a previous cell to execute some task, like go back to a previous cell and refresh a variable content)"
      ]
    },
    {
      "cell_type": "markdown",
      "metadata": {},
      "source": [
        "---"
      ]
    },
    {
      "cell_type": "code",
      "execution_count": 24,
      "metadata": {},
      "outputs": [
        {
          "data": {
            "text/plain": [
              "array(['Birmingham', 'Wolverhampton', 'Walsall', 'Dudley', 'Sandwell',\n",
              "       'Solihull', 'Coventry', 'Warwick', 'Nuneaton and Bedworth'],\n",
              "      dtype=object)"
            ]
          },
          "execution_count": 24,
          "metadata": {},
          "output_type": "execute_result"
        }
      ],
      "source": [
        "# check unique values in District Area\n",
        "filtered_df['District Area'].unique()"
      ]
    },
    {
      "cell_type": "code",
      "execution_count": 25,
      "metadata": {},
      "outputs": [],
      "source": [
        "filtered_df.to_csv(\"filtered_accident_data_set.csv\", index=False)"
      ]
    },
    {
      "cell_type": "markdown",
      "metadata": {
        "id": "ltNetd085qHf"
      },
      "source": [
        "# Push files to Repo"
      ]
    },
    {
      "cell_type": "markdown",
      "metadata": {},
      "source": [
        "* In cases where you don't need to push files to Repo, you may replace this section with \"Conclusions and Next Steps\" and state your conclusions and next steps."
      ]
    }
  ],
  "metadata": {
    "accelerator": "GPU",
    "colab": {
      "name": "Data Practitioner Jupyter Notebook.ipynb",
      "provenance": [],
      "toc_visible": true
    },
    "kernelspec": {
      "display_name": ".venv",
      "language": "python",
      "name": "python3"
    },
    "language_info": {
      "codemirror_mode": {
        "name": "ipython",
        "version": 3
      },
      "file_extension": ".py",
      "mimetype": "text/x-python",
      "name": "python",
      "nbconvert_exporter": "python",
      "pygments_lexer": "ipython3",
      "version": "3.12.8"
    },
    "orig_nbformat": 2
  },
  "nbformat": 4,
  "nbformat_minor": 2
}
