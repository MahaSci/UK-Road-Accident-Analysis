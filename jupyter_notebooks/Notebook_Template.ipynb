{
  "cells": [
    {
      "cell_type": "markdown",
      "metadata": {
        "id": "0aStgWSO0E0E"
      },
      "source": [
        "# **(ADD THE NOTEBOOK NAME HERE)**"
      ]
    },
    {
      "cell_type": "markdown",
      "metadata": {
        "id": "1eLEkw5O0ECa"
      },
      "source": [
        "## Objectives\n",
        "\n",
        "* Write your notebook objective here, for example, \"Fetch data from Kaggle and save as raw data\", or \"engineer features for modelling\"\n",
        "\n",
        "## Inputs\n",
        "\n",
        "* Write down which data or information you need to run the notebook \n",
        "\n",
        "## Outputs\n",
        "\n",
        "* Write here which files, code or artefacts you generate by the end of the notebook \n",
        "\n",
        "## Additional Comments\n",
        "\n",
        "* If you have any additional comments that don't fit in the previous bullets, please state them here. \n",
        "\n"
      ]
    },
    {
      "cell_type": "markdown",
      "metadata": {
        "id": "9uWZXH9LwoQg"
      },
      "source": [
        "---"
      ]
    },
    {
      "cell_type": "markdown",
      "metadata": {
        "id": "cqP-UeN-z3i2"
      },
      "source": [
        "# Change working directory"
      ]
    },
    {
      "cell_type": "markdown",
      "metadata": {},
      "source": [
        "* We are assuming you will store the notebooks in a subfolder, therefore when running the notebook in the editor, you will need to change the working directory"
      ]
    },
    {
      "cell_type": "markdown",
      "metadata": {
        "id": "aOGIGS-uz3i2"
      },
      "source": [
        "We need to change the working directory from its current folder to its parent folder\n",
        "* We access the current directory with os.getcwd()"
      ]
    },
    {
      "cell_type": "code",
      "execution_count": 1,
      "metadata": {
        "id": "wZfF_j-Bz3i4",
        "outputId": "66943449-1436-4c3d-85c7-b85f9f78349b"
      },
      "outputs": [
        {
          "data": {
            "text/plain": [
              "'c:\\\\Users\\\\sayed\\\\OneDrive\\\\Documents\\\\Code institute\\\\UK-Road-Accident-Analysis\\\\jupyter_notebooks'"
            ]
          },
          "execution_count": 1,
          "metadata": {},
          "output_type": "execute_result"
        }
      ],
      "source": [
        "import os\n",
        "current_dir = os.getcwd()\n",
        "current_dir"
      ]
    },
    {
      "cell_type": "markdown",
      "metadata": {
        "id": "9MWW8E7lz3i7"
      },
      "source": [
        "We want to make the parent of the current directory the new current directory\n",
        "* os.path.dirname() gets the parent directory\n",
        "* os.chir() defines the new current directory"
      ]
    },
    {
      "cell_type": "code",
      "execution_count": 2,
      "metadata": {
        "id": "TwHsQRWjz3i9",
        "outputId": "86849db3-cd2f-4cc5-ebb8-2d0caafa1a2c"
      },
      "outputs": [
        {
          "name": "stdout",
          "output_type": "stream",
          "text": [
            "You set a new current directory\n"
          ]
        }
      ],
      "source": [
        "os.chdir(os.path.dirname(current_dir))\n",
        "print(\"You set a new current directory\")"
      ]
    },
    {
      "cell_type": "markdown",
      "metadata": {
        "id": "M_xPk_Ijz3i-"
      },
      "source": [
        "Confirm the new current directory"
      ]
    },
    {
      "cell_type": "code",
      "execution_count": 3,
      "metadata": {
        "id": "vz3S-_kjz3jA",
        "outputId": "00b79ae4-75d0-4a96-d193-ac9ef9847ea2"
      },
      "outputs": [
        {
          "data": {
            "text/plain": [
              "'c:\\\\Users\\\\sayed\\\\OneDrive\\\\Documents\\\\Code institute\\\\UK-Road-Accident-Analysis'"
            ]
          },
          "execution_count": 3,
          "metadata": {},
          "output_type": "execute_result"
        }
      ],
      "source": [
        "current_dir = os.getcwd()\n",
        "current_dir"
      ]
    },
    {
      "cell_type": "markdown",
      "metadata": {
        "id": "-mavJ8DibrcQ"
      },
      "source": [
        "# Section 1"
      ]
    },
    {
      "cell_type": "markdown",
      "metadata": {},
      "source": [
        "Section 1 content"
      ]
    },
    {
      "cell_type": "code",
      "execution_count": 10,
      "metadata": {},
      "outputs": [
        {
          "data": {
            "application/vnd.microsoft.datawrangler.viewer.v0+json": {
              "columns": [
                {
                  "name": "index",
                  "rawType": "int64",
                  "type": "integer"
                },
                {
                  "name": "Unnamed: 0",
                  "rawType": "int64",
                  "type": "integer"
                },
                {
                  "name": "Accident_Index",
                  "rawType": "object",
                  "type": "string"
                },
                {
                  "name": "Location_Easting_OSGR",
                  "rawType": "float64",
                  "type": "float"
                },
                {
                  "name": "Location_Northing_OSGR",
                  "rawType": "float64",
                  "type": "float"
                },
                {
                  "name": "Longitude",
                  "rawType": "float64",
                  "type": "float"
                },
                {
                  "name": "Latitude",
                  "rawType": "float64",
                  "type": "float"
                },
                {
                  "name": "Police_Force",
                  "rawType": "int64",
                  "type": "integer"
                },
                {
                  "name": "Accident_Severity",
                  "rawType": "int64",
                  "type": "integer"
                },
                {
                  "name": "Number_of_Vehicles",
                  "rawType": "int64",
                  "type": "integer"
                },
                {
                  "name": "Number_of_Casualties",
                  "rawType": "int64",
                  "type": "integer"
                },
                {
                  "name": "Date",
                  "rawType": "object",
                  "type": "string"
                },
                {
                  "name": "Day_of_Week",
                  "rawType": "int64",
                  "type": "integer"
                },
                {
                  "name": "Time",
                  "rawType": "object",
                  "type": "string"
                },
                {
                  "name": "Local_Authority_(District)",
                  "rawType": "int64",
                  "type": "integer"
                },
                {
                  "name": "Local_Authority_(Highway)",
                  "rawType": "object",
                  "type": "string"
                },
                {
                  "name": "1st_Road_Class",
                  "rawType": "int64",
                  "type": "integer"
                },
                {
                  "name": "1st_Road_Number",
                  "rawType": "int64",
                  "type": "integer"
                },
                {
                  "name": "Road_Type",
                  "rawType": "object",
                  "type": "string"
                },
                {
                  "name": "Speed_limit",
                  "rawType": "int64",
                  "type": "integer"
                },
                {
                  "name": "Junction_Control",
                  "rawType": "object",
                  "type": "string"
                },
                {
                  "name": "2nd_Road_Class",
                  "rawType": "int64",
                  "type": "integer"
                },
                {
                  "name": "2nd_Road_Number",
                  "rawType": "int64",
                  "type": "integer"
                },
                {
                  "name": "Pedestrian_Crossing-Human_Control",
                  "rawType": "object",
                  "type": "string"
                },
                {
                  "name": "Pedestrian_Crossing-Physical_Facilities",
                  "rawType": "object",
                  "type": "string"
                },
                {
                  "name": "Light_Conditions",
                  "rawType": "object",
                  "type": "string"
                },
                {
                  "name": "Weather_Conditions",
                  "rawType": "object",
                  "type": "string"
                },
                {
                  "name": "Road_Surface_Conditions",
                  "rawType": "object",
                  "type": "string"
                },
                {
                  "name": "Special_Conditions_at_Site",
                  "rawType": "object",
                  "type": "unknown"
                },
                {
                  "name": "Carriageway_Hazards",
                  "rawType": "object",
                  "type": "unknown"
                },
                {
                  "name": "Urban_or_Rural_Area",
                  "rawType": "int64",
                  "type": "integer"
                },
                {
                  "name": "Did_Police_Officer_Attend_Scene_of_Accident",
                  "rawType": "object",
                  "type": "string"
                },
                {
                  "name": "LSOA_of_Accident_Location",
                  "rawType": "object",
                  "type": "string"
                },
                {
                  "name": "Year",
                  "rawType": "int64",
                  "type": "integer"
                }
              ],
              "conversionMethod": "pd.DataFrame",
              "ref": "c828b422-0019-4920-b325-4745b719508e",
              "rows": [
                [
                  "0",
                  "77220",
                  "200520D002602",
                  "411470.0",
                  "293030.0",
                  "-1.832342",
                  "52.534986",
                  "20",
                  "2",
                  "1",
                  "3",
                  "01/01/2005",
                  "7",
                  "20:23",
                  "300",
                  "E08000025",
                  "5",
                  "0",
                  "Single carriageway",
                  "30",
                  "Giveway or uncontrolled",
                  "5",
                  "0",
                  "None within 50 metres",
                  "non-junction pedestrian crossing",
                  "Darkness: Street lights present and lit",
                  "Fine with high winds",
                  "Wet/Damp",
                  null,
                  null,
                  "1",
                  "Yes",
                  "E01009462",
                  "2005"
                ],
                [
                  "1",
                  "77221",
                  "200520D002703",
                  "410540.0",
                  "285350.0",
                  "-1.846293",
                  "52.465961",
                  "20",
                  "3",
                  "2",
                  "2",
                  "02/01/2005",
                  "1",
                  "18:45",
                  "300",
                  "E08000025",
                  "5",
                  "0",
                  "Single carriageway",
                  "30",
                  "Automatic traffic signal",
                  "5",
                  "0",
                  "None within 50 metres",
                  "Pedestrian phase at traffic signal junction",
                  "Daylight: Street light present",
                  "Fine without high winds",
                  "Dry",
                  null,
                  null,
                  "1",
                  "Yes",
                  "E01009337",
                  "2005"
                ],
                [
                  "2",
                  "77222",
                  "200520D004203",
                  "414090.0",
                  "284140.0",
                  "-1.794089",
                  "52.455003",
                  "20",
                  "3",
                  "1",
                  "1",
                  "03/01/2005",
                  "2",
                  "17:04",
                  "300",
                  "E08000025",
                  "3",
                  "45",
                  "Dual carriageway",
                  "40",
                  "Giveway or uncontrolled",
                  "6",
                  "0",
                  "None within 50 metres",
                  "non-junction pedestrian crossing",
                  "Daylight: Street light present",
                  "Fine without high winds",
                  "Frost/Ice",
                  null,
                  null,
                  "1",
                  "Yes",
                  "E01009316",
                  "2005"
                ],
                [
                  "3",
                  "77223",
                  "200520D004603",
                  "408930.0",
                  "286770.0",
                  "-1.869954",
                  "52.478755",
                  "20",
                  "1",
                  "1",
                  "2",
                  "05/01/2005",
                  "4",
                  "15:05",
                  "300",
                  "E08000025",
                  "6",
                  "0",
                  "Single carriageway",
                  "30",
                  "Giveway or uncontrolled",
                  "6",
                  "0",
                  "None within 50 metres",
                  "No physical crossing within 50 meters",
                  "Daylight: Street light present",
                  "Fine without high winds",
                  "Dry",
                  null,
                  null,
                  "1",
                  "Yes",
                  "E01009199",
                  "2005"
                ],
                [
                  "4",
                  "77224",
                  "200520D006503",
                  "409780.0",
                  "285710.0",
                  "-1.85747",
                  "52.469211",
                  "20",
                  "3",
                  "2",
                  "1",
                  "05/01/2005",
                  "4",
                  "22:00",
                  "300",
                  "E08000025",
                  "6",
                  "0",
                  "Dual carriageway",
                  "30",
                  "Automatic traffic signal",
                  "4",
                  "4145",
                  "None within 50 metres",
                  "Central refuge",
                  "Darkness: Street lights present and lit",
                  "Fine without high winds",
                  "Wet/Damp",
                  null,
                  null,
                  "1",
                  "Yes",
                  "E01009380",
                  "2005"
                ]
              ],
              "shape": {
                "columns": 33,
                "rows": 5
              }
            },
            "text/html": [
              "<div>\n",
              "<style scoped>\n",
              "    .dataframe tbody tr th:only-of-type {\n",
              "        vertical-align: middle;\n",
              "    }\n",
              "\n",
              "    .dataframe tbody tr th {\n",
              "        vertical-align: top;\n",
              "    }\n",
              "\n",
              "    .dataframe thead th {\n",
              "        text-align: right;\n",
              "    }\n",
              "</style>\n",
              "<table border=\"1\" class=\"dataframe\">\n",
              "  <thead>\n",
              "    <tr style=\"text-align: right;\">\n",
              "      <th></th>\n",
              "      <th>Unnamed: 0</th>\n",
              "      <th>Accident_Index</th>\n",
              "      <th>Location_Easting_OSGR</th>\n",
              "      <th>Location_Northing_OSGR</th>\n",
              "      <th>Longitude</th>\n",
              "      <th>Latitude</th>\n",
              "      <th>Police_Force</th>\n",
              "      <th>Accident_Severity</th>\n",
              "      <th>Number_of_Vehicles</th>\n",
              "      <th>Number_of_Casualties</th>\n",
              "      <th>...</th>\n",
              "      <th>Pedestrian_Crossing-Physical_Facilities</th>\n",
              "      <th>Light_Conditions</th>\n",
              "      <th>Weather_Conditions</th>\n",
              "      <th>Road_Surface_Conditions</th>\n",
              "      <th>Special_Conditions_at_Site</th>\n",
              "      <th>Carriageway_Hazards</th>\n",
              "      <th>Urban_or_Rural_Area</th>\n",
              "      <th>Did_Police_Officer_Attend_Scene_of_Accident</th>\n",
              "      <th>LSOA_of_Accident_Location</th>\n",
              "      <th>Year</th>\n",
              "    </tr>\n",
              "  </thead>\n",
              "  <tbody>\n",
              "    <tr>\n",
              "      <th>0</th>\n",
              "      <td>77220</td>\n",
              "      <td>200520D002602</td>\n",
              "      <td>411470.0</td>\n",
              "      <td>293030.0</td>\n",
              "      <td>-1.832342</td>\n",
              "      <td>52.534986</td>\n",
              "      <td>20</td>\n",
              "      <td>2</td>\n",
              "      <td>1</td>\n",
              "      <td>3</td>\n",
              "      <td>...</td>\n",
              "      <td>non-junction pedestrian crossing</td>\n",
              "      <td>Darkness: Street lights present and lit</td>\n",
              "      <td>Fine with high winds</td>\n",
              "      <td>Wet/Damp</td>\n",
              "      <td>NaN</td>\n",
              "      <td>NaN</td>\n",
              "      <td>1</td>\n",
              "      <td>Yes</td>\n",
              "      <td>E01009462</td>\n",
              "      <td>2005</td>\n",
              "    </tr>\n",
              "    <tr>\n",
              "      <th>1</th>\n",
              "      <td>77221</td>\n",
              "      <td>200520D002703</td>\n",
              "      <td>410540.0</td>\n",
              "      <td>285350.0</td>\n",
              "      <td>-1.846293</td>\n",
              "      <td>52.465961</td>\n",
              "      <td>20</td>\n",
              "      <td>3</td>\n",
              "      <td>2</td>\n",
              "      <td>2</td>\n",
              "      <td>...</td>\n",
              "      <td>Pedestrian phase at traffic signal junction</td>\n",
              "      <td>Daylight: Street light present</td>\n",
              "      <td>Fine without high winds</td>\n",
              "      <td>Dry</td>\n",
              "      <td>NaN</td>\n",
              "      <td>NaN</td>\n",
              "      <td>1</td>\n",
              "      <td>Yes</td>\n",
              "      <td>E01009337</td>\n",
              "      <td>2005</td>\n",
              "    </tr>\n",
              "    <tr>\n",
              "      <th>2</th>\n",
              "      <td>77222</td>\n",
              "      <td>200520D004203</td>\n",
              "      <td>414090.0</td>\n",
              "      <td>284140.0</td>\n",
              "      <td>-1.794089</td>\n",
              "      <td>52.455003</td>\n",
              "      <td>20</td>\n",
              "      <td>3</td>\n",
              "      <td>1</td>\n",
              "      <td>1</td>\n",
              "      <td>...</td>\n",
              "      <td>non-junction pedestrian crossing</td>\n",
              "      <td>Daylight: Street light present</td>\n",
              "      <td>Fine without high winds</td>\n",
              "      <td>Frost/Ice</td>\n",
              "      <td>NaN</td>\n",
              "      <td>NaN</td>\n",
              "      <td>1</td>\n",
              "      <td>Yes</td>\n",
              "      <td>E01009316</td>\n",
              "      <td>2005</td>\n",
              "    </tr>\n",
              "    <tr>\n",
              "      <th>3</th>\n",
              "      <td>77223</td>\n",
              "      <td>200520D004603</td>\n",
              "      <td>408930.0</td>\n",
              "      <td>286770.0</td>\n",
              "      <td>-1.869954</td>\n",
              "      <td>52.478755</td>\n",
              "      <td>20</td>\n",
              "      <td>1</td>\n",
              "      <td>1</td>\n",
              "      <td>2</td>\n",
              "      <td>...</td>\n",
              "      <td>No physical crossing within 50 meters</td>\n",
              "      <td>Daylight: Street light present</td>\n",
              "      <td>Fine without high winds</td>\n",
              "      <td>Dry</td>\n",
              "      <td>NaN</td>\n",
              "      <td>NaN</td>\n",
              "      <td>1</td>\n",
              "      <td>Yes</td>\n",
              "      <td>E01009199</td>\n",
              "      <td>2005</td>\n",
              "    </tr>\n",
              "    <tr>\n",
              "      <th>4</th>\n",
              "      <td>77224</td>\n",
              "      <td>200520D006503</td>\n",
              "      <td>409780.0</td>\n",
              "      <td>285710.0</td>\n",
              "      <td>-1.857470</td>\n",
              "      <td>52.469211</td>\n",
              "      <td>20</td>\n",
              "      <td>3</td>\n",
              "      <td>2</td>\n",
              "      <td>1</td>\n",
              "      <td>...</td>\n",
              "      <td>Central refuge</td>\n",
              "      <td>Darkness: Street lights present and lit</td>\n",
              "      <td>Fine without high winds</td>\n",
              "      <td>Wet/Damp</td>\n",
              "      <td>NaN</td>\n",
              "      <td>NaN</td>\n",
              "      <td>1</td>\n",
              "      <td>Yes</td>\n",
              "      <td>E01009380</td>\n",
              "      <td>2005</td>\n",
              "    </tr>\n",
              "  </tbody>\n",
              "</table>\n",
              "<p>5 rows × 33 columns</p>\n",
              "</div>"
            ],
            "text/plain": [
              "   Unnamed: 0 Accident_Index  Location_Easting_OSGR  Location_Northing_OSGR  \\\n",
              "0       77220  200520D002602               411470.0                293030.0   \n",
              "1       77221  200520D002703               410540.0                285350.0   \n",
              "2       77222  200520D004203               414090.0                284140.0   \n",
              "3       77223  200520D004603               408930.0                286770.0   \n",
              "4       77224  200520D006503               409780.0                285710.0   \n",
              "\n",
              "   Longitude   Latitude  Police_Force  Accident_Severity  Number_of_Vehicles  \\\n",
              "0  -1.832342  52.534986            20                  2                   1   \n",
              "1  -1.846293  52.465961            20                  3                   2   \n",
              "2  -1.794089  52.455003            20                  3                   1   \n",
              "3  -1.869954  52.478755            20                  1                   1   \n",
              "4  -1.857470  52.469211            20                  3                   2   \n",
              "\n",
              "   Number_of_Casualties  ...      Pedestrian_Crossing-Physical_Facilities  \\\n",
              "0                     3  ...             non-junction pedestrian crossing   \n",
              "1                     2  ...  Pedestrian phase at traffic signal junction   \n",
              "2                     1  ...             non-junction pedestrian crossing   \n",
              "3                     2  ...        No physical crossing within 50 meters   \n",
              "4                     1  ...                               Central refuge   \n",
              "\n",
              "                          Light_Conditions       Weather_Conditions  \\\n",
              "0  Darkness: Street lights present and lit     Fine with high winds   \n",
              "1           Daylight: Street light present  Fine without high winds   \n",
              "2           Daylight: Street light present  Fine without high winds   \n",
              "3           Daylight: Street light present  Fine without high winds   \n",
              "4  Darkness: Street lights present and lit  Fine without high winds   \n",
              "\n",
              "   Road_Surface_Conditions Special_Conditions_at_Site  Carriageway_Hazards  \\\n",
              "0                 Wet/Damp                        NaN                  NaN   \n",
              "1                      Dry                        NaN                  NaN   \n",
              "2                Frost/Ice                        NaN                  NaN   \n",
              "3                      Dry                        NaN                  NaN   \n",
              "4                 Wet/Damp                        NaN                  NaN   \n",
              "\n",
              "   Urban_or_Rural_Area Did_Police_Officer_Attend_Scene_of_Accident  \\\n",
              "0                    1                                         Yes   \n",
              "1                    1                                         Yes   \n",
              "2                    1                                         Yes   \n",
              "3                    1                                         Yes   \n",
              "4                    1                                         Yes   \n",
              "\n",
              "   LSOA_of_Accident_Location  Year  \n",
              "0                  E01009462  2005  \n",
              "1                  E01009337  2005  \n",
              "2                  E01009316  2005  \n",
              "3                  E01009199  2005  \n",
              "4                  E01009380  2005  \n",
              "\n",
              "[5 rows x 33 columns]"
            ]
          },
          "execution_count": 10,
          "metadata": {},
          "output_type": "execute_result"
        }
      ],
      "source": [
        "import pandas as pd\n",
        "# Load the dataset\n",
        "df = pd.read_csv('Data/Bham_surrounds_accidents.csv')\n",
        "df.head()  # Display the first few rows of the dataset"
      ]
    },
    {
      "cell_type": "markdown",
      "metadata": {
        "id": "ZY3l0-AxO93d"
      },
      "source": [
        "---"
      ]
    },
    {
      "cell_type": "markdown",
      "metadata": {
        "id": "uFQo3ycuO-v6"
      },
      "source": [
        "# Section 2"
      ]
    },
    {
      "cell_type": "code",
      "execution_count": 12,
      "metadata": {},
      "outputs": [
        {
          "data": {
            "application/vnd.microsoft.datawrangler.viewer.v0+json": {
              "columns": [
                {
                  "name": "index",
                  "rawType": "int64",
                  "type": "integer"
                },
                {
                  "name": "Index",
                  "rawType": "object",
                  "type": "string"
                },
                {
                  "name": "Accident_Severity",
                  "rawType": "object",
                  "type": "string"
                },
                {
                  "name": "Accident Date",
                  "rawType": "object",
                  "type": "string"
                },
                {
                  "name": "Latitude",
                  "rawType": "float64",
                  "type": "float"
                },
                {
                  "name": "Light_Conditions",
                  "rawType": "object",
                  "type": "string"
                },
                {
                  "name": "District Area",
                  "rawType": "object",
                  "type": "string"
                },
                {
                  "name": "Longitude",
                  "rawType": "float64",
                  "type": "float"
                },
                {
                  "name": "Number_of_Casualties",
                  "rawType": "int64",
                  "type": "integer"
                },
                {
                  "name": "Number_of_Vehicles",
                  "rawType": "int64",
                  "type": "integer"
                },
                {
                  "name": "Road_Surface_Conditions",
                  "rawType": "object",
                  "type": "string"
                },
                {
                  "name": "Road_Type",
                  "rawType": "object",
                  "type": "unknown"
                },
                {
                  "name": "Urban_or_Rural_Area",
                  "rawType": "object",
                  "type": "string"
                },
                {
                  "name": "Weather_Conditions",
                  "rawType": "object",
                  "type": "unknown"
                },
                {
                  "name": "Vehicle_Type",
                  "rawType": "object",
                  "type": "string"
                }
              ],
              "conversionMethod": "pd.DataFrame",
              "ref": "f83fde99-4b12-454a-9928-39af52cabfc0",
              "rows": [
                [
                  "0",
                  "200701BS64157",
                  "Serious",
                  "05-06-2019",
                  "51.506187",
                  "Darkness - lights lit",
                  "Kensington and Chelsea",
                  "-0.209082",
                  "1",
                  "2",
                  "Dry",
                  "Single carriageway",
                  "Urban",
                  "Fine no high winds",
                  "Car"
                ],
                [
                  "1",
                  "200701BS65737",
                  "Serious",
                  "02-07-2019",
                  "51.495029",
                  "Daylight",
                  "Kensington and Chelsea",
                  "-0.173647",
                  "1",
                  "2",
                  "Wet or damp",
                  "Single carriageway",
                  "Urban",
                  "Raining no high winds",
                  "Car"
                ],
                [
                  "2",
                  "200701BS66127",
                  "Serious",
                  "26-08-2019",
                  "51.517715",
                  "Darkness - lighting unknown",
                  "Kensington and Chelsea",
                  "-0.210215",
                  "1",
                  "3",
                  "Dry",
                  null,
                  "Urban",
                  null,
                  "Taxi/Private hire car"
                ],
                [
                  "3",
                  "200701BS66128",
                  "Serious",
                  "16-08-2019",
                  "51.495478",
                  "Daylight",
                  "Kensington and Chelsea",
                  "-0.202731",
                  "1",
                  "4",
                  "Dry",
                  "Single carriageway",
                  "Urban",
                  "Fine no high winds",
                  "Bus or coach (17 or more pass seats)"
                ],
                [
                  "4",
                  "200701BS66837",
                  "Slight",
                  "03-09-2019",
                  "51.488576",
                  "Darkness - lights lit",
                  "Kensington and Chelsea",
                  "-0.192487",
                  "1",
                  "2",
                  "Dry",
                  null,
                  "Urban",
                  null,
                  "Other vehicle"
                ]
              ],
              "shape": {
                "columns": 14,
                "rows": 5
              }
            },
            "text/html": [
              "<div>\n",
              "<style scoped>\n",
              "    .dataframe tbody tr th:only-of-type {\n",
              "        vertical-align: middle;\n",
              "    }\n",
              "\n",
              "    .dataframe tbody tr th {\n",
              "        vertical-align: top;\n",
              "    }\n",
              "\n",
              "    .dataframe thead th {\n",
              "        text-align: right;\n",
              "    }\n",
              "</style>\n",
              "<table border=\"1\" class=\"dataframe\">\n",
              "  <thead>\n",
              "    <tr style=\"text-align: right;\">\n",
              "      <th></th>\n",
              "      <th>Index</th>\n",
              "      <th>Accident_Severity</th>\n",
              "      <th>Accident Date</th>\n",
              "      <th>Latitude</th>\n",
              "      <th>Light_Conditions</th>\n",
              "      <th>District Area</th>\n",
              "      <th>Longitude</th>\n",
              "      <th>Number_of_Casualties</th>\n",
              "      <th>Number_of_Vehicles</th>\n",
              "      <th>Road_Surface_Conditions</th>\n",
              "      <th>Road_Type</th>\n",
              "      <th>Urban_or_Rural_Area</th>\n",
              "      <th>Weather_Conditions</th>\n",
              "      <th>Vehicle_Type</th>\n",
              "    </tr>\n",
              "  </thead>\n",
              "  <tbody>\n",
              "    <tr>\n",
              "      <th>0</th>\n",
              "      <td>200701BS64157</td>\n",
              "      <td>Serious</td>\n",
              "      <td>05-06-2019</td>\n",
              "      <td>51.506187</td>\n",
              "      <td>Darkness - lights lit</td>\n",
              "      <td>Kensington and Chelsea</td>\n",
              "      <td>-0.209082</td>\n",
              "      <td>1</td>\n",
              "      <td>2</td>\n",
              "      <td>Dry</td>\n",
              "      <td>Single carriageway</td>\n",
              "      <td>Urban</td>\n",
              "      <td>Fine no high winds</td>\n",
              "      <td>Car</td>\n",
              "    </tr>\n",
              "    <tr>\n",
              "      <th>1</th>\n",
              "      <td>200701BS65737</td>\n",
              "      <td>Serious</td>\n",
              "      <td>02-07-2019</td>\n",
              "      <td>51.495029</td>\n",
              "      <td>Daylight</td>\n",
              "      <td>Kensington and Chelsea</td>\n",
              "      <td>-0.173647</td>\n",
              "      <td>1</td>\n",
              "      <td>2</td>\n",
              "      <td>Wet or damp</td>\n",
              "      <td>Single carriageway</td>\n",
              "      <td>Urban</td>\n",
              "      <td>Raining no high winds</td>\n",
              "      <td>Car</td>\n",
              "    </tr>\n",
              "    <tr>\n",
              "      <th>2</th>\n",
              "      <td>200701BS66127</td>\n",
              "      <td>Serious</td>\n",
              "      <td>26-08-2019</td>\n",
              "      <td>51.517715</td>\n",
              "      <td>Darkness - lighting unknown</td>\n",
              "      <td>Kensington and Chelsea</td>\n",
              "      <td>-0.210215</td>\n",
              "      <td>1</td>\n",
              "      <td>3</td>\n",
              "      <td>Dry</td>\n",
              "      <td>NaN</td>\n",
              "      <td>Urban</td>\n",
              "      <td>NaN</td>\n",
              "      <td>Taxi/Private hire car</td>\n",
              "    </tr>\n",
              "    <tr>\n",
              "      <th>3</th>\n",
              "      <td>200701BS66128</td>\n",
              "      <td>Serious</td>\n",
              "      <td>16-08-2019</td>\n",
              "      <td>51.495478</td>\n",
              "      <td>Daylight</td>\n",
              "      <td>Kensington and Chelsea</td>\n",
              "      <td>-0.202731</td>\n",
              "      <td>1</td>\n",
              "      <td>4</td>\n",
              "      <td>Dry</td>\n",
              "      <td>Single carriageway</td>\n",
              "      <td>Urban</td>\n",
              "      <td>Fine no high winds</td>\n",
              "      <td>Bus or coach (17 or more pass seats)</td>\n",
              "    </tr>\n",
              "    <tr>\n",
              "      <th>4</th>\n",
              "      <td>200701BS66837</td>\n",
              "      <td>Slight</td>\n",
              "      <td>03-09-2019</td>\n",
              "      <td>51.488576</td>\n",
              "      <td>Darkness - lights lit</td>\n",
              "      <td>Kensington and Chelsea</td>\n",
              "      <td>-0.192487</td>\n",
              "      <td>1</td>\n",
              "      <td>2</td>\n",
              "      <td>Dry</td>\n",
              "      <td>NaN</td>\n",
              "      <td>Urban</td>\n",
              "      <td>NaN</td>\n",
              "      <td>Other vehicle</td>\n",
              "    </tr>\n",
              "  </tbody>\n",
              "</table>\n",
              "</div>"
            ],
            "text/plain": [
              "           Index Accident_Severity Accident Date   Latitude  \\\n",
              "0  200701BS64157           Serious    05-06-2019  51.506187   \n",
              "1  200701BS65737           Serious    02-07-2019  51.495029   \n",
              "2  200701BS66127           Serious    26-08-2019  51.517715   \n",
              "3  200701BS66128           Serious    16-08-2019  51.495478   \n",
              "4  200701BS66837            Slight    03-09-2019  51.488576   \n",
              "\n",
              "              Light_Conditions           District Area  Longitude  \\\n",
              "0        Darkness - lights lit  Kensington and Chelsea  -0.209082   \n",
              "1                     Daylight  Kensington and Chelsea  -0.173647   \n",
              "2  Darkness - lighting unknown  Kensington and Chelsea  -0.210215   \n",
              "3                     Daylight  Kensington and Chelsea  -0.202731   \n",
              "4        Darkness - lights lit  Kensington and Chelsea  -0.192487   \n",
              "\n",
              "   Number_of_Casualties  Number_of_Vehicles Road_Surface_Conditions  \\\n",
              "0                     1                   2                     Dry   \n",
              "1                     1                   2             Wet or damp   \n",
              "2                     1                   3                     Dry   \n",
              "3                     1                   4                     Dry   \n",
              "4                     1                   2                     Dry   \n",
              "\n",
              "            Road_Type Urban_or_Rural_Area     Weather_Conditions  \\\n",
              "0  Single carriageway               Urban     Fine no high winds   \n",
              "1  Single carriageway               Urban  Raining no high winds   \n",
              "2                 NaN               Urban                    NaN   \n",
              "3  Single carriageway               Urban     Fine no high winds   \n",
              "4                 NaN               Urban                    NaN   \n",
              "\n",
              "                           Vehicle_Type  \n",
              "0                                   Car  \n",
              "1                                   Car  \n",
              "2                 Taxi/Private hire car  \n",
              "3  Bus or coach (17 or more pass seats)  \n",
              "4                         Other vehicle  "
            ]
          },
          "execution_count": 12,
          "metadata": {},
          "output_type": "execute_result"
        }
      ],
      "source": [
        "df = pd.read_csv('accident data.csv')\n",
        "df.head()  # Display the first few rows of the dataset"
      ]
    },
    {
      "cell_type": "markdown",
      "metadata": {},
      "source": [
        "Section 2 content"
      ]
    },
    {
      "cell_type": "code",
      "execution_count": 13,
      "metadata": {},
      "outputs": [
        {
          "name": "stdout",
          "output_type": "stream",
          "text": [
            "['Kensington and Chelsea' 'Westminster' 'Richmond upon Thames'\n",
            " 'Hammersmith and Fulham' 'Hounslow' 'Tower Hamlets' 'City of London'\n",
            " 'Southwark' 'Camden' 'Hackney' 'Islington' 'Barnet' 'Brent' 'Haringey'\n",
            " 'Merton' 'Ealing' 'Enfield' 'Greenwich' 'Newham'\n",
            " 'London Airport (Heathrow)' 'Hillingdon' 'Waltham Forest' 'Redbridge'\n",
            " 'Barking and Dagenham' 'Bromley' 'Havering' 'Croydon' 'Lambeth'\n",
            " 'Wandsworth' 'Sutton' 'Bexley' 'Lewisham' 'Harrow' 'Kingston upon Thames'\n",
            " 'Barrow-in-Furness' 'South Lakeland' 'Carlisle' 'Eden' 'Allerdale'\n",
            " 'Copeland' 'Fylde' 'Blackpool' 'Wyre' 'Lancaster' 'Chorley'\n",
            " 'West Lancashire' 'South Ribble' 'Preston' 'Blackburn with Darwen'\n",
            " 'Hyndburn' 'Ribble Valley' 'Burnley' 'Pendle' 'Rossendale' 'Wirral'\n",
            " 'Liverpool' 'Sefton' 'Knowsley' 'St. Helens' 'Manchester' 'Salford'\n",
            " 'Tameside' 'Stockport' 'Bolton' 'Wigan' 'Trafford' 'Bury' 'Rochdale'\n",
            " 'Oldham' 'Chester' 'Vale Royal' 'Halton' 'Warrington' 'Crewe and ntwich'\n",
            " 'Ellesmere Port and Neston' 'Congleton' 'Macclesfield'\n",
            " 'Crewe and Nantwich' 'Blyth Valley' 'Sunderland' 'Gateshead'\n",
            " 'North Tyneside' 'Tynedale' 'Berwick-upon-Tweed' 'Newcastle upon Tyne'\n",
            " 'Castle Morpeth' 'South Tyneside' 'Wansbeck' 'Alnwick' 'Wear Valley'\n",
            " 'Sedgefield' 'Durham' 'Easington' 'Chester-le-Street' 'Derwentside'\n",
            " 'Teesdale' 'Darlington' 'Craven' 'Hambleton' 'Richmondshire' 'York'\n",
            " 'Harrogate' 'Selby' 'Scarborough' 'Ryedale' 'Kirklees' 'Leeds'\n",
            " 'Wakefield' 'Bradford' 'Calderdale' 'Doncaster' 'Barnsley' 'Sheffield'\n",
            " 'Rotherham' 'North East Lincolnshire' 'North Lincolnshire'\n",
            " 'East Riding of Yorkshire' 'Kingston upon Hull, City of'\n",
            " 'Redcar and Cleveland' 'Hartlepool' 'Middlesbrough' 'Stockton-on-Tees'\n",
            " 'Birmingham' 'Wolverhampton' 'Walsall' 'Dudley' 'Sandwell' 'Solihull'\n",
            " 'Coventry' 'Newcastle-under-Lyme' 'Stafford' 'East Staffordshire'\n",
            " 'South Staffordshire' 'Lichfield' 'Stoke-on-Trent' 'Cannock Chase'\n",
            " 'Tamworth' 'Staffordshire Moorlands' 'Malvern Hills' 'Worcester'\n",
            " 'Wychavon' 'Wyre Forest' 'Redditch' 'Bromsgrove'\n",
            " 'Herefordshire, County of' 'Telford and Wrekin' 'South Shropshire'\n",
            " 'Bridgnorth' 'Shrewsbury and Atcham' 'North Shropshire' 'Oswestry'\n",
            " 'Warwick' 'Stratford-upon-Avon' 'Rugby' 'North Warwickshire'\n",
            " 'Nuneaton and Bedworth' 'Amber Valley' 'Erewash' 'Bolsover' 'High Peak'\n",
            " 'Derbyshire Dales' 'North East Derbyshire' 'Chesterfield' 'Derby'\n",
            " 'South Derbyshire' 'Ashfield' 'Mansfield' 'Newark and Sherwood'\n",
            " 'Bassetlaw' 'Gedling' 'Rushcliffe' 'Nottingham' 'Broxtowe'\n",
            " 'South Holland' 'South Kesteven' 'North Kesteven' 'East Lindsey' 'Boston'\n",
            " 'West Lindsey' 'Lincoln' 'Hinckley and Bosworth' 'Harborough' 'Leicester'\n",
            " 'Rutland' 'Charnwood' 'Melton' 'North West Leicestershire' 'Blaby'\n",
            " 'Oadby and Wigston' 'South Northamptonshire' 'Northampton' 'Kettering'\n",
            " 'Corby' 'Daventry' 'East Northamptonshire' 'Wellingborough'\n",
            " 'South Cambridgeshire' 'Fenland' 'Huntingdonshire' 'Peterborough'\n",
            " 'East Cambridgeshire' 'Cambridge' \"King's Lynn and West Norfolk\"\n",
            " 'Norwich' 'Breckland' 'South Norfolk' 'Broadland' 'Great Yarmouth'\n",
            " 'North Norfolk' 'St. Edmundsbury' 'Babergh' 'Mid Suffolk' 'Forest Heath'\n",
            " 'Suffolk Coastal' 'Ipswich' 'Waveney' 'Luton' 'Mid Bedfordshire'\n",
            " 'Bedford' 'South Bedfordshire' 'East Hertfordshire' 'North Hertfordshire'\n",
            " 'Welwyn Hatfield' 'St. Albans' 'Hertsmere' 'Three Rivers' 'Watford'\n",
            " 'Dacorum' 'Broxbourne' 'Stevege' 'Stevenage' 'Epping Forest' 'Brentwood'\n",
            " 'Castle Point' 'Uttlesford' 'Chelmsford' 'Basildon' 'Tendring'\n",
            " 'Colchester' 'Thurrock' 'Braintree' 'Rochford' 'Maldon' 'Southend-on-Sea'\n",
            " 'Harlow' 'Aylesbury Vale' 'Wycombe' 'South Bucks' 'Chiltern' 'Slough'\n",
            " 'Windsor and Maidenhead' 'South Oxfordshire' 'Milton Keynes' 'Cherwell'\n",
            " 'Vale of White Horse' 'West Oxfordshire' 'Oxford' 'Reading'\n",
            " 'West Berkshire' 'Wokingham' 'Bracknell Forest' 'Eastleigh' 'Test Valley'\n",
            " 'Portsmouth' 'Winchester' 'Basingstoke and Deane' 'Southampton' 'Fareham'\n",
            " 'Hart' 'Gosport' 'Havant' 'Isle of Wight' 'East Hampshire' 'Rushmoor'\n",
            " 'New Forest' 'Elmbridge' 'Mole Valley' 'Guildford' 'Spelthorne'\n",
            " 'Epsom and Ewell' 'Runnymede' 'Woking' 'Reigate and Banstead'\n",
            " 'Surrey Heath' 'Waverley' 'Tandridge' 'Medway' 'Thanet' 'Shepway'\n",
            " 'Ashford' 'Maidstone' 'Dover' 'Tunbridge Wells' 'Canterbury'\n",
            " 'Tonbridge and Malling' 'Swale' 'Dartford' 'Sevenoaks' 'Gravesham'\n",
            " 'Brighton and Hove' 'Chichester' 'Rother' 'Lewes' 'Wealden' 'Eastbourne'\n",
            " 'Hastings' 'Crawley' 'Horsham' 'Mid Sussex' 'Arun' 'Adur' 'Worthing'\n",
            " 'Kerrier' 'Restormel' 'Carrick' 'Penwith' 'North Cornwall' 'West Devon'\n",
            " 'Torridge' 'Caradon' 'North Devon' 'Mid Devon' 'Exeter' 'East Devon'\n",
            " 'Teignbridge' 'Plymouth' 'South Hams' 'Torbay' 'Bristol, City of'\n",
            " 'South Somerset' 'Sedgemoor' 'Mendip' 'Taunton Deane'\n",
            " 'South Gloucestershire' 'North Somerset' 'Bath and North East Somerset'\n",
            " 'West Somerset' 'Stroud' 'Tewkesbury' 'Gloucester' 'Cotswold'\n",
            " 'Cheltenham' 'Forest of Dean' 'Salisbury' 'Kennet' 'West Wiltshire'\n",
            " 'North Wiltshire' 'Swindon' 'Bournemouth' 'Poole' 'East Dorset'\n",
            " 'West Dorset' 'Weymouth and Portland' 'Christchurch' 'Purbeck'\n",
            " 'North Dorset' 'Isle of Anglesey' 'Conwy' 'Denbighshire' 'Flintshire'\n",
            " 'Wrexham' 'Gwynedd' 'Monmouthshire' 'Newport' 'Caerphilly' 'Torfaen'\n",
            " 'Blaeu Gwent' 'Blaenau Gwent' 'Merthyr Tydfil' 'The Vale of Glamorgan'\n",
            " 'Cardiff' 'Rhondda, Cynon, Taff' 'Swansea' 'Bridgend' 'Neath Port Talbot'\n",
            " 'Carmarthenshire' 'Ceredigion' 'Pembrokeshire' 'Powys' 'Highland'\n",
            " 'Western Isles' 'Orkney Islands' 'Shetland Islands' 'Aberdeenshire'\n",
            " 'Moray' 'Aberdeen City' 'Dundee City' 'Angus' 'Perth and Kinross' 'Fife'\n",
            " 'East Lothian' 'Midlothian' 'Scottish Borders' 'Edinburgh, City of'\n",
            " 'West Lothian' 'Falkirk' 'Clackmannanshire' 'Stirling' 'Clackmannshire'\n",
            " 'Glasgow City' 'East Dunbartonshire' 'North Larkshire'\n",
            " 'North Lanarkshire' 'Renfrewshire' 'East Renfrewshire' 'East Ayrshire'\n",
            " 'South Larkshire' 'Inverclyde' 'West Dunbartonshire' 'Argyll and Bute'\n",
            " 'South Lanarkshire' 'North Ayrshire' 'South Ayrshire'\n",
            " 'Dumfries and Galloway' 'Cheshire East' 'Cheshire West and Chester'\n",
            " 'Northumberland' 'County Durham' 'Shropshire' 'Central Bedfordshire'\n",
            " 'Cornwall' 'Wiltshire']\n"
          ]
        }
      ],
      "source": [
        "unique_districts = df['District Area'].unique()\n",
        "print(unique_districts)"
      ]
    },
    {
      "cell_type": "code",
      "execution_count": null,
      "metadata": {},
      "outputs": [],
      "source": []
    },
    {
      "cell_type": "markdown",
      "metadata": {},
      "source": [
        "---"
      ]
    },
    {
      "cell_type": "markdown",
      "metadata": {},
      "source": [
        "NOTE"
      ]
    },
    {
      "cell_type": "markdown",
      "metadata": {},
      "source": [
        "* You may add as many sections as you want, as long as it supports your project workflow.\n",
        "* All notebook's cells should be run top-down (you can't create a dynamic wherein a given point you need to go back to a previous cell to execute some task, like go back to a previous cell and refresh a variable content)"
      ]
    },
    {
      "cell_type": "markdown",
      "metadata": {},
      "source": [
        "---"
      ]
    },
    {
      "cell_type": "markdown",
      "metadata": {
        "id": "ltNetd085qHf"
      },
      "source": [
        "# Push files to Repo"
      ]
    },
    {
      "cell_type": "markdown",
      "metadata": {},
      "source": [
        "* In cases where you don't need to push files to Repo, you may replace this section with \"Conclusions and Next Steps\" and state your conclusions and next steps."
      ]
    }
  ],
  "metadata": {
    "accelerator": "GPU",
    "colab": {
      "name": "Data Practitioner Jupyter Notebook.ipynb",
      "provenance": [],
      "toc_visible": true
    },
    "kernelspec": {
      "display_name": "Python 3",
      "language": "python",
      "name": "python3"
    },
    "language_info": {
      "codemirror_mode": {
        "name": "ipython",
        "version": 3
      },
      "file_extension": ".py",
      "mimetype": "text/x-python",
      "name": "python",
      "nbconvert_exporter": "python",
      "pygments_lexer": "ipython3",
      "version": "3.12.8"
    },
    "orig_nbformat": 2
  },
  "nbformat": 4,
  "nbformat_minor": 2
}
