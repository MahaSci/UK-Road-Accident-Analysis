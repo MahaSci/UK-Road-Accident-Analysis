{
 "cells": [
  {
   "cell_type": "markdown",
   "metadata": {},
   "source": [
    "# Additional Hypothesis Testing"
   ]
  },
  {
   "cell_type": "code",
   "execution_count": 1,
   "metadata": {},
   "outputs": [
    {
     "data": {
      "text/plain": [
       "'/Users/mahahussain/Desktop/UK-Road-Accident-Analysis/UK-Road-Accident-Analysis/jupyter_notebooks'"
      ]
     },
     "execution_count": 1,
     "metadata": {},
     "output_type": "execute_result"
    }
   ],
   "source": [
    "import os\n",
    "current_dir = os.getcwd()\n",
    "current_dir"
   ]
  },
  {
   "cell_type": "code",
   "execution_count": 2,
   "metadata": {},
   "outputs": [
    {
     "name": "stdout",
     "output_type": "stream",
     "text": [
      "You set a new current directory\n"
     ]
    }
   ],
   "source": [
    "os.chdir(os.path.dirname(current_dir))\n",
    "print(\"You set a new current directory\")"
   ]
  },
  {
   "cell_type": "code",
   "execution_count": 3,
   "metadata": {},
   "outputs": [
    {
     "data": {
      "text/plain": [
       "'/Users/mahahussain/Desktop/UK-Road-Accident-Analysis/UK-Road-Accident-Analysis'"
      ]
     },
     "execution_count": 3,
     "metadata": {},
     "output_type": "execute_result"
    }
   ],
   "source": [
    "current_dir = os.getcwd()\n",
    "current_dir"
   ]
  },
  {
   "cell_type": "code",
   "execution_count": 4,
   "metadata": {},
   "outputs": [],
   "source": [
    "import pandas as pd \n",
    "import numpy as np\n",
    "import matplotlib.pyplot as plt\n",
    "import seaborn as sns\n",
    "sns.set_style('whitegrid')\n",
    "import plotly.express as px"
   ]
  },
  {
   "cell_type": "code",
   "execution_count": 5,
   "metadata": {},
   "outputs": [
    {
     "data": {
      "text/html": [
       "<div>\n",
       "<style scoped>\n",
       "    .dataframe tbody tr th:only-of-type {\n",
       "        vertical-align: middle;\n",
       "    }\n",
       "\n",
       "    .dataframe tbody tr th {\n",
       "        vertical-align: top;\n",
       "    }\n",
       "\n",
       "    .dataframe thead th {\n",
       "        text-align: right;\n",
       "    }\n",
       "</style>\n",
       "<table border=\"1\" class=\"dataframe\">\n",
       "  <thead>\n",
       "    <tr style=\"text-align: right;\">\n",
       "      <th></th>\n",
       "      <th>Index</th>\n",
       "      <th>Accident_Severity</th>\n",
       "      <th>Accident Date</th>\n",
       "      <th>Latitude</th>\n",
       "      <th>Light_Conditions</th>\n",
       "      <th>District Area</th>\n",
       "      <th>Longitude</th>\n",
       "      <th>Number_of_Casualties</th>\n",
       "      <th>Number_of_Vehicles</th>\n",
       "      <th>Road_Surface_Conditions</th>\n",
       "      <th>Road_Type</th>\n",
       "      <th>Urban_or_Rural_Area</th>\n",
       "      <th>Vehicle_Type</th>\n",
       "    </tr>\n",
       "  </thead>\n",
       "  <tbody>\n",
       "    <tr>\n",
       "      <th>0</th>\n",
       "      <td>200720D003001</td>\n",
       "      <td>Slight</td>\n",
       "      <td>02-01-2019</td>\n",
       "      <td>52.513668</td>\n",
       "      <td>Darkness - lights lit</td>\n",
       "      <td>Birmingham</td>\n",
       "      <td>-1.901975</td>\n",
       "      <td>1</td>\n",
       "      <td>2</td>\n",
       "      <td>Wet or damp</td>\n",
       "      <td>Dual carriageway</td>\n",
       "      <td>Urban</td>\n",
       "      <td>Car</td>\n",
       "    </tr>\n",
       "    <tr>\n",
       "      <th>1</th>\n",
       "      <td>200720D003101</td>\n",
       "      <td>Slight</td>\n",
       "      <td>02-01-2019</td>\n",
       "      <td>52.502396</td>\n",
       "      <td>Daylight</td>\n",
       "      <td>Birmingham</td>\n",
       "      <td>-1.867086</td>\n",
       "      <td>1</td>\n",
       "      <td>2</td>\n",
       "      <td>Wet or damp</td>\n",
       "      <td>Single carriageway</td>\n",
       "      <td>Urban</td>\n",
       "      <td>Car</td>\n",
       "    </tr>\n",
       "    <tr>\n",
       "      <th>2</th>\n",
       "      <td>200720D003802</td>\n",
       "      <td>Serious</td>\n",
       "      <td>03-01-2019</td>\n",
       "      <td>52.563201</td>\n",
       "      <td>Daylight</td>\n",
       "      <td>Birmingham</td>\n",
       "      <td>-1.822793</td>\n",
       "      <td>1</td>\n",
       "      <td>1</td>\n",
       "      <td>Dry</td>\n",
       "      <td>Single carriageway</td>\n",
       "      <td>Urban</td>\n",
       "      <td>Car</td>\n",
       "    </tr>\n",
       "    <tr>\n",
       "      <th>3</th>\n",
       "      <td>200720D005801</td>\n",
       "      <td>Slight</td>\n",
       "      <td>02-01-2019</td>\n",
       "      <td>52.493431</td>\n",
       "      <td>Daylight</td>\n",
       "      <td>Birmingham</td>\n",
       "      <td>-1.818507</td>\n",
       "      <td>1</td>\n",
       "      <td>2</td>\n",
       "      <td>Wet or damp</td>\n",
       "      <td>Dual carriageway</td>\n",
       "      <td>Urban</td>\n",
       "      <td>Car</td>\n",
       "    </tr>\n",
       "    <tr>\n",
       "      <th>4</th>\n",
       "      <td>200720D005901</td>\n",
       "      <td>Slight</td>\n",
       "      <td>05-01-2019</td>\n",
       "      <td>52.510805</td>\n",
       "      <td>Darkness - lights lit</td>\n",
       "      <td>Birmingham</td>\n",
       "      <td>-1.834202</td>\n",
       "      <td>1</td>\n",
       "      <td>3</td>\n",
       "      <td>Dry</td>\n",
       "      <td>Dual carriageway</td>\n",
       "      <td>Urban</td>\n",
       "      <td>Car</td>\n",
       "    </tr>\n",
       "  </tbody>\n",
       "</table>\n",
       "</div>"
      ],
      "text/plain": [
       "           Index Accident_Severity Accident Date   Latitude  \\\n",
       "0  200720D003001            Slight    02-01-2019  52.513668   \n",
       "1  200720D003101            Slight    02-01-2019  52.502396   \n",
       "2  200720D003802           Serious    03-01-2019  52.563201   \n",
       "3  200720D005801            Slight    02-01-2019  52.493431   \n",
       "4  200720D005901            Slight    05-01-2019  52.510805   \n",
       "\n",
       "        Light_Conditions District Area  Longitude  Number_of_Casualties  \\\n",
       "0  Darkness - lights lit    Birmingham  -1.901975                     1   \n",
       "1               Daylight    Birmingham  -1.867086                     1   \n",
       "2               Daylight    Birmingham  -1.822793                     1   \n",
       "3               Daylight    Birmingham  -1.818507                     1   \n",
       "4  Darkness - lights lit    Birmingham  -1.834202                     1   \n",
       "\n",
       "   Number_of_Vehicles Road_Surface_Conditions           Road_Type  \\\n",
       "0                   2             Wet or damp    Dual carriageway   \n",
       "1                   2             Wet or damp  Single carriageway   \n",
       "2                   1                     Dry  Single carriageway   \n",
       "3                   2             Wet or damp    Dual carriageway   \n",
       "4                   3                     Dry    Dual carriageway   \n",
       "\n",
       "  Urban_or_Rural_Area Vehicle_Type  \n",
       "0               Urban          Car  \n",
       "1               Urban          Car  \n",
       "2               Urban          Car  \n",
       "3               Urban          Car  \n",
       "4               Urban          Car  "
      ]
     },
     "execution_count": 5,
     "metadata": {},
     "output_type": "execute_result"
    }
   ],
   "source": [
    "df = pd.read_csv(os.path.join(current_dir, 'filtered_accident_data_set.csv'))\n",
    "df.head()"
   ]
  },
  {
   "cell_type": "markdown",
   "metadata": {},
   "source": [
    "---"
   ]
  },
  {
   "cell_type": "markdown",
   "metadata": {},
   "source": [
    "## Handling Mixed effects models"
   ]
  },
  {
   "cell_type": "markdown",
   "metadata": {},
   "source": [
    "The mixed linear regression model is used to analyze how factors like month and road surface conditions affect accident counts while considering differences between districts. This approach helps account for patterns in the data and variations across different areas, giving a clearer understanding of what influences accidents."
   ]
  },
  {
   "cell_type": "code",
   "execution_count": 6,
   "metadata": {},
   "outputs": [
    {
     "name": "stdout",
     "output_type": "stream",
     "text": [
      "                             Mixed Linear Model Regression Results\n",
      "===============================================================================================\n",
      "Model:                         MixedLM              Dependent Variable:              Accidents \n",
      "No. Observations:              1155                 Method:                          REML      \n",
      "No. Groups:                    9                    Scale:                           2459.1246 \n",
      "Min. group size:               107                  Log-Likelihood:                  -6135.5791\n",
      "Max. group size:               167                  Converged:                       Yes       \n",
      "Mean group size:               128.3                                                           \n",
      "-----------------------------------------------------------------------------------------------\n",
      "                                                 Coef.  Std.Err.    z    P>|z|  [0.025   0.975]\n",
      "-----------------------------------------------------------------------------------------------\n",
      "Intercept                                        47.106    9.315   5.057 0.000   28.850  65.363\n",
      "Road_Surface_Conditions[T.Flood over 3cm. deep] -91.932   10.364  -8.870 0.000 -112.245 -71.618\n",
      "Road_Surface_Conditions[T.Frost or ice]         -62.882    5.097 -12.336 0.000  -72.872 -52.891\n",
      "Road_Surface_Conditions[T.Snow]                 -69.581    6.030 -11.538 0.000  -81.401 -57.762\n",
      "Road_Surface_Conditions[T.Wet or damp]          -29.594    3.290  -8.994 0.000  -36.043 -23.145\n",
      "Road_Type[T.One way street]                     -36.435    5.043  -7.224 0.000  -46.320 -26.550\n",
      "Road_Type[T.Roundabout]                         -18.492    4.331  -4.270 0.000  -26.981 -10.003\n",
      "Road_Type[T.Single carriageway]                  53.835    4.058  13.265 0.000   45.881  61.789\n",
      "Road_Type[T.Slip road]                          -35.861    5.049  -7.102 0.000  -45.757 -25.964\n",
      "Month                                             0.279    0.391   0.714 0.475   -0.487   1.045\n",
      "Group Var                                       615.077    6.388                               \n",
      "===============================================================================================\n",
      "\n"
     ]
    }
   ],
   "source": [
    "import statsmodels.formula.api as smf\n",
    "\n",
    "# Ensure 'Month' exists in the DataFrame\n",
    "df['Month'] = pd.to_datetime(df['Accident Date'], format=\"%d-%m-%Y\").dt.month\n",
    "\n",
    "# Group by relevant columns to calculate the number of accidents\n",
    "df_grouped = df.groupby(['District Area', 'Month', 'Road_Surface_Conditions', 'Road_Type']).size().reset_index(name='Accidents')\n",
    "\n",
    "# Create a mixed-effects model with your specified fixed effects\n",
    "model = smf.mixedlm(\"Accidents ~ Month + Road_Surface_Conditions + Road_Type\",\n",
    "                    df_grouped, groups=df_grouped[\"District Area\"])\n",
    "\n",
    "# Fit the model\n",
    "result = model.fit()\n",
    "\n",
    "# Print the model summary\n",
    "print(result.summary())"
   ]
  },
  {
   "cell_type": "markdown",
   "metadata": {},
   "source": [
    "We'll check for colinearity between the variables"
   ]
  },
  {
   "cell_type": "code",
   "execution_count": 7,
   "metadata": {},
   "outputs": [
    {
     "name": "stdout",
     "output_type": "stream",
     "text": [
      "                                       Variable       VIF\n",
      "0                                         Month  2.677944\n",
      "1  Road_Surface_Conditions_Flood over 3cm. deep  1.062594\n",
      "2          Road_Surface_Conditions_Frost or ice  1.209512\n",
      "3                  Road_Surface_Conditions_Snow  1.115421\n",
      "4           Road_Surface_Conditions_Wet or damp  1.621943\n",
      "5                      Road_Type_One way street  1.262200\n",
      "6                          Road_Type_Roundabout  1.444201\n",
      "7                  Road_Type_Single carriageway  1.617692\n",
      "8                           Road_Type_Slip road  1.254469\n"
     ]
    }
   ],
   "source": [
    "from statsmodels.stats.outliers_influence import variance_inflation_factor\n",
    "\n",
    "# Dummy encode categorical variables\n",
    "X = pd.get_dummies(df_grouped[['Month', 'Road_Surface_Conditions', 'Road_Type']], drop_first=True)\n",
    "\n",
    "# Convert all boolean columns to integers\n",
    "X = X.astype(int)\n",
    "\n",
    "# Calculate VIF for each variable\n",
    "vif_data = pd.DataFrame()\n",
    "vif_data[\"Variable\"] = X.columns\n",
    "vif_data[\"VIF\"] = [variance_inflation_factor(X.values, i) for i in range(X.shape[1])]\n",
    "\n",
    "print(vif_data)"
   ]
  },
  {
   "cell_type": "markdown",
   "metadata": {},
   "source": [
    "All VIF values are below 5, which means there is no significant multicollinearity among the variables so we can confidently include them in our regression model"
   ]
  },
  {
   "cell_type": "markdown",
   "metadata": {},
   "source": [
    "### Interpretation"
   ]
  },
  {
   "cell_type": "markdown",
   "metadata": {},
   "source": [
    "The analysis revealed an unexpected finding: while the model showed a statistically significant effect of road surface conditions on accident frequency, the results suggest that wet or icy conditions do not lead to a substantial increase in accidents. This counterintuitive result may be attributed to several factors:\n",
    "\n",
    "* Firstly, there was a data imbalance, with relatively few accidents occurring under icy conditions, which may limit the model's power to detect a significant effect. \n",
    "* Secondly, it is plausible that confounding factors, such as more cautious driving behavior in adverse conditions, may mitigate the increased risk associated with those conditions. Drivers may reduce their speed and increase their following distance, thus reducing the likelihood of accidents. \n",
    "\n",
    "Lets check if there is significant interaction between road surface conditions and the road type using the Chi-Squared test"
   ]
  },
  {
   "cell_type": "code",
   "execution_count": 8,
   "metadata": {},
   "outputs": [
    {
     "name": "stdout",
     "output_type": "stream",
     "text": [
      "Chi-Squared Statistic: 25.898231339370078\n",
      "P-Value: 0.05547712234209999\n",
      "Degrees of Freedom: 16\n",
      "Expected Frequencies:\n",
      "[[4.44196589e+03 4.14720581e+02 1.66847916e+03 1.56085746e+04\n",
      "  2.52259791e+02]\n",
      " [5.35750375e+00 5.00199038e-01 2.01237101e+00 1.88256729e+01\n",
      "  3.04253299e-01]\n",
      " [1.50803809e+02 1.40796766e+01 5.66445173e+01 5.29907830e+02\n",
      "  8.56416695e+00]\n",
      " [5.09954987e+01 4.76115381e+00 1.91547907e+01 1.79192516e+02\n",
      "  2.89604067e+00]\n",
      " [1.83087730e+03 1.70938390e+02 6.87709159e+02 6.43349940e+03\n",
      "  1.03975748e+02]]\n",
      "There is no significant association between Road_Surface_Conditions and Road_Type.\n"
     ]
    }
   ],
   "source": [
    "from scipy.stats import chi2_contingency\n",
    "\n",
    "# Create a contingency table for Road_Surface_Conditions and Road_Type\n",
    "contingency_table = pd.crosstab(df['Road_Surface_Conditions'], df['Road_Type'])\n",
    "\n",
    "# Perform the Chi-Squared Test\n",
    "chi2, p, dof, expected = chi2_contingency(contingency_table)\n",
    "\n",
    "# Print the results\n",
    "print(\"Chi-Squared Statistic:\", chi2)\n",
    "print(\"P-Value:\", p)\n",
    "print(\"Degrees of Freedom:\", dof)\n",
    "print(\"Expected Frequencies:\")\n",
    "print(expected)\n",
    "\n",
    "# Interpret the p-value\n",
    "if p < 0.05:\n",
    "    print(\"There is a significant association between Road_Surface_Conditions and Road_Type.\")\n",
    "else:\n",
    "    print(\"There is no significant association between Road_Surface_Conditions and Road_Type.\")"
   ]
  },
  {
   "cell_type": "markdown",
   "metadata": {},
   "source": [
    "Since there is no significant association between the two variables we can stick with our evaluation above"
   ]
  }
 ],
 "metadata": {
  "kernelspec": {
   "display_name": ".venv",
   "language": "python",
   "name": "python3"
  },
  "language_info": {
   "codemirror_mode": {
    "name": "ipython",
    "version": 3
   },
   "file_extension": ".py",
   "mimetype": "text/x-python",
   "name": "python",
   "nbconvert_exporter": "python",
   "pygments_lexer": "ipython3",
   "version": "3.12.8"
  }
 },
 "nbformat": 4,
 "nbformat_minor": 2
}
