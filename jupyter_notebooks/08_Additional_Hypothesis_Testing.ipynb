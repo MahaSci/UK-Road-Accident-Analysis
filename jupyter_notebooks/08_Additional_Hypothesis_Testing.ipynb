{
 "cells": [
  {
   "cell_type": "markdown",
   "metadata": {},
   "source": [
    "# Additional Hypothesis Testing"
   ]
  },
  {
   "cell_type": "code",
   "execution_count": 1,
   "metadata": {},
   "outputs": [
    {
     "data": {
      "text/plain": [
       "'c:\\\\Users\\\\sayed\\\\OneDrive\\\\Documents\\\\Code institute\\\\UK-Road-Accident-Analysis\\\\jupyter_notebooks'"
      ]
     },
     "execution_count": 1,
     "metadata": {},
     "output_type": "execute_result"
    }
   ],
   "source": [
    "import os\n",
    "current_dir = os.getcwd()\n",
    "current_dir"
   ]
  },
  {
   "cell_type": "code",
   "execution_count": 2,
   "metadata": {},
   "outputs": [
    {
     "name": "stdout",
     "output_type": "stream",
     "text": [
      "You set a new current directory\n"
     ]
    }
   ],
   "source": [
    "os.chdir(os.path.dirname(current_dir))\n",
    "print(\"You set a new current directory\")"
   ]
  },
  {
   "cell_type": "code",
   "execution_count": 3,
   "metadata": {},
   "outputs": [
    {
     "data": {
      "text/plain": [
       "'c:\\\\Users\\\\sayed\\\\OneDrive\\\\Documents\\\\Code institute\\\\UK-Road-Accident-Analysis'"
      ]
     },
     "execution_count": 3,
     "metadata": {},
     "output_type": "execute_result"
    }
   ],
   "source": [
    "current_dir = os.getcwd()\n",
    "current_dir"
   ]
  },
  {
   "cell_type": "code",
   "execution_count": 4,
   "metadata": {},
   "outputs": [],
   "source": [
    "import pandas as pd \n",
    "import numpy as np\n",
    "import matplotlib.pyplot as plt\n",
    "import seaborn as sns\n",
    "sns.set_style('whitegrid')\n",
    "import plotly.express as px"
   ]
  },
  {
   "cell_type": "code",
   "execution_count": 5,
   "metadata": {},
   "outputs": [
    {
     "data": {
      "application/vnd.microsoft.datawrangler.viewer.v0+json": {
       "columns": [
        {
         "name": "index",
         "rawType": "int64",
         "type": "integer"
        },
        {
         "name": "Index",
         "rawType": "object",
         "type": "string"
        },
        {
         "name": "Accident_Severity",
         "rawType": "object",
         "type": "string"
        },
        {
         "name": "Accident Date",
         "rawType": "object",
         "type": "string"
        },
        {
         "name": "Latitude",
         "rawType": "float64",
         "type": "float"
        },
        {
         "name": "Light_Conditions",
         "rawType": "object",
         "type": "string"
        },
        {
         "name": "District Area",
         "rawType": "object",
         "type": "string"
        },
        {
         "name": "Longitude",
         "rawType": "float64",
         "type": "float"
        },
        {
         "name": "Number_of_Casualties",
         "rawType": "int64",
         "type": "integer"
        },
        {
         "name": "Number_of_Vehicles",
         "rawType": "int64",
         "type": "integer"
        },
        {
         "name": "Road_Surface_Conditions",
         "rawType": "object",
         "type": "string"
        },
        {
         "name": "Road_Type",
         "rawType": "object",
         "type": "string"
        },
        {
         "name": "Urban_or_Rural_Area",
         "rawType": "object",
         "type": "string"
        },
        {
         "name": "Vehicle_Type",
         "rawType": "object",
         "type": "string"
        }
       ],
       "conversionMethod": "pd.DataFrame",
       "ref": "fbc01d25-04ee-4510-9baf-56a9c321be40",
       "rows": [
        [
         "0",
         "200720D003001",
         "Slight",
         "02-01-2019",
         "52.513668",
         "Darkness - lights lit",
         "Birmingham",
         "-1.901975",
         "1",
         "2",
         "Wet or damp",
         "Dual carriageway",
         "Urban",
         "Car"
        ],
        [
         "1",
         "200720D003101",
         "Slight",
         "02-01-2019",
         "52.502396",
         "Daylight",
         "Birmingham",
         "-1.867086",
         "1",
         "2",
         "Wet or damp",
         "Single carriageway",
         "Urban",
         "Car"
        ],
        [
         "2",
         "200720D003802",
         "Serious",
         "03-01-2019",
         "52.563201",
         "Daylight",
         "Birmingham",
         "-1.822793",
         "1",
         "1",
         "Dry",
         "Single carriageway",
         "Urban",
         "Car"
        ],
        [
         "3",
         "200720D005801",
         "Slight",
         "02-01-2019",
         "52.493431",
         "Daylight",
         "Birmingham",
         "-1.818507",
         "1",
         "2",
         "Wet or damp",
         "Dual carriageway",
         "Urban",
         "Car"
        ],
        [
         "4",
         "200720D005901",
         "Slight",
         "05-01-2019",
         "52.510805",
         "Darkness - lights lit",
         "Birmingham",
         "-1.834202",
         "1",
         "3",
         "Dry",
         "Dual carriageway",
         "Urban",
         "Car"
        ]
       ],
       "shape": {
        "columns": 13,
        "rows": 5
       }
      },
      "text/html": [
       "<div>\n",
       "<style scoped>\n",
       "    .dataframe tbody tr th:only-of-type {\n",
       "        vertical-align: middle;\n",
       "    }\n",
       "\n",
       "    .dataframe tbody tr th {\n",
       "        vertical-align: top;\n",
       "    }\n",
       "\n",
       "    .dataframe thead th {\n",
       "        text-align: right;\n",
       "    }\n",
       "</style>\n",
       "<table border=\"1\" class=\"dataframe\">\n",
       "  <thead>\n",
       "    <tr style=\"text-align: right;\">\n",
       "      <th></th>\n",
       "      <th>Index</th>\n",
       "      <th>Accident_Severity</th>\n",
       "      <th>Accident Date</th>\n",
       "      <th>Latitude</th>\n",
       "      <th>Light_Conditions</th>\n",
       "      <th>District Area</th>\n",
       "      <th>Longitude</th>\n",
       "      <th>Number_of_Casualties</th>\n",
       "      <th>Number_of_Vehicles</th>\n",
       "      <th>Road_Surface_Conditions</th>\n",
       "      <th>Road_Type</th>\n",
       "      <th>Urban_or_Rural_Area</th>\n",
       "      <th>Vehicle_Type</th>\n",
       "    </tr>\n",
       "  </thead>\n",
       "  <tbody>\n",
       "    <tr>\n",
       "      <th>0</th>\n",
       "      <td>200720D003001</td>\n",
       "      <td>Slight</td>\n",
       "      <td>02-01-2019</td>\n",
       "      <td>52.513668</td>\n",
       "      <td>Darkness - lights lit</td>\n",
       "      <td>Birmingham</td>\n",
       "      <td>-1.901975</td>\n",
       "      <td>1</td>\n",
       "      <td>2</td>\n",
       "      <td>Wet or damp</td>\n",
       "      <td>Dual carriageway</td>\n",
       "      <td>Urban</td>\n",
       "      <td>Car</td>\n",
       "    </tr>\n",
       "    <tr>\n",
       "      <th>1</th>\n",
       "      <td>200720D003101</td>\n",
       "      <td>Slight</td>\n",
       "      <td>02-01-2019</td>\n",
       "      <td>52.502396</td>\n",
       "      <td>Daylight</td>\n",
       "      <td>Birmingham</td>\n",
       "      <td>-1.867086</td>\n",
       "      <td>1</td>\n",
       "      <td>2</td>\n",
       "      <td>Wet or damp</td>\n",
       "      <td>Single carriageway</td>\n",
       "      <td>Urban</td>\n",
       "      <td>Car</td>\n",
       "    </tr>\n",
       "    <tr>\n",
       "      <th>2</th>\n",
       "      <td>200720D003802</td>\n",
       "      <td>Serious</td>\n",
       "      <td>03-01-2019</td>\n",
       "      <td>52.563201</td>\n",
       "      <td>Daylight</td>\n",
       "      <td>Birmingham</td>\n",
       "      <td>-1.822793</td>\n",
       "      <td>1</td>\n",
       "      <td>1</td>\n",
       "      <td>Dry</td>\n",
       "      <td>Single carriageway</td>\n",
       "      <td>Urban</td>\n",
       "      <td>Car</td>\n",
       "    </tr>\n",
       "    <tr>\n",
       "      <th>3</th>\n",
       "      <td>200720D005801</td>\n",
       "      <td>Slight</td>\n",
       "      <td>02-01-2019</td>\n",
       "      <td>52.493431</td>\n",
       "      <td>Daylight</td>\n",
       "      <td>Birmingham</td>\n",
       "      <td>-1.818507</td>\n",
       "      <td>1</td>\n",
       "      <td>2</td>\n",
       "      <td>Wet or damp</td>\n",
       "      <td>Dual carriageway</td>\n",
       "      <td>Urban</td>\n",
       "      <td>Car</td>\n",
       "    </tr>\n",
       "    <tr>\n",
       "      <th>4</th>\n",
       "      <td>200720D005901</td>\n",
       "      <td>Slight</td>\n",
       "      <td>05-01-2019</td>\n",
       "      <td>52.510805</td>\n",
       "      <td>Darkness - lights lit</td>\n",
       "      <td>Birmingham</td>\n",
       "      <td>-1.834202</td>\n",
       "      <td>1</td>\n",
       "      <td>3</td>\n",
       "      <td>Dry</td>\n",
       "      <td>Dual carriageway</td>\n",
       "      <td>Urban</td>\n",
       "      <td>Car</td>\n",
       "    </tr>\n",
       "  </tbody>\n",
       "</table>\n",
       "</div>"
      ],
      "text/plain": [
       "           Index Accident_Severity Accident Date   Latitude  \\\n",
       "0  200720D003001            Slight    02-01-2019  52.513668   \n",
       "1  200720D003101            Slight    02-01-2019  52.502396   \n",
       "2  200720D003802           Serious    03-01-2019  52.563201   \n",
       "3  200720D005801            Slight    02-01-2019  52.493431   \n",
       "4  200720D005901            Slight    05-01-2019  52.510805   \n",
       "\n",
       "        Light_Conditions District Area  Longitude  Number_of_Casualties  \\\n",
       "0  Darkness - lights lit    Birmingham  -1.901975                     1   \n",
       "1               Daylight    Birmingham  -1.867086                     1   \n",
       "2               Daylight    Birmingham  -1.822793                     1   \n",
       "3               Daylight    Birmingham  -1.818507                     1   \n",
       "4  Darkness - lights lit    Birmingham  -1.834202                     1   \n",
       "\n",
       "   Number_of_Vehicles Road_Surface_Conditions           Road_Type  \\\n",
       "0                   2             Wet or damp    Dual carriageway   \n",
       "1                   2             Wet or damp  Single carriageway   \n",
       "2                   1                     Dry  Single carriageway   \n",
       "3                   2             Wet or damp    Dual carriageway   \n",
       "4                   3                     Dry    Dual carriageway   \n",
       "\n",
       "  Urban_or_Rural_Area Vehicle_Type  \n",
       "0               Urban          Car  \n",
       "1               Urban          Car  \n",
       "2               Urban          Car  \n",
       "3               Urban          Car  \n",
       "4               Urban          Car  "
      ]
     },
     "execution_count": 5,
     "metadata": {},
     "output_type": "execute_result"
    }
   ],
   "source": [
    "df = pd.read_csv(os.path.join(current_dir, 'filtered_accident_data_set.csv'))\n",
    "df.head()"
   ]
  },
  {
   "cell_type": "markdown",
   "metadata": {},
   "source": [
    "---"
   ]
  },
  {
   "cell_type": "markdown",
   "metadata": {},
   "source": [
    "## Handling Mixed effects models"
   ]
  },
  {
   "cell_type": "markdown",
   "metadata": {},
   "source": [
    "The mixed linear regression model is used to analyze how factors like month and road surface conditions affect accident counts while considering differences between districts. This approach helps account for patterns in the data and variations across different areas, giving a clearer understanding of what influences accidents."
   ]
  },
  {
   "cell_type": "code",
   "execution_count": null,
   "metadata": {},
   "outputs": [
    {
     "name": "stdout",
     "output_type": "stream",
     "text": [
      "                             Mixed Linear Model Regression Results\n",
      "================================================================================================\n",
      "Model:                          MixedLM              Dependent Variable:              Accidents \n",
      "No. Observations:               1048                 Method:                          REML      \n",
      "No. Groups:                     8                    Scale:                           2622.7260 \n",
      "Min. group size:                118                  Log-Likelihood:                  -5597.2902\n",
      "Max. group size:                167                  Converged:                       Yes       \n",
      "Mean group size:                131.0                                                           \n",
      "------------------------------------------------------------------------------------------------\n",
      "                                                 Coef.   Std.Err.    z    P>|z|  [0.025   0.975]\n",
      "------------------------------------------------------------------------------------------------\n",
      "Intercept                                         51.555   10.132   5.088 0.000   31.697  71.414\n",
      "Road_Surface_Conditions[T.Flood over 3cm. deep] -100.193   11.414  -8.778 0.000 -122.564 -77.821\n",
      "Road_Surface_Conditions[T.Frost or ice]          -67.675    5.548 -12.198 0.000  -78.549 -56.801\n",
      "Road_Surface_Conditions[T.Snow]                  -73.569    6.448 -11.409 0.000  -86.207 -60.930\n",
      "Road_Surface_Conditions[T.Wet or damp]           -31.461    3.570  -8.814 0.000  -38.457 -24.465\n",
      "Road_Type[T.One way street]                      -40.251    5.481  -7.344 0.000  -50.994 -29.508\n",
      "Road_Type[T.Roundabout]                          -20.488    4.715  -4.346 0.000  -29.729 -11.248\n",
      "Road_Type[T.Single carriageway]                   57.219    4.425  12.932 0.000   48.547  65.891\n",
      "Road_Type[T.Slip road]                           -37.819    5.366  -7.048 0.000  -48.336 -27.302\n",
      "Month                                              0.294    0.423   0.694 0.488   -0.536   1.123\n",
      "Group Var                                        647.748    6.962                               \n",
      "================================================================================================\n",
      "\n"
     ]
    }
   ],
   "source": [
    "import statsmodels.formula.api as smf\n",
    "\n",
    "# Ensure 'Month' exists in the DataFrame\n",
    "df['Month'] = pd.to_datetime(df['Accident Date'], format=\"%d-%m-%Y\").dt.month\n",
    "\n",
    "# Group by relevant columns to calculate the number of accidents\n",
    "df_grouped = df.groupby(['District Area', 'Month', 'Road_Surface_Conditions', 'Road_Type']).size().reset_index(name='Accidents')\n",
    "\n",
    "# Create a mixed-effects model with your specified fixed effects\n",
    "model = smf.mixedlm(\"Accidents ~ Month + Road_Surface_Conditions + Road_Type\",\n",
    "                    df_grouped, groups=df_grouped[\"District Area\"])\n",
    "\n",
    "# Fit the model\n",
    "result = model.fit()\n",
    "\n",
    "# Print the model summary\n",
    "print(result.summary())"
   ]
  },
  {
   "cell_type": "markdown",
   "metadata": {},
   "source": [
    "We'll check for colinearity between the variables"
   ]
  },
  {
   "cell_type": "code",
   "execution_count": null,
   "metadata": {},
   "outputs": [
    {
     "name": "stdout",
     "output_type": "stream",
     "text": [
      "                                       Variable       VIF\n",
      "0                                         Month  2.685577\n",
      "1  Road_Surface_Conditions_Flood over 3cm. deep  1.064821\n",
      "2          Road_Surface_Conditions_Frost or ice  1.204965\n",
      "3                  Road_Surface_Conditions_Snow  1.118458\n",
      "4           Road_Surface_Conditions_Wet or damp  1.620760\n",
      "5                      Road_Type_One way street  1.258437\n",
      "6                          Road_Type_Roundabout  1.443385\n",
      "7                  Road_Type_Single carriageway  1.606593\n",
      "8                           Road_Type_Slip road  1.275193\n"
     ]
    }
   ],
   "source": [
    "from statsmodels.stats.outliers_influence import variance_inflation_factor\n",
    "\n",
    "# Dummy encode categorical variables\n",
    "X = pd.get_dummies(df_grouped[['Month', 'Road_Surface_Conditions', 'Road_Type']], drop_first=True)\n",
    "\n",
    "# Convert all boolean columns to integers\n",
    "X = X.astype(int)\n",
    "\n",
    "# Calculate VIF for each variable\n",
    "vif_data = pd.DataFrame()\n",
    "vif_data[\"Variable\"] = X.columns\n",
    "vif_data[\"VIF\"] = [variance_inflation_factor(X.values, i) for i in range(X.shape[1])]\n",
    "\n",
    "print(vif_data)"
   ]
  },
  {
   "cell_type": "markdown",
   "metadata": {},
   "source": [
    "All VIF values are below 5, which means there is no significant multicollinearity among the variables so we can confidently include them in our regression model"
   ]
  },
  {
   "cell_type": "markdown",
   "metadata": {},
   "source": [
    "### Interpretation"
   ]
  },
  {
   "cell_type": "markdown",
   "metadata": {},
   "source": [
    "The analysis revealed an unexpected finding: while the model showed a statistically significant effect of road surface conditions on accident frequency, the results suggest that wet or icy conditions do not lead to a substantial increase in accidents. This counterintuitive result may be attributed to several factors:\n",
    "\n",
    "* Firstly, there was a data imbalance, with relatively few accidents occurring under icy conditions, which may limit the model's power to detect a significant effect. \n",
    "* Secondly, it is plausible that confounding factors, such as more cautious driving behavior in adverse conditions, may mitigate the increased risk associated with those conditions. Drivers may reduce their speed and increase their following distance, thus reducing the likelihood of accidents. \n",
    "\n",
    "Lets check if there is significant interaction between road surface conditions and the road type using the Chi-Squared test"
   ]
  },
  {
   "cell_type": "code",
   "execution_count": 33,
   "metadata": {},
   "outputs": [
    {
     "name": "stdout",
     "output_type": "stream",
     "text": [
      "Chi-Squared Statistic: 22.454283308155567\n",
      "P-Value: 0.12911959117995064\n",
      "Degrees of Freedom: 16\n",
      "Expected Frequencies:\n",
      "[[4.34414927e+03 3.96106369e+02 1.58579609e+03 1.50088678e+04\n",
      "  2.48080460e+02]\n",
      " [4.62935797e+00 4.22112148e-01 1.68990919e+00 1.59942529e+01\n",
      "  2.64367816e-01]\n",
      " [1.46931797e+02 1.33974725e+01 5.36362482e+01 5.07643678e+02\n",
      "  8.39080460e+00]\n",
      " [4.95140027e+01 4.51476472e+00 1.80746809e+01 1.71068966e+02\n",
      "  2.82758621e+00]\n",
      " [1.79377558e+03 1.63559281e+02 6.54803074e+02 6.19742529e+03\n",
      "  1.02436782e+02]]\n",
      "There is no significant association between Road_Surface_Conditions and Road_Type.\n"
     ]
    }
   ],
   "source": [
    "from scipy.stats import chi2_contingency\n",
    "\n",
    "# Create a contingency table for Road_Surface_Conditions and Road_Type\n",
    "contingency_table = pd.crosstab(df['Road_Surface_Conditions'], df['Road_Type'])\n",
    "\n",
    "# Perform the Chi-Squared Test\n",
    "chi2, p, dof, expected = chi2_contingency(contingency_table)\n",
    "\n",
    "# Print the results\n",
    "print(\"Chi-Squared Statistic:\", chi2)\n",
    "print(\"P-Value:\", p)\n",
    "print(\"Degrees of Freedom:\", dof)\n",
    "print(\"Expected Frequencies:\")\n",
    "print(expected)\n",
    "\n",
    "# Interpret the p-value\n",
    "if p < 0.05:\n",
    "    print(\"There is a significant association between Road_Surface_Conditions and Road_Type.\")\n",
    "else:\n",
    "    print(\"There is no significant association between Road_Surface_Conditions and Road_Type.\")"
   ]
  },
  {
   "cell_type": "markdown",
   "metadata": {},
   "source": [
    "Since there is no significant association between the two variables we can stick with our evaluation above"
   ]
  }
 ],
 "metadata": {
  "kernelspec": {
   "display_name": ".venv",
   "language": "python",
   "name": "python3"
  },
  "language_info": {
   "codemirror_mode": {
    "name": "ipython",
    "version": 3
   },
   "file_extension": ".py",
   "mimetype": "text/x-python",
   "name": "python",
   "nbconvert_exporter": "python",
   "pygments_lexer": "ipython3",
   "version": "3.12.8"
  }
 },
 "nbformat": 4,
 "nbformat_minor": 2
}
