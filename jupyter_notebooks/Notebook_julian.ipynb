{
 "cells": [
  {
   "cell_type": "markdown",
   "metadata": {},
   "source": [
    "## Objectives\n",
    "\n",
    "* Write your notebook objective here, for example, \"Fetch data from Kaggle and save as raw data\", or \"engineer features for modelling\"\n",
    "\n",
    "## Inputs\n",
    "\n",
    "* Write down which data or information you need to run the notebook \n",
    "\n",
    "## Outputs\n",
    "\n",
    "* Write here which files, code or artefacts you generate by the end of the notebook \n",
    "\n",
    "## Additional Comments\n",
    "\n",
    "* If you have any additional comments that don't fit in the previous bullets, please state them here. \n",
    "\n"
   ]
  },
  {
   "cell_type": "markdown",
   "metadata": {},
   "source": [
    "# Change working directory"
   ]
  },
  {
   "cell_type": "markdown",
   "metadata": {},
   "source": [
    "* We are assuming you will store the notebooks in a subfolder, therefore when running the notebook in the editor, you will need to change the working directory"
   ]
  },
  {
   "cell_type": "markdown",
   "metadata": {},
   "source": [
    "We need to change the working directory from its current folder to its parent folder\n",
    "* We access the current directory with os.getcwd()"
   ]
  },
  {
   "cell_type": "code",
   "execution_count": 3,
   "metadata": {},
   "outputs": [
    {
     "data": {
      "text/plain": [
       "'c:\\\\Users\\\\Default.DESKTOP-QO1EVKV\\\\OneDrive\\\\Documents\\\\GitHubRepos\\\\UK-Road-Accident-Analysis\\\\jupyter_notebooks'"
      ]
     },
     "execution_count": 3,
     "metadata": {},
     "output_type": "execute_result"
    }
   ],
   "source": [
    "import os\n",
    "current_dir = os.getcwd()\n",
    "current_dir"
   ]
  },
  {
   "cell_type": "markdown",
   "metadata": {},
   "source": [
    "We want to make the parent of the current directory the new current directory\n",
    "* os.path.dirname() gets the parent directory\n",
    "* os.chir() defines the new current directory"
   ]
  },
  {
   "cell_type": "code",
   "execution_count": 4,
   "metadata": {},
   "outputs": [
    {
     "name": "stdout",
     "output_type": "stream",
     "text": [
      "You set a new current directory\n"
     ]
    }
   ],
   "source": [
    "os.chdir(os.path.dirname(current_dir))\n",
    "print(\"You set a new current directory\")"
   ]
  },
  {
   "cell_type": "markdown",
   "metadata": {},
   "source": [
    "Confirm the new current directory"
   ]
  },
  {
   "cell_type": "code",
   "execution_count": 5,
   "metadata": {},
   "outputs": [
    {
     "data": {
      "text/plain": [
       "'c:\\\\Users\\\\Default.DESKTOP-QO1EVKV\\\\OneDrive\\\\Documents\\\\GitHubRepos\\\\UK-Road-Accident-Analysis'"
      ]
     },
     "execution_count": 5,
     "metadata": {},
     "output_type": "execute_result"
    }
   ],
   "source": [
    "current_dir = os.getcwd()\n",
    "current_dir"
   ]
  },
  {
   "cell_type": "markdown",
   "metadata": {},
   "source": [
    "# Section 1"
   ]
  },
  {
   "cell_type": "code",
   "execution_count": 7,
   "metadata": {},
   "outputs": [],
   "source": [
    "# Import required libaries \n",
    "import pandas as pd\n",
    "import numpy as np\n",
    "import matplotlib.pyplot as plt\n",
    "import seaborn as sns"
   ]
  },
  {
   "cell_type": "code",
   "execution_count": 8,
   "metadata": {},
   "outputs": [
    {
     "name": "stdout",
     "output_type": "stream",
     "text": [
      "Dataset Shape: (66658, 33)\n",
      "First few rows:\n",
      "    Unnamed: 0 Accident_Index  Location_Easting_OSGR  Location_Northing_OSGR  \\\n",
      "0       77220  200520D002602               411470.0                293030.0   \n",
      "1       77221  200520D002703               410540.0                285350.0   \n",
      "2       77222  200520D004203               414090.0                284140.0   \n",
      "3       77223  200520D004603               408930.0                286770.0   \n",
      "4       77224  200520D006503               409780.0                285710.0   \n",
      "\n",
      "   Longitude   Latitude  Police_Force  Accident_Severity  Number_of_Vehicles  \\\n",
      "0  -1.832342  52.534986            20                  2                   1   \n",
      "1  -1.846293  52.465961            20                  3                   2   \n",
      "2  -1.794089  52.455003            20                  3                   1   \n",
      "3  -1.869954  52.478755            20                  1                   1   \n",
      "4  -1.857470  52.469211            20                  3                   2   \n",
      "\n",
      "   Number_of_Casualties  ...      Pedestrian_Crossing-Physical_Facilities  \\\n",
      "0                     3  ...             non-junction pedestrian crossing   \n",
      "1                     2  ...  Pedestrian phase at traffic signal junction   \n",
      "2                     1  ...             non-junction pedestrian crossing   \n",
      "3                     2  ...        No physical crossing within 50 meters   \n",
      "4                     1  ...                               Central refuge   \n",
      "\n",
      "                          Light_Conditions       Weather_Conditions  \\\n",
      "0  Darkness: Street lights present and lit     Fine with high winds   \n",
      "1           Daylight: Street light present  Fine without high winds   \n",
      "2           Daylight: Street light present  Fine without high winds   \n",
      "3           Daylight: Street light present  Fine without high winds   \n",
      "4  Darkness: Street lights present and lit  Fine without high winds   \n",
      "\n",
      "   Road_Surface_Conditions Special_Conditions_at_Site  Carriageway_Hazards  \\\n",
      "0                 Wet/Damp                        NaN                  NaN   \n",
      "1                      Dry                        NaN                  NaN   \n",
      "2                Frost/Ice                        NaN                  NaN   \n",
      "3                      Dry                        NaN                  NaN   \n",
      "4                 Wet/Damp                        NaN                  NaN   \n",
      "\n",
      "   Urban_or_Rural_Area Did_Police_Officer_Attend_Scene_of_Accident  \\\n",
      "0                    1                                         Yes   \n",
      "1                    1                                         Yes   \n",
      "2                    1                                         Yes   \n",
      "3                    1                                         Yes   \n",
      "4                    1                                         Yes   \n",
      "\n",
      "   LSOA_of_Accident_Location  Year  \n",
      "0                  E01009462  2005  \n",
      "1                  E01009337  2005  \n",
      "2                  E01009316  2005  \n",
      "3                  E01009199  2005  \n",
      "4                  E01009380  2005  \n",
      "\n",
      "[5 rows x 33 columns]\n"
     ]
    }
   ],
   "source": [
    "# Load the data \n",
    "file_path = \"Data/Bham_surrounds_accidents.csv\"  # file path \n",
    "df = pd.read_csv(file_path) \n",
    "\n",
    "# Display basic structure \n",
    "print(\"Dataset Shape:\", df.shape)  \n",
    "print(\"First few rows:\\n\", df.head()) "
   ]
  }
 ],
 "metadata": {
  "kernelspec": {
   "display_name": "Python 3",
   "language": "python",
   "name": "python3"
  },
  "language_info": {
   "codemirror_mode": {
    "name": "ipython",
    "version": 3
   },
   "file_extension": ".py",
   "mimetype": "text/x-python",
   "name": "python",
   "nbconvert_exporter": "python",
   "pygments_lexer": "ipython3",
   "version": "3.12.8"
  }
 },
 "nbformat": 4,
 "nbformat_minor": 2
}
