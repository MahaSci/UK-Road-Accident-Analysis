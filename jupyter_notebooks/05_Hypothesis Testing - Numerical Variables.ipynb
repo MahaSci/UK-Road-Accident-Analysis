{
 "cells": [
  {
   "cell_type": "code",
   "execution_count": 1,
   "metadata": {},
   "outputs": [
    {
     "data": {
      "text/plain": [
       "'/Users/mahahussain/Desktop/UK-Road-Accident-Analysis/UK-Road-Accident-Analysis/jupyter_notebooks'"
      ]
     },
     "execution_count": 1,
     "metadata": {},
     "output_type": "execute_result"
    }
   ],
   "source": [
    "import os\n",
    "current_dir = os.getcwd()\n",
    "current_dir"
   ]
  },
  {
   "cell_type": "code",
   "execution_count": 2,
   "metadata": {},
   "outputs": [
    {
     "data": {
      "text/plain": [
       "'/Users/mahahussain/Desktop/UK-Road-Accident-Analysis/UK-Road-Accident-Analysis/jupyter_notebooks'"
      ]
     },
     "execution_count": 2,
     "metadata": {},
     "output_type": "execute_result"
    }
   ],
   "source": [
    "import os\n",
    "current_dir = os.getcwd()\n",
    "current_dir"
   ]
  },
  {
   "cell_type": "code",
   "execution_count": 3,
   "metadata": {},
   "outputs": [
    {
     "name": "stdout",
     "output_type": "stream",
     "text": [
      "You set a new current directory\n"
     ]
    }
   ],
   "source": [
    "os.chdir(os.path.dirname(current_dir))\n",
    "print(\"You set a new current directory\")"
   ]
  },
  {
   "cell_type": "code",
   "execution_count": 4,
   "metadata": {},
   "outputs": [
    {
     "data": {
      "text/plain": [
       "'/Users/mahahussain/Desktop/UK-Road-Accident-Analysis/UK-Road-Accident-Analysis'"
      ]
     },
     "execution_count": 4,
     "metadata": {},
     "output_type": "execute_result"
    }
   ],
   "source": [
    "current_dir = os.getcwd()\n",
    "current_dir"
   ]
  },
  {
   "cell_type": "code",
   "execution_count": 5,
   "metadata": {},
   "outputs": [],
   "source": [
    "import pandas as pd \n",
    "import numpy as np\n",
    "import matplotlib.pyplot as plt\n",
    "import seaborn as sns\n",
    "sns.set_style('whitegrid')\n",
    "import plotly.express as px"
   ]
  },
  {
   "cell_type": "code",
   "execution_count": null,
   "metadata": {},
   "outputs": [],
   "source": [
    "df = pd.read_csv(os.path.join(current_dir, 'filtered_accident_data_set.csv'))\n",
    "df.head()"
   ]
  },
  {
   "cell_type": "code",
   "execution_count": null,
   "metadata": {},
   "outputs": [],
   "source": [
    "df['Accident Date'].head()"
   ]
  },
  {
   "cell_type": "markdown",
   "metadata": {},
   "source": [
    "## Hypothesis 1: Road conditions affect the number of casualties"
   ]
  },
  {
   "cell_type": "code",
   "execution_count": null,
   "metadata": {},
   "outputs": [],
   "source": [
    "import pandas as pd\n",
    "import scipy.stats as stats\n",
    "\n",
    "# Check hypothesis 1\n",
    "# Convert date to datetime format\n",
    "df['Accident Date'] = pd.to_datetime(df['Accident Date'], format='%d-%m-%Y')\n",
    "\n",
    "# Group the data\n",
    "wet = df[df['Road_Surface_Conditions'] == 'Wet or damp']['Number_of_Casualties']\n",
    "dry = df[df['Road_Surface_Conditions'] == 'Dry']['Number_of_Casualties']\n",
    "\n",
    "# Mann-Whitney U test (if data is not normally distributed) or t-test (if normally distributed)\n",
    "stat, p = stats.mannwhitneyu(wet, dry, alternative='two-sided')\n",
    "print(f\"Road Surface Conditions Test: U={stat}, p-value={p}\")\n"
   ]
  },
  {
   "cell_type": "markdown",
   "metadata": {},
   "source": [
    "This means road surface conditions significantly affect the number of casualties. Wet/damp conditions likely result in more casualties than dry conditions."
   ]
  },
  {
   "cell_type": "code",
   "execution_count": null,
   "metadata": {},
   "outputs": [],
   "source": [
    "import matplotlib.pyplot as plt\n",
    "import seaborn as sns\n",
    "\n",
    "plt.figure(figsize=(10, 5))\n",
    "sns.boxplot(data=df, x=\"Road_Surface_Conditions\", y=\"Number_of_Casualties\", palette=\"coolwarm\")\n",
    "plt.xticks(rotation=45)\n",
    "plt.title(\"Impact of Road Surface Conditions on Number of Casualties\")\n",
    "plt.xlabel(\"Road Surface Conditions\")\n",
    "plt.ylabel(\"Number of Casualties\")\n",
    "plt.show()\n"
   ]
  },
  {
   "cell_type": "markdown",
   "metadata": {},
   "source": [
    "## Hypothesis 2: Rural accidents are more severe than urban accidents"
   ]
  },
  {
   "cell_type": "code",
   "execution_count": null,
   "metadata": {},
   "outputs": [],
   "source": [
    "# Check hypothesis 2\n",
    "\n",
    "urban = df[df['Urban_or_Rural_Area'] == 'Urban']['Number_of_Casualties']\n",
    "rural = df[df['Urban_or_Rural_Area'] == 'Rural']['Number_of_Casualties']\n",
    "\n",
    "# Mann-Whitney U test\n",
    "stat, p = stats.mannwhitneyu(urban, rural, alternative='greater')\n",
    "print(f\"Urban vs Rural Test: U={stat}, p-value={p}\")\n",
    "\n"
   ]
  },
  {
   "cell_type": "code",
   "execution_count": null,
   "metadata": {},
   "outputs": [],
   "source": [
    "sns.barplot(data=df, \n",
    "            x=\"Urban_or_Rural_Area\", \n",
    "            y=\"Number_of_Casualties\", \n",
    "            hue=\"Urban_or_Rural_Area\",  \n",
    "            palette=\"Set2\", \n",
    "            errorbar=None, \n",
    "            legend=False)  \n"
   ]
  },
  {
   "cell_type": "code",
   "execution_count": null,
   "metadata": {},
   "outputs": [],
   "source": [
    "# Calculate the average number of casualties for Urban and Rural areas\n",
    "urban_avg = df[df['Urban_or_Rural_Area'] == 'Urban']['Number_of_Casualties'].mean()\n",
    "rural_avg = df[df['Urban_or_Rural_Area'] == 'Rural']['Number_of_Casualties'].mean()\n",
    "\n",
    "# Print the string with the information\n",
    "print(f\"Average number of casualties in Urban areas: {urban_avg:.2f}\")\n",
    "print(f\"Average number of casualties in Rural areas: {rural_avg:.2f}\")\n"
   ]
  },
  {
   "cell_type": "markdown",
   "metadata": {},
   "source": [
    "There is no significant difference in the number of casualties between urban and rural areas, even though there are far more accidents in urban areas."
   ]
  },
  {
   "cell_type": "markdown",
   "metadata": {},
   "source": [
    "## Hypothesis 3: More accidents occur on weekends than weekdays"
   ]
  },
  {
   "cell_type": "code",
   "execution_count": null,
   "metadata": {},
   "outputs": [],
   "source": [
    "# Check hypothesis 3\n",
    "\n",
    "df['Day_of_Week'] = df['Accident Date'].dt.dayofweek  # 0 - Monday, 6 - Sunday\n",
    "weekend = df[df['Day_of_Week'] >= 5]['Number_of_Casualties']\n",
    "weekday = df[df['Day_of_Week'] < 5]['Number_of_Casualties']\n",
    "\n",
    "# Mann-Whitney U test\n",
    "stat, p = stats.mannwhitneyu(weekday, weekend, alternative='two-sided')\n",
    "print(f\"Weekend vs Weekday Test: U={stat}, p-value={p}\")\n",
    "\n"
   ]
  },
  {
   "cell_type": "code",
   "execution_count": null,
   "metadata": {},
   "outputs": [],
   "source": [
    "# Calculate the average number of casualties for Weekdays and Weekend \n",
    "\n",
    "weekdays_avg = weekday.mean()\n",
    "weekends_avg = weekend.mean()\n",
    "\n",
    "# Print the string with the information\n",
    "print(f\"Average number of casualties in weekdays: {weekdays_avg:.2f}\")\n",
    "print(f\"Average number of casualties in weekends: {weekends_avg:.2f}\")\n"
   ]
  },
  {
   "cell_type": "code",
   "execution_count": null,
   "metadata": {},
   "outputs": [],
   "source": [
    "df['Day_of_Week'] = df['Accident Date'].dt.dayofweek  # 0=Monday, ..., 6=Sunday\n",
    "df['Weekend'] = df['Day_of_Week'].apply(lambda x: \"Weekend\" if x >= 5 else \"Weekday\")\n",
    "\n",
    "casualties_by_day_type = df.groupby('Weekend')['Number_of_Casualties'].sum().reset_index()\n",
    "\n",
    "\n",
    "plt.figure(figsize=(6, 4))\n",
    "sns.barplot(data=casualties_by_day_type, x=\"Weekend\", y=\"Number_of_Casualties\", palette=\"muted\")\n",
    "\n",
    "\n",
    "plt.title(\"Total Number of Casualties on Weekends vs. Weekdays\")\n",
    "plt.xlabel(\"Day Type\")\n",
    "plt.ylabel(\"Number of Casualties\")\n",
    "plt.show()\n"
   ]
  },
  {
   "cell_type": "markdown",
   "metadata": {},
   "source": [
    "This means accidents are significantly more frequent on weekends than on weekdays."
   ]
  },
  {
   "cell_type": "code",
   "execution_count": null,
   "metadata": {},
   "outputs": [],
   "source": []
  },
  {
   "cell_type": "markdown",
   "metadata": {},
   "source": [
    "## Hypothesis 4: Lighting conditions affect accident severity"
   ]
  },
  {
   "cell_type": "code",
   "execution_count": null,
   "metadata": {},
   "outputs": [],
   "source": [
    "# Check hypothesis 4\n",
    "\n",
    "light_conditions = df.groupby(\"Light_Conditions\")[\"Accident_Severity\"].value_counts(normalize=True).unstack()\n",
    "\n",
    "# Chi-square test to check for dependency\n",
    "stat, p, dof, expected = stats.chi2_contingency(light_conditions.fillna(0))\n",
    "print(f\"Light Conditions & Severity Test: χ²={stat}, p-value={p}\")\n"
   ]
  },
  {
   "cell_type": "markdown",
   "metadata": {},
   "source": [
    "This means lighting conditions do not significantly impact accident severity."
   ]
  },
  {
   "cell_type": "code",
   "execution_count": null,
   "metadata": {},
   "outputs": [],
   "source": [
    "import plotly.express as px\n",
    "\n",
    "severity_counts = df.groupby(\"Light_Conditions\")[\"Accident_Severity\"].value_counts().unstack().fillna(0)\n",
    "severity_counts.plot(kind=\"bar\", stacked=True, figsize=(10, 5), colormap=\"coolwarm\")\n",
    "\n",
    "plt.title(\"Accident Severity by Light Conditions\")\n",
    "plt.xlabel(\"Light Conditions\")\n",
    "plt.ylabel(\"Number of Accidents\")\n",
    "plt.xticks(rotation=45)\n",
    "plt.legend(title=\"Accident Severity\")\n",
    "plt.show()\n"
   ]
  },
  {
   "cell_type": "code",
   "execution_count": null,
   "metadata": {},
   "outputs": [],
   "source": [
    "os.chdir(os.path.dirname(current_dir))\n",
    "print(\"You set a new current directory\")"
   ]
  },
  {
   "cell_type": "code",
   "execution_count": null,
   "metadata": {},
   "outputs": [],
   "source": [
    "current_dir = os.getcwd()\n",
    "current_dir"
   ]
  },
  {
   "cell_type": "code",
   "execution_count": null,
   "metadata": {},
   "outputs": [],
   "source": [
    "import pandas as pd \n",
    "import numpy as np\n",
    "import matplotlib.pyplot as plt\n",
    "import seaborn as sns\n",
    "sns.set_style('whitegrid')\n",
    "import plotly.express as px"
   ]
  },
  {
   "cell_type": "code",
   "execution_count": null,
   "metadata": {},
   "outputs": [],
   "source": [
    "df = pd.read_csv(os.path.join(current_dir, 'filtered_accident_data_set.csv'))\n",
    "df.head()"
   ]
  }
 ],
 "metadata": {
  "kernelspec": {
   "display_name": "Python 3",
   "language": "python",
   "name": "python3"
  },
  "language_info": {
   "codemirror_mode": {
    "name": "ipython",
    "version": 3
   },
   "file_extension": ".py",
   "mimetype": "text/x-python",
   "name": "python",
   "nbconvert_exporter": "python",
   "pygments_lexer": "ipython3",
   "version": "3.12.8"
  }
 },
 "nbformat": 4,
 "nbformat_minor": 2
}
