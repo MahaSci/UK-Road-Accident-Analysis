{
 "cells": [
  {
   "cell_type": "markdown",
   "metadata": {},
   "source": [
    "# Machine Learning: Accident Severity Prediction"
   ]
  },
  {
   "cell_type": "code",
   "execution_count": 1,
   "metadata": {},
   "outputs": [],
   "source": [
    "import warnings\n",
    "\n",
    "# Suppress FutureWarnings\n",
    "warnings.simplefilter(action='ignore', category=FutureWarning)\n"
   ]
  },
  {
   "cell_type": "markdown",
   "metadata": {},
   "source": [
    "## Change Directories"
   ]
  },
  {
   "cell_type": "code",
   "execution_count": 2,
   "metadata": {},
   "outputs": [
    {
     "data": {
      "text/plain": [
       "'/Users/mahahussain/Desktop/UK-Road-Accident-Analysis/UK-Road-Accident-Analysis/jupyter_notebooks'"
      ]
     },
     "execution_count": 2,
     "metadata": {},
     "output_type": "execute_result"
    }
   ],
   "source": [
    "import os\n",
    "current_dir = os.getcwd()\n",
    "current_dir"
   ]
  },
  {
   "cell_type": "code",
   "execution_count": 3,
   "metadata": {},
   "outputs": [
    {
     "name": "stdout",
     "output_type": "stream",
     "text": [
      "You set a new current directory\n"
     ]
    }
   ],
   "source": [
    "os.chdir(os.path.dirname(current_dir))\n",
    "print(\"You set a new current directory\")"
   ]
  },
  {
   "cell_type": "code",
   "execution_count": 4,
   "metadata": {},
   "outputs": [
    {
     "data": {
      "text/plain": [
       "'/Users/mahahussain/Desktop/UK-Road-Accident-Analysis/UK-Road-Accident-Analysis'"
      ]
     },
     "execution_count": 4,
     "metadata": {},
     "output_type": "execute_result"
    }
   ],
   "source": [
    "current_dir = os.getcwd()\n",
    "current_dir"
   ]
  },
  {
   "cell_type": "code",
   "execution_count": 5,
   "metadata": {},
   "outputs": [],
   "source": [
    "import pandas as pd \n",
    "import numpy as np\n",
    "import seaborn as sns\n",
    "sns.set_style('whitegrid')"
   ]
  },
  {
   "cell_type": "markdown",
   "metadata": {},
   "source": [
    "# Model 1 : Multinomial Logistic Regression"
   ]
  },
  {
   "cell_type": "markdown",
   "metadata": {},
   "source": [
    "The aim of this ML model is to predict the severity of an accident based on the input features.\n",
    "\n",
    "**The severity of an accident is classified into 3 categories:**\n",
    "1. Fatal\n",
    "2. Serious\n",
    "3. Slight\n",
    "\n",
    "Therefore, a multinomial logistic regression model will be used to predict the severity of an accident.\n",
    "\n",
    "**Inputs:**\n",
    "1. Data: 'filtered_accident_data_set.csv'\n",
    "\n",
    "**Outputs:**"
   ]
  },
  {
   "cell_type": "markdown",
   "metadata": {},
   "source": [
    "### Workflow plan:\n",
    "1. Data Prepocessing\n",
    "1. Split dataset into train and test set.\n",
    "2. Create pipeline for feature selection, scaling, and model fitting.\n",
    "3. Evaluate model with the test set."
   ]
  },
  {
   "cell_type": "markdown",
   "metadata": {},
   "source": [
    "## 1. Data Preprocessing"
   ]
  },
  {
   "cell_type": "markdown",
   "metadata": {},
   "source": [
    "### Exploring data"
   ]
  },
  {
   "cell_type": "code",
   "execution_count": 6,
   "metadata": {},
   "outputs": [
    {
     "data": {
      "text/html": [
       "<div>\n",
       "<style scoped>\n",
       "    .dataframe tbody tr th:only-of-type {\n",
       "        vertical-align: middle;\n",
       "    }\n",
       "\n",
       "    .dataframe tbody tr th {\n",
       "        vertical-align: top;\n",
       "    }\n",
       "\n",
       "    .dataframe thead th {\n",
       "        text-align: right;\n",
       "    }\n",
       "</style>\n",
       "<table border=\"1\" class=\"dataframe\">\n",
       "  <thead>\n",
       "    <tr style=\"text-align: right;\">\n",
       "      <th></th>\n",
       "      <th>Index</th>\n",
       "      <th>Accident_Severity</th>\n",
       "      <th>Accident Date</th>\n",
       "      <th>Latitude</th>\n",
       "      <th>Light_Conditions</th>\n",
       "      <th>District Area</th>\n",
       "      <th>Longitude</th>\n",
       "      <th>Number_of_Casualties</th>\n",
       "      <th>Number_of_Vehicles</th>\n",
       "      <th>Road_Surface_Conditions</th>\n",
       "      <th>Road_Type</th>\n",
       "      <th>Urban_or_Rural_Area</th>\n",
       "      <th>Vehicle_Type</th>\n",
       "    </tr>\n",
       "  </thead>\n",
       "  <tbody>\n",
       "    <tr>\n",
       "      <th>0</th>\n",
       "      <td>200720D003001</td>\n",
       "      <td>Slight</td>\n",
       "      <td>02-01-2019</td>\n",
       "      <td>52.513668</td>\n",
       "      <td>Darkness - lights lit</td>\n",
       "      <td>Birmingham</td>\n",
       "      <td>-1.901975</td>\n",
       "      <td>1</td>\n",
       "      <td>2</td>\n",
       "      <td>Wet or damp</td>\n",
       "      <td>Dual carriageway</td>\n",
       "      <td>Urban</td>\n",
       "      <td>Car</td>\n",
       "    </tr>\n",
       "    <tr>\n",
       "      <th>1</th>\n",
       "      <td>200720D003101</td>\n",
       "      <td>Slight</td>\n",
       "      <td>02-01-2019</td>\n",
       "      <td>52.502396</td>\n",
       "      <td>Daylight</td>\n",
       "      <td>Birmingham</td>\n",
       "      <td>-1.867086</td>\n",
       "      <td>1</td>\n",
       "      <td>2</td>\n",
       "      <td>Wet or damp</td>\n",
       "      <td>Single carriageway</td>\n",
       "      <td>Urban</td>\n",
       "      <td>Car</td>\n",
       "    </tr>\n",
       "    <tr>\n",
       "      <th>2</th>\n",
       "      <td>200720D003802</td>\n",
       "      <td>Serious</td>\n",
       "      <td>03-01-2019</td>\n",
       "      <td>52.563201</td>\n",
       "      <td>Daylight</td>\n",
       "      <td>Birmingham</td>\n",
       "      <td>-1.822793</td>\n",
       "      <td>1</td>\n",
       "      <td>1</td>\n",
       "      <td>Dry</td>\n",
       "      <td>Single carriageway</td>\n",
       "      <td>Urban</td>\n",
       "      <td>Car</td>\n",
       "    </tr>\n",
       "    <tr>\n",
       "      <th>3</th>\n",
       "      <td>200720D005801</td>\n",
       "      <td>Slight</td>\n",
       "      <td>02-01-2019</td>\n",
       "      <td>52.493431</td>\n",
       "      <td>Daylight</td>\n",
       "      <td>Birmingham</td>\n",
       "      <td>-1.818507</td>\n",
       "      <td>1</td>\n",
       "      <td>2</td>\n",
       "      <td>Wet or damp</td>\n",
       "      <td>Dual carriageway</td>\n",
       "      <td>Urban</td>\n",
       "      <td>Car</td>\n",
       "    </tr>\n",
       "    <tr>\n",
       "      <th>4</th>\n",
       "      <td>200720D005901</td>\n",
       "      <td>Slight</td>\n",
       "      <td>05-01-2019</td>\n",
       "      <td>52.510805</td>\n",
       "      <td>Darkness - lights lit</td>\n",
       "      <td>Birmingham</td>\n",
       "      <td>-1.834202</td>\n",
       "      <td>1</td>\n",
       "      <td>3</td>\n",
       "      <td>Dry</td>\n",
       "      <td>Dual carriageway</td>\n",
       "      <td>Urban</td>\n",
       "      <td>Car</td>\n",
       "    </tr>\n",
       "  </tbody>\n",
       "</table>\n",
       "</div>"
      ],
      "text/plain": [
       "           Index Accident_Severity Accident Date   Latitude  \\\n",
       "0  200720D003001            Slight    02-01-2019  52.513668   \n",
       "1  200720D003101            Slight    02-01-2019  52.502396   \n",
       "2  200720D003802           Serious    03-01-2019  52.563201   \n",
       "3  200720D005801            Slight    02-01-2019  52.493431   \n",
       "4  200720D005901            Slight    05-01-2019  52.510805   \n",
       "\n",
       "        Light_Conditions District Area  Longitude  Number_of_Casualties  \\\n",
       "0  Darkness - lights lit    Birmingham  -1.901975                     1   \n",
       "1               Daylight    Birmingham  -1.867086                     1   \n",
       "2               Daylight    Birmingham  -1.822793                     1   \n",
       "3               Daylight    Birmingham  -1.818507                     1   \n",
       "4  Darkness - lights lit    Birmingham  -1.834202                     1   \n",
       "\n",
       "   Number_of_Vehicles Road_Surface_Conditions           Road_Type  \\\n",
       "0                   2             Wet or damp    Dual carriageway   \n",
       "1                   2             Wet or damp  Single carriageway   \n",
       "2                   1                     Dry  Single carriageway   \n",
       "3                   2             Wet or damp    Dual carriageway   \n",
       "4                   3                     Dry    Dual carriageway   \n",
       "\n",
       "  Urban_or_Rural_Area Vehicle_Type  \n",
       "0               Urban          Car  \n",
       "1               Urban          Car  \n",
       "2               Urban          Car  \n",
       "3               Urban          Car  \n",
       "4               Urban          Car  "
      ]
     },
     "execution_count": 6,
     "metadata": {},
     "output_type": "execute_result"
    }
   ],
   "source": [
    "df = pd.read_csv('filtered_accident_data_set.csv')\n",
    "\n",
    "og_df = df.copy() # save the original data set in case we need it later\n",
    "\n",
    "df.head()"
   ]
  },
  {
   "cell_type": "code",
   "execution_count": 7,
   "metadata": {},
   "outputs": [
    {
     "name": "stdout",
     "output_type": "stream",
     "text": [
      "<class 'pandas.core.frame.DataFrame'>\n",
      "RangeIndex: 32657 entries, 0 to 32656\n",
      "Data columns (total 13 columns):\n",
      " #   Column                   Non-Null Count  Dtype  \n",
      "---  ------                   --------------  -----  \n",
      " 0   Index                    32657 non-null  object \n",
      " 1   Accident_Severity        32657 non-null  object \n",
      " 2   Accident Date            32657 non-null  object \n",
      " 3   Latitude                 32657 non-null  float64\n",
      " 4   Light_Conditions         32657 non-null  object \n",
      " 5   District Area            32657 non-null  object \n",
      " 6   Longitude                32657 non-null  float64\n",
      " 7   Number_of_Casualties     32657 non-null  int64  \n",
      " 8   Number_of_Vehicles       32657 non-null  int64  \n",
      " 9   Road_Surface_Conditions  32657 non-null  object \n",
      " 10  Road_Type                32657 non-null  object \n",
      " 11  Urban_or_Rural_Area      32657 non-null  object \n",
      " 12  Vehicle_Type             32657 non-null  object \n",
      "dtypes: float64(2), int64(2), object(9)\n",
      "memory usage: 3.2+ MB\n"
     ]
    }
   ],
   "source": [
    "df.info()"
   ]
  },
  {
   "cell_type": "markdown",
   "metadata": {},
   "source": [
    "### Preprocessing checks"
   ]
  },
  {
   "cell_type": "code",
   "execution_count": 8,
   "metadata": {},
   "outputs": [
    {
     "name": "stdout",
     "output_type": "stream",
     "text": [
      "there are  0  duplicate rows\n"
     ]
    }
   ],
   "source": [
    "# print num of duplicate rows\n",
    "print( f'there are ',df.duplicated().sum(), ' duplicate rows')\n"
   ]
  },
  {
   "cell_type": "code",
   "execution_count": 9,
   "metadata": {},
   "outputs": [
    {
     "data": {
      "text/plain": [
       "<Axes: >"
      ]
     },
     "execution_count": 9,
     "metadata": {},
     "output_type": "execute_result"
    },
    {
     "data": {
      "image/png": "[encoded data removed]",
      "text/plain": [
       "<Figure size 640x480 with 2 Axes>"
      ]
     },
     "metadata": {},
     "output_type": "display_data"
    }
   ],
   "source": [
    "# Heatmap to check missing values\n",
    "sns.heatmap(df.isnull())"
   ]
  },
  {
   "cell_type": "markdown",
   "metadata": {},
   "source": [
    "Accident index has no relevance on the prediction of accident severity, therefore this column will be dropped."
   ]
  },
  {
   "cell_type": "code",
   "execution_count": 10,
   "metadata": {},
   "outputs": [
    {
     "data": {
      "text/html": [
       "<div>\n",
       "<style scoped>\n",
       "    .dataframe tbody tr th:only-of-type {\n",
       "        vertical-align: middle;\n",
       "    }\n",
       "\n",
       "    .dataframe tbody tr th {\n",
       "        vertical-align: top;\n",
       "    }\n",
       "\n",
       "    .dataframe thead th {\n",
       "        text-align: right;\n",
       "    }\n",
       "</style>\n",
       "<table border=\"1\" class=\"dataframe\">\n",
       "  <thead>\n",
       "    <tr style=\"text-align: right;\">\n",
       "      <th></th>\n",
       "      <th>Accident_Severity</th>\n",
       "      <th>Accident Date</th>\n",
       "      <th>Latitude</th>\n",
       "      <th>Light_Conditions</th>\n",
       "      <th>District Area</th>\n",
       "      <th>Longitude</th>\n",
       "      <th>Number_of_Casualties</th>\n",
       "      <th>Number_of_Vehicles</th>\n",
       "      <th>Road_Surface_Conditions</th>\n",
       "      <th>Road_Type</th>\n",
       "      <th>Urban_or_Rural_Area</th>\n",
       "      <th>Vehicle_Type</th>\n",
       "    </tr>\n",
       "  </thead>\n",
       "  <tbody>\n",
       "    <tr>\n",
       "      <th>0</th>\n",
       "      <td>Slight</td>\n",
       "      <td>02-01-2019</td>\n",
       "      <td>52.513668</td>\n",
       "      <td>Darkness - lights lit</td>\n",
       "      <td>Birmingham</td>\n",
       "      <td>-1.901975</td>\n",
       "      <td>1</td>\n",
       "      <td>2</td>\n",
       "      <td>Wet or damp</td>\n",
       "      <td>Dual carriageway</td>\n",
       "      <td>Urban</td>\n",
       "      <td>Car</td>\n",
       "    </tr>\n",
       "    <tr>\n",
       "      <th>1</th>\n",
       "      <td>Slight</td>\n",
       "      <td>02-01-2019</td>\n",
       "      <td>52.502396</td>\n",
       "      <td>Daylight</td>\n",
       "      <td>Birmingham</td>\n",
       "      <td>-1.867086</td>\n",
       "      <td>1</td>\n",
       "      <td>2</td>\n",
       "      <td>Wet or damp</td>\n",
       "      <td>Single carriageway</td>\n",
       "      <td>Urban</td>\n",
       "      <td>Car</td>\n",
       "    </tr>\n",
       "    <tr>\n",
       "      <th>2</th>\n",
       "      <td>Serious</td>\n",
       "      <td>03-01-2019</td>\n",
       "      <td>52.563201</td>\n",
       "      <td>Daylight</td>\n",
       "      <td>Birmingham</td>\n",
       "      <td>-1.822793</td>\n",
       "      <td>1</td>\n",
       "      <td>1</td>\n",
       "      <td>Dry</td>\n",
       "      <td>Single carriageway</td>\n",
       "      <td>Urban</td>\n",
       "      <td>Car</td>\n",
       "    </tr>\n",
       "    <tr>\n",
       "      <th>3</th>\n",
       "      <td>Slight</td>\n",
       "      <td>02-01-2019</td>\n",
       "      <td>52.493431</td>\n",
       "      <td>Daylight</td>\n",
       "      <td>Birmingham</td>\n",
       "      <td>-1.818507</td>\n",
       "      <td>1</td>\n",
       "      <td>2</td>\n",
       "      <td>Wet or damp</td>\n",
       "      <td>Dual carriageway</td>\n",
       "      <td>Urban</td>\n",
       "      <td>Car</td>\n",
       "    </tr>\n",
       "    <tr>\n",
       "      <th>4</th>\n",
       "      <td>Slight</td>\n",
       "      <td>05-01-2019</td>\n",
       "      <td>52.510805</td>\n",
       "      <td>Darkness - lights lit</td>\n",
       "      <td>Birmingham</td>\n",
       "      <td>-1.834202</td>\n",
       "      <td>1</td>\n",
       "      <td>3</td>\n",
       "      <td>Dry</td>\n",
       "      <td>Dual carriageway</td>\n",
       "      <td>Urban</td>\n",
       "      <td>Car</td>\n",
       "    </tr>\n",
       "  </tbody>\n",
       "</table>\n",
       "</div>"
      ],
      "text/plain": [
       "  Accident_Severity Accident Date   Latitude       Light_Conditions  \\\n",
       "0            Slight    02-01-2019  52.513668  Darkness - lights lit   \n",
       "1            Slight    02-01-2019  52.502396               Daylight   \n",
       "2           Serious    03-01-2019  52.563201               Daylight   \n",
       "3            Slight    02-01-2019  52.493431               Daylight   \n",
       "4            Slight    05-01-2019  52.510805  Darkness - lights lit   \n",
       "\n",
       "  District Area  Longitude  Number_of_Casualties  Number_of_Vehicles  \\\n",
       "0    Birmingham  -1.901975                     1                   2   \n",
       "1    Birmingham  -1.867086                     1                   2   \n",
       "2    Birmingham  -1.822793                     1                   1   \n",
       "3    Birmingham  -1.818507                     1                   2   \n",
       "4    Birmingham  -1.834202                     1                   3   \n",
       "\n",
       "  Road_Surface_Conditions           Road_Type Urban_or_Rural_Area Vehicle_Type  \n",
       "0             Wet or damp    Dual carriageway               Urban          Car  \n",
       "1             Wet or damp  Single carriageway               Urban          Car  \n",
       "2                     Dry  Single carriageway               Urban          Car  \n",
       "3             Wet or damp    Dual carriageway               Urban          Car  \n",
       "4                     Dry    Dual carriageway               Urban          Car  "
      ]
     },
     "execution_count": 10,
     "metadata": {},
     "output_type": "execute_result"
    }
   ],
   "source": [
    "df.drop(['Index'], axis=1, inplace=True)\n",
    "\n",
    "# verify if the column was dropped\n",
    "df.head()"
   ]
  },
  {
   "cell_type": "markdown",
   "metadata": {},
   "source": [
    "### Defining target variable"
   ]
  },
  {
   "cell_type": "markdown",
   "metadata": {},
   "source": [
    "Our chosen target variable is the accident severity. Our ML task will be classification."
   ]
  },
  {
   "cell_type": "code",
   "execution_count": 11,
   "metadata": {},
   "outputs": [
    {
     "data": {
      "text/plain": [
       "Accident_Severity\n",
       "Slight     28566\n",
       "Serious     3818\n",
       "Fatal        273\n",
       "Name: count, dtype: int64"
      ]
     },
     "execution_count": 11,
     "metadata": {},
     "output_type": "execute_result"
    }
   ],
   "source": [
    "df['Accident_Severity'].value_counts()"
   ]
  },
  {
   "cell_type": "code",
   "execution_count": 12,
   "metadata": {},
   "outputs": [
    {
     "name": "stdout",
     "output_type": "stream",
     "text": [
      "Accident_Severity\n",
      "2    28566\n",
      "1     3818\n",
      "0      273\n",
      "Name: count, dtype: int64\n"
     ]
    }
   ],
   "source": [
    "from sklearn.preprocessing import LabelEncoder\n",
    "\n",
    "# Initialise the LabelEncoder\n",
    "label_encoder = LabelEncoder()\n",
    "\n",
    "# Encode the target variable (Accident_Severity)\n",
    "df['Accident_Severity'] = label_encoder.fit_transform(df['Accident_Severity'])\n",
    "\n",
    "# Check the encoding\n",
    "print(df['Accident_Severity'].value_counts())\n"
   ]
  },
  {
   "cell_type": "markdown",
   "metadata": {},
   "source": [
    "## 2. Pipeline Setup"
   ]
  },
  {
   "cell_type": "code",
   "execution_count": 13,
   "metadata": {},
   "outputs": [],
   "source": [
    "# import pipeline libraries\n",
    "from sklearn.pipeline import Pipeline\n",
    "from sklearn.compose import ColumnTransformer\n",
    "\n",
    "# standard scaler --> scales numerical columns \n",
    "# one hot encoder --> encodes categorical columns\n",
    "from sklearn.preprocessing import StandardScaler, OneHotEncoder \n",
    "\n",
    "# import model libraries\n",
    "from sklearn.linear_model import LogisticRegression\n",
    "\n",
    "# import train test split\n",
    "from sklearn.model_selection import train_test_split"
   ]
  },
  {
   "cell_type": "markdown",
   "metadata": {},
   "source": [
    "- standard scaler for numerical columns\n",
    "- one hot encoder for categorical columns"
   ]
  },
  {
   "cell_type": "code",
   "execution_count": 14,
   "metadata": {},
   "outputs": [
    {
     "name": "stdout",
     "output_type": "stream",
     "text": [
      "Training data set:  (26125, 14) - y_train:  (26125,) \n",
      "Testing data set:  (6532, 14) - y_test:  (6532,)\n"
     ]
    }
   ],
   "source": [
    "# convert Accident Date to datetime\n",
    "df['Accident Date'] = pd.to_datetime(df['Accident Date'], dayfirst=True)\n",
    "\n",
    "# create new columns for year, month, day, weekday\n",
    "df['Year'] = df['Accident Date'].dt.year\n",
    "df['Month'] = df['Accident Date'].dt.month\n",
    "df['Day'] = df['Accident Date'].dt.day\n",
    "df['Weekday'] = df['Accident Date'].dt.weekday # 0 = Monday, 6 = Sunday\n",
    "\n",
    "# drop Accident Date\n",
    "df.drop('Accident Date', axis=1, inplace=True)\n",
    "\n",
    "# shuffle the data set\n",
    "df = df.sample(frac=1, random_state=42).reset_index(drop=True)\n",
    "\n",
    "# split features (X) and target variable (y)\n",
    "X_train, X_test, y_train, y_test = train_test_split(df.drop('Accident_Severity', axis=1), df['Accident_Severity'], test_size=0.2, random_state=42)\n",
    "\n",
    "#test set = 20% of the data set\n",
    "#train set = 80% of the data set\n",
    "\n",
    "# print the shape of the sets\n",
    "print('Training data set: ', X_train.shape, \n",
    "        '- y_train: ', y_train.shape, '\\n'\n",
    "        'Testing data set: ', X_test.shape,\n",
    "        '- y_test: ', y_test.shape\n",
    "        )"
   ]
  },
  {
   "cell_type": "code",
   "execution_count": 15,
   "metadata": {},
   "outputs": [],
   "source": [
    "# Automatically define numerical and categorical columns from X_train\n",
    "num = X_train.select_dtypes(include=np.number).columns.tolist()\n",
    "cat = X_train.select_dtypes(include='object').columns.tolist()\n",
    "\n",
    "# create transformer for column preprocessing\n",
    "# standard scaler for numerical columns\n",
    "# one hot encoder for categorical columns\n",
    "\n",
    "preprocessor = ColumnTransformer(\n",
    "    transformers=[\n",
    "        ('num', StandardScaler(), num),\n",
    "        ('cat', OneHotEncoder(), cat)\n",
    "    ]\n",
    ")"
   ]
  },
  {
   "cell_type": "markdown",
   "metadata": {},
   "source": [
    "### Model selection"
   ]
  },
  {
   "cell_type": "markdown",
   "metadata": {},
   "source": [
    "We will use a multinomial logistic regression model.\n",
    "- Our target variable (Accident Severity) has more than two categories (e.g., Slight, Serious, Fatal), so we're dealing with a multiclass classification problem.\n"
   ]
  },
  {
   "cell_type": "markdown",
   "metadata": {},
   "source": [
    "**Preprocessing:**\n",
    "\n",
    "- Numerical data (like numbers for location, casualties, etc.) is adjusted so they’re on the same scale (so no feature is too big or too small compared to others).\n",
    "- Categorical data (like light conditions, road type) is converted into yes/no (1/0) columns, making it easier for the model to understand.\n",
    "\n",
    "**Logistic Regression:**\n",
    "\n",
    "- The model that will predict accident severity. It handles multiple types of severity (multi-class) and is set to run longer (max_iter=500) to make sure it gives a good result."
   ]
  },
  {
   "cell_type": "code",
   "execution_count": 16,
   "metadata": {},
   "outputs": [
    {
     "data": {
      "text/plain": [
       "[('preprocessor',\n",
       "  ColumnTransformer(transformers=[('num', StandardScaler(),\n",
       "                                   ['Latitude', 'Longitude',\n",
       "                                    'Number_of_Casualties', 'Number_of_Vehicles',\n",
       "                                    'Year', 'Month', 'Day', 'Weekday']),\n",
       "                                  ('cat', OneHotEncoder(),\n",
       "                                   ['Light_Conditions', 'District Area',\n",
       "                                    'Road_Surface_Conditions', 'Road_Type',\n",
       "                                    'Urban_or_Rural_Area', 'Vehicle_Type'])])),\n",
       " ('model',\n",
       "  LogisticRegression(class_weight='balanced', max_iter=500,\n",
       "                     multi_class='multinomial'))]"
      ]
     },
     "execution_count": 16,
     "metadata": {},
     "output_type": "execute_result"
    }
   ],
   "source": [
    "# create a pipeline with the preprocessor and the model\n",
    "\n",
    "pipe = Pipeline([\n",
    "    ('preprocessor', preprocessor),\n",
    "    ('model', LogisticRegression(multi_class='multinomial', solver='lbfgs', max_iter=500, class_weight='balanced'))\n",
    "])\n",
    "\n",
    "# class_weight='balanced' to handle imbalanced classes as Slight is the majority class\n",
    "\n",
    "# print pipeline steps\n",
    "pipe.steps"
   ]
  },
  {
   "cell_type": "markdown",
   "metadata": {},
   "source": [
    "### Train the model + Predict on the test set"
   ]
  },
  {
   "cell_type": "code",
   "execution_count": 17,
   "metadata": {},
   "outputs": [],
   "source": [
    "# train the model\n",
    "pipe.fit(X_train, y_train)\n",
    "\n",
    "# predict the target variable\n",
    "y_pred = pipe.predict(X_test)"
   ]
  },
  {
   "cell_type": "markdown",
   "metadata": {},
   "source": [
    "## 4. Model Evaluation"
   ]
  },
  {
   "cell_type": "code",
   "execution_count": 18,
   "metadata": {},
   "outputs": [
    {
     "name": "stdout",
     "output_type": "stream",
     "text": [
      "              precision    recall  f1-score   support\n",
      "\n",
      "           0       0.02      0.59      0.04        59\n",
      "           1       0.18      0.39      0.25       780\n",
      "           2       0.92      0.52      0.66      5693\n",
      "\n",
      "    accuracy                           0.50      6532\n",
      "   macro avg       0.37      0.50      0.32      6532\n",
      "weighted avg       0.83      0.50      0.61      6532\n",
      "\n",
      "Predicted     0     1     2\n",
      "Actual                     \n",
      "0            35    12    12\n",
      "1           241   307   232\n",
      "2          1356  1400  2937\n"
     ]
    },
    {
     "data": {
      "image/png": "[encoded data removed]",
      "text/plain": [
       "<Figure size 640x480 with 2 Axes>"
      ]
     },
     "metadata": {},
     "output_type": "display_data"
    }
   ],
   "source": [
    "from sklearn.metrics import classification_report, confusion_matrix\n",
    "\n",
    "# print classification report\n",
    "print(classification_report(y_test, y_pred))\n",
    "\n",
    "# print confusion matrix in a more readable format\n",
    "cm = confusion_matrix(y_test, y_pred)\n",
    "cm_df = pd.DataFrame(cm, columns=np.unique(y_test), index = np.unique(y_test))\n",
    "cm_df.index.name = 'Actual'\n",
    "cm_df.columns.name = 'Predicted'\n",
    "print(cm_df)\n",
    "\n",
    "import matplotlib.pyplot as plt\n",
    "sns.heatmap(cm, annot=True, fmt='d', cmap='Blues')\n",
    "\n",
    "# replace numbers for class names with the actual class names\n",
    "plt.xticks(ticks=np.arange(3)+0.5, labels=np.unique(y_test))\n",
    "plt.yticks(ticks=np.arange(3)+0.5, labels=np.unique(y_test))\n",
    "\n",
    "# green border around the correct prediction squares\n",
    "for i in range(3):\n",
    "    plt.gca().add_patch(plt.Rectangle((i, i), 1, 1, fill=False, edgecolor='green', linewidth=3))\n",
    "plt.legend(['Correct Prediction'], loc='upper right')\n",
    "\n",
    "\n",
    "\n",
    "plt.xlabel('Predicted', fontsize=14, labelpad=10)\n",
    "plt.ylabel('Actual', fontsize=14, labelpad=10)\n",
    "plt.title('Confusion Matrix')\n",
    "plt.show()\n",
    "\n",
    "\n"
   ]
  },
  {
   "cell_type": "markdown",
   "metadata": {},
   "source": [
    "- **Fatal**: Recall is high (0.59), but precision is extremely low (0.02). This means the model manages to identify some \"Fatal\" accidents, but it's predicting \"Fatal\" too often when it shouldn't, leading to a high number of false positives.\n",
    "\n",
    "- **Serious**: Both precision (0.18) and recall (0.39) are low, indicating the model struggles to correctly classify \"Serious\" accidents. Many \"Serious\" cases are getting misclassified as \"Slight\" or \"Fatal\".\n",
    "\n",
    "- **Slight**: Precision (0.92) is high, meaning the model is good at predicting \"Slight\" accidents. However, the recall (0.52) is lower, suggesting it misses a notable portion of \"Slight\" accidents, likely misclassifying them as \"Serious\" or \"Fatal\".\n",
    "\n",
    "- **Accuracy**: The overall accuracy is 50%, which suggests the model is heavily biased towards predicting \"Slight\" accidents, given their large presence in the dataset.\n",
    "\n",
    "### Confusion Matrix:\n",
    "\n",
    "- **\"Fatal\" accidents**: Many are misclassified as \"Serious\" (12) or \"Slight\" (12), despite some being correctly predicted (35).\n",
    "- **\"Serious\" accidents**: These are often misclassified as \"Slight\" (232), though a fair amount are correctly predicted (307).\n",
    "- **\"Slight\" accidents**: Many are correctly identified (2937), but a significant number are misclassified as \"Serious\" (1400) or \"Fatal\" (1356).\n"
   ]
  },
  {
   "cell_type": "markdown",
   "metadata": {},
   "source": [
    "## 5. Challenges and Areas for Improvement\n",
    "\n",
    "- Imbalanced Dataset: The model's bias toward predicting \"Slight\" accidents is a direct result of the imbalance in the dataset, where \"Slight\" accidents vastly outnumber \"Fatal\" and \"Serious\" accidents.\n",
    "\n",
    "- Address Data Imbalance: We plan to implement SMOTE (Synthetic Minority Over-sampling Technique) to generate synthetic samples for the minority classes (\"Serious\" and \"Fatal\"), which should help improve model performance on these categories."
   ]
  },
  {
   "cell_type": "markdown",
   "metadata": {},
   "source": [
    "## 6. SMOTE: Synthetic Minority Over-sampling Technique\n"
   ]
  },
  {
   "cell_type": "markdown",
   "metadata": {},
   "source": [
    "SMOTE powerful technique for handling class imbalance by creating synthetic examples for the minority classes. In our case, for `serious` and `fatal`."
   ]
  },
  {
   "cell_type": "code",
   "execution_count": 19,
   "metadata": {},
   "outputs": [],
   "source": [
    "# import the imbalanced-learn library\n",
    "from imblearn.pipeline import Pipeline  # Use the imbalanced-learn pipeline\n",
    "from imblearn.over_sampling import SMOTE\n"
   ]
  },
  {
   "cell_type": "code",
   "execution_count": 20,
   "metadata": {},
   "outputs": [],
   "source": [
    "# Shuffle the data set\n",
    "df = df.sample(frac=1, random_state=42).reset_index(drop=True)\n",
    "\n",
    "# Split features (X) and target variable (y)\n",
    "X_train, X_test, y_train, y_test = train_test_split(df.drop('Accident_Severity', axis=1), df['Accident_Severity'], test_size=0.2, random_state=42)\n",
    "\n",
    "# Automatically define numerical and categorical columns from X_train\n",
    "num = X_train.select_dtypes(include=np.number).columns.tolist()\n",
    "cat = X_train.select_dtypes(include='object').columns.tolist()\n"
   ]
  },
  {
   "cell_type": "code",
   "execution_count": 21,
   "metadata": {},
   "outputs": [
    {
     "name": "stdout",
     "output_type": "stream",
     "text": [
      "[('preprocessor', ColumnTransformer(transformers=[('num', StandardScaler(),\n",
      "                                 ['Latitude', 'Longitude',\n",
      "                                  'Number_of_Casualties', 'Number_of_Vehicles',\n",
      "                                  'Year', 'Month', 'Day', 'Weekday']),\n",
      "                                ('cat', OneHotEncoder(),\n",
      "                                 ['Light_Conditions', 'District Area',\n",
      "                                  'Road_Surface_Conditions', 'Road_Type',\n",
      "                                  'Urban_or_Rural_Area', 'Vehicle_Type'])])), ('smote', SMOTE(random_state=42)), ('model', LogisticRegression(class_weight='balanced', max_iter=1000,\n",
      "                   multi_class='multinomial'))]\n"
     ]
    }
   ],
   "source": [
    "# using same preprocessor as before\n",
    "\n",
    "# Create a pipeline with SMOTE, preprocessor, and the model\n",
    "smote_pipeline = Pipeline([\n",
    "    ('preprocessor', preprocessor),  # Column preprocessing\n",
    "    ('smote', SMOTE(random_state=42)),  # Apply SMOTE inside the pipeline\n",
    "    ('model', LogisticRegression(multi_class='multinomial', solver='lbfgs', max_iter=1000, class_weight='balanced'))  # Logistic Regression model\n",
    "])\n",
    "\n",
    "# Print pipeline steps to verify\n",
    "print(smote_pipeline.steps)"
   ]
  },
  {
   "cell_type": "code",
   "execution_count": 22,
   "metadata": {},
   "outputs": [],
   "source": [
    "# Train the model and make predictions\n",
    "# Train the model\n",
    "smote_pipeline.fit(X_train, y_train)\n",
    "\n",
    "# Make predictions\n",
    "y_pred = smote_pipeline.predict(X_test)"
   ]
  },
  {
   "cell_type": "code",
   "execution_count": 23,
   "metadata": {},
   "outputs": [
    {
     "name": "stdout",
     "output_type": "stream",
     "text": [
      "              precision    recall  f1-score   support\n",
      "\n",
      "           0       0.02      0.54      0.04        63\n",
      "           1       0.15      0.36      0.22       777\n",
      "           2       0.91      0.49      0.64      5692\n",
      "\n",
      "    accuracy                           0.47      6532\n",
      "   macro avg       0.36      0.46      0.30      6532\n",
      "weighted avg       0.82      0.47      0.58      6532\n",
      "\n",
      "Predicted     0     1     2\n",
      "Actual                     \n",
      "0            34    12    17\n",
      "1           251   282   244\n",
      "2          1389  1530  2773\n"
     ]
    },
    {
     "data": {
      "image/png": "[encoded data removed]",
      "text/plain": [
       "<Figure size 640x480 with 2 Axes>"
      ]
     },
     "metadata": {},
     "output_type": "display_data"
    }
   ],
   "source": [
    "\n",
    "# print classification report\n",
    "print(classification_report(y_test, y_pred))\n",
    "\n",
    "# print confusion matrix in a more readable format\n",
    "cm = confusion_matrix(y_test, y_pred)\n",
    "cm_df = pd.DataFrame(cm, columns=np.unique(y_test), index = np.unique(y_test))\n",
    "cm_df.index.name = 'Actual'\n",
    "cm_df.columns.name = 'Predicted'\n",
    "print(cm_df)\n",
    "\n",
    "import matplotlib.pyplot as plt\n",
    "sns.heatmap(cm, annot=True, fmt='d', cmap='Blues')\n",
    "\n",
    "# replace numbers for class names with the actual class names\n",
    "plt.xticks(ticks=np.arange(3)+0.5, labels=np.unique(y_test))\n",
    "plt.yticks(ticks=np.arange(3)+0.5, labels=np.unique(y_test))\n",
    "\n",
    "# green border around the correct prediction squares\n",
    "for i in range(3):\n",
    "    plt.gca().add_patch(plt.Rectangle((i, i), 1, 1, fill=False, edgecolor='green', linewidth=3))\n",
    "plt.legend(['Correct Prediction'], loc='upper right')\n",
    "\n",
    "\n",
    "\n",
    "plt.xlabel('Predicted', fontsize=14, labelpad=10)\n",
    "plt.ylabel('Actual', fontsize=14, labelpad=10)\n",
    "plt.title('Confusion Matrix')\n",
    "plt.show()"
   ]
  },
  {
   "cell_type": "markdown",
   "metadata": {},
   "source": [
    "**Accuracy**: 47% - reduced...\n",
    "\n",
    "\n",
    "**Overall Performance**:\n",
    "- **Fatal**: Recall improved to 0.54, but precision remains very low (0.02).\n",
    "- **Serious**: Precision and recall still low (0.15 and 0.36), indicating poor prediction for this class.\n",
    "- **Slight**: Strong precision (0.91) and F1-score (0.64), but the model heavily favors this majority class.\n",
    "\n"
   ]
  },
  {
   "cell_type": "markdown",
   "metadata": {},
   "source": [
    "## 7. Next Steps\n",
    "\n",
    "- Model Limitations: Although Multinomial Logistic Regression is suitable for multi-class problems, it may not be the best model for dealing with the imbalanced data. The low performance for \"Serious\" and \"Fatal\" accidents suggests that a more complex model may be needed.\n",
    "\n",
    "- Experiment with More Complex Models: After addressing the class imbalance, we will experiment with more sophisticated models, such as Random Forest, which can better capture non-linear relationships in the data and may perform better in multi-class settings."
   ]
  },
  {
   "cell_type": "markdown",
   "metadata": {},
   "source": [
    "# Model 2 : Random Forest"
   ]
  },
  {
   "cell_type": "markdown",
   "metadata": {},
   "source": []
  },
  {
   "cell_type": "code",
   "execution_count": 24,
   "metadata": {},
   "outputs": [],
   "source": [
    "from sklearn.ensemble import RandomForestClassifier"
   ]
  },
  {
   "cell_type": "markdown",
   "metadata": {},
   "source": [
    "### Without SMOTE"
   ]
  },
  {
   "cell_type": "markdown",
   "metadata": {},
   "source": [
    "Creating a new pipeline with the same preprocessing steps as before."
   ]
  },
  {
   "cell_type": "code",
   "execution_count": 25,
   "metadata": {},
   "outputs": [
    {
     "name": "stdout",
     "output_type": "stream",
     "text": [
      "[('preprocessor', ColumnTransformer(transformers=[('num', StandardScaler(),\n",
      "                                 ['Latitude', 'Longitude',\n",
      "                                  'Number_of_Casualties', 'Number_of_Vehicles',\n",
      "                                  'Year', 'Month', 'Day', 'Weekday']),\n",
      "                                ('cat', OneHotEncoder(),\n",
      "                                 ['Light_Conditions', 'District Area',\n",
      "                                  'Road_Surface_Conditions', 'Road_Type',\n",
      "                                  'Urban_or_Rural_Area', 'Vehicle_Type'])])), ('model', RandomForestClassifier(class_weight='balanced', random_state=42))]\n"
     ]
    }
   ],
   "source": [
    "# Create pipeline with preprocessor and Random Forest model\n",
    "\n",
    "rf_pipeline = Pipeline([\n",
    "    ('preprocessor', preprocessor),  # Column preprocessing\n",
    "    ('model', RandomForestClassifier(n_estimators=100, random_state=42, class_weight='balanced'))  # Random Forest model\n",
    "])\n",
    "\n",
    "# Print pipeline steps to verify\n",
    "print(rf_pipeline.steps)"
   ]
  },
  {
   "cell_type": "code",
   "execution_count": 26,
   "metadata": {},
   "outputs": [],
   "source": [
    "# train and predict\n",
    "\n",
    "# train the model\n",
    "rf_pipeline.fit(X_train, y_train)\n",
    "\n",
    "# make predictions\n",
    "y_pred_rf = rf_pipeline.predict(X_test)"
   ]
  },
  {
   "cell_type": "code",
   "execution_count": 27,
   "metadata": {},
   "outputs": [
    {
     "name": "stdout",
     "output_type": "stream",
     "text": [
      "Classification Report - Random Forest\n",
      "              precision    recall  f1-score   support\n",
      "\n",
      "           0       0.00      0.00      0.00        63\n",
      "           1       0.14      0.00      0.00       777\n",
      "           2       0.87      1.00      0.93      5692\n",
      "\n",
      "    accuracy                           0.87      6532\n",
      "   macro avg       0.34      0.33      0.31      6532\n",
      "weighted avg       0.78      0.87      0.81      6532\n",
      "\n",
      "Predicted  0  1     2\n",
      "Actual               \n",
      "0          0  0    63\n",
      "1          0  1   776\n",
      "2          0  6  5686\n"
     ]
    },
    {
     "name": "stderr",
     "output_type": "stream",
     "text": [
      "/Users/mahahussain/Desktop/UK-Road-Accident-Analysis/UK-Road-Accident-Analysis/.venv/lib/python3.12/site-packages/sklearn/metrics/_classification.py:1469: UndefinedMetricWarning: Precision and F-score are ill-defined and being set to 0.0 in labels with no predicted samples. Use `zero_division` parameter to control this behavior.\n",
      "  _warn_prf(average, modifier, msg_start, len(result))\n",
      "/Users/mahahussain/Desktop/UK-Road-Accident-Analysis/UK-Road-Accident-Analysis/.venv/lib/python3.12/site-packages/sklearn/metrics/_classification.py:1469: UndefinedMetricWarning: Precision and F-score are ill-defined and being set to 0.0 in labels with no predicted samples. Use `zero_division` parameter to control this behavior.\n",
      "  _warn_prf(average, modifier, msg_start, len(result))\n",
      "/Users/mahahussain/Desktop/UK-Road-Accident-Analysis/UK-Road-Accident-Analysis/.venv/lib/python3.12/site-packages/sklearn/metrics/_classification.py:1469: UndefinedMetricWarning: Precision and F-score are ill-defined and being set to 0.0 in labels with no predicted samples. Use `zero_division` parameter to control this behavior.\n",
      "  _warn_prf(average, modifier, msg_start, len(result))\n"
     ]
    },
    {
     "data": {
      "image/png": "[encoded data removed]",
      "text/plain": [
       "<Figure size 800x600 with 1 Axes>"
      ]
     },
     "metadata": {},
     "output_type": "display_data"
    }
   ],
   "source": [
    "# Print classification report for Random Forest\n",
    "print(\"Classification Report - Random Forest\")\n",
    "print(classification_report(y_test, y_pred_rf))\n",
    "\n",
    "# Confusion Matrix for Random Forest\n",
    "cm_rf = confusion_matrix(y_test, y_pred_rf)\n",
    "cm_df_rf = pd.DataFrame(cm_rf, columns=np.unique(y_test), index=np.unique(y_test))\n",
    "cm_df_rf.index.name = 'Actual'\n",
    "cm_df_rf.columns.name = 'Predicted'\n",
    "print(cm_df_rf)\n",
    "\n",
    "# Plot confusion matrix\n",
    "plt.figure(figsize=(8, 6))\n",
    "sns.heatmap(cm_rf, annot=True, fmt='d', cmap='Blues', cbar=False)\n",
    "\n",
    "# Replace numbers for class names\n",
    "plt.xticks(ticks=np.arange(3)+0.5, labels=np.unique(y_test))\n",
    "plt.yticks(ticks=np.arange(3)+0.5, labels=np.unique(y_test))\n",
    "\n",
    "# Green border around correct prediction squares\n",
    "for i in range(3):\n",
    "    plt.gca().add_patch(plt.Rectangle((i, i), 1, 1, fill=False, edgecolor='green', linewidth=3))\n",
    "plt.legend(['Correct Prediction'], loc='upper right')\n",
    "\n",
    "plt.xlabel('Predicted', fontsize=14, labelpad=10)\n",
    "plt.ylabel('Actual', fontsize=14, labelpad=10)\n",
    "plt.title('Confusion Matrix - Random Forest')\n",
    "plt.show()"
   ]
  },
  {
   "cell_type": "markdown",
   "metadata": {},
   "source": [
    "- **Accuracy**: 87%\n",
    "- **Class-wise Performance**:\n",
    "  - **Fatal**: Precision, Recall, and F1-score all at 0.00 (No correct predictions for fatal accidents).\n",
    "  - **Serious**: Precision = 0.14, Recall = 0.00, F1-score = 0.00 (Very poor performance, likely due to class imbalance).\n",
    "  - **Slight**: Precision = 0.87, Recall = 1.00, F1-score = 0.93 (Strong performance on the majority class).\n",
    "\n",
    "### Key Insights:\n",
    "- The model shows a strong performance on **Slight** accidents but fails to predict **Fatal** and **Serious** accidents accurately, mainly due to the class imbalance.\n",
    "- **SMOTE** could help improve performance on the minority classes (Fatal and Serious)."
   ]
  },
  {
   "cell_type": "markdown",
   "metadata": {},
   "source": [
    "### With SMOTE"
   ]
  },
  {
   "cell_type": "code",
   "execution_count": 28,
   "metadata": {},
   "outputs": [],
   "source": [
    "# Create a pipeline with SMOTE and RandomForest\n",
    "rf_smote_pipeline = Pipeline([\n",
    "    ('preprocessor', preprocessor),\n",
    "    ('smote', SMOTE(random_state=42)),  # Apply SMOTE to oversample the minority class\n",
    "    ('rf', RandomForestClassifier(n_estimators=100, random_state=42))\n",
    "])\n"
   ]
  },
  {
   "cell_type": "code",
   "execution_count": 29,
   "metadata": {},
   "outputs": [],
   "source": [
    "# Fit the model\n",
    "rf_smote_pipeline.fit(X_train, y_train)\n",
    "\n",
    "# Make predictions\n",
    "y_pred_rf_smote = rf_smote_pipeline.predict(X_test)"
   ]
  },
  {
   "cell_type": "code",
   "execution_count": 30,
   "metadata": {},
   "outputs": [
    {
     "name": "stdout",
     "output_type": "stream",
     "text": [
      "Classification Report - Random Forest w/ SMOTE\n",
      "              precision    recall  f1-score   support\n",
      "\n",
      "           0       0.00      0.00      0.00        63\n",
      "           1       0.22      0.06      0.10       777\n",
      "           2       0.88      0.97      0.92      5692\n",
      "\n",
      "    accuracy                           0.85      6532\n",
      "   macro avg       0.37      0.34      0.34      6532\n",
      "weighted avg       0.79      0.85      0.81      6532\n",
      "\n",
      "Predicted  0    1     2\n",
      "Actual                 \n",
      "0          0    3    60\n",
      "1          1   49   727\n",
      "2          6  170  5516\n"
     ]
    },
    {
     "data": {
      "image/png": "[encoded data removed]",
      "text/plain": [
       "<Figure size 800x600 with 1 Axes>"
      ]
     },
     "metadata": {},
     "output_type": "display_data"
    }
   ],
   "source": [
    "# Print classification report for Random Forest\n",
    "print(\"Classification Report - Random Forest w/ SMOTE\")\n",
    "print(classification_report(y_test, y_pred_rf_smote))\n",
    "\n",
    "# Confusion Matrix for Random Forest\n",
    "cm_rf = confusion_matrix(y_test, y_pred_rf_smote)\n",
    "cm_df_rf = pd.DataFrame(cm_rf, columns=np.unique(y_test), index=np.unique(y_test))\n",
    "cm_df_rf.index.name = 'Actual'\n",
    "cm_df_rf.columns.name = 'Predicted'\n",
    "print(cm_df_rf)\n",
    "\n",
    "# Plot confusion matrix\n",
    "plt.figure(figsize=(8, 6))\n",
    "sns.heatmap(cm_rf, annot=True, fmt='d', cmap='Blues', cbar=False)\n",
    "\n",
    "# Replace numbers for class names\n",
    "plt.xticks(ticks=np.arange(3)+0.5, labels=np.unique(y_test))\n",
    "plt.yticks(ticks=np.arange(3)+0.5, labels=np.unique(y_test))\n",
    "\n",
    "# Green border around correct prediction squares\n",
    "for i in range(3):\n",
    "    plt.gca().add_patch(plt.Rectangle((i, i), 1, 1, fill=False, edgecolor='green', linewidth=3))\n",
    "plt.legend(['Correct Prediction'], loc='upper right')\n",
    "\n",
    "plt.xlabel('Predicted', fontsize=14, labelpad=10)\n",
    "plt.ylabel('Actual', fontsize=14, labelpad=10)\n",
    "plt.title('Confusion Matrix - Random Forest w/ SMOTE')\n",
    "plt.show()"
   ]
  },
  {
   "cell_type": "markdown",
   "metadata": {},
   "source": [
    "- **Accuracy**: 85%\n",
    "- **Class-wise Performance**:\n",
    "  - **Fatal**: Precision, Recall, and F1-score all at 0.00 (No correct predictions for fatal accidents).\n",
    "  - **Serious**: Precision = 0.22, Recall = 0.06, F1-score = 0.10 (Some improvement in predictions for serious accidents but still poor overall performance).\n",
    "  - **Slight**: Precision = 0.88, Recall = 0.97, F1-score = 0.92 (Strong performance on the majority class).\n",
    "\n",
    "### Key Insights:\n",
    "- **SMOTE** improved the model's ability to predict **Serious** accidents, but **Fatal** accidents remain largely unpredicted.\n",
    "- The model still performs best on **Slight** accidents, and further optimisation (e.g., hyperparameter tuning, advanced balancing techniques) might be required to improve prediction for minority classes."
   ]
  },
  {
   "cell_type": "markdown",
   "metadata": {},
   "source": [
    "# Multinomial Logistic Regression Vs. Random Forest"
   ]
  },
  {
   "cell_type": "markdown",
   "metadata": {},
   "source": [
    "Comparison of model performance, courtesy of ChatGPT:\n",
    "\n",
    "#### Logistic Regression (without SMOTE)\n",
    "- **Accuracy**: 50%\n",
    "- **Precision**: Low precision for both Fatal and Serious categories, but high precision for Slight.\n",
    "- **Recall**: High recall for Fatal but low for Serious and Slight categories.\n",
    "- **F1-Score**: The F1-score is higher for Slight but lower for the other two categories.\n",
    "\n",
    "#### Logistic Regression (with SMOTE)\n",
    "- **Accuracy**: 47%\n",
    "- **Precision**: Slightly lower than without SMOTE, with still very low precision for Fatal and Serious.\n",
    "- **Recall**: Recall is higher for Fatal, but still lower for Serious and Slight compared to the non-SMOTE model.\n",
    "- **F1-Score**: The F1-score is still highest for Slight, but lower than in the non-SMOTE case.\n",
    "\n",
    "#### Random Forest (without SMOTE)\n",
    "- **Accuracy**: 87%\n",
    "- **Precision**: Precision for Fatal and Serious is extremely low (0.00), likely due to the model predicting mostly Slight accidents.\n",
    "- **Recall**: Perfect recall for Slight (1.00), but 0.00 for Fatal and Serious categories.\n",
    "- **F1-Score**: Very high F1-score for Slight but 0.00 for the other two categories.\n",
    "\n",
    "#### Random Forest (with SMOTE)\n",
    "- **Accuracy**: 85%\n",
    "- **Precision**: Precision for Fatal is 0.00, for Serious is low (0.22), and high for Slight (0.88).\n",
    "- **Recall**: Recall for Fatal is 0.00, for Serious is very low (0.06), but very high for Slight (0.97).\n",
    "- **F1-Score**: The F1-score is excellent for Slight (0.92) but very poor for Fatal (0.00) and Serious (0.10).\n",
    "- **Confusion Matrix Insight**: The model continues to heavily misclassify Fatal and Serious accidents as Slight, even after applying SMOTE. Only slight improvements are seen in the Serious category compared to without SMOTE.\n",
    "\n",
    "### Key Observations:\n",
    "- **Logistic Regression**: The model performs decently on the Slight category, but the performance on Fatal and Serious is poor. This is likely due to the class imbalance in the data. SMOTE helps to some extent but does not entirely solve the issue.\n",
    "- **Random Forest**: This model shows excellent performance in terms of accuracy (87%) but fails to predict Fatal and Serious accidents, only predicting Slight accidents. This suggests that the model might be biased toward the majority class (Slight).\n",
    "- **Class Imbalance**: Your dataset is highly imbalanced, with Slight accidents being much more frequent than Serious and Fatal ones. SMOTE helps balance the dataset by oversampling the minority classes, but it's not fully solving the issue with random forest.\n",
    "\n",
    "### Next Steps\n",
    " **Hyperparameter Tuning with Grid Search CV**:\n",
    "   - Implement **Grid Search with Cross-Validation (GridSearchCV)** to fine-tune hyperparameters such as `n_estimators`, `max_depth`, `min_samples_split`, and `class_weight`.\n"
   ]
  },
  {
   "cell_type": "markdown",
   "metadata": {},
   "source": [
    "# Grid Search on Random Forest w/ SMOTE"
   ]
  },
  {
   "cell_type": "code",
   "execution_count": 31,
   "metadata": {},
   "outputs": [],
   "source": [
    "from sklearn.model_selection import GridSearchCV\n",
    "\n",
    "# Define the parameter grid with fewer values\n",
    "param_grid = {\n",
    "    'rf__n_estimators': [100, 200],          # Two values\n",
    "    'rf__max_depth': [None, 10],              # Two values\n",
    "    'rf__min_samples_split': [2, 5],          # Two values\n",
    "    'rf__min_samples_leaf': [1, 2],           # Two values\n",
    "    'rf__class_weight': ['balanced']         # Only testing 'balanced'\n",
    "}\n",
    "\n",
    "# GridSearchCV setup\n",
    "grid_search = GridSearchCV(estimator=rf_smote_pipeline, param_grid=param_grid, \n",
    "                           cv=5, n_jobs=-1, verbose=2, scoring='accuracy')"
   ]
  },
  {
   "cell_type": "code",
   "execution_count": 32,
   "metadata": {},
   "outputs": [
    {
     "name": "stdout",
     "output_type": "stream",
     "text": [
      "Fitting 5 folds for each of 16 candidates, totalling 80 fits\n"
     ]
    },
    {
     "name": "stdout",
     "output_type": "stream",
     "text": [
      "[CV] END rf__class_weight=balanced, rf__max_depth=None, rf__min_samples_leaf=1, rf__min_samples_split=2, rf__n_estimators=100; total time=  39.6s\n",
      "[CV] END rf__class_weight=balanced, rf__max_depth=None, rf__min_samples_leaf=1, rf__min_samples_split=2, rf__n_estimators=100; total time=  39.7s\n",
      "[CV] END rf__class_weight=balanced, rf__max_depth=None, rf__min_samples_leaf=1, rf__min_samples_split=2, rf__n_estimators=100; total time=  40.1s\n",
      "[CV] END rf__class_weight=balanced, rf__max_depth=None, rf__min_samples_leaf=1, rf__min_samples_split=2, rf__n_estimators=100; total time=  40.3s\n",
      "[CV] END rf__class_weight=balanced, rf__max_depth=None, rf__min_samples_leaf=1, rf__min_samples_split=2, rf__n_estimators=100; total time=  40.2s\n",
      "[CV] END rf__class_weight=balanced, rf__max_depth=None, rf__min_samples_leaf=1, rf__min_samples_split=5, rf__n_estimators=100; total time=  34.0s\n",
      "[CV] END rf__class_weight=balanced, rf__max_depth=None, rf__min_samples_leaf=1, rf__min_samples_split=5, rf__n_estimators=100; total time=  35.0s\n",
      "[CV] END rf__class_weight=balanced, rf__max_depth=None, rf__min_samples_leaf=1, rf__min_samples_split=5, rf__n_estimators=100; total time=  35.5s\n",
      "[CV] END rf__class_weight=balanced, rf__max_depth=None, rf__min_samples_leaf=1, rf__min_samples_split=2, rf__n_estimators=200; total time= 1.3min\n",
      "[CV] END rf__class_weight=balanced, rf__max_depth=None, rf__min_samples_leaf=1, rf__min_samples_split=2, rf__n_estimators=200; total time= 1.3min\n",
      "[CV] END rf__class_weight=balanced, rf__max_depth=None, rf__min_samples_leaf=1, rf__min_samples_split=2, rf__n_estimators=200; total time= 1.3min\n",
      "[CV] END rf__class_weight=balanced, rf__max_depth=None, rf__min_samples_leaf=1, rf__min_samples_split=5, rf__n_estimators=100; total time=  35.1s\n",
      "[CV] END rf__class_weight=balanced, rf__max_depth=None, rf__min_samples_leaf=1, rf__min_samples_split=5, rf__n_estimators=100; total time=  35.9s\n",
      "[CV] END rf__class_weight=balanced, rf__max_depth=None, rf__min_samples_leaf=1, rf__min_samples_split=2, rf__n_estimators=200; total time= 1.3min\n",
      "[CV] END rf__class_weight=balanced, rf__max_depth=None, rf__min_samples_leaf=1, rf__min_samples_split=2, rf__n_estimators=200; total time= 1.4min\n",
      "[CV] END rf__class_weight=balanced, rf__max_depth=None, rf__min_samples_leaf=2, rf__min_samples_split=2, rf__n_estimators=100; total time=  33.4s\n",
      "[CV] END rf__class_weight=balanced, rf__max_depth=None, rf__min_samples_leaf=1, rf__min_samples_split=5, rf__n_estimators=200; total time= 1.2min\n",
      "[CV] END rf__class_weight=balanced, rf__max_depth=None, rf__min_samples_leaf=1, rf__min_samples_split=5, rf__n_estimators=200; total time= 1.2min\n",
      "[CV] END rf__class_weight=balanced, rf__max_depth=None, rf__min_samples_leaf=1, rf__min_samples_split=5, rf__n_estimators=200; total time= 1.2min\n",
      "[CV] END rf__class_weight=balanced, rf__max_depth=None, rf__min_samples_leaf=1, rf__min_samples_split=5, rf__n_estimators=200; total time= 1.2min\n",
      "[CV] END rf__class_weight=balanced, rf__max_depth=None, rf__min_samples_leaf=2, rf__min_samples_split=2, rf__n_estimators=100; total time=  34.3s\n",
      "[CV] END rf__class_weight=balanced, rf__max_depth=None, rf__min_samples_leaf=2, rf__min_samples_split=2, rf__n_estimators=100; total time=  35.1s\n",
      "[CV] END rf__class_weight=balanced, rf__max_depth=None, rf__min_samples_leaf=2, rf__min_samples_split=2, rf__n_estimators=100; total time=  33.1s\n",
      "[CV] END rf__class_weight=balanced, rf__max_depth=None, rf__min_samples_leaf=2, rf__min_samples_split=2, rf__n_estimators=100; total time=  32.5s\n",
      "[CV] END rf__class_weight=balanced, rf__max_depth=None, rf__min_samples_leaf=1, rf__min_samples_split=5, rf__n_estimators=200; total time= 1.2min\n",
      "[CV] END rf__class_weight=balanced, rf__max_depth=None, rf__min_samples_leaf=2, rf__min_samples_split=5, rf__n_estimators=100; total time=  30.7s\n",
      "[CV] END rf__class_weight=balanced, rf__max_depth=None, rf__min_samples_leaf=2, rf__min_samples_split=5, rf__n_estimators=100; total time=  30.5s\n",
      "[CV] END rf__class_weight=balanced, rf__max_depth=None, rf__min_samples_leaf=2, rf__min_samples_split=5, rf__n_estimators=100; total time=  30.7s\n",
      "[CV] END rf__class_weight=balanced, rf__max_depth=None, rf__min_samples_leaf=2, rf__min_samples_split=2, rf__n_estimators=200; total time= 1.1min\n",
      "[CV] END rf__class_weight=balanced, rf__max_depth=None, rf__min_samples_leaf=2, rf__min_samples_split=2, rf__n_estimators=200; total time= 1.0min\n",
      "[CV] END rf__class_weight=balanced, rf__max_depth=None, rf__min_samples_leaf=2, rf__min_samples_split=2, rf__n_estimators=200; total time= 1.1min\n",
      "[CV] END rf__class_weight=balanced, rf__max_depth=None, rf__min_samples_leaf=2, rf__min_samples_split=2, rf__n_estimators=200; total time= 1.1min\n",
      "[CV] END rf__class_weight=balanced, rf__max_depth=None, rf__min_samples_leaf=2, rf__min_samples_split=2, rf__n_estimators=200; total time= 1.1min\n",
      "[CV] END rf__class_weight=balanced, rf__max_depth=10, rf__min_samples_leaf=1, rf__min_samples_split=2, rf__n_estimators=100; total time=  10.0s\n",
      "[CV] END rf__class_weight=balanced, rf__max_depth=None, rf__min_samples_leaf=2, rf__min_samples_split=5, rf__n_estimators=100; total time=  30.6s\n",
      "[CV] END rf__class_weight=balanced, rf__max_depth=10, rf__min_samples_leaf=1, rf__min_samples_split=2, rf__n_estimators=100; total time=  10.1s\n",
      "[CV] END rf__class_weight=balanced, rf__max_depth=None, rf__min_samples_leaf=2, rf__min_samples_split=5, rf__n_estimators=100; total time=  30.6s\n",
      "[CV] END rf__class_weight=balanced, rf__max_depth=10, rf__min_samples_leaf=1, rf__min_samples_split=2, rf__n_estimators=100; total time=  10.0s\n",
      "[CV] END rf__class_weight=balanced, rf__max_depth=10, rf__min_samples_leaf=1, rf__min_samples_split=2, rf__n_estimators=100; total time=  10.2s\n",
      "[CV] END rf__class_weight=balanced, rf__max_depth=10, rf__min_samples_leaf=1, rf__min_samples_split=2, rf__n_estimators=100; total time=   9.5s\n",
      "[CV] END rf__class_weight=balanced, rf__max_depth=10, rf__min_samples_leaf=1, rf__min_samples_split=2, rf__n_estimators=200; total time=  19.0s\n",
      "[CV] END rf__class_weight=balanced, rf__max_depth=10, rf__min_samples_leaf=1, rf__min_samples_split=2, rf__n_estimators=200; total time=  19.2s\n",
      "[CV] END rf__class_weight=balanced, rf__max_depth=10, rf__min_samples_leaf=1, rf__min_samples_split=2, rf__n_estimators=200; total time=  19.3s\n",
      "[CV] END rf__class_weight=balanced, rf__max_depth=None, rf__min_samples_leaf=2, rf__min_samples_split=5, rf__n_estimators=200; total time= 1.0min\n",
      "[CV] END rf__class_weight=balanced, rf__max_depth=None, rf__min_samples_leaf=2, rf__min_samples_split=5, rf__n_estimators=200; total time= 1.0min\n",
      "[CV] END rf__class_weight=balanced, rf__max_depth=None, rf__min_samples_leaf=2, rf__min_samples_split=5, rf__n_estimators=200; total time= 1.0min\n",
      "[CV] END rf__class_weight=balanced, rf__max_depth=None, rf__min_samples_leaf=2, rf__min_samples_split=5, rf__n_estimators=200; total time= 1.0min\n",
      "[CV] END rf__class_weight=balanced, rf__max_depth=None, rf__min_samples_leaf=2, rf__min_samples_split=5, rf__n_estimators=200; total time= 1.0min\n",
      "[CV] END rf__class_weight=balanced, rf__max_depth=10, rf__min_samples_leaf=1, rf__min_samples_split=5, rf__n_estimators=100; total time=  10.3s\n",
      "[CV] END rf__class_weight=balanced, rf__max_depth=10, rf__min_samples_leaf=1, rf__min_samples_split=5, rf__n_estimators=100; total time=  10.3s\n",
      "[CV] END rf__class_weight=balanced, rf__max_depth=10, rf__min_samples_leaf=1, rf__min_samples_split=2, rf__n_estimators=200; total time=  18.8s\n",
      "[CV] END rf__class_weight=balanced, rf__max_depth=10, rf__min_samples_leaf=1, rf__min_samples_split=5, rf__n_estimators=100; total time=  10.1s\n",
      "[CV] END rf__class_weight=balanced, rf__max_depth=10, rf__min_samples_leaf=1, rf__min_samples_split=2, rf__n_estimators=200; total time=  19.6s\n",
      "[CV] END rf__class_weight=balanced, rf__max_depth=10, rf__min_samples_leaf=1, rf__min_samples_split=5, rf__n_estimators=100; total time=  10.0s\n",
      "[CV] END rf__class_weight=balanced, rf__max_depth=10, rf__min_samples_leaf=1, rf__min_samples_split=5, rf__n_estimators=100; total time=   9.8s\n",
      "[CV] END rf__class_weight=balanced, rf__max_depth=10, rf__min_samples_leaf=2, rf__min_samples_split=2, rf__n_estimators=100; total time=   9.7s\n",
      "[CV] END rf__class_weight=balanced, rf__max_depth=10, rf__min_samples_leaf=1, rf__min_samples_split=5, rf__n_estimators=200; total time=  18.9s\n",
      "[CV] END rf__class_weight=balanced, rf__max_depth=10, rf__min_samples_leaf=2, rf__min_samples_split=2, rf__n_estimators=100; total time=   9.9s\n",
      "[CV] END rf__class_weight=balanced, rf__max_depth=10, rf__min_samples_leaf=2, rf__min_samples_split=2, rf__n_estimators=100; total time=  10.1s\n",
      "[CV] END rf__class_weight=balanced, rf__max_depth=10, rf__min_samples_leaf=1, rf__min_samples_split=5, rf__n_estimators=200; total time=  19.5s\n",
      "[CV] END rf__class_weight=balanced, rf__max_depth=10, rf__min_samples_leaf=1, rf__min_samples_split=5, rf__n_estimators=200; total time=  18.8s\n",
      "[CV] END rf__class_weight=balanced, rf__max_depth=10, rf__min_samples_leaf=1, rf__min_samples_split=5, rf__n_estimators=200; total time=  19.1s\n",
      "[CV] END rf__class_weight=balanced, rf__max_depth=10, rf__min_samples_leaf=1, rf__min_samples_split=5, rf__n_estimators=200; total time=  19.6s\n",
      "[CV] END rf__class_weight=balanced, rf__max_depth=10, rf__min_samples_leaf=2, rf__min_samples_split=2, rf__n_estimators=100; total time=  10.0s\n",
      "[CV] END rf__class_weight=balanced, rf__max_depth=10, rf__min_samples_leaf=2, rf__min_samples_split=2, rf__n_estimators=100; total time=  10.5s\n",
      "[CV] END rf__class_weight=balanced, rf__max_depth=10, rf__min_samples_leaf=2, rf__min_samples_split=5, rf__n_estimators=100; total time=   9.9s\n",
      "[CV] END rf__class_weight=balanced, rf__max_depth=10, rf__min_samples_leaf=2, rf__min_samples_split=2, rf__n_estimators=200; total time=  19.0s\n",
      "[CV] END rf__class_weight=balanced, rf__max_depth=10, rf__min_samples_leaf=2, rf__min_samples_split=5, rf__n_estimators=100; total time=  10.1s\n",
      "[CV] END rf__class_weight=balanced, rf__max_depth=10, rf__min_samples_leaf=2, rf__min_samples_split=2, rf__n_estimators=200; total time=  19.4s\n",
      "[CV] END rf__class_weight=balanced, rf__max_depth=10, rf__min_samples_leaf=2, rf__min_samples_split=5, rf__n_estimators=100; total time=  10.3s\n",
      "[CV] END rf__class_weight=balanced, rf__max_depth=10, rf__min_samples_leaf=2, rf__min_samples_split=2, rf__n_estimators=200; total time=  19.3s\n",
      "[CV] END rf__class_weight=balanced, rf__max_depth=10, rf__min_samples_leaf=2, rf__min_samples_split=2, rf__n_estimators=200; total time=  19.4s\n",
      "[CV] END rf__class_weight=balanced, rf__max_depth=10, rf__min_samples_leaf=2, rf__min_samples_split=2, rf__n_estimators=200; total time=  19.2s\n",
      "[CV] END rf__class_weight=balanced, rf__max_depth=10, rf__min_samples_leaf=2, rf__min_samples_split=5, rf__n_estimators=100; total time=  10.0s\n",
      "[CV] END rf__class_weight=balanced, rf__max_depth=10, rf__min_samples_leaf=2, rf__min_samples_split=5, rf__n_estimators=100; total time=   9.8s\n",
      "[CV] END rf__class_weight=balanced, rf__max_depth=10, rf__min_samples_leaf=2, rf__min_samples_split=5, rf__n_estimators=200; total time=  16.6s\n",
      "[CV] END rf__class_weight=balanced, rf__max_depth=10, rf__min_samples_leaf=2, rf__min_samples_split=5, rf__n_estimators=200; total time=  16.7s\n",
      "[CV] END rf__class_weight=balanced, rf__max_depth=10, rf__min_samples_leaf=2, rf__min_samples_split=5, rf__n_estimators=200; total time=  16.9s\n",
      "[CV] END rf__class_weight=balanced, rf__max_depth=10, rf__min_samples_leaf=2, rf__min_samples_split=5, rf__n_estimators=200; total time=  16.7s\n",
      "[CV] END rf__class_weight=balanced, rf__max_depth=10, rf__min_samples_leaf=2, rf__min_samples_split=5, rf__n_estimators=200; total time=  15.9s\n"
     ]
    },
    {
     "data": {
      "text/html": [
       "<style>#sk-container-id-1 {color: black;}#sk-container-id-1 pre{padding: 0;}#sk-container-id-1 div.sk-toggleable {background-color: white;}#sk-container-id-1 label.sk-toggleable__label {cursor: pointer;display: block;width: 100%;margin-bottom: 0;padding: 0.3em;box-sizing: border-box;text-align: center;}#sk-container-id-1 label.sk-toggleable__label-arrow:before {content: \"▸\";float: left;margin-right: 0.25em;color: #696969;}#sk-container-id-1 label.sk-toggleable__label-arrow:hover:before {color: black;}#sk-container-id-1 div.sk-estimator:hover label.sk-toggleable__label-arrow:before {color: black;}#sk-container-id-1 div.sk-toggleable__content {max-height: 0;max-width: 0;overflow: hidden;text-align: left;background-color: #f0f8ff;}#sk-container-id-1 div.sk-toggleable__content pre {margin: 0.2em;color: black;border-radius: 0.25em;background-color: #f0f8ff;}#sk-container-id-1 input.sk-toggleable__control:checked~div.sk-toggleable__content {max-height: 200px;max-width: 100%;overflow: auto;}#sk-container-id-1 input.sk-toggleable__control:checked~label.sk-toggleable__label-arrow:before {content: \"▾\";}#sk-container-id-1 div.sk-estimator input.sk-toggleable__control:checked~label.sk-toggleable__label {background-color: #d4ebff;}#sk-container-id-1 div.sk-label input.sk-toggleable__control:checked~label.sk-toggleable__label {background-color: #d4ebff;}#sk-container-id-1 input.sk-hidden--visually {border: 0;clip: rect(1px 1px 1px 1px);clip: rect(1px, 1px, 1px, 1px);height: 1px;margin: -1px;overflow: hidden;padding: 0;position: absolute;width: 1px;}#sk-container-id-1 div.sk-estimator {font-family: monospace;background-color: #f0f8ff;border: 1px dotted black;border-radius: 0.25em;box-sizing: border-box;margin-bottom: 0.5em;}#sk-container-id-1 div.sk-estimator:hover {background-color: #d4ebff;}#sk-container-id-1 div.sk-parallel-item::after {content: \"\";width: 100%;border-bottom: 1px solid gray;flex-grow: 1;}#sk-container-id-1 div.sk-label:hover label.sk-toggleable__label {background-color: #d4ebff;}#sk-container-id-1 div.sk-serial::before {content: \"\";position: absolute;border-left: 1px solid gray;box-sizing: border-box;top: 0;bottom: 0;left: 50%;z-index: 0;}#sk-container-id-1 div.sk-serial {display: flex;flex-direction: column;align-items: center;background-color: white;padding-right: 0.2em;padding-left: 0.2em;position: relative;}#sk-container-id-1 div.sk-item {position: relative;z-index: 1;}#sk-container-id-1 div.sk-parallel {display: flex;align-items: stretch;justify-content: center;background-color: white;position: relative;}#sk-container-id-1 div.sk-item::before, #sk-container-id-1 div.sk-parallel-item::before {content: \"\";position: absolute;border-left: 1px solid gray;box-sizing: border-box;top: 0;bottom: 0;left: 50%;z-index: -1;}#sk-container-id-1 div.sk-parallel-item {display: flex;flex-direction: column;z-index: 1;position: relative;background-color: white;}#sk-container-id-1 div.sk-parallel-item:first-child::after {align-self: flex-end;width: 50%;}#sk-container-id-1 div.sk-parallel-item:last-child::after {align-self: flex-start;width: 50%;}#sk-container-id-1 div.sk-parallel-item:only-child::after {width: 0;}#sk-container-id-1 div.sk-dashed-wrapped {border: 1px dashed gray;margin: 0 0.4em 0.5em 0.4em;box-sizing: border-box;padding-bottom: 0.4em;background-color: white;}#sk-container-id-1 div.sk-label label {font-family: monospace;font-weight: bold;display: inline-block;line-height: 1.2em;}#sk-container-id-1 div.sk-label-container {text-align: center;}#sk-container-id-1 div.sk-container {/* jupyter's `normalize.less` sets `[hidden] { display: none; }` but bootstrap.min.css set `[hidden] { display: none !important; }` so we also need the `!important` here to be able to override the default hidden behavior on the sphinx rendered scikit-learn.org. See: https://github.com/scikit-learn/scikit-learn/issues/21755 */display: inline-block !important;position: relative;}#sk-container-id-1 div.sk-text-repr-fallback {display: none;}</style><div id=\"sk-container-id-1\" class=\"sk-top-container\"><div class=\"sk-text-repr-fallback\"><pre>GridSearchCV(cv=5,\n",
       "             estimator=Pipeline(steps=[(&#x27;preprocessor&#x27;,\n",
       "                                        ColumnTransformer(transformers=[(&#x27;num&#x27;,\n",
       "                                                                         StandardScaler(),\n",
       "                                                                         [&#x27;Latitude&#x27;,\n",
       "                                                                          &#x27;Longitude&#x27;,\n",
       "                                                                          &#x27;Number_of_Casualties&#x27;,\n",
       "                                                                          &#x27;Number_of_Vehicles&#x27;,\n",
       "                                                                          &#x27;Year&#x27;,\n",
       "                                                                          &#x27;Month&#x27;,\n",
       "                                                                          &#x27;Day&#x27;,\n",
       "                                                                          &#x27;Weekday&#x27;]),\n",
       "                                                                        (&#x27;cat&#x27;,\n",
       "                                                                         OneHotEncoder(),\n",
       "                                                                         [&#x27;Light_Conditions&#x27;,\n",
       "                                                                          &#x27;District &#x27;\n",
       "                                                                          &#x27;Area&#x27;,\n",
       "                                                                          &#x27;Road_Surface_Conditions&#x27;,\n",
       "                                                                          &#x27;Road_Type&#x27;,\n",
       "                                                                          &#x27;Urban_or_Rural_Area&#x27;,\n",
       "                                                                          &#x27;Vehicle_Type&#x27;])])),\n",
       "                                       (&#x27;smote&#x27;, SMOTE(random_state=42)),\n",
       "                                       (&#x27;rf&#x27;,\n",
       "                                        RandomForestClassifier(random_state=42))]),\n",
       "             n_jobs=-1,\n",
       "             param_grid={&#x27;rf__class_weight&#x27;: [&#x27;balanced&#x27;],\n",
       "                         &#x27;rf__max_depth&#x27;: [None, 10],\n",
       "                         &#x27;rf__min_samples_leaf&#x27;: [1, 2],\n",
       "                         &#x27;rf__min_samples_split&#x27;: [2, 5],\n",
       "                         &#x27;rf__n_estimators&#x27;: [100, 200]},\n",
       "             scoring=&#x27;accuracy&#x27;, verbose=2)</pre><b>In a Jupyter environment, please rerun this cell to show the HTML representation or trust the notebook. <br />On GitHub, the HTML representation is unable to render, please try loading this page with nbviewer.org.</b></div><div class=\"sk-container\" hidden><div class=\"sk-item sk-dashed-wrapped\"><div class=\"sk-label-container\"><div class=\"sk-label sk-toggleable\"><input class=\"sk-toggleable__control sk-hidden--visually\" id=\"sk-estimator-id-1\" type=\"checkbox\" ><label for=\"sk-estimator-id-1\" class=\"sk-toggleable__label sk-toggleable__label-arrow\">GridSearchCV</label><div class=\"sk-toggleable__content\"><pre>GridSearchCV(cv=5,\n",
       "             estimator=Pipeline(steps=[(&#x27;preprocessor&#x27;,\n",
       "                                        ColumnTransformer(transformers=[(&#x27;num&#x27;,\n",
       "                                                                         StandardScaler(),\n",
       "                                                                         [&#x27;Latitude&#x27;,\n",
       "                                                                          &#x27;Longitude&#x27;,\n",
       "                                                                          &#x27;Number_of_Casualties&#x27;,\n",
       "                                                                          &#x27;Number_of_Vehicles&#x27;,\n",
       "                                                                          &#x27;Year&#x27;,\n",
       "                                                                          &#x27;Month&#x27;,\n",
       "                                                                          &#x27;Day&#x27;,\n",
       "                                                                          &#x27;Weekday&#x27;]),\n",
       "                                                                        (&#x27;cat&#x27;,\n",
       "                                                                         OneHotEncoder(),\n",
       "                                                                         [&#x27;Light_Conditions&#x27;,\n",
       "                                                                          &#x27;District &#x27;\n",
       "                                                                          &#x27;Area&#x27;,\n",
       "                                                                          &#x27;Road_Surface_Conditions&#x27;,\n",
       "                                                                          &#x27;Road_Type&#x27;,\n",
       "                                                                          &#x27;Urban_or_Rural_Area&#x27;,\n",
       "                                                                          &#x27;Vehicle_Type&#x27;])])),\n",
       "                                       (&#x27;smote&#x27;, SMOTE(random_state=42)),\n",
       "                                       (&#x27;rf&#x27;,\n",
       "                                        RandomForestClassifier(random_state=42))]),\n",
       "             n_jobs=-1,\n",
       "             param_grid={&#x27;rf__class_weight&#x27;: [&#x27;balanced&#x27;],\n",
       "                         &#x27;rf__max_depth&#x27;: [None, 10],\n",
       "                         &#x27;rf__min_samples_leaf&#x27;: [1, 2],\n",
       "                         &#x27;rf__min_samples_split&#x27;: [2, 5],\n",
       "                         &#x27;rf__n_estimators&#x27;: [100, 200]},\n",
       "             scoring=&#x27;accuracy&#x27;, verbose=2)</pre></div></div></div><div class=\"sk-parallel\"><div class=\"sk-parallel-item\"><div class=\"sk-item\"><div class=\"sk-label-container\"><div class=\"sk-label sk-toggleable\"><input class=\"sk-toggleable__control sk-hidden--visually\" id=\"sk-estimator-id-2\" type=\"checkbox\" ><label for=\"sk-estimator-id-2\" class=\"sk-toggleable__label sk-toggleable__label-arrow\">estimator: Pipeline</label><div class=\"sk-toggleable__content\"><pre>Pipeline(steps=[(&#x27;preprocessor&#x27;,\n",
       "                 ColumnTransformer(transformers=[(&#x27;num&#x27;, StandardScaler(),\n",
       "                                                  [&#x27;Latitude&#x27;, &#x27;Longitude&#x27;,\n",
       "                                                   &#x27;Number_of_Casualties&#x27;,\n",
       "                                                   &#x27;Number_of_Vehicles&#x27;, &#x27;Year&#x27;,\n",
       "                                                   &#x27;Month&#x27;, &#x27;Day&#x27;, &#x27;Weekday&#x27;]),\n",
       "                                                 (&#x27;cat&#x27;, OneHotEncoder(),\n",
       "                                                  [&#x27;Light_Conditions&#x27;,\n",
       "                                                   &#x27;District Area&#x27;,\n",
       "                                                   &#x27;Road_Surface_Conditions&#x27;,\n",
       "                                                   &#x27;Road_Type&#x27;,\n",
       "                                                   &#x27;Urban_or_Rural_Area&#x27;,\n",
       "                                                   &#x27;Vehicle_Type&#x27;])])),\n",
       "                (&#x27;smote&#x27;, SMOTE(random_state=42)),\n",
       "                (&#x27;rf&#x27;, RandomForestClassifier(random_state=42))])</pre></div></div></div><div class=\"sk-serial\"><div class=\"sk-item\"><div class=\"sk-serial\"><div class=\"sk-item sk-dashed-wrapped\"><div class=\"sk-label-container\"><div class=\"sk-label sk-toggleable\"><input class=\"sk-toggleable__control sk-hidden--visually\" id=\"sk-estimator-id-3\" type=\"checkbox\" ><label for=\"sk-estimator-id-3\" class=\"sk-toggleable__label sk-toggleable__label-arrow\">preprocessor: ColumnTransformer</label><div class=\"sk-toggleable__content\"><pre>ColumnTransformer(transformers=[(&#x27;num&#x27;, StandardScaler(),\n",
       "                                 [&#x27;Latitude&#x27;, &#x27;Longitude&#x27;,\n",
       "                                  &#x27;Number_of_Casualties&#x27;, &#x27;Number_of_Vehicles&#x27;,\n",
       "                                  &#x27;Year&#x27;, &#x27;Month&#x27;, &#x27;Day&#x27;, &#x27;Weekday&#x27;]),\n",
       "                                (&#x27;cat&#x27;, OneHotEncoder(),\n",
       "                                 [&#x27;Light_Conditions&#x27;, &#x27;District Area&#x27;,\n",
       "                                  &#x27;Road_Surface_Conditions&#x27;, &#x27;Road_Type&#x27;,\n",
       "                                  &#x27;Urban_or_Rural_Area&#x27;, &#x27;Vehicle_Type&#x27;])])</pre></div></div></div><div class=\"sk-parallel\"><div class=\"sk-parallel-item\"><div class=\"sk-item\"><div class=\"sk-label-container\"><div class=\"sk-label sk-toggleable\"><input class=\"sk-toggleable__control sk-hidden--visually\" id=\"sk-estimator-id-4\" type=\"checkbox\" ><label for=\"sk-estimator-id-4\" class=\"sk-toggleable__label sk-toggleable__label-arrow\">num</label><div class=\"sk-toggleable__content\"><pre>[&#x27;Latitude&#x27;, &#x27;Longitude&#x27;, &#x27;Number_of_Casualties&#x27;, &#x27;Number_of_Vehicles&#x27;, &#x27;Year&#x27;, &#x27;Month&#x27;, &#x27;Day&#x27;, &#x27;Weekday&#x27;]</pre></div></div></div><div class=\"sk-serial\"><div class=\"sk-item\"><div class=\"sk-estimator sk-toggleable\"><input class=\"sk-toggleable__control sk-hidden--visually\" id=\"sk-estimator-id-5\" type=\"checkbox\" ><label for=\"sk-estimator-id-5\" class=\"sk-toggleable__label sk-toggleable__label-arrow\">StandardScaler</label><div class=\"sk-toggleable__content\"><pre>StandardScaler()</pre></div></div></div></div></div></div><div class=\"sk-parallel-item\"><div class=\"sk-item\"><div class=\"sk-label-container\"><div class=\"sk-label sk-toggleable\"><input class=\"sk-toggleable__control sk-hidden--visually\" id=\"sk-estimator-id-6\" type=\"checkbox\" ><label for=\"sk-estimator-id-6\" class=\"sk-toggleable__label sk-toggleable__label-arrow\">cat</label><div class=\"sk-toggleable__content\"><pre>[&#x27;Light_Conditions&#x27;, &#x27;District Area&#x27;, &#x27;Road_Surface_Conditions&#x27;, &#x27;Road_Type&#x27;, &#x27;Urban_or_Rural_Area&#x27;, &#x27;Vehicle_Type&#x27;]</pre></div></div></div><div class=\"sk-serial\"><div class=\"sk-item\"><div class=\"sk-estimator sk-toggleable\"><input class=\"sk-toggleable__control sk-hidden--visually\" id=\"sk-estimator-id-7\" type=\"checkbox\" ><label for=\"sk-estimator-id-7\" class=\"sk-toggleable__label sk-toggleable__label-arrow\">OneHotEncoder</label><div class=\"sk-toggleable__content\"><pre>OneHotEncoder()</pre></div></div></div></div></div></div></div></div><div class=\"sk-item\"><div class=\"sk-estimator sk-toggleable\"><input class=\"sk-toggleable__control sk-hidden--visually\" id=\"sk-estimator-id-8\" type=\"checkbox\" ><label for=\"sk-estimator-id-8\" class=\"sk-toggleable__label sk-toggleable__label-arrow\">SMOTE</label><div class=\"sk-toggleable__content\"><pre>SMOTE(random_state=42)</pre></div></div></div><div class=\"sk-item\"><div class=\"sk-estimator sk-toggleable\"><input class=\"sk-toggleable__control sk-hidden--visually\" id=\"sk-estimator-id-9\" type=\"checkbox\" ><label for=\"sk-estimator-id-9\" class=\"sk-toggleable__label sk-toggleable__label-arrow\">RandomForestClassifier</label><div class=\"sk-toggleable__content\"><pre>RandomForestClassifier(random_state=42)</pre></div></div></div></div></div></div></div></div></div></div></div></div>"
      ],
      "text/plain": [
       "GridSearchCV(cv=5,\n",
       "             estimator=Pipeline(steps=[('preprocessor',\n",
       "                                        ColumnTransformer(transformers=[('num',\n",
       "                                                                         StandardScaler(),\n",
       "                                                                         ['Latitude',\n",
       "                                                                          'Longitude',\n",
       "                                                                          'Number_of_Casualties',\n",
       "                                                                          'Number_of_Vehicles',\n",
       "                                                                          'Year',\n",
       "                                                                          'Month',\n",
       "                                                                          'Day',\n",
       "                                                                          'Weekday']),\n",
       "                                                                        ('cat',\n",
       "                                                                         OneHotEncoder(),\n",
       "                                                                         ['Light_Conditions',\n",
       "                                                                          'District '\n",
       "                                                                          'Area',\n",
       "                                                                          'Road_Surface_Conditions',\n",
       "                                                                          'Road_Type',\n",
       "                                                                          'Urban_or_Rural_Area',\n",
       "                                                                          'Vehicle_Type'])])),\n",
       "                                       ('smote', SMOTE(random_state=42)),\n",
       "                                       ('rf',\n",
       "                                        RandomForestClassifier(random_state=42))]),\n",
       "             n_jobs=-1,\n",
       "             param_grid={'rf__class_weight': ['balanced'],\n",
       "                         'rf__max_depth': [None, 10],\n",
       "                         'rf__min_samples_leaf': [1, 2],\n",
       "                         'rf__min_samples_split': [2, 5],\n",
       "                         'rf__n_estimators': [100, 200]},\n",
       "             scoring='accuracy', verbose=2)"
      ]
     },
     "execution_count": 32,
     "metadata": {},
     "output_type": "execute_result"
    }
   ],
   "source": [
    "# Fit GridSearchCV\n",
    "grid_search.fit(X_train, y_train)"
   ]
  },
  {
   "cell_type": "code",
   "execution_count": 33,
   "metadata": {},
   "outputs": [
    {
     "name": "stdout",
     "output_type": "stream",
     "text": [
      "Best parameters found:  {'rf__class_weight': 'balanced', 'rf__max_depth': None, 'rf__min_samples_leaf': 1, 'rf__min_samples_split': 5, 'rf__n_estimators': 200}\n"
     ]
    }
   ],
   "source": [
    "# Best parameters from GridSearchCV\n",
    "print(\"Best parameters found: \", grid_search.best_params_)"
   ]
  },
  {
   "cell_type": "code",
   "execution_count": 34,
   "metadata": {},
   "outputs": [],
   "source": [
    "# Evaluate the tuned model\n",
    "best_rf_model = grid_search.best_estimator_"
   ]
  },
  {
   "cell_type": "code",
   "execution_count": 35,
   "metadata": {},
   "outputs": [],
   "source": [
    "# Make predictions with the best model\n",
    "y_pred_rf_tuned = best_rf_model.predict(X_test)"
   ]
  },
  {
   "cell_type": "code",
   "execution_count": 36,
   "metadata": {},
   "outputs": [
    {
     "name": "stdout",
     "output_type": "stream",
     "text": [
      "Classification Report - Random Forest with Hyperparameter Tuning\n",
      "              precision    recall  f1-score   support\n",
      "\n",
      "           0       0.00      0.00      0.00        63\n",
      "           1       0.24      0.06      0.10       777\n",
      "           2       0.88      0.97      0.92      5692\n",
      "\n",
      "    accuracy                           0.86      6532\n",
      "   macro avg       0.37      0.34      0.34      6532\n",
      "weighted avg       0.79      0.86      0.81      6532\n",
      "\n",
      "Predicted  0    1     2\n",
      "Actual                 \n",
      "0          0    2    61\n",
      "1          1   47   729\n",
      "2          5  147  5540\n"
     ]
    },
    {
     "data": {
      "image/png": "[encoded data removed]",
      "text/plain": [
       "<Figure size 800x600 with 1 Axes>"
      ]
     },
     "metadata": {},
     "output_type": "display_data"
    }
   ],
   "source": [
    "# Print classification report for Random Forest with tuning\n",
    "print(\"Classification Report - Random Forest with Hyperparameter Tuning\")\n",
    "print(classification_report(y_test, y_pred_rf_tuned))\n",
    "\n",
    "# Confusion Matrix\n",
    "cm_rf_tuned = confusion_matrix(y_test, y_pred_rf_tuned)\n",
    "cm_df_rf_tuned = pd.DataFrame(cm_rf_tuned, columns=np.unique(y_test), index=np.unique(y_test))\n",
    "cm_df_rf_tuned.index.name = 'Actual'\n",
    "cm_df_rf_tuned.columns.name = 'Predicted'\n",
    "print(cm_df_rf_tuned)\n",
    "\n",
    "# Plot confusion matrix for tuned model\n",
    "plt.figure(figsize=(8, 6))\n",
    "sns.heatmap(cm_rf_tuned, annot=True, fmt='d', cmap='Blues', cbar=False)\n",
    "\n",
    "# Replace numbers for class names\n",
    "plt.xticks(ticks=np.arange(3)+0.5, labels=np.unique(y_test))\n",
    "plt.yticks(ticks=np.arange(3)+0.5, labels=np.unique(y_test))\n",
    "\n",
    "# Green border around correct prediction squares\n",
    "for i in range(3):\n",
    "    plt.gca().add_patch(plt.Rectangle((i, i), 1, 1, fill=False, edgecolor='green', linewidth=3))\n",
    "plt.legend(['Correct Prediction'], loc='upper right')\n",
    "\n",
    "plt.xlabel('Predicted', fontsize=14, labelpad=10)\n",
    "plt.ylabel('Actual', fontsize=14, labelpad=10)\n",
    "plt.title('Confusion Matrix - Random Forest with Hyperparameter Tuning')\n",
    "plt.show()"
   ]
  },
  {
   "cell_type": "markdown",
   "metadata": {},
   "source": [
    "**Key Insights:**\n",
    "- Fatal Class (63 instances): The model fails to predict the Fatal class (precision and recall are both 0.00), which suggests that the model is not learning to classify it properly.\n",
    "\n",
    "- Serious Class (777 instances): The model has low precision and recall for the Serious class (precision of 0.24 and recall of 0.06), indicating that it’s not predicting this class well either.\n",
    "\n",
    "- Slight Class (5692 instances): The model performs well here (precision of 0.88, recall of 0.97), but this class is overwhelming compared to the other two. This leads to the model focusing more on predicting the Slight class due to its large number of instances."
   ]
  },
  {
   "cell_type": "markdown",
   "metadata": {},
   "source": [
    "# Model 3: XG Boost"
   ]
  },
  {
   "cell_type": "code",
   "execution_count": 37,
   "metadata": {},
   "outputs": [
    {
     "name": "stdout",
     "output_type": "stream",
     "text": [
      "[('preprocessor', ColumnTransformer(transformers=[('num', StandardScaler(),\n",
      "                                 ['Latitude', 'Longitude',\n",
      "                                  'Number_of_Casualties', 'Number_of_Vehicles',\n",
      "                                  'Year', 'Month', 'Day', 'Weekday']),\n",
      "                                ('cat', OneHotEncoder(),\n",
      "                                 ['Light_Conditions', 'District Area',\n",
      "                                  'Road_Surface_Conditions', 'Road_Type',\n",
      "                                  'Urban_or_Rural_Area', 'Vehicle_Type'])])), ('smote', SMOTE(random_state=42)), ('xgb', XGBClassifier(base_score=None, booster=None, callbacks=None,\n",
      "              colsample_bylevel=None, colsample_bynode=None,\n",
      "              colsample_bytree=None, early_stopping_rounds=None,\n",
      "              enable_categorical=False, eval_metric='mlogloss',\n",
      "              feature_types=None, gamma=None, gpu_id=None, grow_policy=None,\n",
      "              importance_type=None, interaction_constraints=None,\n",
      "              learning_rate=0.1, max_bin=None, max_cat_threshold=None,\n",
      "              max_cat_to_onehot=None, max_delta_step=None, max_depth=6,\n",
      "              max_leaves=None, min_child_weight=None, missing=nan,\n",
      "              monotone_constraints=None, n_estimators=100, n_jobs=None,\n",
      "              num_class=3, num_parallel_tree=None, objective='multi:softmax', ...))]\n"
     ]
    }
   ],
   "source": [
    "import xgboost as xgb\n",
    "\n",
    "smote = SMOTE(sampling_strategy='auto', random_state=42)\n",
    "\n",
    "# Create the full pipeline with preprocessing, SMOTE, and XGBoost\n",
    "XGBoost_Pipeline = Pipeline(steps=[\n",
    "    ('preprocessor', preprocessor),          # Step for preprocessing\n",
    "    ('smote', SMOTE(sampling_strategy='auto', random_state=42)),  # SMOTE oversampling\n",
    "    ('xgb', xgb.XGBClassifier(\n",
    "        objective='multi:softmax',\n",
    "        num_class=3,  # Adjust this to the number of classes in your problem\n",
    "        eval_metric='mlogloss',\n",
    "        max_depth=6,  # Example hyperparameter tuning\n",
    "        learning_rate=0.1,\n",
    "        n_estimators=100\n",
    "    ))\n",
    "])\n",
    "\n",
    "# print pipeline steps\n",
    "print(XGBoost_Pipeline.steps)"
   ]
  },
  {
   "cell_type": "code",
   "execution_count": 38,
   "metadata": {},
   "outputs": [],
   "source": [
    "# train and predict\n",
    "\n",
    "# train the model\n",
    "XGBoost_Pipeline.fit(X_train, y_train)\n",
    "\n",
    "# make predictions\n",
    "y_pred_xgb = XGBoost_Pipeline.predict(X_test)"
   ]
  },
  {
   "cell_type": "code",
   "execution_count": 39,
   "metadata": {},
   "outputs": [
    {
     "name": "stdout",
     "output_type": "stream",
     "text": [
      "Classification Report - XGBoost\n",
      "              precision    recall  f1-score   support\n",
      "\n",
      "           0       0.00      0.00      0.00        63\n",
      "           1       0.17      0.04      0.06       777\n",
      "           2       0.87      0.98      0.92      5692\n",
      "\n",
      "    accuracy                           0.86      6532\n",
      "   macro avg       0.35      0.34      0.33      6532\n",
      "weighted avg       0.78      0.86      0.81      6532\n",
      "\n",
      "Predicted  0    1     2\n",
      "Actual                 \n",
      "0          0    1    62\n",
      "1          0   28   749\n",
      "2          2  131  5559\n"
     ]
    },
    {
     "data": {
      "image/png": "[encoded data removed]",
      "text/plain": [
       "<Figure size 800x600 with 1 Axes>"
      ]
     },
     "metadata": {},
     "output_type": "display_data"
    }
   ],
   "source": [
    "# Print classification report for XGBoost\n",
    "print(\"Classification Report - XGBoost\")\n",
    "print(classification_report(y_test, y_pred_xgb))\n",
    "\n",
    "# Confusion Matrix for XGBoost\n",
    "cm_xgb = confusion_matrix(y_test, y_pred_xgb)\n",
    "cm_df_xgb = pd.DataFrame(cm_xgb, columns=np.unique(y_test), index=np.unique(y_test))\n",
    "cm_df_xgb.index.name = 'Actual'\n",
    "cm_df_xgb.columns.name = 'Predicted'\n",
    "print(cm_df_xgb)\n",
    "\n",
    "# Plot confusion matrix for XGBoost model\n",
    "plt.figure(figsize=(8, 6))\n",
    "sns.heatmap(cm_xgb, annot=True, fmt='d', cmap='Blues', cbar=False)\n",
    "\n",
    "# Replace numbers with class names (Assuming y_test contains the actual class labels)\n",
    "plt.xticks(ticks=np.arange(len(np.unique(y_test))) + 0.5, labels=np.unique(y_test))\n",
    "plt.yticks(ticks=np.arange(len(np.unique(y_test))) + 0.5, labels=np.unique(y_test))\n",
    "\n",
    "# Green border around correct prediction squares\n",
    "for i in range(len(np.unique(y_test))):\n",
    "    plt.gca().add_patch(plt.Rectangle((i, i), 1, 1, fill=False, edgecolor='green', linewidth=3))\n",
    "\n",
    "plt.legend(['Correct Prediction'], loc='upper right')\n",
    "\n",
    "plt.xlabel('Predicted', fontsize=14, labelpad=10)\n",
    "plt.ylabel('Actual', fontsize=14, labelpad=10)\n",
    "plt.title('Confusion Matrix - XGBoost')\n",
    "plt.show()"
   ]
  },
  {
   "cell_type": "markdown",
   "metadata": {},
   "source": [
    "**Summary of XGBoost Model Performance:**\n",
    "Accuracy: 86%\n",
    "- Class 0 (Fatal Accidents): The model fails to predict fatal accidents, with both precision and recall at 0.00, leading to an F1-score of 0.00.\n",
    "- Class 1 (Serious Accidents): Serious accidents are poorly predicted, with precision (0.17) and recall (0.04) very low, resulting in an F1-score of 0.06.\n",
    "- Class 2 (Slight Accidents): The model performs well on slight accidents, with high precision (0.87), recall (0.98), and an F1-score of 0.92.\n",
    "\n",
    "Key Issue: The model struggles with predicting fatal and serious accidents due to class imbalance, with most misclassifications happening as slight accidents."
   ]
  },
  {
   "cell_type": "markdown",
   "metadata": {},
   "source": [
    "## Addressing Class Imbalance with ChatGPT"
   ]
  },
  {
   "cell_type": "markdown",
   "metadata": {},
   "source": [
    "One of the key challenges faced during all of the model's development was the class imbalance in the dataset, which severely affected the model's ability to predict fatal (Class 0) and serious (Class 1) accidents. In the dataset, the majority of the instances are for slight accidents (Class 2), while fatal and serious accidents are relatively rare. This imbalance led to a situation where the model predominantly predicted the slight accidents class, resulting in poor precision, recall, and F1-scores for the fatal and serious accidents classes.\n",
    "\n",
    "To address this issue, I turned to ChatGPT for guidance. \n",
    "\n",
    "The following steps were implemented based on ChatGPT’s suggestions:\n",
    "\n",
    "- SMOTE Application: I incorporated SMOTE within the pipeline to balance the class distribution.\n",
    "- Imbalanced Pipeline: Since SMOTE is not compatible with standard scikit-learn transformers, I used the ImbPipeline from the imblearn library, which allows for applying resampling techniques like SMOTE within the pipeline.\n",
    "- Stratified K-Fold Cross-Validation: I used Stratified K-Fold Cross-Validation to ensure each fold maintains the same class distribution as the entire dataset.\n",
    "\n",
    "Here’s the code that was generated by ChatGPT and implemented to build and train the model:"
   ]
  },
  {
   "cell_type": "code",
   "execution_count": 63,
   "metadata": {},
   "outputs": [
    {
     "name": "stdout",
     "output_type": "stream",
     "text": [
      "Classification Report for fold:\n",
      "              precision    recall  f1-score   support\n",
      "\n",
      "           0       0.00      0.00      0.00        42\n",
      "           1       0.21      0.35      0.26       608\n",
      "           2       0.90      0.83      0.86      4575\n",
      "\n",
      "    accuracy                           0.76      5225\n",
      "   macro avg       0.37      0.39      0.37      5225\n",
      "weighted avg       0.81      0.76      0.78      5225\n",
      "\n",
      "Classification Report for fold:\n",
      "              precision    recall  f1-score   support\n",
      "\n",
      "           0       0.02      0.02      0.02        42\n",
      "           1       0.22      0.36      0.27       608\n",
      "           2       0.90      0.82      0.86      4575\n",
      "\n",
      "    accuracy                           0.76      5225\n",
      "   macro avg       0.38      0.40      0.39      5225\n",
      "weighted avg       0.82      0.76      0.79      5225\n",
      "\n",
      "Classification Report for fold:\n",
      "              precision    recall  f1-score   support\n",
      "\n",
      "           0       0.00      0.00      0.00        42\n",
      "           1       0.21      0.37      0.27       608\n",
      "           2       0.90      0.82      0.86      4575\n",
      "\n",
      "    accuracy                           0.76      5225\n",
      "   macro avg       0.37      0.40      0.38      5225\n",
      "weighted avg       0.82      0.76      0.78      5225\n",
      "\n",
      "Classification Report for fold:\n",
      "              precision    recall  f1-score   support\n",
      "\n",
      "           0       0.00      0.00      0.00        42\n",
      "           1       0.22      0.34      0.26       608\n",
      "           2       0.90      0.83      0.87      4575\n",
      "\n",
      "    accuracy                           0.77      5225\n",
      "   macro avg       0.37      0.39      0.38      5225\n",
      "weighted avg       0.81      0.77      0.79      5225\n",
      "\n",
      "Classification Report for fold:\n",
      "              precision    recall  f1-score   support\n",
      "\n",
      "           0       0.00      0.00      0.00        42\n",
      "           1       0.22      0.38      0.28       609\n",
      "           2       0.91      0.82      0.86      4574\n",
      "\n",
      "    accuracy                           0.77      5225\n",
      "   macro avg       0.38      0.40      0.38      5225\n",
      "weighted avg       0.82      0.77      0.79      5225\n",
      "\n",
      "Final Classification Report on Test Set:\n",
      "              precision    recall  f1-score   support\n",
      "\n",
      "           0       0.05      0.02      0.02        63\n",
      "           1       0.21      0.37      0.27       777\n",
      "           2       0.90      0.81      0.85      5692\n",
      "\n",
      "    accuracy                           0.75      6532\n",
      "   macro avg       0.39      0.40      0.38      6532\n",
      "weighted avg       0.81      0.75      0.78      6532\n",
      "\n"
     ]
    }
   ],
   "source": [
    "import xgboost as xgb\n",
    "from sklearn.model_selection import StratifiedKFold\n",
    "from sklearn.compose import ColumnTransformer\n",
    "from sklearn.preprocessing import StandardScaler, OneHotEncoder\n",
    "from imblearn.over_sampling import SMOTE\n",
    "from sklearn.metrics import classification_report\n",
    "from imblearn.pipeline import Pipeline as ImbPipeline  # Use ImbPipeline for resampling\n",
    "import pandas as pd\n",
    "\n",
    "# Define numerical and categorical features\n",
    "num = ['Latitude', 'Longitude', 'Number_of_Casualties', 'Number_of_Vehicles']\n",
    "cat = ['Light_Conditions', 'District Area', 'Road_Surface_Conditions', 'Road_Type', 'Urban_or_Rural_Area', 'Vehicle_Type']\n",
    "\n",
    "# Preprocessor setup for scaling numerical features and one-hot encoding categorical features\n",
    "preprocessor = ColumnTransformer(\n",
    "    transformers=[\n",
    "        ('num', StandardScaler(), num),  # Scale numerical features\n",
    "        ('cat', OneHotEncoder(), cat)    # One-hot encode categorical features\n",
    "    ]\n",
    ")\n",
    "\n",
    "# XGBoost Classifier without scale_pos_weight (not required for multi-class)\n",
    "xgb_model = xgb.XGBClassifier(\n",
    "    objective='multi:softmax',  # Multi-class classification\n",
    "    num_class=3,  # Adjust based on the number of classes in your target\n",
    "    max_depth=6,\n",
    "    learning_rate=0.1,\n",
    "    n_estimators=100,\n",
    "    eval_metric='mlogloss',\n",
    "    random_state=42\n",
    ")\n",
    "\n",
    "# Full pipeline with SMOTE for class imbalance handling\n",
    "XGBoost_Pipeline = ImbPipeline(steps=[\n",
    "    ('preprocessor', preprocessor),  # Preprocessing step (scaling + encoding)\n",
    "    ('smote', SMOTE(random_state=42)),  # Apply SMOTE for class imbalance\n",
    "    ('xgb', xgb_model)  # XGBoost model\n",
    "])\n",
    "\n",
    "# Cross-validation using StratifiedKFold\n",
    "skf = StratifiedKFold(n_splits=5, shuffle=True, random_state=42)\n",
    "\n",
    "# Store results for each fold\n",
    "for train_index, val_index in skf.split(X_train, y_train):\n",
    "    X_train_fold, X_val_fold = X_train.iloc[train_index], X_train.iloc[val_index]\n",
    "    y_train_fold, y_val_fold = y_train.iloc[train_index], y_train.iloc[val_index]\n",
    "\n",
    "    # Fit the model on each fold\n",
    "    XGBoost_Pipeline.fit(X_train_fold, y_train_fold)\n",
    "    \n",
    "    # Predict on the validation set\n",
    "    y_pred_fold = XGBoost_Pipeline.predict(X_val_fold)\n",
    "    \n",
    "    # Print classification report for this fold\n",
    "    print(\"Classification Report for fold:\")\n",
    "    print(classification_report(y_val_fold, y_pred_fold))\n",
    "\n",
    "# Once the model is finalized, you can fit it on the entire training set and predict on the test set\n",
    "XGBoost_Pipeline.fit(X_train, y_train)\n",
    "y_pred_xgb = XGBoost_Pipeline.predict(X_test)\n",
    "\n",
    "# Print the final classification report on the test set\n",
    "print(\"Final Classification Report on Test Set:\")\n",
    "print(classification_report(y_test, y_pred_xgb))\n"
   ]
  },
  {
   "cell_type": "markdown",
   "metadata": {},
   "source": [
    "The model achieves an overall accuracy of 75%, with significant performance disparities across the different classes. It performs well in predicting slight accidents (Class 2), with high precision (0.90) and recall (0.81). However, it struggles with fatal accidents (Class 0), where both precision and recall are very low, leading to almost no correct predictions. For serious accidents (Class 1), the model has moderate performance, with precision around 0.21 and recall at 0.37. The class imbalance remains a key challenge, with the model heavily biased toward predicting the majority class (slight accidents)."
   ]
  },
  {
   "cell_type": "markdown",
   "metadata": {},
   "source": [
    "# Summary of Results and Next Steps\n",
    "\n",
    "Despite multiple attempts to address class imbalance and tune the model, the performance of all classifiers, including XGBoost, remains suboptimal for the minority classes (Fatal and Serious accidents). Most models perform reasonably well for predicting Slight accidents but struggle significantly with Fatal and Serious classifications, showing low precision and recall for these categories.\n",
    "\n",
    "Efforts to address class imbalance through SMOTE, hyperparameter tuning, and class weighting did not yield substantial improvements. The models tend to overpredict the majority class (Slight accidents), leading to high overall accuracy but poor minority class performance.\n",
    "\n",
    "At this point, further attempts to improve the model have been unsuccessful, and other strategies, such as trying different models (e.g., LightGBM) or ensemble methods, might need to be explored. However, the results suggest that tackling class imbalance and refining model hyperparameters would require a more nuanced approach."
   ]
  }
 ],
 "metadata": {
  "kernelspec": {
   "display_name": ".venv",
   "language": "python",
   "name": "python3"
  },
  "language_info": {
   "codemirror_mode": {
    "name": "ipython",
    "version": 3
   },
   "file_extension": ".py",
   "mimetype": "text/x-python",
   "name": "python",
   "nbconvert_exporter": "python",
   "pygments_lexer": "ipython3",
   "version": "3.12.8"
  }
 },
 "nbformat": 4,
 "nbformat_minor": 2
}
