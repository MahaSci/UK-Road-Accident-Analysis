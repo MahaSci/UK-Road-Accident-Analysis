{
 "cells": [
  {
   "cell_type": "markdown",
   "metadata": {},
   "source": [
    "# Machine Learning: Accident Severity Prediction"
   ]
  },
  {
   "cell_type": "markdown",
   "metadata": {},
   "source": [
    "## Change Directories"
   ]
  },
  {
   "cell_type": "code",
   "execution_count": 1,
   "metadata": {},
   "outputs": [
    {
     "data": {
      "text/plain": [
       "'/Users/mahahussain/Desktop/UK-Road-Accident-Analysis/UK-Road-Accident-Analysis/jupyter_notebooks'"
      ]
     },
     "execution_count": 1,
     "metadata": {},
     "output_type": "execute_result"
    }
   ],
   "source": [
    "import os\n",
    "current_dir = os.getcwd()\n",
    "current_dir"
   ]
  },
  {
   "cell_type": "code",
   "execution_count": 2,
   "metadata": {},
   "outputs": [
    {
     "name": "stdout",
     "output_type": "stream",
     "text": [
      "You set a new current directory\n"
     ]
    }
   ],
   "source": [
    "os.chdir(os.path.dirname(current_dir))\n",
    "print(\"You set a new current directory\")"
   ]
  },
  {
   "cell_type": "code",
   "execution_count": 3,
   "metadata": {},
   "outputs": [
    {
     "data": {
      "text/plain": [
       "'/Users/mahahussain/Desktop/UK-Road-Accident-Analysis/UK-Road-Accident-Analysis'"
      ]
     },
     "execution_count": 3,
     "metadata": {},
     "output_type": "execute_result"
    }
   ],
   "source": [
    "current_dir = os.getcwd()\n",
    "current_dir"
   ]
  },
  {
   "cell_type": "code",
   "execution_count": 4,
   "metadata": {},
   "outputs": [],
   "source": [
    "import pandas as pd \n",
    "import numpy as np\n",
    "import seaborn as sns\n",
    "sns.set_style('whitegrid')"
   ]
  },
  {
   "cell_type": "markdown",
   "metadata": {},
   "source": [
    "# Model 1 : Multinomial Logistic Regression"
   ]
  },
  {
   "cell_type": "markdown",
   "metadata": {},
   "source": [
    "The aim of this ML model is to predict the severity of an accident based on the input features.\n",
    "\n",
    "**The severity of an accident is classified into 3 categories:**\n",
    "1. Fatal\n",
    "2. Serious\n",
    "3. Slight\n",
    "\n",
    "Therefore, a multinomial logistic regression model will be used to predict the severity of an accident.\n",
    "\n",
    "**Inputs:**\n",
    "1. Data: 'filtered_accident_data_set.csv'\n",
    "\n",
    "**Outputs:**"
   ]
  },
  {
   "cell_type": "markdown",
   "metadata": {},
   "source": [
    "### Workflow plan:\n",
    "1. Data Prepocessing\n",
    "1. Split dataset into train and test set.\n",
    "2. Create pipeline for feature selection, scaling, and model fitting.\n",
    "3. Evaluate model with the test set."
   ]
  },
  {
   "cell_type": "markdown",
   "metadata": {},
   "source": [
    "## 1. Data Preprocessing"
   ]
  },
  {
   "cell_type": "markdown",
   "metadata": {},
   "source": [
    "### Exploring data"
   ]
  },
  {
   "cell_type": "code",
   "execution_count": 5,
   "metadata": {},
   "outputs": [
    {
     "data": {
      "text/html": [
       "<div>\n",
       "<style scoped>\n",
       "    .dataframe tbody tr th:only-of-type {\n",
       "        vertical-align: middle;\n",
       "    }\n",
       "\n",
       "    .dataframe tbody tr th {\n",
       "        vertical-align: top;\n",
       "    }\n",
       "\n",
       "    .dataframe thead th {\n",
       "        text-align: right;\n",
       "    }\n",
       "</style>\n",
       "<table border=\"1\" class=\"dataframe\">\n",
       "  <thead>\n",
       "    <tr style=\"text-align: right;\">\n",
       "      <th></th>\n",
       "      <th>Index</th>\n",
       "      <th>Accident_Severity</th>\n",
       "      <th>Accident Date</th>\n",
       "      <th>Latitude</th>\n",
       "      <th>Light_Conditions</th>\n",
       "      <th>District Area</th>\n",
       "      <th>Longitude</th>\n",
       "      <th>Number_of_Casualties</th>\n",
       "      <th>Number_of_Vehicles</th>\n",
       "      <th>Road_Surface_Conditions</th>\n",
       "      <th>Road_Type</th>\n",
       "      <th>Urban_or_Rural_Area</th>\n",
       "      <th>Vehicle_Type</th>\n",
       "    </tr>\n",
       "  </thead>\n",
       "  <tbody>\n",
       "    <tr>\n",
       "      <th>0</th>\n",
       "      <td>200720D003001</td>\n",
       "      <td>Slight</td>\n",
       "      <td>02-01-2019</td>\n",
       "      <td>52.513668</td>\n",
       "      <td>Darkness - lights lit</td>\n",
       "      <td>Birmingham</td>\n",
       "      <td>-1.901975</td>\n",
       "      <td>1</td>\n",
       "      <td>2</td>\n",
       "      <td>Wet or damp</td>\n",
       "      <td>Dual carriageway</td>\n",
       "      <td>Urban</td>\n",
       "      <td>Car</td>\n",
       "    </tr>\n",
       "    <tr>\n",
       "      <th>1</th>\n",
       "      <td>200720D003101</td>\n",
       "      <td>Slight</td>\n",
       "      <td>02-01-2019</td>\n",
       "      <td>52.502396</td>\n",
       "      <td>Daylight</td>\n",
       "      <td>Birmingham</td>\n",
       "      <td>-1.867086</td>\n",
       "      <td>1</td>\n",
       "      <td>2</td>\n",
       "      <td>Wet or damp</td>\n",
       "      <td>Single carriageway</td>\n",
       "      <td>Urban</td>\n",
       "      <td>Car</td>\n",
       "    </tr>\n",
       "    <tr>\n",
       "      <th>2</th>\n",
       "      <td>200720D003802</td>\n",
       "      <td>Serious</td>\n",
       "      <td>03-01-2019</td>\n",
       "      <td>52.563201</td>\n",
       "      <td>Daylight</td>\n",
       "      <td>Birmingham</td>\n",
       "      <td>-1.822793</td>\n",
       "      <td>1</td>\n",
       "      <td>1</td>\n",
       "      <td>Dry</td>\n",
       "      <td>Single carriageway</td>\n",
       "      <td>Urban</td>\n",
       "      <td>Car</td>\n",
       "    </tr>\n",
       "    <tr>\n",
       "      <th>3</th>\n",
       "      <td>200720D005801</td>\n",
       "      <td>Slight</td>\n",
       "      <td>02-01-2019</td>\n",
       "      <td>52.493431</td>\n",
       "      <td>Daylight</td>\n",
       "      <td>Birmingham</td>\n",
       "      <td>-1.818507</td>\n",
       "      <td>1</td>\n",
       "      <td>2</td>\n",
       "      <td>Wet or damp</td>\n",
       "      <td>Dual carriageway</td>\n",
       "      <td>Urban</td>\n",
       "      <td>Car</td>\n",
       "    </tr>\n",
       "    <tr>\n",
       "      <th>4</th>\n",
       "      <td>200720D005901</td>\n",
       "      <td>Slight</td>\n",
       "      <td>05-01-2019</td>\n",
       "      <td>52.510805</td>\n",
       "      <td>Darkness - lights lit</td>\n",
       "      <td>Birmingham</td>\n",
       "      <td>-1.834202</td>\n",
       "      <td>1</td>\n",
       "      <td>3</td>\n",
       "      <td>Dry</td>\n",
       "      <td>Dual carriageway</td>\n",
       "      <td>Urban</td>\n",
       "      <td>Car</td>\n",
       "    </tr>\n",
       "  </tbody>\n",
       "</table>\n",
       "</div>"
      ],
      "text/plain": [
       "           Index Accident_Severity Accident Date   Latitude  \\\n",
       "0  200720D003001            Slight    02-01-2019  52.513668   \n",
       "1  200720D003101            Slight    02-01-2019  52.502396   \n",
       "2  200720D003802           Serious    03-01-2019  52.563201   \n",
       "3  200720D005801            Slight    02-01-2019  52.493431   \n",
       "4  200720D005901            Slight    05-01-2019  52.510805   \n",
       "\n",
       "        Light_Conditions District Area  Longitude  Number_of_Casualties  \\\n",
       "0  Darkness - lights lit    Birmingham  -1.901975                     1   \n",
       "1               Daylight    Birmingham  -1.867086                     1   \n",
       "2               Daylight    Birmingham  -1.822793                     1   \n",
       "3               Daylight    Birmingham  -1.818507                     1   \n",
       "4  Darkness - lights lit    Birmingham  -1.834202                     1   \n",
       "\n",
       "   Number_of_Vehicles Road_Surface_Conditions           Road_Type  \\\n",
       "0                   2             Wet or damp    Dual carriageway   \n",
       "1                   2             Wet or damp  Single carriageway   \n",
       "2                   1                     Dry  Single carriageway   \n",
       "3                   2             Wet or damp    Dual carriageway   \n",
       "4                   3                     Dry    Dual carriageway   \n",
       "\n",
       "  Urban_or_Rural_Area Vehicle_Type  \n",
       "0               Urban          Car  \n",
       "1               Urban          Car  \n",
       "2               Urban          Car  \n",
       "3               Urban          Car  \n",
       "4               Urban          Car  "
      ]
     },
     "execution_count": 5,
     "metadata": {},
     "output_type": "execute_result"
    }
   ],
   "source": [
    "df = pd.read_csv('filtered_accident_data_set.csv')\n",
    "\n",
    "og_df = df.copy() # save the original data set in case we need it later\n",
    "\n",
    "df.head()"
   ]
  },
  {
   "cell_type": "code",
   "execution_count": 6,
   "metadata": {},
   "outputs": [
    {
     "name": "stdout",
     "output_type": "stream",
     "text": [
      "<class 'pandas.core.frame.DataFrame'>\n",
      "RangeIndex: 32657 entries, 0 to 32656\n",
      "Data columns (total 13 columns):\n",
      " #   Column                   Non-Null Count  Dtype  \n",
      "---  ------                   --------------  -----  \n",
      " 0   Index                    32657 non-null  object \n",
      " 1   Accident_Severity        32657 non-null  object \n",
      " 2   Accident Date            32657 non-null  object \n",
      " 3   Latitude                 32657 non-null  float64\n",
      " 4   Light_Conditions         32657 non-null  object \n",
      " 5   District Area            32657 non-null  object \n",
      " 6   Longitude                32657 non-null  float64\n",
      " 7   Number_of_Casualties     32657 non-null  int64  \n",
      " 8   Number_of_Vehicles       32657 non-null  int64  \n",
      " 9   Road_Surface_Conditions  32657 non-null  object \n",
      " 10  Road_Type                32657 non-null  object \n",
      " 11  Urban_or_Rural_Area      32657 non-null  object \n",
      " 12  Vehicle_Type             32657 non-null  object \n",
      "dtypes: float64(2), int64(2), object(9)\n",
      "memory usage: 3.2+ MB\n"
     ]
    }
   ],
   "source": [
    "df.info()"
   ]
  },
  {
   "cell_type": "markdown",
   "metadata": {},
   "source": [
    "### Preprocessing checks"
   ]
  },
  {
   "cell_type": "code",
   "execution_count": 7,
   "metadata": {},
   "outputs": [
    {
     "name": "stdout",
     "output_type": "stream",
     "text": [
      "there are  0  duplicate rows\n"
     ]
    }
   ],
   "source": [
    "# print num of duplicate rows\n",
    "print( f'there are ',df.duplicated().sum(), ' duplicate rows')\n"
   ]
  },
  {
   "cell_type": "code",
   "execution_count": 8,
   "metadata": {},
   "outputs": [
    {
     "data": {
      "text/plain": [
       "<Axes: >"
      ]
     },
     "execution_count": 8,
     "metadata": {},
     "output_type": "execute_result"
    },
    {
     "data": {
      "image/png": "[encoded data removed]",
      "text/plain": [
       "<Figure size 640x480 with 2 Axes>"
      ]
     },
     "metadata": {},
     "output_type": "display_data"
    }
   ],
   "source": [
    "# Heatmap to check missing values\n",
    "sns.heatmap(df.isnull())"
   ]
  },
  {
   "cell_type": "markdown",
   "metadata": {},
   "source": [
    "Accident index has no relevance on the prediction of accident severity, therefore this column will be dropped."
   ]
  },
  {
   "cell_type": "code",
   "execution_count": 9,
   "metadata": {},
   "outputs": [
    {
     "data": {
      "text/html": [
       "<div>\n",
       "<style scoped>\n",
       "    .dataframe tbody tr th:only-of-type {\n",
       "        vertical-align: middle;\n",
       "    }\n",
       "\n",
       "    .dataframe tbody tr th {\n",
       "        vertical-align: top;\n",
       "    }\n",
       "\n",
       "    .dataframe thead th {\n",
       "        text-align: right;\n",
       "    }\n",
       "</style>\n",
       "<table border=\"1\" class=\"dataframe\">\n",
       "  <thead>\n",
       "    <tr style=\"text-align: right;\">\n",
       "      <th></th>\n",
       "      <th>Accident_Severity</th>\n",
       "      <th>Accident Date</th>\n",
       "      <th>Latitude</th>\n",
       "      <th>Light_Conditions</th>\n",
       "      <th>District Area</th>\n",
       "      <th>Longitude</th>\n",
       "      <th>Number_of_Casualties</th>\n",
       "      <th>Number_of_Vehicles</th>\n",
       "      <th>Road_Surface_Conditions</th>\n",
       "      <th>Road_Type</th>\n",
       "      <th>Urban_or_Rural_Area</th>\n",
       "      <th>Vehicle_Type</th>\n",
       "    </tr>\n",
       "  </thead>\n",
       "  <tbody>\n",
       "    <tr>\n",
       "      <th>0</th>\n",
       "      <td>Slight</td>\n",
       "      <td>02-01-2019</td>\n",
       "      <td>52.513668</td>\n",
       "      <td>Darkness - lights lit</td>\n",
       "      <td>Birmingham</td>\n",
       "      <td>-1.901975</td>\n",
       "      <td>1</td>\n",
       "      <td>2</td>\n",
       "      <td>Wet or damp</td>\n",
       "      <td>Dual carriageway</td>\n",
       "      <td>Urban</td>\n",
       "      <td>Car</td>\n",
       "    </tr>\n",
       "    <tr>\n",
       "      <th>1</th>\n",
       "      <td>Slight</td>\n",
       "      <td>02-01-2019</td>\n",
       "      <td>52.502396</td>\n",
       "      <td>Daylight</td>\n",
       "      <td>Birmingham</td>\n",
       "      <td>-1.867086</td>\n",
       "      <td>1</td>\n",
       "      <td>2</td>\n",
       "      <td>Wet or damp</td>\n",
       "      <td>Single carriageway</td>\n",
       "      <td>Urban</td>\n",
       "      <td>Car</td>\n",
       "    </tr>\n",
       "    <tr>\n",
       "      <th>2</th>\n",
       "      <td>Serious</td>\n",
       "      <td>03-01-2019</td>\n",
       "      <td>52.563201</td>\n",
       "      <td>Daylight</td>\n",
       "      <td>Birmingham</td>\n",
       "      <td>-1.822793</td>\n",
       "      <td>1</td>\n",
       "      <td>1</td>\n",
       "      <td>Dry</td>\n",
       "      <td>Single carriageway</td>\n",
       "      <td>Urban</td>\n",
       "      <td>Car</td>\n",
       "    </tr>\n",
       "    <tr>\n",
       "      <th>3</th>\n",
       "      <td>Slight</td>\n",
       "      <td>02-01-2019</td>\n",
       "      <td>52.493431</td>\n",
       "      <td>Daylight</td>\n",
       "      <td>Birmingham</td>\n",
       "      <td>-1.818507</td>\n",
       "      <td>1</td>\n",
       "      <td>2</td>\n",
       "      <td>Wet or damp</td>\n",
       "      <td>Dual carriageway</td>\n",
       "      <td>Urban</td>\n",
       "      <td>Car</td>\n",
       "    </tr>\n",
       "    <tr>\n",
       "      <th>4</th>\n",
       "      <td>Slight</td>\n",
       "      <td>05-01-2019</td>\n",
       "      <td>52.510805</td>\n",
       "      <td>Darkness - lights lit</td>\n",
       "      <td>Birmingham</td>\n",
       "      <td>-1.834202</td>\n",
       "      <td>1</td>\n",
       "      <td>3</td>\n",
       "      <td>Dry</td>\n",
       "      <td>Dual carriageway</td>\n",
       "      <td>Urban</td>\n",
       "      <td>Car</td>\n",
       "    </tr>\n",
       "  </tbody>\n",
       "</table>\n",
       "</div>"
      ],
      "text/plain": [
       "  Accident_Severity Accident Date   Latitude       Light_Conditions  \\\n",
       "0            Slight    02-01-2019  52.513668  Darkness - lights lit   \n",
       "1            Slight    02-01-2019  52.502396               Daylight   \n",
       "2           Serious    03-01-2019  52.563201               Daylight   \n",
       "3            Slight    02-01-2019  52.493431               Daylight   \n",
       "4            Slight    05-01-2019  52.510805  Darkness - lights lit   \n",
       "\n",
       "  District Area  Longitude  Number_of_Casualties  Number_of_Vehicles  \\\n",
       "0    Birmingham  -1.901975                     1                   2   \n",
       "1    Birmingham  -1.867086                     1                   2   \n",
       "2    Birmingham  -1.822793                     1                   1   \n",
       "3    Birmingham  -1.818507                     1                   2   \n",
       "4    Birmingham  -1.834202                     1                   3   \n",
       "\n",
       "  Road_Surface_Conditions           Road_Type Urban_or_Rural_Area Vehicle_Type  \n",
       "0             Wet or damp    Dual carriageway               Urban          Car  \n",
       "1             Wet or damp  Single carriageway               Urban          Car  \n",
       "2                     Dry  Single carriageway               Urban          Car  \n",
       "3             Wet or damp    Dual carriageway               Urban          Car  \n",
       "4                     Dry    Dual carriageway               Urban          Car  "
      ]
     },
     "execution_count": 9,
     "metadata": {},
     "output_type": "execute_result"
    }
   ],
   "source": [
    "df.drop(['Index'], axis=1, inplace=True)\n",
    "\n",
    "# verify if the column was dropped\n",
    "df.head()"
   ]
  },
  {
   "cell_type": "markdown",
   "metadata": {},
   "source": [
    "### Defining target variable"
   ]
  },
  {
   "cell_type": "markdown",
   "metadata": {},
   "source": [
    "Our chosen target variable is the accident severity. Our ML task will be classification."
   ]
  },
  {
   "cell_type": "code",
   "execution_count": 10,
   "metadata": {},
   "outputs": [
    {
     "data": {
      "text/plain": [
       "Accident_Severity\n",
       "Slight     28566\n",
       "Serious     3818\n",
       "Fatal        273\n",
       "Name: count, dtype: int64"
      ]
     },
     "execution_count": 10,
     "metadata": {},
     "output_type": "execute_result"
    }
   ],
   "source": [
    "df['Accident_Severity'].value_counts()"
   ]
  },
  {
   "cell_type": "markdown",
   "metadata": {},
   "source": [
    "## 2. Pipeline Setup"
   ]
  },
  {
   "cell_type": "code",
   "execution_count": 11,
   "metadata": {},
   "outputs": [],
   "source": [
    "# import pipeline libraries\n",
    "from sklearn.pipeline import Pipeline\n",
    "from sklearn.compose import ColumnTransformer\n",
    "\n",
    "# standard scaler --> scales numerical columns \n",
    "# one hot encoder --> encodes categorical columns\n",
    "from sklearn.preprocessing import StandardScaler, OneHotEncoder \n",
    "\n",
    "# import model libraries\n",
    "from sklearn.linear_model import LogisticRegression\n",
    "\n",
    "# import train test split\n",
    "from sklearn.model_selection import train_test_split"
   ]
  },
  {
   "cell_type": "markdown",
   "metadata": {},
   "source": [
    "- standard scaler for numerical columns\n",
    "- one hot encoder for categorical columns"
   ]
  },
  {
   "cell_type": "code",
   "execution_count": 12,
   "metadata": {},
   "outputs": [
    {
     "name": "stdout",
     "output_type": "stream",
     "text": [
      "Training data set:  (26125, 14) - y_train:  (26125,) \n",
      "Testing data set:  (6532, 14) - y_test:  (6532,)\n"
     ]
    }
   ],
   "source": [
    "# convert Accident Date to datetime\n",
    "df['Accident Date'] = pd.to_datetime(df['Accident Date'], dayfirst=True)\n",
    "\n",
    "# create new columns for year, month, day, weekday\n",
    "df['Year'] = df['Accident Date'].dt.year\n",
    "df['Month'] = df['Accident Date'].dt.month\n",
    "df['Day'] = df['Accident Date'].dt.day\n",
    "df['Weekday'] = df['Accident Date'].dt.weekday # 0 = Monday, 6 = Sunday\n",
    "\n",
    "# drop Accident Date\n",
    "df.drop('Accident Date', axis=1, inplace=True)\n",
    "\n",
    "# shuffle the data set\n",
    "df = df.sample(frac=1, random_state=42).reset_index(drop=True)\n",
    "\n",
    "# split features (X) and target variable (y)\n",
    "X_train, X_test, y_train, y_test = train_test_split(df.drop('Accident_Severity', axis=1), df['Accident_Severity'], test_size=0.2, random_state=42)\n",
    "\n",
    "#test set = 20% of the data set\n",
    "#train set = 80% of the data set\n",
    "\n",
    "# print the shape of the sets\n",
    "print('Training data set: ', X_train.shape, \n",
    "        '- y_train: ', y_train.shape, '\\n'\n",
    "        'Testing data set: ', X_test.shape,\n",
    "        '- y_test: ', y_test.shape\n",
    "        )"
   ]
  },
  {
   "cell_type": "code",
   "execution_count": 13,
   "metadata": {},
   "outputs": [],
   "source": [
    "# Automatically define numerical and categorical columns from X_train\n",
    "num = X_train.select_dtypes(include=np.number).columns.tolist()\n",
    "cat = X_train.select_dtypes(include='object').columns.tolist()\n",
    "\n",
    "# create transformer for column preprocessing\n",
    "# standard scaler for numerical columns\n",
    "# one hot encoder for categorical columns\n",
    "\n",
    "preprocessor = ColumnTransformer(\n",
    "    transformers=[\n",
    "        ('num', StandardScaler(), num),\n",
    "        ('cat', OneHotEncoder(), cat)\n",
    "    ]\n",
    ")"
   ]
  },
  {
   "cell_type": "markdown",
   "metadata": {},
   "source": [
    "### Model selection"
   ]
  },
  {
   "cell_type": "markdown",
   "metadata": {},
   "source": [
    "We will use a multinomial logistic regression model.\n",
    "- Our target variable (Accident Severity) has more than two categories (e.g., Slight, Serious, Fatal), so we're dealing with a multiclass classification problem.\n"
   ]
  },
  {
   "cell_type": "markdown",
   "metadata": {},
   "source": [
    "**Preprocessing:**\n",
    "\n",
    "- Numerical data (like numbers for location, casualties, etc.) is adjusted so they’re on the same scale (so no feature is too big or too small compared to others).\n",
    "- Categorical data (like light conditions, road type) is converted into yes/no (1/0) columns, making it easier for the model to understand.\n",
    "\n",
    "**Logistic Regression:**\n",
    "\n",
    "- The model that will predict accident severity. It handles multiple types of severity (multi-class) and is set to run longer (max_iter=500) to make sure it gives a good result."
   ]
  },
  {
   "cell_type": "code",
   "execution_count": 14,
   "metadata": {},
   "outputs": [
    {
     "data": {
      "text/plain": [
       "[('preprocessor',\n",
       "  ColumnTransformer(transformers=[('num', StandardScaler(),\n",
       "                                   ['Latitude', 'Longitude',\n",
       "                                    'Number_of_Casualties', 'Number_of_Vehicles',\n",
       "                                    'Year', 'Month', 'Day', 'Weekday']),\n",
       "                                  ('cat', OneHotEncoder(),\n",
       "                                   ['Light_Conditions', 'District Area',\n",
       "                                    'Road_Surface_Conditions', 'Road_Type',\n",
       "                                    'Urban_or_Rural_Area', 'Vehicle_Type'])])),\n",
       " ('model',\n",
       "  LogisticRegression(class_weight='balanced', max_iter=500,\n",
       "                     multi_class='multinomial'))]"
      ]
     },
     "execution_count": 14,
     "metadata": {},
     "output_type": "execute_result"
    }
   ],
   "source": [
    "# create a pipeline with the preprocessor and the model\n",
    "\n",
    "pipe = Pipeline([\n",
    "    ('preprocessor', preprocessor),\n",
    "    ('model', LogisticRegression(multi_class='multinomial', solver='lbfgs', max_iter=500, class_weight='balanced'))\n",
    "])\n",
    "\n",
    "# class_weight='balanced' to handle imbalanced classes as Slight is the majority class\n",
    "\n",
    "# print pipeline steps\n",
    "pipe.steps"
   ]
  },
  {
   "cell_type": "markdown",
   "metadata": {},
   "source": [
    "### Train the model + Predict on the test set"
   ]
  },
  {
   "cell_type": "code",
   "execution_count": 15,
   "metadata": {},
   "outputs": [],
   "source": [
    "# train the model\n",
    "pipe.fit(X_train, y_train)\n",
    "\n",
    "# predict the target variable\n",
    "y_pred = pipe.predict(X_test)"
   ]
  },
  {
   "cell_type": "markdown",
   "metadata": {},
   "source": [
    "## 4. Model Evaluation"
   ]
  },
  {
   "cell_type": "code",
   "execution_count": 16,
   "metadata": {},
   "outputs": [
    {
     "name": "stdout",
     "output_type": "stream",
     "text": [
      "              precision    recall  f1-score   support\n",
      "\n",
      "       Fatal       0.02      0.59      0.04        59\n",
      "     Serious       0.18      0.39      0.25       780\n",
      "      Slight       0.92      0.52      0.66      5693\n",
      "\n",
      "    accuracy                           0.50      6532\n",
      "   macro avg       0.37      0.50      0.32      6532\n",
      "weighted avg       0.83      0.50      0.61      6532\n",
      "\n",
      "Predicted  Fatal  Serious  Slight\n",
      "Actual                           \n",
      "Fatal         35       12      12\n",
      "Serious      241      307     232\n",
      "Slight      1356     1400    2937\n"
     ]
    },
    {
     "data": {
      "image/png": "[encoded data removed]",
      "text/plain": [
       "<Figure size 640x480 with 2 Axes>"
      ]
     },
     "metadata": {},
     "output_type": "display_data"
    }
   ],
   "source": [
    "from sklearn.metrics import classification_report, confusion_matrix\n",
    "\n",
    "# print classification report\n",
    "print(classification_report(y_test, y_pred))\n",
    "\n",
    "# print confusion matrix in a more readable format\n",
    "cm = confusion_matrix(y_test, y_pred)\n",
    "cm_df = pd.DataFrame(cm, columns=np.unique(y_test), index = np.unique(y_test))\n",
    "cm_df.index.name = 'Actual'\n",
    "cm_df.columns.name = 'Predicted'\n",
    "print(cm_df)\n",
    "\n",
    "import matplotlib.pyplot as plt\n",
    "sns.heatmap(cm, annot=True, fmt='d', cmap='Blues')\n",
    "\n",
    "# replace numbers for class names with the actual class names\n",
    "plt.xticks(ticks=np.arange(3)+0.5, labels=np.unique(y_test))\n",
    "plt.yticks(ticks=np.arange(3)+0.5, labels=np.unique(y_test))\n",
    "\n",
    "# green border around the correct prediction squares\n",
    "for i in range(3):\n",
    "    plt.gca().add_patch(plt.Rectangle((i, i), 1, 1, fill=False, edgecolor='green', linewidth=3))\n",
    "plt.legend(['Correct Prediction'], loc='upper right')\n",
    "\n",
    "\n",
    "\n",
    "plt.xlabel('Predicted', fontsize=14, labelpad=10)\n",
    "plt.ylabel('Actual', fontsize=14, labelpad=10)\n",
    "plt.title('Confusion Matrix')\n",
    "plt.show()\n",
    "\n",
    "\n"
   ]
  },
  {
   "cell_type": "markdown",
   "metadata": {},
   "source": [
    "- **Fatal**: Recall is high (0.59), but precision is extremely low (0.02). This means the model manages to identify some \"Fatal\" accidents, but it's predicting \"Fatal\" too often when it shouldn't, leading to a high number of false positives.\n",
    "\n",
    "- **Serious**: Both precision (0.18) and recall (0.39) are low, indicating the model struggles to correctly classify \"Serious\" accidents. Many \"Serious\" cases are getting misclassified as \"Slight\" or \"Fatal\".\n",
    "\n",
    "- **Slight**: Precision (0.92) is high, meaning the model is good at predicting \"Slight\" accidents. However, the recall (0.52) is lower, suggesting it misses a notable portion of \"Slight\" accidents, likely misclassifying them as \"Serious\" or \"Fatal\".\n",
    "\n",
    "- **Accuracy**: The overall accuracy is 50%, which suggests the model is heavily biased towards predicting \"Slight\" accidents, given their large presence in the dataset.\n",
    "\n",
    "### Confusion Matrix:\n",
    "\n",
    "- **\"Fatal\" accidents**: Many are misclassified as \"Serious\" (12) or \"Slight\" (12), despite some being correctly predicted (35).\n",
    "- **\"Serious\" accidents**: These are often misclassified as \"Slight\" (232), though a fair amount are correctly predicted (307).\n",
    "- **\"Slight\" accidents**: Many are correctly identified (2937), but a significant number are misclassified as \"Serious\" (1400) or \"Fatal\" (1356).\n"
   ]
  },
  {
   "cell_type": "markdown",
   "metadata": {},
   "source": [
    "## 5. Challenges and Areas for Improvement\n",
    "\n",
    "- Imbalanced Dataset: The model's bias toward predicting \"Slight\" accidents is a direct result of the imbalance in the dataset, where \"Slight\" accidents vastly outnumber \"Fatal\" and \"Serious\" accidents.\n",
    "\n",
    "- Address Data Imbalance: We plan to implement SMOTE (Synthetic Minority Over-sampling Technique) to generate synthetic samples for the minority classes (\"Serious\" and \"Fatal\"), which should help improve model performance on these categories."
   ]
  },
  {
   "cell_type": "markdown",
   "metadata": {},
   "source": [
    "## 6. SMOTE: Synthetic Minority Over-sampling Technique\n"
   ]
  },
  {
   "cell_type": "markdown",
   "metadata": {},
   "source": [
    "SMOTE powerful technique for handling class imbalance by creating synthetic examples for the minority classes. In our case, for `serious` and `fatal`."
   ]
  },
  {
   "cell_type": "code",
   "execution_count": 17,
   "metadata": {},
   "outputs": [],
   "source": [
    "# import the imbalanced-learn library\n",
    "from imblearn.pipeline import Pipeline  # Use the imbalanced-learn pipeline\n",
    "from imblearn.over_sampling import SMOTE\n"
   ]
  },
  {
   "cell_type": "code",
   "execution_count": 18,
   "metadata": {},
   "outputs": [],
   "source": [
    "# Shuffle the data set\n",
    "df = df.sample(frac=1, random_state=42).reset_index(drop=True)\n",
    "\n",
    "# Split features (X) and target variable (y)\n",
    "X_train, X_test, y_train, y_test = train_test_split(df.drop('Accident_Severity', axis=1), df['Accident_Severity'], test_size=0.2, random_state=42)\n",
    "\n",
    "# Automatically define numerical and categorical columns from X_train\n",
    "num = X_train.select_dtypes(include=np.number).columns.tolist()\n",
    "cat = X_train.select_dtypes(include='object').columns.tolist()\n"
   ]
  },
  {
   "cell_type": "code",
   "execution_count": 19,
   "metadata": {},
   "outputs": [
    {
     "name": "stdout",
     "output_type": "stream",
     "text": [
      "[('preprocessor', ColumnTransformer(transformers=[('num', StandardScaler(),\n",
      "                                 ['Latitude', 'Longitude',\n",
      "                                  'Number_of_Casualties', 'Number_of_Vehicles',\n",
      "                                  'Year', 'Month', 'Day', 'Weekday']),\n",
      "                                ('cat', OneHotEncoder(),\n",
      "                                 ['Light_Conditions', 'District Area',\n",
      "                                  'Road_Surface_Conditions', 'Road_Type',\n",
      "                                  'Urban_or_Rural_Area', 'Vehicle_Type'])])), ('smote', SMOTE(random_state=42)), ('model', LogisticRegression(class_weight='balanced', max_iter=1000,\n",
      "                   multi_class='multinomial'))]\n"
     ]
    }
   ],
   "source": [
    "# using same preprocessor as before\n",
    "\n",
    "# Create a pipeline with SMOTE, preprocessor, and the model\n",
    "smote_pipeline = Pipeline([\n",
    "    ('preprocessor', preprocessor),  # Column preprocessing\n",
    "    ('smote', SMOTE(random_state=42)),  # Apply SMOTE inside the pipeline\n",
    "    ('model', LogisticRegression(multi_class='multinomial', solver='lbfgs', max_iter=1000, class_weight='balanced'))  # Logistic Regression model\n",
    "])\n",
    "\n",
    "# Print pipeline steps to verify\n",
    "print(smote_pipeline.steps)"
   ]
  },
  {
   "cell_type": "code",
   "execution_count": 20,
   "metadata": {},
   "outputs": [],
   "source": [
    "# Train the model and make predictions\n",
    "# Train the model\n",
    "smote_pipeline.fit(X_train, y_train)\n",
    "\n",
    "# Make predictions\n",
    "y_pred = smote_pipeline.predict(X_test)"
   ]
  },
  {
   "cell_type": "code",
   "execution_count": 21,
   "metadata": {},
   "outputs": [
    {
     "name": "stdout",
     "output_type": "stream",
     "text": [
      "              precision    recall  f1-score   support\n",
      "\n",
      "       Fatal       0.02      0.54      0.04        63\n",
      "     Serious       0.15      0.36      0.22       777\n",
      "      Slight       0.91      0.49      0.64      5692\n",
      "\n",
      "    accuracy                           0.47      6532\n",
      "   macro avg       0.36      0.46      0.30      6532\n",
      "weighted avg       0.82      0.47      0.58      6532\n",
      "\n",
      "Predicted  Fatal  Serious  Slight\n",
      "Actual                           \n",
      "Fatal         34       12      17\n",
      "Serious      251      282     244\n",
      "Slight      1389     1530    2773\n"
     ]
    },
    {
     "data": {
      "image/png": "[encoded data removed]",
      "text/plain": [
       "<Figure size 640x480 with 2 Axes>"
      ]
     },
     "metadata": {},
     "output_type": "display_data"
    }
   ],
   "source": [
    "\n",
    "# print classification report\n",
    "print(classification_report(y_test, y_pred))\n",
    "\n",
    "# print confusion matrix in a more readable format\n",
    "cm = confusion_matrix(y_test, y_pred)\n",
    "cm_df = pd.DataFrame(cm, columns=np.unique(y_test), index = np.unique(y_test))\n",
    "cm_df.index.name = 'Actual'\n",
    "cm_df.columns.name = 'Predicted'\n",
    "print(cm_df)\n",
    "\n",
    "import matplotlib.pyplot as plt\n",
    "sns.heatmap(cm, annot=True, fmt='d', cmap='Blues')\n",
    "\n",
    "# replace numbers for class names with the actual class names\n",
    "plt.xticks(ticks=np.arange(3)+0.5, labels=np.unique(y_test))\n",
    "plt.yticks(ticks=np.arange(3)+0.5, labels=np.unique(y_test))\n",
    "\n",
    "# green border around the correct prediction squares\n",
    "for i in range(3):\n",
    "    plt.gca().add_patch(plt.Rectangle((i, i), 1, 1, fill=False, edgecolor='green', linewidth=3))\n",
    "plt.legend(['Correct Prediction'], loc='upper right')\n",
    "\n",
    "\n",
    "\n",
    "plt.xlabel('Predicted', fontsize=14, labelpad=10)\n",
    "plt.ylabel('Actual', fontsize=14, labelpad=10)\n",
    "plt.title('Confusion Matrix')\n",
    "plt.show()"
   ]
  },
  {
   "cell_type": "markdown",
   "metadata": {},
   "source": [
    "**Accuracy**: 47% - reduced...\n",
    "\n",
    "\n",
    "**Overall Performance**:\n",
    "- **Fatal**: Recall improved to 0.54, but precision remains very low (0.02).\n",
    "- **Serious**: Precision and recall still low (0.15 and 0.36), indicating poor prediction for this class.\n",
    "- **Slight**: Strong precision (0.91) and F1-score (0.64), but the model heavily favors this majority class.\n",
    "\n"
   ]
  },
  {
   "cell_type": "markdown",
   "metadata": {},
   "source": [
    "## 7. Next Steps\n",
    "\n",
    "- Model Limitations: Although Multinomial Logistic Regression is suitable for multi-class problems, it may not be the best model for dealing with the imbalanced data. The low performance for \"Serious\" and \"Fatal\" accidents suggests that a more complex model may be needed.\n",
    "\n",
    "- Experiment with More Complex Models: After addressing the class imbalance, we will experiment with more sophisticated models, such as Random Forest, which can better capture non-linear relationships in the data and may perform better in multi-class settings."
   ]
  },
  {
   "cell_type": "markdown",
   "metadata": {},
   "source": [
    "# Model 2 : Random Forest"
   ]
  }
 ],
 "metadata": {
  "kernelspec": {
   "display_name": ".venv",
   "language": "python",
   "name": "python3"
  },
  "language_info": {
   "codemirror_mode": {
    "name": "ipython",
    "version": 3
   },
   "file_extension": ".py",
   "mimetype": "text/x-python",
   "name": "python",
   "nbconvert_exporter": "python",
   "pygments_lexer": "ipython3",
   "version": "3.12.8"
  }
 },
 "nbformat": 4,
 "nbformat_minor": 2
}
