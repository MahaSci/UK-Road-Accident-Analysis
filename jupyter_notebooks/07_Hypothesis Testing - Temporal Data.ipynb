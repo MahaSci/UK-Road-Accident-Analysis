{
 "cells": [
  {
   "cell_type": "code",
   "execution_count": 5,
   "metadata": {},
   "outputs": [
    {
     "data": {
      "text/plain": [
       "'c:\\\\Users\\\\sayed\\\\OneDrive\\\\Documents\\\\Code institute\\\\UK-Road-Accident-Analysis\\\\jupyter_notebooks'"
      ]
     },
     "execution_count": 5,
     "metadata": {},
     "output_type": "execute_result"
    }
   ],
   "source": [
    "import os\n",
    "current_dir = os.getcwd()\n",
    "current_dir"
   ]
  },
  {
   "cell_type": "code",
   "execution_count": 6,
   "metadata": {},
   "outputs": [
    {
     "name": "stdout",
     "output_type": "stream",
     "text": [
      "You set a new current directory\n"
     ]
    }
   ],
   "source": [
    "os.chdir(os.path.dirname(current_dir))\n",
    "print(\"You set a new current directory\")"
   ]
  },
  {
   "cell_type": "code",
   "execution_count": 7,
   "metadata": {},
   "outputs": [
    {
     "data": {
      "text/plain": [
       "'c:\\\\Users\\\\sayed\\\\OneDrive\\\\Documents\\\\Code institute\\\\UK-Road-Accident-Analysis'"
      ]
     },
     "execution_count": 7,
     "metadata": {},
     "output_type": "execute_result"
    }
   ],
   "source": [
    "current_dir = os.getcwd()\n",
    "current_dir"
   ]
  },
  {
   "cell_type": "code",
   "execution_count": 3,
   "metadata": {},
   "outputs": [],
   "source": [
    "import pandas as pd \n",
    "import numpy as np\n",
    "import matplotlib.pyplot as plt\n",
    "import seaborn as sns\n",
    "sns.set_style('whitegrid')\n",
    "import plotly.express as px"
   ]
  },
  {
   "cell_type": "code",
   "execution_count": 8,
   "metadata": {},
   "outputs": [
    {
     "data": {
      "application/vnd.microsoft.datawrangler.viewer.v0+json": {
       "columns": [
        {
         "name": "index",
         "rawType": "int64",
         "type": "integer"
        },
        {
         "name": "Index",
         "rawType": "object",
         "type": "string"
        },
        {
         "name": "Accident_Severity",
         "rawType": "object",
         "type": "string"
        },
        {
         "name": "Accident Date",
         "rawType": "object",
         "type": "string"
        },
        {
         "name": "Latitude",
         "rawType": "float64",
         "type": "float"
        },
        {
         "name": "Light_Conditions",
         "rawType": "object",
         "type": "string"
        },
        {
         "name": "District Area",
         "rawType": "object",
         "type": "string"
        },
        {
         "name": "Longitude",
         "rawType": "float64",
         "type": "float"
        },
        {
         "name": "Number_of_Casualties",
         "rawType": "int64",
         "type": "integer"
        },
        {
         "name": "Number_of_Vehicles",
         "rawType": "int64",
         "type": "integer"
        },
        {
         "name": "Road_Surface_Conditions",
         "rawType": "object",
         "type": "string"
        },
        {
         "name": "Road_Type",
         "rawType": "object",
         "type": "string"
        },
        {
         "name": "Urban_or_Rural_Area",
         "rawType": "object",
         "type": "string"
        },
        {
         "name": "Vehicle_Type",
         "rawType": "object",
         "type": "string"
        }
       ],
       "conversionMethod": "pd.DataFrame",
       "ref": "03e74383-a470-43d0-bbff-4e729cba2bfa",
       "rows": [
        [
         "0",
         "200720D003001",
         "Slight",
         "02-01-2019",
         "52.513668",
         "Darkness - lights lit",
         "Birmingham",
         "-1.901975",
         "1",
         "2",
         "Wet or damp",
         "Dual carriageway",
         "Urban",
         "Car"
        ],
        [
         "1",
         "200720D003101",
         "Slight",
         "02-01-2019",
         "52.502396",
         "Daylight",
         "Birmingham",
         "-1.867086",
         "1",
         "2",
         "Wet or damp",
         "Single carriageway",
         "Urban",
         "Car"
        ],
        [
         "2",
         "200720D003802",
         "Serious",
         "03-01-2019",
         "52.563201",
         "Daylight",
         "Birmingham",
         "-1.822793",
         "1",
         "1",
         "Dry",
         "Single carriageway",
         "Urban",
         "Car"
        ],
        [
         "3",
         "200720D005801",
         "Slight",
         "02-01-2019",
         "52.493431",
         "Daylight",
         "Birmingham",
         "-1.818507",
         "1",
         "2",
         "Wet or damp",
         "Dual carriageway",
         "Urban",
         "Car"
        ],
        [
         "4",
         "200720D005901",
         "Slight",
         "05-01-2019",
         "52.510805",
         "Darkness - lights lit",
         "Birmingham",
         "-1.834202",
         "1",
         "3",
         "Dry",
         "Dual carriageway",
         "Urban",
         "Car"
        ]
       ],
       "shape": {
        "columns": 13,
        "rows": 5
       }
      },
      "text/html": [
       "<div>\n",
       "<style scoped>\n",
       "    .dataframe tbody tr th:only-of-type {\n",
       "        vertical-align: middle;\n",
       "    }\n",
       "\n",
       "    .dataframe tbody tr th {\n",
       "        vertical-align: top;\n",
       "    }\n",
       "\n",
       "    .dataframe thead th {\n",
       "        text-align: right;\n",
       "    }\n",
       "</style>\n",
       "<table border=\"1\" class=\"dataframe\">\n",
       "  <thead>\n",
       "    <tr style=\"text-align: right;\">\n",
       "      <th></th>\n",
       "      <th>Index</th>\n",
       "      <th>Accident_Severity</th>\n",
       "      <th>Accident Date</th>\n",
       "      <th>Latitude</th>\n",
       "      <th>Light_Conditions</th>\n",
       "      <th>District Area</th>\n",
       "      <th>Longitude</th>\n",
       "      <th>Number_of_Casualties</th>\n",
       "      <th>Number_of_Vehicles</th>\n",
       "      <th>Road_Surface_Conditions</th>\n",
       "      <th>Road_Type</th>\n",
       "      <th>Urban_or_Rural_Area</th>\n",
       "      <th>Vehicle_Type</th>\n",
       "    </tr>\n",
       "  </thead>\n",
       "  <tbody>\n",
       "    <tr>\n",
       "      <th>0</th>\n",
       "      <td>200720D003001</td>\n",
       "      <td>Slight</td>\n",
       "      <td>02-01-2019</td>\n",
       "      <td>52.513668</td>\n",
       "      <td>Darkness - lights lit</td>\n",
       "      <td>Birmingham</td>\n",
       "      <td>-1.901975</td>\n",
       "      <td>1</td>\n",
       "      <td>2</td>\n",
       "      <td>Wet or damp</td>\n",
       "      <td>Dual carriageway</td>\n",
       "      <td>Urban</td>\n",
       "      <td>Car</td>\n",
       "    </tr>\n",
       "    <tr>\n",
       "      <th>1</th>\n",
       "      <td>200720D003101</td>\n",
       "      <td>Slight</td>\n",
       "      <td>02-01-2019</td>\n",
       "      <td>52.502396</td>\n",
       "      <td>Daylight</td>\n",
       "      <td>Birmingham</td>\n",
       "      <td>-1.867086</td>\n",
       "      <td>1</td>\n",
       "      <td>2</td>\n",
       "      <td>Wet or damp</td>\n",
       "      <td>Single carriageway</td>\n",
       "      <td>Urban</td>\n",
       "      <td>Car</td>\n",
       "    </tr>\n",
       "    <tr>\n",
       "      <th>2</th>\n",
       "      <td>200720D003802</td>\n",
       "      <td>Serious</td>\n",
       "      <td>03-01-2019</td>\n",
       "      <td>52.563201</td>\n",
       "      <td>Daylight</td>\n",
       "      <td>Birmingham</td>\n",
       "      <td>-1.822793</td>\n",
       "      <td>1</td>\n",
       "      <td>1</td>\n",
       "      <td>Dry</td>\n",
       "      <td>Single carriageway</td>\n",
       "      <td>Urban</td>\n",
       "      <td>Car</td>\n",
       "    </tr>\n",
       "    <tr>\n",
       "      <th>3</th>\n",
       "      <td>200720D005801</td>\n",
       "      <td>Slight</td>\n",
       "      <td>02-01-2019</td>\n",
       "      <td>52.493431</td>\n",
       "      <td>Daylight</td>\n",
       "      <td>Birmingham</td>\n",
       "      <td>-1.818507</td>\n",
       "      <td>1</td>\n",
       "      <td>2</td>\n",
       "      <td>Wet or damp</td>\n",
       "      <td>Dual carriageway</td>\n",
       "      <td>Urban</td>\n",
       "      <td>Car</td>\n",
       "    </tr>\n",
       "    <tr>\n",
       "      <th>4</th>\n",
       "      <td>200720D005901</td>\n",
       "      <td>Slight</td>\n",
       "      <td>05-01-2019</td>\n",
       "      <td>52.510805</td>\n",
       "      <td>Darkness - lights lit</td>\n",
       "      <td>Birmingham</td>\n",
       "      <td>-1.834202</td>\n",
       "      <td>1</td>\n",
       "      <td>3</td>\n",
       "      <td>Dry</td>\n",
       "      <td>Dual carriageway</td>\n",
       "      <td>Urban</td>\n",
       "      <td>Car</td>\n",
       "    </tr>\n",
       "  </tbody>\n",
       "</table>\n",
       "</div>"
      ],
      "text/plain": [
       "           Index Accident_Severity Accident Date   Latitude  \\\n",
       "0  200720D003001            Slight    02-01-2019  52.513668   \n",
       "1  200720D003101            Slight    02-01-2019  52.502396   \n",
       "2  200720D003802           Serious    03-01-2019  52.563201   \n",
       "3  200720D005801            Slight    02-01-2019  52.493431   \n",
       "4  200720D005901            Slight    05-01-2019  52.510805   \n",
       "\n",
       "        Light_Conditions District Area  Longitude  Number_of_Casualties  \\\n",
       "0  Darkness - lights lit    Birmingham  -1.901975                     1   \n",
       "1               Daylight    Birmingham  -1.867086                     1   \n",
       "2               Daylight    Birmingham  -1.822793                     1   \n",
       "3               Daylight    Birmingham  -1.818507                     1   \n",
       "4  Darkness - lights lit    Birmingham  -1.834202                     1   \n",
       "\n",
       "   Number_of_Vehicles Road_Surface_Conditions           Road_Type  \\\n",
       "0                   2             Wet or damp    Dual carriageway   \n",
       "1                   2             Wet or damp  Single carriageway   \n",
       "2                   1                     Dry  Single carriageway   \n",
       "3                   2             Wet or damp    Dual carriageway   \n",
       "4                   3                     Dry    Dual carriageway   \n",
       "\n",
       "  Urban_or_Rural_Area Vehicle_Type  \n",
       "0               Urban          Car  \n",
       "1               Urban          Car  \n",
       "2               Urban          Car  \n",
       "3               Urban          Car  \n",
       "4               Urban          Car  "
      ]
     },
     "execution_count": 8,
     "metadata": {},
     "output_type": "execute_result"
    }
   ],
   "source": [
    "df = pd.read_csv(os.path.join(current_dir, 'filtered_accident_data_set.csv'))\n",
    "df.head()"
   ]
  }
 ],
 "metadata": {
  "kernelspec": {
   "display_name": ".venv",
   "language": "python",
   "name": "python3"
  },
  "language_info": {
   "codemirror_mode": {
    "name": "ipython",
    "version": 3
   },
   "file_extension": ".py",
   "mimetype": "text/x-python",
   "name": "python",
   "nbconvert_exporter": "python",
   "pygments_lexer": "ipython3",
   "version": "3.12.8"
  }
 },
 "nbformat": 4,
 "nbformat_minor": 2
}
