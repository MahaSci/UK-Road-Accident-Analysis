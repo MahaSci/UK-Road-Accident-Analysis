{
 "cells": [
  {
   "cell_type": "markdown",
   "metadata": {},
   "source": [
    "# Non-Graphical Exploratory Data Analysis Notebook"
   ]
  },
  {
   "cell_type": "markdown",
   "metadata": {},
   "source": [
    "## Objectives\n",
    "\n",
    "* Conduct statistical testing to explore and understand the nature of the dataset in terms of its distribution and tendency, idenfity anomalies present, and get a general overview of the data's patterns.\n",
    "\n",
    "## Inputs\n",
    "\n",
    "* Dateset: `filtered_accident_data_set.csv`\n",
    "\n",
    "## Outputs\n",
    "\n",
    "* Summary statistics\n",
    "* Frequency counts\n",
    "* Statistical tests\n",
    "\n"
   ]
  },
  {
   "cell_type": "markdown",
   "metadata": {},
   "source": [
    "# Change working directory"
   ]
  },
  {
   "cell_type": "markdown",
   "metadata": {},
   "source": [
    "* We are assuming you will store the notebooks in a subfolder, therefore when running the notebook in the editor, you will need to change the working directory"
   ]
  },
  {
   "cell_type": "markdown",
   "metadata": {},
   "source": [
    "We need to change the working directory from its current folder to its parent folder\n",
    "* We access the current directory with os.getcwd()"
   ]
  },
  {
   "cell_type": "code",
   "execution_count": 1,
   "metadata": {},
   "outputs": [
    {
     "data": {
      "text/plain": [
       "'/Users/mahahussain/Desktop/UK-Road-Accident-Analysis/UK-Road-Accident-Analysis/jupyter_notebooks'"
      ]
     },
     "execution_count": 1,
     "metadata": {},
     "output_type": "execute_result"
    }
   ],
   "source": [
    "import os\n",
    "current_dir = os.getcwd()\n",
    "current_dir"
   ]
  },
  {
   "cell_type": "markdown",
   "metadata": {},
   "source": [
    "We want to make the parent of the current directory the new current directory\n",
    "* os.path.dirname() gets the parent directory\n",
    "* os.chir() defines the new current directory"
   ]
  },
  {
   "cell_type": "code",
   "execution_count": 2,
   "metadata": {},
   "outputs": [
    {
     "name": "stdout",
     "output_type": "stream",
     "text": [
      "You set a new current directory\n"
     ]
    }
   ],
   "source": [
    "os.chdir(os.path.dirname(current_dir))\n",
    "print(\"You set a new current directory\")"
   ]
  },
  {
   "cell_type": "markdown",
   "metadata": {},
   "source": [
    "Confirm the new current directory"
   ]
  },
  {
   "cell_type": "code",
   "execution_count": 3,
   "metadata": {},
   "outputs": [
    {
     "data": {
      "text/plain": [
       "'/Users/mahahussain/Desktop/UK-Road-Accident-Analysis/UK-Road-Accident-Analysis'"
      ]
     },
     "execution_count": 3,
     "metadata": {},
     "output_type": "execute_result"
    }
   ],
   "source": [
    "current_dir = os.getcwd()\n",
    "current_dir"
   ]
  },
  {
   "cell_type": "markdown",
   "metadata": {},
   "source": [
    "# Section 1: Understanding the data"
   ]
  },
  {
   "cell_type": "code",
   "execution_count": 4,
   "metadata": {},
   "outputs": [],
   "source": [
    "# Import required libaries \n",
    "import pandas as pd\n",
    "import numpy as np\n",
    "import matplotlib.pyplot as plt\n",
    "import seaborn as sns"
   ]
  },
  {
   "cell_type": "markdown",
   "metadata": {},
   "source": [
    "Before conducting statistical and graphical analysis, we must first inspect the dataset itself. "
   ]
  },
  {
   "cell_type": "code",
   "execution_count": 5,
   "metadata": {},
   "outputs": [
    {
     "name": "stdout",
     "output_type": "stream",
     "text": [
      "Dataset Shape: (32657, 13)\n",
      "First few rows:\n",
      "            Index Accident_Severity Accident Date   Latitude  \\\n",
      "0  200720D003001            Slight    02-01-2019  52.513668   \n",
      "1  200720D003101            Slight    02-01-2019  52.502396   \n",
      "2  200720D003802           Serious    03-01-2019  52.563201   \n",
      "3  200720D005801            Slight    02-01-2019  52.493431   \n",
      "4  200720D005901            Slight    05-01-2019  52.510805   \n",
      "\n",
      "        Light_Conditions District Area  Longitude  Number_of_Casualties  \\\n",
      "0  Darkness - lights lit    Birmingham  -1.901975                     1   \n",
      "1               Daylight    Birmingham  -1.867086                     1   \n",
      "2               Daylight    Birmingham  -1.822793                     1   \n",
      "3               Daylight    Birmingham  -1.818507                     1   \n",
      "4  Darkness - lights lit    Birmingham  -1.834202                     1   \n",
      "\n",
      "   Number_of_Vehicles Road_Surface_Conditions           Road_Type  \\\n",
      "0                   2             Wet or damp    Dual carriageway   \n",
      "1                   2             Wet or damp  Single carriageway   \n",
      "2                   1                     Dry  Single carriageway   \n",
      "3                   2             Wet or damp    Dual carriageway   \n",
      "4                   3                     Dry    Dual carriageway   \n",
      "\n",
      "  Urban_or_Rural_Area Vehicle_Type  \n",
      "0               Urban          Car  \n",
      "1               Urban          Car  \n",
      "2               Urban          Car  \n",
      "3               Urban          Car  \n",
      "4               Urban          Car  \n"
     ]
    }
   ],
   "source": [
    "# Load the data \n",
    "df = pd.read_csv(\"filtered_accident_data_set.csv\") \n",
    "\n",
    "# Display basic structure \n",
    "print(\"Dataset Shape:\", df.shape)  # Provides the number of rows and columns in the dataset\n",
    "print(\"First few rows:\\n\", df.head()) # Displays the first few rows of the dataset"
   ]
  },
  {
   "cell_type": "markdown",
   "metadata": {},
   "source": [
    "Our cleaned and filtered dataset amounts to 31,494 rows, with 13 columns. Using the head() function, we can see the first few rows. However, these functions alone do not tell us about the completeness of the dataset or whether the data types have been correctly set. Therefore, we will use the Pandas `info()` function to get a better look at the structure of the dataset."
   ]
  },
  {
   "cell_type": "code",
   "execution_count": 6,
   "metadata": {},
   "outputs": [
    {
     "name": "stdout",
     "output_type": "stream",
     "text": [
      "<class 'pandas.core.frame.DataFrame'>\n",
      "RangeIndex: 32657 entries, 0 to 32656\n",
      "Data columns (total 13 columns):\n",
      " #   Column                   Non-Null Count  Dtype  \n",
      "---  ------                   --------------  -----  \n",
      " 0   Index                    32657 non-null  object \n",
      " 1   Accident_Severity        32657 non-null  object \n",
      " 2   Accident Date            32657 non-null  object \n",
      " 3   Latitude                 32657 non-null  float64\n",
      " 4   Light_Conditions         32657 non-null  object \n",
      " 5   District Area            32657 non-null  object \n",
      " 6   Longitude                32657 non-null  float64\n",
      " 7   Number_of_Casualties     32657 non-null  int64  \n",
      " 8   Number_of_Vehicles       32657 non-null  int64  \n",
      " 9   Road_Surface_Conditions  32657 non-null  object \n",
      " 10  Road_Type                32657 non-null  object \n",
      " 11  Urban_or_Rural_Area      32657 non-null  object \n",
      " 12  Vehicle_Type             32657 non-null  object \n",
      "dtypes: float64(2), int64(2), object(9)\n",
      "memory usage: 3.2+ MB\n"
     ]
    }
   ],
   "source": [
    "# summary of datatypes, non-null's and memory usage\n",
    "df.info()"
   ]
  },
  {
   "cell_type": "markdown",
   "metadata": {},
   "source": [
    "From this output, the following is evident:\n",
    "- The majority of the columns (9 out of 13) are categorical, as indicated by the `object` data type.\n",
    "- None of the columns contain null values which makes it ideal for analysis.\n",
    "- The Accident Date column is incorrectly set as an `object` type. This will need to be converted to a datetime format."
   ]
  },
  {
   "cell_type": "code",
   "execution_count": 7,
   "metadata": {},
   "outputs": [
    {
     "data": {
      "text/plain": [
       "dtype('<M8[ns]')"
      ]
     },
     "execution_count": 7,
     "metadata": {},
     "output_type": "execute_result"
    }
   ],
   "source": [
    "# Convert the 'Accident Date' column to datetime format\n",
    "df['Accident Date'] = pd.to_datetime(df['Accident Date'], dayfirst=True)\n",
    "\n",
    "# dayfirst=True explicitly specifies the UK date format (day/month/year). Default is month/day/year.\n",
    "\n",
    "df['Accident Date'].dtype"
   ]
  },
  {
   "cell_type": "markdown",
   "metadata": {},
   "source": [
    "Here we can see the column is now set to a datetime format."
   ]
  },
  {
   "cell_type": "markdown",
   "metadata": {},
   "source": [
    "To verify that the recorded date is correct and in the UK format, we can extract the constituent parts."
   ]
  },
  {
   "cell_type": "code",
   "execution_count": 8,
   "metadata": {},
   "outputs": [
    {
     "name": "stdout",
     "output_type": "stream",
     "text": [
      "2019-01-02 00:00:00\n"
     ]
    },
    {
     "data": {
      "text/plain": [
       "'02 January 2019'"
      ]
     },
     "execution_count": 8,
     "metadata": {},
     "output_type": "execute_result"
    }
   ],
   "source": [
    "date_to_check = df['Accident Date'].iloc[0] # Get the first date in the column\n",
    "print(date_to_check) # Display the date in the column\n",
    "\n",
    "# Extract the day, month and year from the date to verify the conversion in UK date format\n",
    "df['Accident Date'].iloc[0].strftime('%d %B %Y')\n"
   ]
  },
  {
   "cell_type": "markdown",
   "metadata": {},
   "source": [
    "## Univariate"
   ]
  },
  {
   "cell_type": "markdown",
   "metadata": {},
   "source": [
    "Univariate analysis is focused on inspecting one given variable at a time. Its main purpose is to serve as a summary of the data column's central tendency and the level of variation within it."
   ]
  },
  {
   "cell_type": "markdown",
   "metadata": {},
   "source": [
    "### Summary Statistics (numerical)\n",
    "- describe(): gives an overview of the dataset's key statistics, helping to understand its distribution and characteristics."
   ]
  },
  {
   "cell_type": "code",
   "execution_count": 9,
   "metadata": {},
   "outputs": [
    {
     "data": {
      "text/html": [
       "<div>\n",
       "<style scoped>\n",
       "    .dataframe tbody tr th:only-of-type {\n",
       "        vertical-align: middle;\n",
       "    }\n",
       "\n",
       "    .dataframe tbody tr th {\n",
       "        vertical-align: top;\n",
       "    }\n",
       "\n",
       "    .dataframe thead th {\n",
       "        text-align: right;\n",
       "    }\n",
       "</style>\n",
       "<table border=\"1\" class=\"dataframe\">\n",
       "  <thead>\n",
       "    <tr style=\"text-align: right;\">\n",
       "      <th></th>\n",
       "      <th>Accident Date</th>\n",
       "      <th>Latitude</th>\n",
       "      <th>Longitude</th>\n",
       "      <th>Number_of_Casualties</th>\n",
       "      <th>Number_of_Vehicles</th>\n",
       "    </tr>\n",
       "  </thead>\n",
       "  <tbody>\n",
       "    <tr>\n",
       "      <th>count</th>\n",
       "      <td>32657</td>\n",
       "      <td>32657.000000</td>\n",
       "      <td>32657.000000</td>\n",
       "      <td>32657.000000</td>\n",
       "      <td>32657.000000</td>\n",
       "    </tr>\n",
       "    <tr>\n",
       "      <th>mean</th>\n",
       "      <td>2020-11-14 14:26:46.148758528</td>\n",
       "      <td>52.483689</td>\n",
       "      <td>-1.868548</td>\n",
       "      <td>1.373304</td>\n",
       "      <td>1.848945</td>\n",
       "    </tr>\n",
       "    <tr>\n",
       "      <th>min</th>\n",
       "      <td>2019-01-01 00:00:00</td>\n",
       "      <td>52.223378</td>\n",
       "      <td>-2.198914</td>\n",
       "      <td>1.000000</td>\n",
       "      <td>1.000000</td>\n",
       "    </tr>\n",
       "    <tr>\n",
       "      <th>25%</th>\n",
       "      <td>2019-11-15 00:00:00</td>\n",
       "      <td>52.443771</td>\n",
       "      <td>-2.003216</td>\n",
       "      <td>1.000000</td>\n",
       "      <td>1.000000</td>\n",
       "    </tr>\n",
       "    <tr>\n",
       "      <th>50%</th>\n",
       "      <td>2020-10-22 00:00:00</td>\n",
       "      <td>52.482736</td>\n",
       "      <td>-1.897252</td>\n",
       "      <td>1.000000</td>\n",
       "      <td>2.000000</td>\n",
       "    </tr>\n",
       "    <tr>\n",
       "      <th>75%</th>\n",
       "      <td>2021-11-05 00:00:00</td>\n",
       "      <td>52.526943</td>\n",
       "      <td>-1.800637</td>\n",
       "      <td>1.000000</td>\n",
       "      <td>2.000000</td>\n",
       "    </tr>\n",
       "    <tr>\n",
       "      <th>max</th>\n",
       "      <td>2022-12-31 00:00:00</td>\n",
       "      <td>52.662124</td>\n",
       "      <td>-1.410728</td>\n",
       "      <td>24.000000</td>\n",
       "      <td>10.000000</td>\n",
       "    </tr>\n",
       "    <tr>\n",
       "      <th>std</th>\n",
       "      <td>NaN</td>\n",
       "      <td>0.072148</td>\n",
       "      <td>0.193710</td>\n",
       "      <td>0.817160</td>\n",
       "      <td>0.671611</td>\n",
       "    </tr>\n",
       "  </tbody>\n",
       "</table>\n",
       "</div>"
      ],
      "text/plain": [
       "                       Accident Date      Latitude     Longitude  \\\n",
       "count                          32657  32657.000000  32657.000000   \n",
       "mean   2020-11-14 14:26:46.148758528     52.483689     -1.868548   \n",
       "min              2019-01-01 00:00:00     52.223378     -2.198914   \n",
       "25%              2019-11-15 00:00:00     52.443771     -2.003216   \n",
       "50%              2020-10-22 00:00:00     52.482736     -1.897252   \n",
       "75%              2021-11-05 00:00:00     52.526943     -1.800637   \n",
       "max              2022-12-31 00:00:00     52.662124     -1.410728   \n",
       "std                              NaN      0.072148      0.193710   \n",
       "\n",
       "       Number_of_Casualties  Number_of_Vehicles  \n",
       "count          32657.000000        32657.000000  \n",
       "mean               1.373304            1.848945  \n",
       "min                1.000000            1.000000  \n",
       "25%                1.000000            1.000000  \n",
       "50%                1.000000            2.000000  \n",
       "75%                1.000000            2.000000  \n",
       "max               24.000000           10.000000  \n",
       "std                0.817160            0.671611  "
      ]
     },
     "execution_count": 9,
     "metadata": {},
     "output_type": "execute_result"
    }
   ],
   "source": [
    "df.describe()"
   ]
  },
  {
   "cell_type": "markdown",
   "metadata": {},
   "source": [
    "- **Count**: As expected, the counts remain identical, indicating that there are no missing values within the dataset.\n",
    "  \n",
    "- **Mean**: \n",
    "    - **Number of Casualties**: The mean casualty count is **1.38**, suggesting that each accident results in just over 1 casualty on average.\n",
    "    - **Number of Vehicles**: The mean vehicle count is **1.85**, implying that each accident involves around 1-2 vehicles.\n",
    "\n",
    "- **Min**:\n",
    "    - **Number of Casualties**: The minimum number of casualties in any accident is **1**.\n",
    "    - **Number of Vehicles**: The minimum number of vehicles involved in an accident is **1**.\n",
    "\n",
    "- **Max**:\n",
    "    - **Number of Casualties**: The maximum number of casualties in a single accident is **24**.\n",
    "    - **Number of Vehicles**: The maximum number of vehicles involved in an accident is **10**.\n",
    "\n",
    "- **Standard Deviation**:\n",
    "    - **Number of Casualties**: The standard deviation is **0.82**, indicating that while most accidents involve 1 or 2 casualties, there are a few with significantly more.\n",
    "    - **Number of Vehicles**: The standard deviation is **0.67**, suggesting that most accidents involve around 1-2 vehicles, with a few accidents involving more.\n",
    "\n",
    "- **Percentiles**:\n",
    "    - **25% (Q1)**: Most accidents (25% of the dataset) involve **1 casualty** and **1 vehicle**.\n",
    "    - **50% (Median)**: The median accident involves **1 casualty** and between **1-2 vehicles**.\n",
    "    - **75% (Q3)**: 75% of accidents involve **1 casualty** and **2 vehicles**."
   ]
  },
  {
   "cell_type": "markdown",
   "metadata": {},
   "source": [
    "### Measures of Central Tendency: Median & Mode\n"
   ]
  },
  {
   "cell_type": "markdown",
   "metadata": {},
   "source": [
    "As the mean was covered in the describe() function, we will calculate the mode and median.\n",
    "\n",
    "- Mode: to identify the most frequent value in the dataset columns.\n",
    "- Median: to provide a 'typical' value of a given column in the dataset that is resistant to outliers."
   ]
  },
  {
   "cell_type": "markdown",
   "metadata": {},
   "source": [
    "The **mode** (most frequent values) in the dataset provides insights into the most common characteristics of accidents."
   ]
  },
  {
   "cell_type": "code",
   "execution_count": 10,
   "metadata": {},
   "outputs": [
    {
     "data": {
      "text/html": [
       "<div>\n",
       "<style scoped>\n",
       "    .dataframe tbody tr th:only-of-type {\n",
       "        vertical-align: middle;\n",
       "    }\n",
       "\n",
       "    .dataframe tbody tr th {\n",
       "        vertical-align: top;\n",
       "    }\n",
       "\n",
       "    .dataframe thead th {\n",
       "        text-align: right;\n",
       "    }\n",
       "</style>\n",
       "<table border=\"1\" class=\"dataframe\">\n",
       "  <thead>\n",
       "    <tr style=\"text-align: right;\">\n",
       "      <th></th>\n",
       "      <th>Index</th>\n",
       "      <th>Accident_Severity</th>\n",
       "      <th>Accident Date</th>\n",
       "      <th>Latitude</th>\n",
       "      <th>Light_Conditions</th>\n",
       "      <th>District Area</th>\n",
       "      <th>Longitude</th>\n",
       "      <th>Number_of_Casualties</th>\n",
       "      <th>Number_of_Vehicles</th>\n",
       "      <th>Road_Surface_Conditions</th>\n",
       "      <th>Road_Type</th>\n",
       "      <th>Urban_or_Rural_Area</th>\n",
       "      <th>Vehicle_Type</th>\n",
       "    </tr>\n",
       "  </thead>\n",
       "  <tbody>\n",
       "    <tr>\n",
       "      <th>0</th>\n",
       "      <td>2.01E+12</td>\n",
       "      <td>Slight</td>\n",
       "      <td>2019-07-13</td>\n",
       "      <td>52.458798</td>\n",
       "      <td>Daylight</td>\n",
       "      <td>Birmingham</td>\n",
       "      <td>-1.871043</td>\n",
       "      <td>1</td>\n",
       "      <td>2</td>\n",
       "      <td>Dry</td>\n",
       "      <td>Single carriageway</td>\n",
       "      <td>Urban</td>\n",
       "      <td>Car</td>\n",
       "    </tr>\n",
       "  </tbody>\n",
       "</table>\n",
       "</div>"
      ],
      "text/plain": [
       "      Index Accident_Severity Accident Date   Latitude Light_Conditions  \\\n",
       "0  2.01E+12            Slight    2019-07-13  52.458798         Daylight   \n",
       "\n",
       "  District Area  Longitude  Number_of_Casualties  Number_of_Vehicles  \\\n",
       "0    Birmingham  -1.871043                     1                   2   \n",
       "\n",
       "  Road_Surface_Conditions           Road_Type Urban_or_Rural_Area Vehicle_Type  \n",
       "0                     Dry  Single carriageway               Urban          Car  "
      ]
     },
     "execution_count": 10,
     "metadata": {},
     "output_type": "execute_result"
    }
   ],
   "source": [
    "# mode of the columns\n",
    "df.mode()"
   ]
  },
  {
   "cell_type": "markdown",
   "metadata": {},
   "source": [
    "- **Accident Severity**: Slight, indicating that most accidents are categorised as slight.\n",
    "- **Accident Date**: 2020-07-09\n",
    "- **Latitude**: 52.458798\n",
    "- **Light Conditions**: Daylight\n",
    "- **District Area**: Birmingham\n",
    "- **Longitude**: -1.871043\n",
    "- **Number of Casualties**: 1\n",
    "- **Number of Vehicles**: 2\n",
    "- **Road Surface Conditions**: Dry\n",
    "- **Road Type**: Single carriageway\n",
    "- **Urban or Rural Area**: Urban\n",
    "- **Vehicle Type**: Car\n",
    "\n",
    "This row represents the most frequent combination of attributes in the dataset, giving an overview of the typical accident scenario based on the dataset."
   ]
  },
  {
   "cell_type": "code",
   "execution_count": 11,
   "metadata": {},
   "outputs": [
    {
     "data": {
      "text/plain": [
       "Latitude                52.482736\n",
       "Longitude               -1.897252\n",
       "Number_of_Casualties     1.000000\n",
       "Number_of_Vehicles       2.000000\n",
       "dtype: float64"
      ]
     },
     "execution_count": 11,
     "metadata": {},
     "output_type": "execute_result"
    }
   ],
   "source": [
    "# median for numerical values only\n",
    "df.select_dtypes(include='number').median()"
   ]
  },
  {
   "cell_type": "markdown",
   "metadata": {},
   "source": [
    "The **median** values for the numerical columns in the dataset represent the central point (50th percentile) of the data. Below are the median values for the relevant numerical attributes:\n",
    "\n",
    "- **Latitude**: 52.481789 (central latitude of accident locations)\n",
    "- **Longitude**: -1.901860 (central longitude of accident locations)\n",
    "- **Number of Casualties**: 1 (median number of casualties in accidents)\n",
    "- **Number of Vehicles**: 2 (median number of vehicles involved in accidents)\n",
    "\n",
    "These values indicate typical or central tendencies for each of the numerical columns in the dataset."
   ]
  },
  {
   "cell_type": "markdown",
   "metadata": {},
   "source": [
    "### Skewness, Kurtosis, and Shapiro-Wilk Test\n"
   ]
  },
  {
   "cell_type": "markdown",
   "metadata": {},
   "source": [
    "We are ignoring **Longitude** and **Latitude** because they represent geographic positions, not quantities that follow a distribution we would typically assess using these statistical tests."
   ]
  },
  {
   "cell_type": "markdown",
   "metadata": {},
   "source": [
    "#### Skewness\n"
   ]
  },
  {
   "cell_type": "markdown",
   "metadata": {},
   "source": [
    "Skewness values greater than 0 imply a right-skewed distribution, while negative values indicate a left-skewed distribution."
   ]
  },
  {
   "cell_type": "code",
   "execution_count": 12,
   "metadata": {},
   "outputs": [
    {
     "data": {
      "text/plain": [
       "Latitude               -0.477152\n",
       "Longitude               0.730091\n",
       "Number_of_Casualties    4.022197\n",
       "Number_of_Vehicles      1.276229\n",
       "dtype: float64"
      ]
     },
     "execution_count": 12,
     "metadata": {},
     "output_type": "execute_result"
    }
   ],
   "source": [
    "# test skewness of numerical columns\n",
    "df.select_dtypes(include='number').skew()"
   ]
  },
  {
   "cell_type": "markdown",
   "metadata": {},
   "source": [
    "Both Number of Casualties and Number of Vehicles show positive skewness, suggesting that most accidents tend to involve fewer vehicles and casualties, with a few outliers having more."
   ]
  },
  {
   "cell_type": "markdown",
   "metadata": {},
   "source": [
    "#### Kurtosis\n"
   ]
  },
  {
   "cell_type": "markdown",
   "metadata": {},
   "source": [
    "Kurtosis measures the \"tailedness\" of a distribution. A high kurtosis indicates that the data has heavy tails or outliers, while low kurtosis suggests lighter tails and fewer outliers."
   ]
  },
  {
   "cell_type": "code",
   "execution_count": 13,
   "metadata": {},
   "outputs": [
    {
     "data": {
      "text/plain": [
       "Latitude                 0.789487\n",
       "Longitude               -0.319165\n",
       "Number_of_Casualties    39.557069\n",
       "Number_of_Vehicles       6.322462\n",
       "dtype: float64"
      ]
     },
     "execution_count": 13,
     "metadata": {},
     "output_type": "execute_result"
    }
   ],
   "source": [
    "# test kurtosis of numerical columns\n",
    "df.select_dtypes(include='number').kurt()"
   ]
  },
  {
   "cell_type": "markdown",
   "metadata": {},
   "source": [
    "Number of Casualties shows a high kurtosis, meaning there are some accidents with significantly more casualties than the majority.\n",
    "Number of Vehicles also has moderate kurtosis, suggesting that most accidents involve fewer vehicles, but there are some accidents with notably more vehicles involved."
   ]
  },
  {
   "cell_type": "markdown",
   "metadata": {},
   "source": [
    "#### Shapiro-Wilk\n"
   ]
  },
  {
   "cell_type": "code",
   "execution_count": 14,
   "metadata": {},
   "outputs": [
    {
     "name": "stderr",
     "output_type": "stream",
     "text": [
      "/Users/mahahussain/Desktop/UK-Road-Accident-Analysis/UK-Road-Accident-Analysis/.venv/lib/python3.12/site-packages/scipy/stats/_axis_nan_policy.py:531: UserWarning: scipy.stats.shapiro: For N > 5000, computed p-value may not be accurate. Current N is 130628.\n",
      "  res = hypotest_fun_out(*samples, **kwds)\n"
     ]
    },
    {
     "data": {
      "text/plain": [
       "ShapiroResult(statistic=0.5950634312505818, pvalue=6.910672547903147e-161)"
      ]
     },
     "execution_count": 14,
     "metadata": {},
     "output_type": "execute_result"
    }
   ],
   "source": [
    "# Shapiro-Wilk test for normality\n",
    "from scipy import stats\n",
    "\n",
    "shapiro = stats.shapiro(df.select_dtypes(include='number'))\n",
    "shapiro"
   ]
  },
  {
   "cell_type": "markdown",
   "metadata": {},
   "source": [
    "The Shapiro-Wilk test result shows that the data is not normally distributed:\n",
    "\n",
    "- **Statistic: 0.5952:** A value significantly lower than 1 indicates a substantial deviation from normality.\n",
    "- **p-value:** The extremely small p-value suggests strong evidence against the null hypothesis, which states that the data is normally distributed. Since the p-value is far below the common significance level of 0.05, we reject the null hypothesis and conclude that the data does not follow a normal distribution.\n",
    "\n",
    "This means that, moving forward, we will need to use non-parametric methods for statistical testing."
   ]
  },
  {
   "cell_type": "markdown",
   "metadata": {},
   "source": [
    "### Frequency Distribution\n"
   ]
  },
  {
   "cell_type": "markdown",
   "metadata": {},
   "source": [
    "Frequency distribution shows how often each categorical value occurs in the dataset. It will help to summarise the diversity and structure of the dataset."
   ]
  },
  {
   "cell_type": "code",
   "execution_count": 15,
   "metadata": {},
   "outputs": [
    {
     "data": {
      "text/plain": [
       "Index                      29902\n",
       "Accident_Severity              3\n",
       "Light_Conditions               5\n",
       "District Area                  9\n",
       "Road_Surface_Conditions        5\n",
       "Road_Type                      5\n",
       "Urban_or_Rural_Area            2\n",
       "Vehicle_Type                  14\n",
       "dtype: int64"
      ]
     },
     "execution_count": 15,
     "metadata": {},
     "output_type": "execute_result"
    }
   ],
   "source": [
    "# Check cardinality of categorical columns\n",
    "df.select_dtypes(include='object').nunique()"
   ]
  },
  {
   "cell_type": "markdown",
   "metadata": {},
   "source": [
    "1. Accident Severity presents three distinct categories, indicating varying levels of impact.\n",
    "\n",
    "2. Light Conditions are classified into five categories, reflecting different levels visbility.\n",
    "\n",
    "3. Geographical dispersion is represented by eight District Areas.\n",
    "\n",
    "4. Road Surface Conditions are categorised into five classifications, reflecting various surface states.\n",
    "\n",
    "5. Road Type is delineated by five categories, signifying different road infrastructures.\n",
    "\n",
    "6. Urban or Rural Area distinguishes between two distinct environmental contexts.\n",
    "\n",
    "7. Vehicle Type encompasses 14 categories, characterising the diverse range of vehicles involved."
   ]
  },
  {
   "cell_type": "code",
   "execution_count": 16,
   "metadata": {},
   "outputs": [
    {
     "name": "stdout",
     "output_type": "stream",
     "text": [
      "Index\n",
      "2.01E+12         2756\n",
      "200920G040001       1\n",
      "200920G041102       1\n",
      "200920G041002       1\n",
      "200920G040902       1\n",
      "                 ... \n",
      "200820E018803       1\n",
      "200820E018401       1\n",
      "200820E018301       1\n",
      "200820E018201       1\n",
      "201020Z720511       1\n",
      "Name: count, Length: 29902, dtype: int64\n",
      "\n",
      "\n",
      "Accident_Severity\n",
      "Slight     28566\n",
      "Serious     3818\n",
      "Fatal        273\n",
      "Name: count, dtype: int64\n",
      "\n",
      "\n",
      "Light_Conditions\n",
      "Daylight                       23702\n",
      "Darkness - lights lit           8310\n",
      "Darkness - no lighting           348\n",
      "Darkness - lighting unknown      189\n",
      "Darkness - lights unlit          108\n",
      "Name: count, dtype: int64\n",
      "\n",
      "\n",
      "District Area\n",
      "Birmingham               13484\n",
      "Sandwell                  3556\n",
      "Coventry                  2990\n",
      "Dudley                    2757\n",
      "Walsall                   2696\n",
      "Wolverhampton             2463\n",
      "Solihull                  1955\n",
      "Warwick                   1593\n",
      "Nuneaton and Bedworth     1163\n",
      "Name: count, dtype: int64\n",
      "\n",
      "\n",
      "Road_Surface_Conditions\n",
      "Dry                     22386\n",
      "Wet or damp              9227\n",
      "Frost or ice              760\n",
      "Snow                      257\n",
      "Flood over 3cm. deep       27\n",
      "Name: count, dtype: int64\n",
      "\n",
      "\n",
      "Road_Type\n",
      "Single carriageway    22770\n",
      "Dual carriageway       6480\n",
      "Roundabout             2434\n",
      "One way street          605\n",
      "Slip road               368\n",
      "Name: count, dtype: int64\n",
      "\n",
      "\n",
      "Urban_or_Rural_Area\n",
      "Urban    30511\n",
      "Rural     2146\n",
      "Name: count, dtype: int64\n",
      "\n",
      "\n",
      "Vehicle_Type\n",
      "Car                                      23388\n",
      "Van / Goods 3.5 tonnes mgw or under       1875\n",
      "Motorcycle over 500cc                     1420\n",
      "Bus or coach (17 or more pass seats)      1412\n",
      "Goods 7.5 tonnes mgw and over              993\n",
      "Taxi/Private hire car                      991\n",
      "Motorcycle 125cc and under                 972\n",
      "Motorcycle 50cc and under                  396\n",
      "Motorcycle over 125cc and up to 500cc      381\n",
      "Goods over 3.5t. and under 7.5t            334\n",
      "Other vehicle                              254\n",
      "Agricultural vehicle                       115\n",
      "Minibus (8 - 16 passenger seats)           108\n",
      "Pedal cycle                                 18\n",
      "Name: count, dtype: int64\n",
      "\n",
      "\n"
     ]
    }
   ],
   "source": [
    "# Create a frequency table for all the categorical columns\n",
    "for column in df.select_dtypes(include='object'):\n",
    "    print(df[column].value_counts())\n",
    "    print(\"\\n\")"
   ]
  },
  {
   "cell_type": "markdown",
   "metadata": {},
   "source": [
    "- Accident Severity: Most accidents are slight (27,575), with fewer serious (3,658) and fatal (261) cases.\n",
    "Light Conditions: Majority occur in daylight (22,892), followed by darkness with lights on (8,022).\n",
    "\n",
    "- District Area: Birmingham has the highest number of accidents (13,484), followed by Sandwell (3,556) and Coventry (2,990).\n",
    "\n",
    "- Road Surface Conditions: Most accidents happen on dry roads (21,583), with wet/damp conditions contributing to 8,912 accidents.\n",
    "\n",
    "- Road Type: Single carriageways see the most accidents (21,901), while slip roads have the fewest (362).\n",
    "\n",
    "- Urban vs Rural: Accidents are predominantly in urban areas (29,584) compared to rural (1,910).\n",
    "\n",
    "- Vehicle Type: Cars are involved in the majority of accidents (22,487), followed by vans (1,826) and buses/coaches (1,380)._"
   ]
  },
  {
   "cell_type": "markdown",
   "metadata": {},
   "source": [
    "## Multivariate (Non-Graphical)"
   ]
  },
  {
   "cell_type": "markdown",
   "metadata": {},
   "source": [
    "### Correlation Matrix (Numerical Variables)\n"
   ]
  },
  {
   "cell_type": "code",
   "execution_count": 17,
   "metadata": {},
   "outputs": [
    {
     "data": {
      "text/html": [
       "<div>\n",
       "<style scoped>\n",
       "    .dataframe tbody tr th:only-of-type {\n",
       "        vertical-align: middle;\n",
       "    }\n",
       "\n",
       "    .dataframe tbody tr th {\n",
       "        vertical-align: top;\n",
       "    }\n",
       "\n",
       "    .dataframe thead th {\n",
       "        text-align: right;\n",
       "    }\n",
       "</style>\n",
       "<table border=\"1\" class=\"dataframe\">\n",
       "  <thead>\n",
       "    <tr style=\"text-align: right;\">\n",
       "      <th></th>\n",
       "      <th>Latitude</th>\n",
       "      <th>Longitude</th>\n",
       "      <th>Number_of_Casualties</th>\n",
       "      <th>Number_of_Vehicles</th>\n",
       "    </tr>\n",
       "  </thead>\n",
       "  <tbody>\n",
       "    <tr>\n",
       "      <th>Latitude</th>\n",
       "      <td>1.000000</td>\n",
       "      <td>-0.595083</td>\n",
       "      <td>0.011178</td>\n",
       "      <td>0.007955</td>\n",
       "    </tr>\n",
       "    <tr>\n",
       "      <th>Longitude</th>\n",
       "      <td>-0.595083</td>\n",
       "      <td>1.000000</td>\n",
       "      <td>-0.025096</td>\n",
       "      <td>0.004277</td>\n",
       "    </tr>\n",
       "    <tr>\n",
       "      <th>Number_of_Casualties</th>\n",
       "      <td>0.011178</td>\n",
       "      <td>-0.025096</td>\n",
       "      <td>1.000000</td>\n",
       "      <td>0.226398</td>\n",
       "    </tr>\n",
       "    <tr>\n",
       "      <th>Number_of_Vehicles</th>\n",
       "      <td>0.007955</td>\n",
       "      <td>0.004277</td>\n",
       "      <td>0.226398</td>\n",
       "      <td>1.000000</td>\n",
       "    </tr>\n",
       "  </tbody>\n",
       "</table>\n",
       "</div>"
      ],
      "text/plain": [
       "                      Latitude  Longitude  Number_of_Casualties  \\\n",
       "Latitude              1.000000  -0.595083              0.011178   \n",
       "Longitude            -0.595083   1.000000             -0.025096   \n",
       "Number_of_Casualties  0.011178  -0.025096              1.000000   \n",
       "Number_of_Vehicles    0.007955   0.004277              0.226398   \n",
       "\n",
       "                      Number_of_Vehicles  \n",
       "Latitude                        0.007955  \n",
       "Longitude                       0.004277  \n",
       "Number_of_Casualties            0.226398  \n",
       "Number_of_Vehicles              1.000000  "
      ]
     },
     "execution_count": 17,
     "metadata": {},
     "output_type": "execute_result"
    }
   ],
   "source": [
    "# Compute the correlation matrix\n",
    "correlation_matrix = df.select_dtypes(include='number').corr()\n",
    "\n",
    "# Display the correlation matrix\n",
    "correlation_matrix"
   ]
  },
  {
   "cell_type": "markdown",
   "metadata": {},
   "source": [
    "Number of Casualties and Number of Vehicles: A moderate positive correlation (0.226) indicates that accidents with more vehicles tend to involve more casualties."
   ]
  }
 ],
 "metadata": {
  "kernelspec": {
   "display_name": "Python 3",
   "language": "python",
   "name": "python3"
  },
  "language_info": {
   "codemirror_mode": {
    "name": "ipython",
    "version": 3
   },
   "file_extension": ".py",
   "mimetype": "text/x-python",
   "name": "python",
   "nbconvert_exporter": "python",
   "pygments_lexer": "ipython3",
   "version": "3.12.8"
  }
 },
 "nbformat": 4,
 "nbformat_minor": 2
}
